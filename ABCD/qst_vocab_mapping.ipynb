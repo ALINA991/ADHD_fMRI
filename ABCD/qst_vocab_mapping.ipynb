{
 "cells": [
  {
   "cell_type": "code",
   "execution_count": 7,
   "metadata": {},
   "outputs": [
    {
     "name": "stdout",
     "output_type": "stream",
     "text": [
      "The autoreload extension is already loaded. To reload it, use:\n",
      "  %reload_ext autoreload\n"
     ]
    }
   ],
   "source": [
    "from pathlib import Path \n",
    "import os\n",
    "import pandas as pd\n",
    "from collections import OrderedDict\n",
    "import numpy as np\n",
    "import sys\n",
    "from sklearn.metrics.pairwise import cosine_similarity\n",
    "import matplotlib.pyplot as plt\n",
    "import hdbscan \n",
    "import tensorboard\n",
    "from sentence_transformers import SentenceTransformer\n",
    "\n",
    "#sys.path.append(\"/Users/alina/Desktop/MIT/code/ADHD/item_analysis\")\n",
    "from src.topic_modeling import *\n",
    "\n",
    "%load_ext autoreload\n",
    "%autoreload 2"
   ]
  },
  {
   "cell_type": "markdown",
   "metadata": {},
   "source": [
    "## Data loading"
   ]
  },
  {
   "cell_type": "code",
   "execution_count": 8,
   "metadata": {},
   "outputs": [],
   "source": [
    "data_root = Path(\"/Volumes/Samsung_T5/MIT/abcd/release_05/abcd-data-release-5.1\")\n",
    "vocab_path  = Path(\"/Volumes/Samsung_T5/MIT/abcd/adhd_vocab.npy\")\n",
    "\n",
    "section = \"core/mental-health\"\n",
    "table = 'mh_p_ksads_adhd.csv'\n",
    "mapping = 'ksads_adhd.csv'\n",
    "\n",
    "data_section = Path( data_root, section)\n",
    "data_path = Path(data_section, table) # path to results table  \n",
    "var_mapping_path =  Path(data_root, \"var_mapping\", mapping) # path to mapping of variable names to questions \n",
    "\n",
    "abbreviation = {\"mental-health\" : \"mp\", \"parent\": \"p\", \"youth\": \"y\"}\n",
    "event_names = [ \"baseline_year_1_arm_1\",\"1_year_follow_up_y_arm_1\",\"2_year_follow_up_y_arm_1\",\"3_year_follow_up_y_arm_1\", \"4_year_follow_up_y_arm_1\", \"4_year_follow_up_y_arm_1\" ]\n",
    "year = dict(zip(range(0, 6), event_names)) # asses year in the column \"eventname\"\n",
    "#os.listdir(data_section)"
   ]
  },
  {
   "cell_type": "code",
   "execution_count": 9,
   "metadata": {},
   "outputs": [
    {
     "name": "stderr",
     "output_type": "stream",
     "text": [
      "/var/folders/hf/frc4nxb532j7gqr3_36l6kmh0000gn/T/ipykernel_29531/3026109515.py:1: DtypeWarning: Columns (23,76,83,84) have mixed types. Specify dtype option on import or set low_memory=False.\n",
      "  data = pd.read_csv(data_path)\n"
     ]
    }
   ],
   "source": [
    "data = pd.read_csv(data_path)\n",
    "var_description = pd.read_csv(var_mapping_path)\n",
    "vocab = np.load(vocab_path, allow_pickle=True)\n",
    "\n",
    "var_names = np.array(var_description[\"var_name\"])\n",
    "questions = np.array(var_description[\"var_label\"])\n",
    "mapping = OrderedDict(zip(var_names, questions))"
   ]
  },
  {
   "cell_type": "code",
   "execution_count": 10,
   "metadata": {},
   "outputs": [
    {
     "name": "stdout",
     "output_type": "stream",
     "text": [
      "['ksads_adhd_raw_978_p' 'ksads_adhd_raw_991_p' 'ksads_adhd_raw_990_p'\n",
      " 'ksads_adhd_raw_988_p' 'ksads_adhd_raw_987_p']\n",
      "['In the past two weeks, how often has your child put off or avoided doing things that were hard for him or her because they required a lot of attention?'\n",
      " 'Do the problems we have just been talking about cause difficulties for your child in any of the following areas:With family'\n",
      " 'Do the problems we have just been talking about cause difficulties for your child in any of the following areas:With friends'\n",
      " \"In the past two weeks, how often has your child talked when he or she wasn't supposed to, or had people complain that he or she talked too much?\"\n",
      " 'In the past two weeks, how often has your child interrupted someone when they were talking?']\n"
     ]
    }
   ],
   "source": [
    "print(var_names[:5])\n",
    "print(questions[:5])"
   ]
  },
  {
   "cell_type": "markdown",
   "metadata": {},
   "source": [
    "## Model specification"
   ]
  },
  {
   "cell_type": "code",
   "execution_count": 11,
   "metadata": {},
   "outputs": [
    {
     "name": "stdout",
     "output_type": "stream",
     "text": [
      "500\n"
     ]
    }
   ],
   "source": [
    "embeddings_name = \"all-MiniLM-L6-v2\"\n",
    "sentence_embedding_model = SentenceTransformer(embeddings_name)       # load embedding\n",
    "sentence_embedding_model._first_module().max_seq_length = 500 # if you want to increase, but makes it slower\n",
    "print(sentence_embedding_model.max_seq_length) #default = 256"
   ]
  },
  {
   "cell_type": "markdown",
   "metadata": {},
   "source": [
    "### Maedbh"
   ]
  },
  {
   "cell_type": "code",
   "execution_count": 12,
   "metadata": {},
   "outputs": [],
   "source": [
    "# embeddings_qst = tm.get_embeddings(questions, transformer=embeddings_name) # 'distilbert-base-nli-mean-tokens'\n",
    "# embeddings_vocab = tm.get_embeddings(vocab, transformer='dmis-lab/biobert-base-cased-v1.2')"
   ]
  },
  {
   "cell_type": "code",
   "execution_count": 13,
   "metadata": {},
   "outputs": [
    {
     "data": {
      "application/vnd.jupyter.widget-view+json": {
       "model_id": "18603dade8bc459c97582d1d307965e6",
       "version_major": 2,
       "version_minor": 0
      },
      "text/plain": [
       "Batches:   0%|          | 0/1 [00:00<?, ?it/s]"
      ]
     },
     "metadata": {},
     "output_type": "display_data"
    },
    {
     "data": {
      "application/vnd.jupyter.widget-view+json": {
       "model_id": "e71c2fb158f5494b88aab9d0d5157368",
       "version_major": 2,
       "version_minor": 0
      },
      "text/plain": [
       "Batches:   0%|          | 0/1 [00:00<?, ?it/s]"
      ]
     },
     "metadata": {},
     "output_type": "display_data"
    }
   ],
   "source": [
    "embeddings_qst = sentence_embedding_model.encode(questions, convert_to_tensor=True,show_progress_bar=True)\n",
    "embeddings_vocab = sentence_embedding_model.encode(vocab, convert_to_tensor=True, show_progress_bar=True)"
   ]
  },
  {
   "cell_type": "code",
   "execution_count": 14,
   "metadata": {},
   "outputs": [],
   "source": [
    "similarity = cosine_similarity(embeddings_qst, embeddings_vocab)"
   ]
  },
  {
   "cell_type": "code",
   "execution_count": 15,
   "metadata": {},
   "outputs": [],
   "source": [
    "umap_qst = dimensionality_reduction(embeddings_qst, n_neighbors= 3, n_components=2, metric=\"cosine\", min_dist=0.1)\n",
    "umap_vocab = dimensionality_reduction(embeddings_vocab, n_neighbors= 3, n_components=2, metric=\"cosine\", min_dist=0.1)"
   ]
  },
  {
   "cell_type": "code",
   "execution_count": 16,
   "metadata": {},
   "outputs": [
    {
     "name": "stderr",
     "output_type": "stream",
     "text": [
      "/var/folders/hf/frc4nxb532j7gqr3_36l6kmh0000gn/T/ipykernel_29531/3051946335.py:2: UserWarning: No data for colormapping provided via 'c'. Parameters 'cmap' will be ignored\n",
      "  plt.scatter(umap_qst[:, 0], umap_qst[:, 1], cmap='Spectral', s=5, label=\"questions\")\n",
      "/var/folders/hf/frc4nxb532j7gqr3_36l6kmh0000gn/T/ipykernel_29531/3051946335.py:3: UserWarning: No data for colormapping provided via 'c'. Parameters 'cmap' will be ignored\n",
      "  plt.scatter(umap_vocab[:, 0], umap_vocab[:, 1], cmap='Spectral', s=5, label=\"vocab\")\n"
     ]
    },
    {
     "data": {
      "image/png": "[encoded data removed]",
      "text/plain": [
       "<Figure size 700x500 with 2 Axes>"
      ]
     },
     "metadata": {},
     "output_type": "display_data"
    }
   ],
   "source": [
    "plt.figure(figsize=(7,5))\n",
    "plt.scatter(umap_qst[:, 0], umap_qst[:, 1], cmap='Spectral', s=5, label=\"questions\")\n",
    "plt.scatter(umap_vocab[:, 0], umap_vocab[:, 1], cmap='Spectral', s=5, label=\"vocab\")\n",
    "plt.title('UMAP projection of the dataset', fontsize=24)\n",
    "plt.xlabel('UMAP 1', fontsize=18)\n",
    "plt.ylabel('UMAP 2', fontsize=18)\n",
    "plt.colorbar()\n",
    "plt.legend()\n",
    "plt.show()"
   ]
  },
  {
   "cell_type": "code",
   "execution_count": 17,
   "metadata": {},
   "outputs": [],
   "source": [
    "\n",
    "cluster_qst = hdbscan.HDBSCAN(algorithm=\"best\", \n",
    "                          min_cluster_size=2,\n",
    "                          gen_min_span_tree = True,\n",
    "                          metric='euclidean',       \n",
    "                          cluster_selection_method = \"eom\").fit(umap_qst)\n",
    "cluster_vocab = hdbscan.HDBSCAN(algorithm=\"best\", \n",
    "                          min_cluster_size=2,\n",
    "                          gen_min_span_tree = True,\n",
    "                          metric='euclidean',       \n",
    "                          cluster_selection_method = \"eom\").fit(umap_vocab)\n",
    "\n",
    "#cluster = clustering(umap_embeddings_qst, metric=\"manhattan\", min_cluster_size=3, cluster_selection_method=\"leaf\", gen_min_span_tree = True)"
   ]
  },
  {
   "cell_type": "code",
   "execution_count": 18,
   "metadata": {},
   "outputs": [
    {
     "data": {
      "text/plain": [
       "0.8075888194759955"
      ]
     },
     "execution_count": 18,
     "metadata": {},
     "output_type": "execute_result"
    }
   ],
   "source": [
    "cluster_qst.labels_\n",
    "cluster_qst.probabilities_\n",
    "cluster_qst.cluster_persistence_\n",
    "cluster_qst.outlier_scores_\n",
    "cluster_qst.relative_validity_"
   ]
  },
  {
   "cell_type": "code",
   "execution_count": 37,
   "metadata": {},
   "outputs": [
    {
     "data": {
      "text/plain": [
       "OrderedDict([('ksads_adhd_raw_978_p',\n",
       "              'In the past two weeks, how often has your child put off or avoided doing things that were hard for him or her because they required a lot of attention?'),\n",
       "             ('ksads_adhd_raw_991_p',\n",
       "              'Do the problems we have just been talking about cause difficulties for your child in any of the following areas:With family'),\n",
       "             ('ksads_adhd_raw_990_p',\n",
       "              'Do the problems we have just been talking about cause difficulties for your child in any of the following areas:With friends'),\n",
       "             ('ksads_adhd_raw_988_p',\n",
       "              \"In the past two weeks, how often has your child talked when he or she wasn't supposed to, or had people complain that he or she talked too much?\"),\n",
       "             ('ksads_adhd_raw_987_p',\n",
       "              'In the past two weeks, how often has your child interrupted someone when they were talking?'),\n",
       "             ('ksads_adhd_raw_986_p',\n",
       "              'In the past two weeks, how often has your child had trouble waiting for his or her turn or waiting for other things?'),\n",
       "             ('ksads_adhd_raw_985_p',\n",
       "              \"In the past two weeks, how often has your child blurt out answers in school without being called on, or blurt out answers when someone wasn't talking to him or her?\"),\n",
       "             ('ksads_adhd_raw_984_p',\n",
       "              'In the past two weeks, how often has your child had trouble being quiet when he or she was supposed to be quiet?'),\n",
       "             ('ksads_adhd_raw_983_p',\n",
       "              'In the past two weeks, how often has your child been on the go, moving from one place to another?'),\n",
       "             ('ksads_adhd_raw_982_p',\n",
       "              'In the past two weeks, how often has your child run or climbed on things when he or she was not supposed to?'),\n",
       "             ('ksads_adhd_raw_981_p',\n",
       "              'In the past two weeks, how often has your child felt fidgety, like it was hard to sit without bouncing his or her leg or getting up and moving around?'),\n",
       "             ('ksads_adhd_raw_980_p',\n",
       "              'In the past two weeks, how often has your child forgotten something somewhere or forgotten to do something he or she was supposed to do?'),\n",
       "             ('ksads_adhd_raw_979_p',\n",
       "              'In the past two weeks, how often has your child lost his or her homework, pencils, jacket, cell phone, or anything else big or small?'),\n",
       "             ('ksads_adhd_raw_992_p',\n",
       "              'Do the problems we have just been talking about cause difficulties for your child in any of the following areas:At school'),\n",
       "             ('ksads_adhd_raw_977_p',\n",
       "              'In the past two weeks, how often has your child had trouble organizing his or her homework or other tasks?'),\n",
       "             ('ksads_adhd_raw_976_p',\n",
       "              'In the past two weeks, how often has your child not followed instructions that a parent or teacher said to him or her, or instructions on an assignment or test?'),\n",
       "             ('ksads_adhd_raw_975_p',\n",
       "              'In the past 2 weeks, how often has your child forgotten or tuned out what you or their teachers said to him or her?'),\n",
       "             ('ksads_adhd_raw_974_p',\n",
       "              \"You said in the past your child had trouble with attention and staying seated back in September 2008 and also in the past two weeks. When answering these next set of question, I'll be asking you about both the past two weeks and the time in the past when he or she had these problems. In the past two weeks, how many days has your child made a careless mistake?\"),\n",
       "             ('ksads_adhd_raw_973_p',\n",
       "              'In the past two weeks, how many days has your child made a careless mistake?'),\n",
       "             ('ksads_adhd_raw_453_p',\n",
       "              'You said that in the past your child had a lot of trouble keeping focused and paying attention; was often easily distracted; often had trouble staying seated; was impulsive and often acted before he or she thought. When was that?'),\n",
       "             ('ksads_adhd_raw_452_p',\n",
       "              'You said that in the past your child was often easily distracted; often had trouble staying seated; was impulsive and often acted before he or she thought. When was that?'),\n",
       "             ('ksads_adhd_raw_451_p',\n",
       "              'You said that in the past your child had a lot of trouble keeping focused and paying attention; often had trouble staying seated; was impulsive and often acted before he or she thought. When was that?'),\n",
       "             ('ksads_adhd_raw_450_p',\n",
       "              'You said that in the past your child had a lot of trouble keeping focused and paying attention; was often easily distracted; was impulsive and often acted before he or she thought. When was that?'),\n",
       "             ('ksads_adhd_raw_449_p',\n",
       "              'You said that in the past your child had a lot of trouble keeping focused and paying attention; was often easily distracted; and often had trouble staying seated. When was that?'),\n",
       "             ('ksads_adhd_raw_448_p',\n",
       "              'You said that in the past your child often had trouble staying seated; was impulsive and often acted before he or she thought. When was that?')])"
      ]
     },
     "execution_count": 37,
     "metadata": {},
     "output_type": "execute_result"
    }
   ],
   "source": [
    "\n",
    "result = pd.DataFrame(umap_qst, columns=['x', 'y'])\n",
    "result['labels'] = cluster_qst.labels_\n",
    "\n"
   ]
  },
  {
   "cell_type": "code",
   "execution_count": 19,
   "metadata": {},
   "outputs": [],
   "source": [
    "clustered_qst = umap_qst[np.where(cluster_qst.labels_ != -1)]\n",
    "clustered_vocab = umap_vocab[np.where(cluster_vocab.labels_ != -1)]\n",
    "\n",
    "outliers_qst = umap_qst[np.where(cluster_qst.labels_ == -1)]\n",
    "outliers_vocab = umap_vocab[np.where(cluster_vocab.labels_ == -1)]"
   ]
  },
  {
   "cell_type": "code",
   "execution_count": 20,
   "metadata": {},
   "outputs": [
    {
     "data": {
      "text/plain": [
       "Text(0.5, 1.0, 'vocabulary')"
      ]
     },
     "execution_count": 20,
     "metadata": {},
     "output_type": "execute_result"
    },
    {
     "data": {
      "image/png": "[encoded data removed]",
      "text/plain": [
       "<Figure size 1000x500 with 2 Axes>"
      ]
     },
     "metadata": {},
     "output_type": "display_data"
    }
   ],
   "source": [
    "\n",
    "\n",
    "# Visualize clusters\n",
    "fig, ax = plt.subplots(1,2, figsize=(10, 5))\n",
    "\n",
    "#plt.scatter(outliers.x, outliers.y, color='#BDBDBD', s=0.1)\n",
    "ax[0].scatter(clustered_qst[:,0], clustered_qst[:,1], c=cluster_qst.labels_, s=2.0, cmap='hsv_r')\n",
    "ax[1].scatter(clustered_vocab[:,0], clustered_vocab[:,1], c=cluster_vocab.labels_, s=2.0, cmap='hsv_r', label= \"vocabulary\")\n",
    "\n",
    "ax[0].set_title(\"questions\")\n",
    "ax[1].set_title(\"vocabulary\")\n"
   ]
  },
  {
   "cell_type": "code",
   "execution_count": 22,
   "metadata": {},
   "outputs": [],
   "source": [
    "import plotly.express as px\n"
   ]
  },
  {
   "cell_type": "code",
   "execution_count": 29,
   "metadata": {},
   "outputs": [
    {
     "ename": "ValueError",
     "evalue": "Value of 'hover_data_0' is not the name of a column in 'data_frame'. Expected one of ['x', 'y', 'labels'] but received: In the past two weeks, how often has your child put off or avoided doing things that were hard for him or her because they required a lot of attention?",
     "output_type": "error",
     "traceback": [
      "\u001b[0;31m---------------------------------------------------------------------------\u001b[0m",
      "\u001b[0;31mValueError\u001b[0m                                Traceback (most recent call last)",
      "Cell \u001b[0;32mIn[29], line 1\u001b[0m\n\u001b[0;32m----> 1\u001b[0m df_all \u001b[38;5;241m=\u001b[39m \u001b[43mvisualize_clusters_interactive\u001b[49m\u001b[43m(\u001b[49m\u001b[43membeddings\u001b[49m\u001b[38;5;241;43m=\u001b[39;49m\u001b[43membeddings_qst\u001b[49m\u001b[43m,\u001b[49m\u001b[43m \u001b[49m\n\u001b[1;32m      2\u001b[0m \u001b[43m                                        \u001b[49m\u001b[43mtopic_data\u001b[49m\u001b[38;5;241;43m=\u001b[39;49m\u001b[38;5;28;43;01mNone\u001b[39;49;00m\u001b[43m,\u001b[49m\n\u001b[1;32m      3\u001b[0m \u001b[43m                                        \u001b[49m\u001b[43mhover_data\u001b[49m\u001b[38;5;241;43m=\u001b[39;49m\u001b[43mquestions\u001b[49m\u001b[43m,\u001b[49m\n\u001b[1;32m      4\u001b[0m \u001b[43m                                        \u001b[49m\u001b[43mcluster\u001b[49m\u001b[38;5;241;43m=\u001b[39;49m\u001b[43mcluster_qst\u001b[49m\u001b[43m,\u001b[49m\u001b[43m \u001b[49m\n\u001b[1;32m      5\u001b[0m \u001b[43m                                        \u001b[49m\u001b[43mn_neighbors\u001b[49m\u001b[38;5;241;43m=\u001b[39;49m\u001b[38;5;241;43m5\u001b[39;49m\u001b[43m,\u001b[49m\n\u001b[1;32m      6\u001b[0m \u001b[43m                                        \u001b[49m\u001b[43mmin_dist\u001b[49m\u001b[38;5;241;43m=\u001b[39;49m\u001b[38;5;241;43m0.3\u001b[39;49m\u001b[43m,\u001b[49m\n\u001b[1;32m      7\u001b[0m \u001b[43m                                        \u001b[49m\u001b[43mn_components\u001b[49m\u001b[38;5;241;43m=\u001b[39;49m\u001b[38;5;241;43m2\u001b[39;49m\n\u001b[1;32m      8\u001b[0m \u001b[43m                                       \u001b[49m\u001b[43m)\u001b[49m\n",
      "File \u001b[0;32m~/Desktop/MIT/code/ADHD/item_analysis/src/topic_modeling.py:143\u001b[0m, in \u001b[0;36mvisualize_clusters_interactive\u001b[0;34m(embeddings, cluster, topic_data, color, hover_data, n_neighbors, min_dist, n_components)\u001b[0m\n\u001b[1;32m    140\u001b[0m     clustered \u001b[38;5;241m=\u001b[39m result\u001b[38;5;241m.\u001b[39mloc[(result\u001b[38;5;241m.\u001b[39mlabels \u001b[38;5;241m!=\u001b[39m \u001b[38;5;124m'\u001b[39m\u001b[38;5;124m-1\u001b[39m\u001b[38;5;124m'\u001b[39m), :]\n\u001b[1;32m    142\u001b[0m \u001b[38;5;28;01mif\u001b[39;00m n_components\u001b[38;5;241m==\u001b[39m\u001b[38;5;241m2\u001b[39m:\n\u001b[0;32m--> 143\u001b[0m     fig \u001b[38;5;241m=\u001b[39m \u001b[43mpx\u001b[49m\u001b[38;5;241;43m.\u001b[39;49m\u001b[43mscatter\u001b[49m\u001b[43m(\u001b[49m\u001b[43mclustered\u001b[49m\u001b[43m,\u001b[49m\u001b[43m \u001b[49m\u001b[38;5;124;43m'\u001b[39;49m\u001b[38;5;124;43mx\u001b[39;49m\u001b[38;5;124;43m'\u001b[39;49m\u001b[43m,\u001b[49m\u001b[43m \u001b[49m\u001b[38;5;124;43m'\u001b[39;49m\u001b[38;5;124;43my\u001b[39;49m\u001b[38;5;124;43m'\u001b[39;49m\u001b[43m,\u001b[49m\u001b[43m \u001b[49m\u001b[43mcolor\u001b[49m\u001b[38;5;241;43m=\u001b[39;49m\u001b[43mcolor\u001b[49m\u001b[43m,\u001b[49m\u001b[43m \u001b[49m\u001b[43mhover_data\u001b[49m\u001b[38;5;241;43m=\u001b[39;49m\u001b[43mhover_data\u001b[49m\u001b[43m)\u001b[49m \u001b[38;5;66;03m# size='Size',\u001b[39;00m\n\u001b[1;32m    144\u001b[0m \u001b[38;5;28;01melif\u001b[39;00m n_components\u001b[38;5;241m==\u001b[39m\u001b[38;5;241m3\u001b[39m:\n\u001b[1;32m    145\u001b[0m     fig \u001b[38;5;241m=\u001b[39m px\u001b[38;5;241m.\u001b[39mscatter_3d(clustered, x\u001b[38;5;241m=\u001b[39m\u001b[38;5;124m'\u001b[39m\u001b[38;5;124mx\u001b[39m\u001b[38;5;124m'\u001b[39m, y\u001b[38;5;241m=\u001b[39m\u001b[38;5;124m'\u001b[39m\u001b[38;5;124my\u001b[39m\u001b[38;5;124m'\u001b[39m, z\u001b[38;5;241m=\u001b[39m\u001b[38;5;124m'\u001b[39m\u001b[38;5;124mz\u001b[39m\u001b[38;5;124m'\u001b[39m, color\u001b[38;5;241m=\u001b[39mcolor, hover_data\u001b[38;5;241m=\u001b[39mhover_data)\n",
      "File \u001b[0;32m~/opt/anaconda3/envs/abcd/lib/python3.10/site-packages/plotly/express/_chart_types.py:66\u001b[0m, in \u001b[0;36mscatter\u001b[0;34m(data_frame, x, y, color, symbol, size, hover_name, hover_data, custom_data, text, facet_row, facet_col, facet_col_wrap, facet_row_spacing, facet_col_spacing, error_x, error_x_minus, error_y, error_y_minus, animation_frame, animation_group, category_orders, labels, orientation, color_discrete_sequence, color_discrete_map, color_continuous_scale, range_color, color_continuous_midpoint, symbol_sequence, symbol_map, opacity, size_max, marginal_x, marginal_y, trendline, trendline_options, trendline_color_override, trendline_scope, log_x, log_y, range_x, range_y, render_mode, title, template, width, height)\u001b[0m\n\u001b[1;32m     12\u001b[0m \u001b[38;5;28;01mdef\u001b[39;00m \u001b[38;5;21mscatter\u001b[39m(\n\u001b[1;32m     13\u001b[0m     data_frame\u001b[38;5;241m=\u001b[39m\u001b[38;5;28;01mNone\u001b[39;00m,\n\u001b[1;32m     14\u001b[0m     x\u001b[38;5;241m=\u001b[39m\u001b[38;5;28;01mNone\u001b[39;00m,\n\u001b[0;32m   (...)\u001b[0m\n\u001b[1;32m     60\u001b[0m     height\u001b[38;5;241m=\u001b[39m\u001b[38;5;28;01mNone\u001b[39;00m,\n\u001b[1;32m     61\u001b[0m ) \u001b[38;5;241m-\u001b[39m\u001b[38;5;241m>\u001b[39m go\u001b[38;5;241m.\u001b[39mFigure:\n\u001b[1;32m     62\u001b[0m \u001b[38;5;250m    \u001b[39m\u001b[38;5;124;03m\"\"\"\u001b[39;00m\n\u001b[1;32m     63\u001b[0m \u001b[38;5;124;03m    In a scatter plot, each row of `data_frame` is represented by a symbol\u001b[39;00m\n\u001b[1;32m     64\u001b[0m \u001b[38;5;124;03m    mark in 2D space.\u001b[39;00m\n\u001b[1;32m     65\u001b[0m \u001b[38;5;124;03m    \"\"\"\u001b[39;00m\n\u001b[0;32m---> 66\u001b[0m     \u001b[38;5;28;01mreturn\u001b[39;00m \u001b[43mmake_figure\u001b[49m\u001b[43m(\u001b[49m\u001b[43margs\u001b[49m\u001b[38;5;241;43m=\u001b[39;49m\u001b[38;5;28;43mlocals\u001b[39;49m\u001b[43m(\u001b[49m\u001b[43m)\u001b[49m\u001b[43m,\u001b[49m\u001b[43m \u001b[49m\u001b[43mconstructor\u001b[49m\u001b[38;5;241;43m=\u001b[39;49m\u001b[43mgo\u001b[49m\u001b[38;5;241;43m.\u001b[39;49m\u001b[43mScatter\u001b[49m\u001b[43m)\u001b[49m\n",
      "File \u001b[0;32m~/opt/anaconda3/envs/abcd/lib/python3.10/site-packages/plotly/express/_core.py:2090\u001b[0m, in \u001b[0;36mmake_figure\u001b[0;34m(args, constructor, trace_patch, layout_patch)\u001b[0m\n\u001b[1;32m   2087\u001b[0m layout_patch \u001b[38;5;241m=\u001b[39m layout_patch \u001b[38;5;129;01mor\u001b[39;00m {}\n\u001b[1;32m   2088\u001b[0m apply_default_cascade(args)\n\u001b[0;32m-> 2090\u001b[0m args \u001b[38;5;241m=\u001b[39m \u001b[43mbuild_dataframe\u001b[49m\u001b[43m(\u001b[49m\u001b[43margs\u001b[49m\u001b[43m,\u001b[49m\u001b[43m \u001b[49m\u001b[43mconstructor\u001b[49m\u001b[43m)\u001b[49m\n\u001b[1;32m   2091\u001b[0m \u001b[38;5;28;01mif\u001b[39;00m constructor \u001b[38;5;129;01min\u001b[39;00m [go\u001b[38;5;241m.\u001b[39mTreemap, go\u001b[38;5;241m.\u001b[39mSunburst, go\u001b[38;5;241m.\u001b[39mIcicle] \u001b[38;5;129;01mand\u001b[39;00m args[\u001b[38;5;124m\"\u001b[39m\u001b[38;5;124mpath\u001b[39m\u001b[38;5;124m\"\u001b[39m] \u001b[38;5;129;01mis\u001b[39;00m \u001b[38;5;129;01mnot\u001b[39;00m \u001b[38;5;28;01mNone\u001b[39;00m:\n\u001b[1;32m   2092\u001b[0m     args \u001b[38;5;241m=\u001b[39m process_dataframe_hierarchy(args)\n",
      "File \u001b[0;32m~/opt/anaconda3/envs/abcd/lib/python3.10/site-packages/plotly/express/_core.py:1492\u001b[0m, in \u001b[0;36mbuild_dataframe\u001b[0;34m(args, constructor)\u001b[0m\n\u001b[1;32m   1489\u001b[0m     args[\u001b[38;5;124m\"\u001b[39m\u001b[38;5;124mcolor\u001b[39m\u001b[38;5;124m\"\u001b[39m] \u001b[38;5;241m=\u001b[39m \u001b[38;5;28;01mNone\u001b[39;00m\n\u001b[1;32m   1490\u001b[0m \u001b[38;5;66;03m# now that things have been prepped, we do the systematic rewriting of `args`\u001b[39;00m\n\u001b[0;32m-> 1492\u001b[0m df_output, wide_id_vars \u001b[38;5;241m=\u001b[39m \u001b[43mprocess_args_into_dataframe\u001b[49m\u001b[43m(\u001b[49m\n\u001b[1;32m   1493\u001b[0m \u001b[43m    \u001b[49m\u001b[43margs\u001b[49m\u001b[43m,\u001b[49m\u001b[43m \u001b[49m\u001b[43mwide_mode\u001b[49m\u001b[43m,\u001b[49m\u001b[43m \u001b[49m\u001b[43mvar_name\u001b[49m\u001b[43m,\u001b[49m\u001b[43m \u001b[49m\u001b[43mvalue_name\u001b[49m\n\u001b[1;32m   1494\u001b[0m \u001b[43m\u001b[49m\u001b[43m)\u001b[49m\n\u001b[1;32m   1496\u001b[0m \u001b[38;5;66;03m# now that `df_output` exists and `args` contains only references, we complete\u001b[39;00m\n\u001b[1;32m   1497\u001b[0m \u001b[38;5;66;03m# the special-case and wide-mode handling by further rewriting args and/or mutating\u001b[39;00m\n\u001b[1;32m   1498\u001b[0m \u001b[38;5;66;03m# df_output\u001b[39;00m\n\u001b[1;32m   1500\u001b[0m count_name \u001b[38;5;241m=\u001b[39m _escape_col_name(df_output, \u001b[38;5;124m\"\u001b[39m\u001b[38;5;124mcount\u001b[39m\u001b[38;5;124m\"\u001b[39m, [var_name, value_name])\n",
      "File \u001b[0;32m~/opt/anaconda3/envs/abcd/lib/python3.10/site-packages/plotly/express/_core.py:1213\u001b[0m, in \u001b[0;36mprocess_args_into_dataframe\u001b[0;34m(args, wide_mode, var_name, value_name)\u001b[0m\n\u001b[1;32m   1211\u001b[0m         \u001b[38;5;28;01mif\u001b[39;00m argument \u001b[38;5;241m==\u001b[39m \u001b[38;5;124m\"\u001b[39m\u001b[38;5;124mindex\u001b[39m\u001b[38;5;124m\"\u001b[39m:\n\u001b[1;32m   1212\u001b[0m             err_msg \u001b[38;5;241m+\u001b[39m\u001b[38;5;241m=\u001b[39m \u001b[38;5;124m\"\u001b[39m\u001b[38;5;130;01m\\n\u001b[39;00m\u001b[38;5;124m To use the index, pass it in directly as `df.index`.\u001b[39m\u001b[38;5;124m\"\u001b[39m\n\u001b[0;32m-> 1213\u001b[0m         \u001b[38;5;28;01mraise\u001b[39;00m \u001b[38;5;167;01mValueError\u001b[39;00m(err_msg)\n\u001b[1;32m   1214\u001b[0m \u001b[38;5;28;01melif\u001b[39;00m length \u001b[38;5;129;01mand\u001b[39;00m \u001b[38;5;28mlen\u001b[39m(df_input[argument]) \u001b[38;5;241m!=\u001b[39m length:\n\u001b[1;32m   1215\u001b[0m     \u001b[38;5;28;01mraise\u001b[39;00m \u001b[38;5;167;01mValueError\u001b[39;00m(\n\u001b[1;32m   1216\u001b[0m         \u001b[38;5;124m\"\u001b[39m\u001b[38;5;124mAll arguments should have the same length. \u001b[39m\u001b[38;5;124m\"\u001b[39m\n\u001b[1;32m   1217\u001b[0m         \u001b[38;5;124m\"\u001b[39m\u001b[38;5;124mThe length of column argument `df[\u001b[39m\u001b[38;5;132;01m%s\u001b[39;00m\u001b[38;5;124m]` is \u001b[39m\u001b[38;5;132;01m%d\u001b[39;00m\u001b[38;5;124m, whereas the \u001b[39m\u001b[38;5;124m\"\u001b[39m\n\u001b[0;32m   (...)\u001b[0m\n\u001b[1;32m   1224\u001b[0m         )\n\u001b[1;32m   1225\u001b[0m     )\n",
      "\u001b[0;31mValueError\u001b[0m: Value of 'hover_data_0' is not the name of a column in 'data_frame'. Expected one of ['x', 'y', 'labels'] but received: In the past two weeks, how often has your child put off or avoided doing things that were hard for him or her because they required a lot of attention?"
     ]
    }
   ],
   "source": [
    "df_all = visualize_clusters_interactive(embeddings=embeddings_qst, \n",
    "                                        topic_data=None,\n",
    "                                        hover_data=questions,\n",
    "                                        cluster=cluster_qst, \n",
    "                                        n_neighbors=5,\n",
    "                                        min_dist=0.3,\n",
    "                                        n_components=2\n",
    "                                       )"
   ]
  },
  {
   "cell_type": "code",
   "execution_count": null,
   "metadata": {},
   "outputs": [],
   "source": []
  }
 ],
 "metadata": {
  "kernelspec": {
   "display_name": "abcd",
   "language": "python",
   "name": "python3"
  },
  "language_info": {
   "codemirror_mode": {
    "name": "ipython",
    "version": 3
   },
   "file_extension": ".py",
   "mimetype": "text/x-python",
   "name": "python",
   "nbconvert_exporter": "python",
   "pygments_lexer": "ipython3",
   "version": "3.10.0"
  }
 },
 "nbformat": 4,
 "nbformat_minor": 2
}
