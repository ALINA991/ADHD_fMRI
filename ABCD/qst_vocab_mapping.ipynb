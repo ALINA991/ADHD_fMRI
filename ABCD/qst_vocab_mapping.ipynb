{
 "cells": [
  {
   "cell_type": "code",
   "execution_count": 76,
   "metadata": {},
   "outputs": [
    {
     "name": "stdout",
     "output_type": "stream",
     "text": [
      "The autoreload extension is already loaded. To reload it, use:\n",
      "  %reload_ext autoreload\n"
     ]
    }
   ],
   "source": [
    "from pathlib import Path \n",
    "import os\n",
    "import pandas as pd\n",
    "from collections import OrderedDict\n",
    "import numpy as np\n",
    "import sys\n",
    "from sklearn.metrics.pairwise import cosine_similarity\n",
    "import matplotlib.pyplot as plt\n",
    "import hdbscan \n",
    "import tensorboard\n",
    "from sentence_transformers import SentenceTransformer\n",
    "\n",
    "#sys.path.append(\"/Users/alina/Desktop/MIT/code/ADHD/item_analysis\")\n",
    "from src.topic_modeling import *\n",
    "\n",
    "%load_ext autoreload\n",
    "%autoreload 2"
   ]
  },
  {
   "cell_type": "markdown",
   "metadata": {},
   "source": [
    "## Data loading"
   ]
  },
  {
   "cell_type": "code",
   "execution_count": 12,
   "metadata": {},
   "outputs": [],
   "source": [
    "data_root = Path(\"/Volumes/Samsung_T5/MIT/abcd/release_05/abcd-data-release-5.1\")\n",
    "vocab_path  = Path(\"/Volumes/Samsung_T5/MIT/abcd/adhd_vocab.npy\")\n",
    "\n",
    "section = \"core/mental-health\"\n",
    "table = 'mh_p_ksads_adhd.csv'\n",
    "mapping = 'ksads_adhd.csv'\n",
    "\n",
    "data_section = Path( data_root, section)\n",
    "data_path = Path(data_section, table) # path to results table  \n",
    "var_mapping_path =  Path(data_root, \"var_mapping\", mapping) # path to mapping of variable names to questions \n",
    "\n",
    "abbreviation = {\"mental-health\" : \"mp\", \"parent\": \"p\", \"youth\": \"y\"}\n",
    "event_names = [ \"baseline_year_1_arm_1\",\"1_year_follow_up_y_arm_1\",\"2_year_follow_up_y_arm_1\",\"3_year_follow_up_y_arm_1\", \"4_year_follow_up_y_arm_1\", \"4_year_follow_up_y_arm_1\" ]\n",
    "year = dict(zip(range(0, 6), event_names)) # asses year in the column \"eventname\"\n",
    "#os.listdir(data_section)"
   ]
  },
  {
   "cell_type": "code",
   "execution_count": 13,
   "metadata": {},
   "outputs": [
    {
     "name": "stderr",
     "output_type": "stream",
     "text": [
      "/var/folders/hf/frc4nxb532j7gqr3_36l6kmh0000gn/T/ipykernel_26620/3026109515.py:1: DtypeWarning: Columns (23,76,83,84) have mixed types. Specify dtype option on import or set low_memory=False.\n",
      "  data = pd.read_csv(data_path)\n"
     ]
    }
   ],
   "source": [
    "data = pd.read_csv(data_path)\n",
    "var_description = pd.read_csv(var_mapping_path)\n",
    "vocab = np.load(vocab_path, allow_pickle=True)\n",
    "\n",
    "var_names = np.array(var_description[\"var_name\"])\n",
    "questions = np.array(var_description[\"var_label\"])\n",
    "mapping = OrderedDict(zip(var_names, questions))"
   ]
  },
  {
   "cell_type": "code",
   "execution_count": 15,
   "metadata": {},
   "outputs": [
    {
     "name": "stdout",
     "output_type": "stream",
     "text": [
      "['ksads_adhd_raw_978_p' 'ksads_adhd_raw_991_p' 'ksads_adhd_raw_990_p'\n",
      " 'ksads_adhd_raw_988_p' 'ksads_adhd_raw_987_p']\n",
      "['In the past two weeks, how often has your child put off or avoided doing things that were hard for him or her because they required a lot of attention?'\n",
      " 'Do the problems we have just been talking about cause difficulties for your child in any of the following areas:With family'\n",
      " 'Do the problems we have just been talking about cause difficulties for your child in any of the following areas:With friends'\n",
      " \"In the past two weeks, how often has your child talked when he or she wasn't supposed to, or had people complain that he or she talked too much?\"\n",
      " 'In the past two weeks, how often has your child interrupted someone when they were talking?']\n"
     ]
    }
   ],
   "source": [
    "print(var_names[:5])\n",
    "print(questions[:5])"
   ]
  },
  {
   "cell_type": "markdown",
   "metadata": {},
   "source": [
    "## Model specification"
   ]
  },
  {
   "cell_type": "code",
   "execution_count": 28,
   "metadata": {},
   "outputs": [
    {
     "name": "stdout",
     "output_type": "stream",
     "text": [
      "500\n"
     ]
    }
   ],
   "source": [
    "embeddings_name = \"all-MiniLM-L6-v2\"\n",
    "sentence_embedding_model = SentenceTransformer(embeddings_name)       # load embedding\n",
    "sentence_embedding_model._first_module().max_seq_length = 500 # if you want to increase, but makes it slower\n",
    "print(sentence_embedding_model.max_seq_length) #default = 256"
   ]
  },
  {
   "cell_type": "markdown",
   "metadata": {},
   "source": [
    "### Maedbh"
   ]
  },
  {
   "cell_type": "code",
   "execution_count": 29,
   "metadata": {},
   "outputs": [],
   "source": [
    "# embeddings_qst = tm.get_embeddings(questions, transformer=embeddings_name) # 'distilbert-base-nli-mean-tokens'\n",
    "# embeddings_vocab = tm.get_embeddings(vocab, transformer='dmis-lab/biobert-base-cased-v1.2')"
   ]
  },
  {
   "cell_type": "code",
   "execution_count": 33,
   "metadata": {},
   "outputs": [
    {
     "data": {
      "application/vnd.jupyter.widget-view+json": {
       "model_id": "70950709c9434f99a4ca72d5180df1f3",
       "version_major": 2,
       "version_minor": 0
      },
      "text/plain": [
       "Batches:   0%|          | 0/1 [00:00<?, ?it/s]"
      ]
     },
     "metadata": {},
     "output_type": "display_data"
    },
    {
     "data": {
      "application/vnd.jupyter.widget-view+json": {
       "model_id": "fce3fcfb870d47259a8ecdb33ed43041",
       "version_major": 2,
       "version_minor": 0
      },
      "text/plain": [
       "Batches:   0%|          | 0/1 [00:00<?, ?it/s]"
      ]
     },
     "metadata": {},
     "output_type": "display_data"
    }
   ],
   "source": [
    "embeddings_qst = sentence_embedding_model.encode(questions, convert_to_tensor=True,show_progress_bar=True)\n",
    "embeddings_vocab = sentence_embedding_model.encode(vocab, convert_to_tensor=True, show_progress_bar=True)"
   ]
  },
  {
   "cell_type": "code",
   "execution_count": 34,
   "metadata": {},
   "outputs": [],
   "source": [
    "similarity = cosine_similarity(embeddings_qst, embeddings_vocab)"
   ]
  },
  {
   "cell_type": "code",
   "execution_count": 108,
   "metadata": {},
   "outputs": [],
   "source": [
    "umap_qst = dimensionality_reduction(embeddings_qst, n_neighbors= 3, n_components=2, metric=\"cosine\", min_dist=0.1)\n",
    "umap_vocab = dimensionality_reduction(embeddings_vocab, n_neighbors= 3, n_components=2, metric=\"cosine\", min_dist=0.1)"
   ]
  },
  {
   "cell_type": "code",
   "execution_count": 141,
   "metadata": {},
   "outputs": [
    {
     "name": "stderr",
     "output_type": "stream",
     "text": [
      "/var/folders/hf/frc4nxb532j7gqr3_36l6kmh0000gn/T/ipykernel_26620/3051946335.py:2: UserWarning: No data for colormapping provided via 'c'. Parameters 'cmap' will be ignored\n",
      "  plt.scatter(umap_qst[:, 0], umap_qst[:, 1], cmap='Spectral', s=5, label=\"questions\")\n",
      "/var/folders/hf/frc4nxb532j7gqr3_36l6kmh0000gn/T/ipykernel_26620/3051946335.py:3: UserWarning: No data for colormapping provided via 'c'. Parameters 'cmap' will be ignored\n",
      "  plt.scatter(umap_vocab[:, 0], umap_vocab[:, 1], cmap='Spectral', s=5, label=\"vocab\")\n"
     ]
    },
    {
     "data": {
      "image/png": "[encoded data removed]",
      "text/plain": [
       "<Figure size 700x500 with 2 Axes>"
      ]
     },
     "metadata": {},
     "output_type": "display_data"
    }
   ],
   "source": [
    "plt.figure(figsize=(7,5))\n",
    "plt.scatter(umap_qst[:, 0], umap_qst[:, 1], cmap='Spectral', s=5, label=\"questions\")\n",
    "plt.scatter(umap_vocab[:, 0], umap_vocab[:, 1], cmap='Spectral', s=5, label=\"vocab\")\n",
    "plt.title('UMAP projection of the dataset', fontsize=24)\n",
    "plt.xlabel('UMAP 1', fontsize=18)\n",
    "plt.ylabel('UMAP 2', fontsize=18)\n",
    "plt.colorbar()\n",
    "plt.legend()\n",
    "plt.show()"
   ]
  },
  {
   "cell_type": "code",
   "execution_count": 110,
   "metadata": {},
   "outputs": [],
   "source": [
    "\n",
    "cluster_qst = hdbscan.HDBSCAN(algorithm=\"best\", \n",
    "                          min_cluster_size=2,\n",
    "                          gen_min_span_tree = True,\n",
    "                          metric='euclidean',       \n",
    "                          cluster_selection_method = \"eom\").fit(umap_qst)\n",
    "cluster_vocab = hdbscan.HDBSCAN(algorithm=\"best\", \n",
    "                          min_cluster_size=2,\n",
    "                          gen_min_span_tree = True,\n",
    "                          metric='euclidean',       \n",
    "                          cluster_selection_method = \"eom\").fit(umap_vocab)\n",
    "\n",
    "#cluster = clustering(umap_embeddings_qst, metric=\"manhattan\", min_cluster_size=3, cluster_selection_method=\"leaf\", gen_min_span_tree = True)"
   ]
  },
  {
   "cell_type": "code",
   "execution_count": 112,
   "metadata": {},
   "outputs": [
    {
     "data": {
      "text/plain": [
       "0.48625104281711384"
      ]
     },
     "execution_count": 112,
     "metadata": {},
     "output_type": "execute_result"
    }
   ],
   "source": [
    "cluster_qst.labels_\n",
    "cluster_qst.probabilities_\n",
    "cluster_qst.cluster_persistence_\n",
    "cluster_qst.outlier_scores_\n",
    "cluster_qst.relative_validity_"
   ]
  },
  {
   "cell_type": "code",
   "execution_count": 120,
   "metadata": {},
   "outputs": [],
   "source": [
    "clustered_qst = umap_qst[np.where(cluster_qst.labels_ != -1)]\n",
    "clustered_vocab = umap_vocab[np.where(cluster_vocab.labels_ != -1)]\n",
    "\n",
    "outliers_qst = umap_qst[np.where(cluster_qst.labels_ == -1)]\n",
    "outliers_vocab = umap_vocab[np.where(cluster_vocab.labels_ == -1)]"
   ]
  },
  {
   "cell_type": "code",
   "execution_count": 139,
   "metadata": {},
   "outputs": [
    {
     "data": {
      "text/plain": [
       "Text(0.5, 1.0, 'vocabulary')"
      ]
     },
     "execution_count": 139,
     "metadata": {},
     "output_type": "execute_result"
    },
    {
     "data": {
      "image/png": "[encoded data removed]",
      "text/plain": [
       "<Figure size 1000x500 with 2 Axes>"
      ]
     },
     "metadata": {},
     "output_type": "display_data"
    }
   ],
   "source": [
    "\n",
    "\n",
    "# Visualize clusters\n",
    "fig, ax = plt.subplots(1,2, figsize=(10, 5))\n",
    "\n",
    "#plt.scatter(outliers.x, outliers.y, color='#BDBDBD', s=0.1)\n",
    "ax[0].scatter(clustered_qst[:,0], clustered_qst[:,1], c=cluster_qst.labels_, s=2.0, cmap='hsv_r')\n",
    "ax[1].scatter(clustered_vocab[:,0], clustered_vocab[:,1], c=cluster_vocab.labels_, s=2.0, cmap='hsv_r', label= \"vocabulary\")\n",
    "\n",
    "ax[0].set_title(\"questions\")\n",
    "ax[1].set_title(\"vocabulary\")\n"
   ]
  },
  {
   "cell_type": "code",
   "execution_count": null,
   "metadata": {},
   "outputs": [],
   "source": []
  }
 ],
 "metadata": {
  "kernelspec": {
   "display_name": "abcd",
   "language": "python",
   "name": "python3"
  },
  "language_info": {
   "codemirror_mode": {
    "name": "ipython",
    "version": 3
   },
   "file_extension": ".py",
   "mimetype": "text/x-python",
   "name": "python",
   "nbconvert_exporter": "python",
   "pygments_lexer": "ipython3",
   "version": "3.10.0"
  }
 },
 "nbformat": 4,
 "nbformat_minor": 2
}
