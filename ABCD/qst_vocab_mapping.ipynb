{
 "cells": [
  {
   "cell_type": "code",
   "execution_count": 95,
   "metadata": {},
   "outputs": [
    {
     "name": "stdout",
     "output_type": "stream",
     "text": [
      "The autoreload extension is already loaded. To reload it, use:\n",
      "  %reload_ext autoreload\n"
     ]
    }
   ],
   "source": [
    "from pathlib import Path \n",
    "import os\n",
    "import pandas as pd\n",
    "from collections import OrderedDict\n",
    "import numpy as np\n",
    "import sys\n",
    "from sklearn.metrics.pairwise import cosine_similarity\n",
    "\n",
    "#sys.path.append(\"/Users/alina/Desktop/MIT/code/ADHD/item_analysis\")\n",
    "from src import topic_modeling as tm\n",
    "\n",
    "%load_ext autoreload\n",
    "%autoreload 2"
   ]
  },
  {
   "cell_type": "code",
   "execution_count": 83,
   "metadata": {},
   "outputs": [],
   "source": [
    "data_root = Path(\"/Volumes/Samsung_T5/MIT/abcd/release_05/abcd-data-release-5.1\")\n",
    "vocab_path  = Path(\"/Volumes/Samsung_T5/MIT/abcd/adhd_vocab.npy\")\n",
    "\n",
    "section = \"core/mental-health\"\n",
    "table = 'mh_p_ksads_adhd.csv'\n",
    "mapping = 'ksads_adhd.csv'\n",
    "\n",
    "data_section = Path( data_root, section)\n",
    "data_path = Path(data_section, table) # path to results table  \n",
    "var_mapping_path =  Path(data_root, \"var_mapping\", mapping) # path to mapping of variable names to questions \n",
    "\n",
    "#os.listdir(data_section)"
   ]
  },
  {
   "cell_type": "code",
   "execution_count": 36,
   "metadata": {},
   "outputs": [],
   "source": [
    "abbreviation = {\"mental-health\" : \"mp\", \"parent\": \"p\", \"youth\": \"y\"}\n",
    "event_names = [ \"baseline_year_1_arm_1\",\"1_year_follow_up_y_arm_1\",\"2_year_follow_up_y_arm_1\",\"3_year_follow_up_y_arm_1\", \"4_year_follow_up_y_arm_1\", \"4_year_follow_up_y_arm_1\" ]\n",
    "year = dict(zip(range(0, 6), event_names)) # asses year in the column \"eventname\""
   ]
  },
  {
   "cell_type": "code",
   "execution_count": 85,
   "metadata": {},
   "outputs": [
    {
     "name": "stderr",
     "output_type": "stream",
     "text": [
      "/var/folders/hf/frc4nxb532j7gqr3_36l6kmh0000gn/T/ipykernel_13831/2715051642.py:1: DtypeWarning: Columns (23,76,83,84) have mixed types. Specify dtype option on import or set low_memory=False.\n",
      "  data = pd.read_csv(data_path)\n"
     ]
    }
   ],
   "source": [
    "data = pd.read_csv(data_path)\n",
    "var_description = pd.read_csv(var_mapping_path)\n",
    "vocab = np.load(vocab_path, allow_pickle=True)"
   ]
  },
  {
   "cell_type": "code",
   "execution_count": 87,
   "metadata": {},
   "outputs": [
    {
     "data": {
      "text/html": [
       "<div>\n",
       "<style scoped>\n",
       "    .dataframe tbody tr th:only-of-type {\n",
       "        vertical-align: middle;\n",
       "    }\n",
       "\n",
       "    .dataframe tbody tr th {\n",
       "        vertical-align: top;\n",
       "    }\n",
       "\n",
       "    .dataframe thead th {\n",
       "        text-align: right;\n",
       "    }\n",
       "</style>\n",
       "<table border=\"1\" class=\"dataframe\">\n",
       "  <thead>\n",
       "    <tr style=\"text-align: right;\">\n",
       "      <th></th>\n",
       "      <th>table_name</th>\n",
       "      <th>var_name</th>\n",
       "      <th>var_label</th>\n",
       "      <th>notes</th>\n",
       "      <th>condition</th>\n",
       "      <th>table_name_nda</th>\n",
       "    </tr>\n",
       "  </thead>\n",
       "  <tbody>\n",
       "    <tr>\n",
       "      <th>0</th>\n",
       "      <td>mh_p_ksads_adhd</td>\n",
       "      <td>ksads_adhd_raw_978_p</td>\n",
       "      <td>In the past two weeks, how often has your chil...</td>\n",
       "      <td>0=Not at all; 1=Rarely; 2=Several days; 3=More...</td>\n",
       "      <td>NaN</td>\n",
       "      <td>attn_deficit_hyperactiv_p01</td>\n",
       "    </tr>\n",
       "    <tr>\n",
       "      <th>1</th>\n",
       "      <td>mh_p_ksads_adhd</td>\n",
       "      <td>ksads_adhd_raw_991_p</td>\n",
       "      <td>Do the problems we have just been talking abou...</td>\n",
       "      <td>0=No; 1=Yes</td>\n",
       "      <td>NaN</td>\n",
       "      <td>attn_deficit_hyperactiv_p01</td>\n",
       "    </tr>\n",
       "    <tr>\n",
       "      <th>2</th>\n",
       "      <td>mh_p_ksads_adhd</td>\n",
       "      <td>ksads_adhd_raw_990_p</td>\n",
       "      <td>Do the problems we have just been talking abou...</td>\n",
       "      <td>0=No; 1=Yes</td>\n",
       "      <td>NaN</td>\n",
       "      <td>attn_deficit_hyperactiv_p01</td>\n",
       "    </tr>\n",
       "    <tr>\n",
       "      <th>3</th>\n",
       "      <td>mh_p_ksads_adhd</td>\n",
       "      <td>ksads_adhd_raw_988_p</td>\n",
       "      <td>In the past two weeks, how often has your chil...</td>\n",
       "      <td>0=Not at all; 1=Rarely; 2=Several days; 3=More...</td>\n",
       "      <td>NaN</td>\n",
       "      <td>attn_deficit_hyperactiv_p01</td>\n",
       "    </tr>\n",
       "    <tr>\n",
       "      <th>4</th>\n",
       "      <td>mh_p_ksads_adhd</td>\n",
       "      <td>ksads_adhd_raw_987_p</td>\n",
       "      <td>In the past two weeks, how often has your chil...</td>\n",
       "      <td>0=Not at all; 1=Rarely; 2=Several days; 3=More...</td>\n",
       "      <td>NaN</td>\n",
       "      <td>attn_deficit_hyperactiv_p01</td>\n",
       "    </tr>\n",
       "  </tbody>\n",
       "</table>\n",
       "</div>"
      ],
      "text/plain": [
       "        table_name              var_name  \\\n",
       "0  mh_p_ksads_adhd  ksads_adhd_raw_978_p   \n",
       "1  mh_p_ksads_adhd  ksads_adhd_raw_991_p   \n",
       "2  mh_p_ksads_adhd  ksads_adhd_raw_990_p   \n",
       "3  mh_p_ksads_adhd  ksads_adhd_raw_988_p   \n",
       "4  mh_p_ksads_adhd  ksads_adhd_raw_987_p   \n",
       "\n",
       "                                           var_label  \\\n",
       "0  In the past two weeks, how often has your chil...   \n",
       "1  Do the problems we have just been talking abou...   \n",
       "2  Do the problems we have just been talking abou...   \n",
       "3  In the past two weeks, how often has your chil...   \n",
       "4  In the past two weeks, how often has your chil...   \n",
       "\n",
       "                                               notes  condition  \\\n",
       "0  0=Not at all; 1=Rarely; 2=Several days; 3=More...        NaN   \n",
       "1                                        0=No; 1=Yes        NaN   \n",
       "2                                        0=No; 1=Yes        NaN   \n",
       "3  0=Not at all; 1=Rarely; 2=Several days; 3=More...        NaN   \n",
       "4  0=Not at all; 1=Rarely; 2=Several days; 3=More...        NaN   \n",
       "\n",
       "                table_name_nda  \n",
       "0  attn_deficit_hyperactiv_p01  \n",
       "1  attn_deficit_hyperactiv_p01  \n",
       "2  attn_deficit_hyperactiv_p01  \n",
       "3  attn_deficit_hyperactiv_p01  \n",
       "4  attn_deficit_hyperactiv_p01  "
      ]
     },
     "execution_count": 87,
     "metadata": {},
     "output_type": "execute_result"
    }
   ],
   "source": [
    "var_description.head()"
   ]
  },
  {
   "cell_type": "code",
   "execution_count": 70,
   "metadata": {},
   "outputs": [],
   "source": [
    "var_names = np.array(var_description[\"var_name\"])\n",
    "questions = np.array(var_description[\"var_label\"])\n",
    "mapping = OrderedDict(zip(var_names, questions))"
   ]
  },
  {
   "cell_type": "code",
   "execution_count": 73,
   "metadata": {},
   "outputs": [
    {
     "data": {
      "text/plain": [
       "array(['In the past two weeks, how often has your child put off or avoided doing things that were hard for him or her because they required a lot of attention?',\n",
       "       'Do the problems we have just been talking about cause difficulties for your child in any of the following areas:With family',\n",
       "       'Do the problems we have just been talking about cause difficulties for your child in any of the following areas:With friends',\n",
       "       \"In the past two weeks, how often has your child talked when he or she wasn't supposed to, or had people complain that he or she talked too much?\",\n",
       "       'In the past two weeks, how often has your child interrupted someone when they were talking?',\n",
       "       'In the past two weeks, how often has your child had trouble waiting for his or her turn or waiting for other things?',\n",
       "       \"In the past two weeks, how often has your child blurt out answers in school without being called on, or blurt out answers when someone wasn't talking to him or her?\",\n",
       "       'In the past two weeks, how often has your child had trouble being quiet when he or she was supposed to be quiet?',\n",
       "       'In the past two weeks, how often has your child been on the go, moving from one place to another?',\n",
       "       'In the past two weeks, how often has your child run or climbed on things when he or she was not supposed to?',\n",
       "       'In the past two weeks, how often has your child felt fidgety, like it was hard to sit without bouncing his or her leg or getting up and moving around?',\n",
       "       'In the past two weeks, how often has your child forgotten something somewhere or forgotten to do something he or she was supposed to do?',\n",
       "       'In the past two weeks, how often has your child lost his or her homework, pencils, jacket, cell phone, or anything else big or small?',\n",
       "       'Do the problems we have just been talking about cause difficulties for your child in any of the following areas:At school',\n",
       "       'In the past two weeks, how often has your child had trouble organizing his or her homework or other tasks?',\n",
       "       'In the past two weeks, how often has your child not followed instructions that a parent or teacher said to him or her, or instructions on an assignment or test?',\n",
       "       'In the past 2 weeks, how often has your child forgotten or tuned out what you or their teachers said to him or her?',\n",
       "       \"You said in the past your child had trouble with attention and staying seated back in September 2008 and also in the past two weeks. When answering these next set of question, I'll be asking you about both the past two weeks and the time in the past when he or she had these problems. In the past two weeks, how many days has your child made a careless mistake?\",\n",
       "       'In the past two weeks, how many days has your child made a careless mistake?',\n",
       "       'You said that in the past your child had a lot of trouble keeping focused and paying attention; was often easily distracted; often had trouble staying seated; was impulsive and often acted before he or she thought. When was that?',\n",
       "       'You said that in the past your child was often easily distracted; often had trouble staying seated; was impulsive and often acted before he or she thought. When was that?',\n",
       "       'You said that in the past your child had a lot of trouble keeping focused and paying attention; often had trouble staying seated; was impulsive and often acted before he or she thought. When was that?',\n",
       "       'You said that in the past your child had a lot of trouble keeping focused and paying attention; was often easily distracted; was impulsive and often acted before he or she thought. When was that?',\n",
       "       'You said that in the past your child had a lot of trouble keeping focused and paying attention; was often easily distracted; and often had trouble staying seated. When was that?',\n",
       "       'You said that in the past your child often had trouble staying seated; was impulsive and often acted before he or she thought. When was that?'],\n",
       "      dtype=object)"
      ]
     },
     "execution_count": 73,
     "metadata": {},
     "output_type": "execute_result"
    }
   ],
   "source": [
    "questions"
   ]
  },
  {
   "cell_type": "code",
   "execution_count": 88,
   "metadata": {},
   "outputs": [
    {
     "name": "stderr",
     "output_type": "stream",
     "text": [
      "No sentence-transformers model found with name dmis-lab/biobert-base-cased-v1.2. Creating a new one with MEAN pooling.\n"
     ]
    },
    {
     "data": {
      "application/vnd.jupyter.widget-view+json": {
       "model_id": "84948aa4e4a0424cad2604a8e9649d94",
       "version_major": 2,
       "version_minor": 0
      },
      "text/plain": [
       "Batches:   0%|          | 0/1 [00:00<?, ?it/s]"
      ]
     },
     "metadata": {},
     "output_type": "display_data"
    },
    {
     "name": "stderr",
     "output_type": "stream",
     "text": [
      "No sentence-transformers model found with name dmis-lab/biobert-base-cased-v1.2. Creating a new one with MEAN pooling.\n"
     ]
    },
    {
     "data": {
      "application/vnd.jupyter.widget-view+json": {
       "model_id": "f974c20498f549f78431bd2360a7d09b",
       "version_major": 2,
       "version_minor": 0
      },
      "text/plain": [
       "Batches:   0%|          | 0/1 [00:00<?, ?it/s]"
      ]
     },
     "metadata": {},
     "output_type": "display_data"
    }
   ],
   "source": [
    "embeddings_qst = tm.get_embeddings(questions, transformer='dmis-lab/biobert-base-cased-v1.2') # 'distilbert-base-nli-mean-tokens'\n",
    "embeddings_vocab = tm.get_embeddings(vocab, transformer='dmis-lab/biobert-base-cased-v1.2')"
   ]
  },
  {
   "cell_type": "code",
   "execution_count": 94,
   "metadata": {},
   "outputs": [
    {
     "data": {
      "text/plain": [
       "(25, 768)"
      ]
     },
     "execution_count": 94,
     "metadata": {},
     "output_type": "execute_result"
    }
   ],
   "source": [
    "embeddings_qst.shape"
   ]
  },
  {
   "cell_type": "code",
   "execution_count": 98,
   "metadata": {},
   "outputs": [],
   "source": [
    "similarity = cosine_similarity(embeddings_qst, embeddings_vocab)"
   ]
  },
  {
   "cell_type": "code",
   "execution_count": 111,
   "metadata": {},
   "outputs": [
    {
     "data": {
      "text/plain": [
       "array(['Do the problems we have just been talking about cause difficulties for your child in any of the following areas:With family',\n",
       "       'Do the problems we have just been talking about cause difficulties for your child in any of the following areas:With family',\n",
       "       'Do the problems we have just been talking about cause difficulties for your child in any of the following areas:With family'],\n",
       "      dtype=object)"
      ]
     },
     "execution_count": 111,
     "metadata": {},
     "output_type": "execute_result"
    }
   ],
   "source": [
    "questions[np.where(similarity == max(similarity[1]))[0]]\n",
    "#vocab[np.where(similarity == max(similarity[1]))[1]]"
   ]
  },
  {
   "cell_type": "code",
   "execution_count": null,
   "metadata": {},
   "outputs": [],
   "source": []
  }
 ],
 "metadata": {
  "kernelspec": {
   "display_name": "abcd",
   "language": "python",
   "name": "python3"
  },
  "language_info": {
   "codemirror_mode": {
    "name": "ipython",
    "version": 3
   },
   "file_extension": ".py",
   "mimetype": "text/x-python",
   "name": "python",
   "nbconvert_exporter": "python",
   "pygments_lexer": "ipython3",
   "version": "3.10.0"
  }
 },
 "nbformat": 4,
 "nbformat_minor": 2
}
