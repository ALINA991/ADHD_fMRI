{
 "cells": [
  {
   "cell_type": "code",
   "execution_count": 19,
   "metadata": {},
   "outputs": [],
   "source": [
    "from pathlib import Path\n",
    "import pandas as pd\n",
    "import numpy as np"
   ]
  },
  {
   "cell_type": "code",
   "execution_count": 28,
   "metadata": {},
   "outputs": [],
   "source": [
    "vocab_path = Path(\"/Users/alina/Desktop/MIT/literature research/preregistration/RDoC_vs_litt_ADHD.xlsx\")\n",
    "save_path = Path(\"/Volumes/Samsung_T5/MIT/abcd\")"
   ]
  },
  {
   "cell_type": "code",
   "execution_count": 26,
   "metadata": {},
   "outputs": [
    {
     "name": "stderr",
     "output_type": "stream",
     "text": [
      "/Users/alina/opt/anaconda3/envs/abcd/lib/python3.10/site-packages/openpyxl/worksheet/header_footer.py:48: UserWarning: Cannot parse header or footer so it will be ignored\n",
      "  warn(\"\"\"Cannot parse header or footer so it will be ignored\"\"\")\n"
     ]
    }
   ],
   "source": [
    "vocab = np.concatenate(np.array(pd.read_excel(vocab_path, usecols=[5]).dropna()))"
   ]
  },
  {
   "cell_type": "code",
   "execution_count": 27,
   "metadata": {},
   "outputs": [
    {
     "data": {
      "text/plain": [
       "array(['irritability', 'stress generation', 'agression', 'anhedhonia',\n",
       "       'Reward anticipation', 'Addiction ', 'delay aversion (impatience)',\n",
       "       'vigilance', 'heigthend awareness/sensitivity (sensory overleod) ',\n",
       "       'heigthend awareness/sensitivity (sensory overleod) ',\n",
       "       'heigthend awareness/sensitivity (sensory overleod) ',\n",
       "       'Impulse control ', 'disruptive behavior', 'distractability',\n",
       "       'Impulse control ', 'cognitive inhibition ',\n",
       "       'planning and organisation', 'vigilance', 'set-shifting',\n",
       "       'cognitive flexibility', 'Timing', 'executive control',\n",
       "       'social cognition', 'arousal moderation ', 'unstable sleep habits',\n",
       "       'fine motor coordination', 'motor inhibition ', 'DSM-5',\n",
       "       'I : inattentive type'], dtype=object)"
      ]
     },
     "execution_count": 27,
     "metadata": {},
     "output_type": "execute_result"
    }
   ],
   "source": [
    "vocab"
   ]
  },
  {
   "cell_type": "code",
   "execution_count": 29,
   "metadata": {},
   "outputs": [],
   "source": [
    "np.save(Path(save_path, 'adhd_vocab.npy'), vocab)"
   ]
  },
  {
   "cell_type": "code",
   "execution_count": null,
   "metadata": {},
   "outputs": [],
   "source": []
  }
 ],
 "metadata": {
  "kernelspec": {
   "display_name": "abcd",
   "language": "python",
   "name": "python3"
  },
  "language_info": {
   "codemirror_mode": {
    "name": "ipython",
    "version": 3
   },
   "file_extension": ".py",
   "mimetype": "text/x-python",
   "name": "python",
   "nbconvert_exporter": "python",
   "pygments_lexer": "ipython3",
   "version": "3.10.0"
  }
 },
 "nbformat": 4,
 "nbformat_minor": 2
}
