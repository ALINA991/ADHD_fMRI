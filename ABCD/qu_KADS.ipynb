{
 "cells": [
  {
   "cell_type": "code",
   "execution_count": 4,
   "metadata": {},
   "outputs": [],
   "source": [
    "import requests\n",
    "import sys\n",
    "from pathlib import Path \n",
    "#sys.path.append(\"/Users/alina/Desktop/MIT/code/ADHD/item_analysis\")\n"
   ]
  },
  {
   "cell_type": "code",
   "execution_count": 5,
   "metadata": {},
   "outputs": [],
   "source": [
    "\n",
    "from src import topic_modeling as tm\n",
    "\n",
    "%load_ext autoreload\n",
    "%autoreload 2\n"
   ]
  },
  {
   "cell_type": "code",
   "execution_count": 6,
   "metadata": {},
   "outputs": [],
   "source": [
    "\n",
    "# URL to the GitHub API for the specific folder\n",
    "folder_url = \"https://api.github.com/repos/ReproNim/reproschema-library/contents/activities/abcd_ksad01/items\"\n",
    "\n",
    "# Make a request to get the list of files in the folder\n",
    "response = requests.get(folder_url)\n",
    "files = response.json()\n",
    "questions = []\n",
    "\n",
    "# Check if the response contains files\n",
    "if isinstance(files, list):\n",
    "    for i, file in zip(range(10),files):\n",
    "        file_url = file['download_url']\n",
    "        response = requests.get(file_url)\n",
    "        try:\n",
    "            data = response.json()  # Attempt to parse the file content as JSON\n",
    "            questions.append(data.get('question', 'No question found'))\n",
    "        except ValueError:\n",
    "            print(f\"Skipping file {file['name']} as it's not valid JSON.\")\n",
    "else:\n",
    "    print(f\"Failed to download {file['name']}\")"
   ]
  },
  {
   "cell_type": "code",
   "execution_count": 7,
   "metadata": {},
   "outputs": [],
   "source": [
    "questions = [qst.replace('Symptom - ', '') for qst in questions]"
   ]
  },
  {
   "cell_type": "code",
   "execution_count": 10,
   "metadata": {},
   "outputs": [
    {
     "name": "stderr",
     "output_type": "stream",
     "text": [
      "No sentence-transformers model found with name dmis-lab/biobert-base-cased-v1.2. Creating a new one with MEAN pooling.\n"
     ]
    },
    {
     "data": {
      "application/vnd.jupyter.widget-view+json": {
       "model_id": "fe9f6fd4d06c4a01a1569252545e219a",
       "version_major": 2,
       "version_minor": 0
      },
      "text/plain": [
       "config.json:   0%|          | 0.00/1.11k [00:00<?, ?B/s]"
      ]
     },
     "metadata": {},
     "output_type": "display_data"
    },
    {
     "data": {
      "application/vnd.jupyter.widget-view+json": {
       "model_id": "a7fd244f654a451089191a8a2bf687d2",
       "version_major": 2,
       "version_minor": 0
      },
      "text/plain": [
       "pytorch_model.bin:   0%|          | 0.00/436M [00:00<?, ?B/s]"
      ]
     },
     "metadata": {},
     "output_type": "display_data"
    },
    {
     "data": {
      "application/vnd.jupyter.widget-view+json": {
       "model_id": "b01c106326de473cb8e36548d295e971",
       "version_major": 2,
       "version_minor": 0
      },
      "text/plain": [
       "vocab.txt:   0%|          | 0.00/213k [00:00<?, ?B/s]"
      ]
     },
     "metadata": {},
     "output_type": "display_data"
    },
    {
     "data": {
      "application/vnd.jupyter.widget-view+json": {
       "model_id": "54794b883e524ae1acf1d98089f730aa",
       "version_major": 2,
       "version_minor": 0
      },
      "text/plain": [
       "Batches:   0%|          | 0/1 [00:00<?, ?it/s]"
      ]
     },
     "metadata": {},
     "output_type": "display_data"
    }
   ],
   "source": [
    "# get embeddings\n",
    "embeddings = tm.get_embeddings(questions, transformer='dmis-lab/biobert-base-cased-v1.2') # 'distilbert-base-nli-mean-tokens'"
   ]
  },
  {
   "cell_type": "code",
   "execution_count": 11,
   "metadata": {},
   "outputs": [
    {
     "data": {
      "text/plain": [
       "array([[ 0.32026505, -0.09403883,  0.0696891 , ...,  0.15945521,\n",
       "         0.10067748,  0.08609052],\n",
       "       [ 0.360113  , -0.0067777 ,  0.09803875, ...,  0.08691798,\n",
       "         0.17149255,  0.13436265],\n",
       "       [ 0.31642404,  0.12682171, -0.01524439, ...,  0.13478498,\n",
       "         0.1484286 ,  0.03130228],\n",
       "       ...,\n",
       "       [ 0.14072052, -0.15451472, -0.27123186, ...,  0.00536459,\n",
       "         0.16421409,  0.0839144 ],\n",
       "       [ 0.12458821, -0.13244653, -0.1247165 , ...,  0.27289936,\n",
       "         0.16562085,  0.17649694],\n",
       "       [ 0.18201259, -0.02493943, -0.12661275, ...,  0.15797083,\n",
       "         0.20841041,  0.21451235]], dtype=float32)"
      ]
     },
     "execution_count": 11,
     "metadata": {},
     "output_type": "execute_result"
    }
   ],
   "source": [
    "embeddings"
   ]
  },
  {
   "cell_type": "code",
   "execution_count": null,
   "metadata": {},
   "outputs": [],
   "source": []
  }
 ],
 "metadata": {
  "kernelspec": {
   "display_name": "adhd",
   "language": "python",
   "name": "python3"
  },
  "language_info": {
   "codemirror_mode": {
    "name": "ipython",
    "version": 3
   },
   "file_extension": ".py",
   "mimetype": "text/x-python",
   "name": "python",
   "nbconvert_exporter": "python",
   "pygments_lexer": "ipython3",
   "version": "3.10.0"
  }
 },
 "nbformat": 4,
 "nbformat_minor": 2
}
