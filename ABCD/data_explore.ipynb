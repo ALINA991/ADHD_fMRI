{
 "cells": [
  {
   "cell_type": "code",
   "execution_count": 16,
   "metadata": {},
   "outputs": [],
   "source": [
    "import os\n",
    "from pathlib import Path\n"
   ]
  },
  {
   "cell_type": "code",
   "execution_count": 17,
   "metadata": {},
   "outputs": [],
   "source": [
    "\n",
    "def search_files_with_keywords(directory, keywords):\n",
    "    \"\"\"\n",
    "    Search for files containing any of the specified keywords within a directory and all its subdirectories.\n",
    "\n",
    "    :param directory: The directory to search.\n",
    "    :param keywords: A list of keywords to search for in file names.\n",
    "    :return: A list of paths to the files found that contain any of the keywords.\n",
    "    \"\"\"\n",
    "    found_files = []\n",
    "    for root, dirs, files in os.walk(directory):\n",
    "        for file in files:\n",
    "            # Check if any keyword is in the filename\n",
    "            if any(keyword.lower() in file.lower() for keyword in keywords):\n",
    "                found_files.append(os.path.join(root, file))\n",
    "    return found_files\n",
    "\n",
    "# Example usage\n",
    "directory_to_search = '/path/to/your/directory'\n",
    "search_keywords = ['report', '2024', 'summary']  # Example: search for these keywords in file names\n",
    "found_files = search_files_with_keywords(directory_to_search, search_keywords)\n",
    "\n",
    "# Print the results\n",
    "for file_path in found_files:\n",
    "    print(file_path)"
   ]
  },
  {
   "cell_type": "code",
   "execution_count": 18,
   "metadata": {},
   "outputs": [],
   "source": [
    "data_root = Path(\"/Volumes/Samsung_T5/MIT/abcd/release_05/abcd-data-release-5.1/core\")\n",
    "\n",
    "nc_section = \"neurocognition\"\n",
    "mh_section = \"mental-health\"\n",
    "var_section = \"variables\"\n",
    "\n",
    "sum_scores_dev_history =  'ph_p_dhx.csv' #abcd_devhxss01'\n",
    "longitudnal_bg_ksads_p = 'abcd_lpksad01'\n",
    "longitudinal_med_hist_p = 'abcd_lpmh01'\n",
    "long_sum_score_med_hist = 'abcd_lssmh01'\n",
    "sum_scores_med_hist = 'abcd_medhxss01'\n",
    "med_hist_qst_p = 'abcd_mx01'\n",
    "sum_score_ph_y = 'abcd_ssphy01'\n",
    "diag_bg_ksdad_y = 'abcd_yksad01'\n",
    "diag_adhd_ksads = 'attn_deficit_hyperactiv_p01'\n",
    "diag_bg_ksdad_p = 'dibf01'\n",
    "med_surv_inv_p = 'medsy01'\n",
    "\n"
   ]
  },
  {
   "cell_type": "code",
   "execution_count": 20,
   "metadata": {},
   "outputs": [
    {
     "data": {
      "text/plain": [
       "[]"
      ]
     },
     "execution_count": 20,
     "metadata": {},
     "output_type": "execute_result"
    }
   ],
   "source": [
    "search_files_with_keywords(data_root, 'attn_deficit_hyperactiv_p01')"
   ]
  },
  {
   "cell_type": "code",
   "execution_count": 21,
   "metadata": {},
   "outputs": [
    {
     "name": "stdout",
     "output_type": "stream",
     "text": [
      "Collecting cx_Oracle\n",
      "  Downloading cx_Oracle-8.3.0.tar.gz (363 kB)\n",
      "\u001b[2K     \u001b[90m━━━━━━━━━━━━━━━━━━━━━━━━━━━━━━━━━━━━━━━\u001b[0m \u001b[32m363.9/363.9 kB\u001b[0m \u001b[31m6.1 MB/s\u001b[0m eta \u001b[36m0:00:00\u001b[0ma \u001b[36m0:00:01\u001b[0m\n",
      "\u001b[?25h  Installing build dependencies ... \u001b[?25ldone\n",
      "\u001b[?25h  Getting requirements to build wheel ... \u001b[?25ldone\n",
      "\u001b[?25h  Preparing metadata (pyproject.toml) ... \u001b[?25ldone\n",
      "\u001b[?25hBuilding wheels for collected packages: cx_Oracle\n",
      "  Building wheel for cx_Oracle (pyproject.toml) ... \u001b[?25ldone\n",
      "\u001b[?25h  Created wheel for cx_Oracle: filename=cx_Oracle-8.3.0-cp310-cp310-macosx_10_9_x86_64.whl size=184929 sha256=e9661fbb87487251ce4ee6f333044a65e66440bfca8e80df0a4ce8d09cf7ebb8\n",
      "  Stored in directory: /Users/alina/Library/Caches/pip/wheels/2c/b6/c0/08f83c5faf222158f5b706ceeb8803b4809d9582bd7ae419b1\n",
      "Successfully built cx_Oracle\n",
      "Installing collected packages: cx_Oracle\n",
      "Successfully installed cx_Oracle-8.3.0\n"
     ]
    }
   ],
   "source": [
    "!pip install cx_Oracle"
   ]
  },
  {
   "cell_type": "code",
   "execution_count": null,
   "metadata": {},
   "outputs": [],
   "source": [
    "import cx_Oracle\n",
    "\n",
    "def create_connection(username, password, host, port, service_name):\n",
    "    \"\"\"\n",
    "    Create a connection to an Oracle database.\n",
    "\n",
    "    :param username: Username for the Oracle database\n",
    "    :param password: Password for the Oracle database\n",
    "    :param host: Host where the database is located\n",
    "    :param port: Port number for the database connection\n",
    "    :param service_name: Oracle service name\n",
    "    :return: A database connection object\n",
    "    \"\"\"\n",
    "    # Create a DSN (Data Source Name) string\n",
    "    dsn = cx_Oracle.makedsn(host, port, service_name=service_name)\n",
    "\n",
    "    # Establish a connection\n",
    "    connection = cx_Oracle.connect(user=username, password=password, dsn=dsn)\n",
    "\n",
    "    return connection\n",
    "\n",
    "# Example usage\n",
    "if __name__ == \"__main__\":\n",
    "    # Define credentials and connection parameters\n",
    "    USERNAME = 'your_username'\n",
    "    PASSWORD = 'your_password'\n",
    "    HOST = 'your_host'\n",
    "    PORT = '1521'  # Common default port for Oracle databases\n",
    "    SERVICE_NAME = 'your_service_name'\n",
    "\n",
    "    # Create a database connection\n",
    "    conn = create_connection(USERNAME, PASSWORD, HOST, PORT, SERVICE_NAME)\n",
    "\n",
    "    # Check if the connection is successful\n",
    "    print(\"Connected to the database successfully!\")\n",
    "\n",
    "    # Don't forget to close the connection when done\n",
    "    conn.close()"
   ]
  }
 ],
 "metadata": {
  "kernelspec": {
   "display_name": "abcd",
   "language": "python",
   "name": "python3"
  },
  "language_info": {
   "codemirror_mode": {
    "name": "ipython",
    "version": 3
   },
   "file_extension": ".py",
   "mimetype": "text/x-python",
   "name": "python",
   "nbconvert_exporter": "python",
   "pygments_lexer": "ipython3",
   "version": "3.10.0"
  }
 },
 "nbformat": 4,
 "nbformat_minor": 2
}
