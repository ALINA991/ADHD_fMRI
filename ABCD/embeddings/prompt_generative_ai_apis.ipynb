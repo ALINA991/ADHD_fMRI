{
 "cells": [
  {
   "cell_type": "code",
   "execution_count": 5,
   "id": "44b0dcb4-3ed5-4a3b-a9e8-3f15174e1e3b",
   "metadata": {},
   "outputs": [],
   "source": [
    "# !pip install litellm==1.26.0\n",
    "import os\n",
    "import litellm\n",
    "import sys\n",
    "from pathlib import Path\n",
    "import numpy as np\n",
    "import pandas as pd\n",
    "from collections import OrderedDict"
   ]
  },
  {
   "cell_type": "code",
   "execution_count": 6,
   "id": "b29a1e22-0d44-4cb2-838b-7fe782dafdd6",
   "metadata": {},
   "outputs": [],
   "source": [
    "# [OPTIONAL] set env var\n",
    "api_key = os.environ['OPENAI_API_KEY'] # string, you need your own key and to put at least $5 in the account\n",
    "#s.environ[\"COHERE_API_KEY\"] = api_keys.cohere_trial # string, you can get for free by logging into cohere and going to sandbox\n",
    "\n",
    "gpt4_turbo = \"gpt-4-1106-preview\"\n",
    "cohere = 'command-nightly'\n",
    "litellm.drop_params=True # will ignore paramaters you set if they don't belong in a model"
   ]
  },
  {
   "cell_type": "code",
   "execution_count": 7,
   "id": "5e8fbf2e",
   "metadata": {},
   "outputs": [
    {
     "name": "stderr",
     "output_type": "stream",
     "text": [
      "/var/folders/hf/frc4nxb532j7gqr3_36l6kmh0000gn/T/ipykernel_12159/1068665958.py:12: DtypeWarning: Columns (23,76,83,84) have mixed types. Specify dtype option on import or set low_memory=False.\n",
      "  data = pd.read_csv(data_path)\n"
     ]
    }
   ],
   "source": [
    "data_root = Path(\"/Volumes/Samsung_T5/MIT/abcd/release_05/abcd-data-release-5.1\")\n",
    "vocab_path  = Path(\"/Volumes/Samsung_T5/MIT/abcd/adhd_vocab1.npy\")\n",
    "\n",
    "section = \"core/mental-health\"\n",
    "table = 'mh_p_ksads_adhd.csv'\n",
    "mapping = 'ksads_adhd.csv'\n",
    "\n",
    "data_section = Path( data_root, section)\n",
    "data_path = Path(data_section, table) # path to results table  \n",
    "var_mapping_path =  Path(data_root, \"var_mapping\", mapping) # path to mapping of variable names to questions \n",
    "\n",
    "data = pd.read_csv(data_path)\n",
    "var_description = pd.read_csv(var_mapping_path)\n",
    "symptoms = (np.load(vocab_path, allow_pickle=True))\n",
    "\n",
    "var_names = np.array(var_description[\"var_name\"])\n",
    "questions = np.array(var_description[\"var_label\"])\n",
    "mapping = OrderedDict(zip(var_names, questions))\n"
   ]
  },
  {
   "cell_type": "code",
   "execution_count": 8,
   "id": "616b0a5c",
   "metadata": {},
   "outputs": [
    {
     "data": {
      "text/plain": [
       "array(['self-inflicted stress exposure', 'hostile agression',\n",
       "       'unstable sleep habits', 'anhedhonia', 'frustrative non-reward',\n",
       "       'Reward anticipation impairment', 'non-perseverance',\n",
       "       'forgetfulness', 'time perception',\n",
       "       'adaptation to new enviroments ', 'cognitive flexibility',\n",
       "       'attentional lapses', 'motor overactivity',\n",
       "       'fine motor coordination impairement', 'risk taking ',\n",
       "       'impatience', 'substance abuse', 'distractability',\n",
       "       'behavioral inhibition', 'non-plannfulness', 'implusivity'],\n",
       "      dtype=object)"
      ]
     },
     "execution_count": 8,
     "metadata": {},
     "output_type": "execute_result"
    }
   ],
   "source": [
    "symptoms"
   ]
  },
  {
   "cell_type": "code",
   "execution_count": 9,
   "id": "3c68fe15",
   "metadata": {},
   "outputs": [],
   "source": [
    "# from openai import OpenAI\n",
    "# client = OpenAI()\n",
    "# completion = client.chat.completions.create(\n",
    "#   model=\"gpt-3.5-turbo\",\n",
    "#   messages=[\n",
    "#     {\"role\": \"system\", \"content\": \"You are a poetic assistant, skilled in explaining complex programming concepts with creative flair.\"},\n",
    "#     {\"role\": \"user\", \"content\": \"Compose a poem that explains the concept of recursion in programming.\"}\n",
    "#   ]\n",
    "# )"
   ]
  },
  {
   "cell_type": "code",
   "execution_count": 10,
   "id": "d3a968eb-f041-4e47-8ee5-5115a79fd535",
   "metadata": {},
   "outputs": [],
   "source": [
    "from litellm import completion\n",
    "\n",
    "\n",
    "def api_request(\n",
    "    prompt,\n",
    "    model=\"commmand-nightly\",\n",
    "    api_key=None,\n",
    "    temperature=0.1,\n",
    "    top_p=1,\n",
    "    timeout=45,\n",
    "    num_retries=2,\n",
    "    max_tokens=None,\n",
    "    seed=None,\n",
    "    response_format=None,\n",
    "):\n",
    "    # Open AI status: https://status.openai.com/\n",
    "\n",
    "    messages = [{\"content\": prompt, \"role\": \"user\"}]\n",
    "    responses = completion(\n",
    "        model=model,\n",
    "        messages=messages,\n",
    "        api_key=api_key,\n",
    "        temperature=temperature,\n",
    "        top_p=top_p,\n",
    "        timeout=timeout,\n",
    "        num_retries=num_retries,\n",
    "        max_tokens=max_tokens,\n",
    "        seed=seed,\n",
    "        # response_format = response_format\n",
    "    )\n",
    "    response = responses.get(\"choices\")[0].get(\"message\").get(\"content\")  # access response for first message\n",
    "    return response\n",
    "\n"
   ]
  },
  {
   "cell_type": "code",
   "execution_count": 11,
   "id": "b1bc9005",
   "metadata": {},
   "outputs": [
    {
     "data": {
      "text/plain": [
       "array(['In the past two weeks, how often has your child put off or avoided doing things that were hard for him or her because they required a lot of attention?',\n",
       "       'Do the problems we have just been talking about cause difficulties for your child in any of the following areas:With family',\n",
       "       'Do the problems we have just been talking about cause difficulties for your child in any of the following areas:With friends',\n",
       "       \"In the past two weeks, how often has your child talked when he or she wasn't supposed to, or had people complain that he or she talked too much?\",\n",
       "       'In the past two weeks, how often has your child interrupted someone when they were talking?',\n",
       "       'In the past two weeks, how often has your child had trouble waiting for his or her turn or waiting for other things?',\n",
       "       \"In the past two weeks, how often has your child blurt out answers in school without being called on, or blurt out answers when someone wasn't talking to him or her?\",\n",
       "       'In the past two weeks, how often has your child had trouble being quiet when he or she was supposed to be quiet?',\n",
       "       'In the past two weeks, how often has your child been on the go, moving from one place to another?',\n",
       "       'In the past two weeks, how often has your child run or climbed on things when he or she was not supposed to?',\n",
       "       'In the past two weeks, how often has your child felt fidgety, like it was hard to sit without bouncing his or her leg or getting up and moving around?',\n",
       "       'In the past two weeks, how often has your child forgotten something somewhere or forgotten to do something he or she was supposed to do?',\n",
       "       'In the past two weeks, how often has your child lost his or her homework, pencils, jacket, cell phone, or anything else big or small?',\n",
       "       'Do the problems we have just been talking about cause difficulties for your child in any of the following areas:At school',\n",
       "       'In the past two weeks, how often has your child had trouble organizing his or her homework or other tasks?',\n",
       "       'In the past two weeks, how often has your child not followed instructions that a parent or teacher said to him or her, or instructions on an assignment or test?',\n",
       "       'In the past 2 weeks, how often has your child forgotten or tuned out what you or their teachers said to him or her?',\n",
       "       \"You said in the past your child had trouble with attention and staying seated back in September 2008 and also in the past two weeks. When answering these next set of question, I'll be asking you about both the past two weeks and the time in the past when he or she had these problems. In the past two weeks, how many days has your child made a careless mistake?\",\n",
       "       'In the past two weeks, how many days has your child made a careless mistake?',\n",
       "       'You said that in the past your child had a lot of trouble keeping focused and paying attention; was often easily distracted; often had trouble staying seated; was impulsive and often acted before he or she thought. When was that?',\n",
       "       'You said that in the past your child was often easily distracted; often had trouble staying seated; was impulsive and often acted before he or she thought. When was that?',\n",
       "       'You said that in the past your child had a lot of trouble keeping focused and paying attention; often had trouble staying seated; was impulsive and often acted before he or she thought. When was that?',\n",
       "       'You said that in the past your child had a lot of trouble keeping focused and paying attention; was often easily distracted; was impulsive and often acted before he or she thought. When was that?',\n",
       "       'You said that in the past your child had a lot of trouble keeping focused and paying attention; was often easily distracted; and often had trouble staying seated. When was that?',\n",
       "       'You said that in the past your child often had trouble staying seated; was impulsive and often acted before he or she thought. When was that?'],\n",
       "      dtype=object)"
      ]
     },
     "execution_count": 11,
     "metadata": {},
     "output_type": "execute_result"
    }
   ],
   "source": [
    "questions"
   ]
  },
  {
   "cell_type": "code",
   "execution_count": 12,
   "id": "beeb5c42",
   "metadata": {},
   "outputs": [],
   "source": [
    "prompt = \"\"\"\n",
    "Paraphrase the following question 10 times. Make sure to use words that are as different as possible from other paraphrasings as possible: {sentence}.\n",
    " Don't give any additional explanation.\n",
    "\"\"\""
   ]
  },
  {
   "cell_type": "code",
   "execution_count": 16,
   "id": "f92db8ab",
   "metadata": {},
   "outputs": [
    {
     "name": "stdout",
     "output_type": "stream",
     "text": [
      "1. Over the last fortnight, how frequently has your youngster procrastinated or shunned tasks that were challenging due to their demand for intense focus?\n",
      "2. In the recent 14 days, to what extent has your offspring delayed or bypassed activities that were difficult and necessitated considerable concentration?\n",
      "3. How many times in the preceding two weeks has your kid evaded or postponed engaging in demanding activities that called for significant mental effort?\n",
      "4. During the past couple of weeks, what has been the frequency of your child's tendency to defer or steer clear of strenuous tasks that required heightened attentiveness?\n",
      "5. Can you quantify how often your child has shirked or put on hold difficult tasks needing substantial focus in the last fourteen days?\n",
      "6. In the previous fortnight, has your child frequently avoided or delayed tasks that were tough and needed a lot of focus?\n",
      "7. How regularly in the past two weeks has your child sidestepped or procrastinated on assignments that were arduous and demanded a high level of concentration?\n",
      "8. Throughout the last fourteen days, what is the count of instances your child has chosen to postpone or dodge activities that were strenuous and required intense attention?\n",
      "9. In the recent two-week period, how often has your progeny neglected or deferred tasks that were formidable due to the necessity for deep concentration?\n",
      "10. Over the preceding fortnight, what has been the rate at which your child has eschewed or put aside challenging tasks that called for dedicated focus?\n"
     ]
    }
   ],
   "source": [
    "\n",
    "prompt = prompt.format(sentence = questions[0])\n",
    "response = api_request(prompt, model=gpt4_turbo, temperature=0)\n",
    "print(response)\n"
   ]
  },
  {
   "cell_type": "code",
   "execution_count": 14,
   "id": "f3b96849",
   "metadata": {},
   "outputs": [
    {
     "name": "stdout",
     "output_type": "stream",
     "text": [
      "500\n"
     ]
    }
   ],
   "source": [
    "from sentence_transformers import SentenceTransformer\n",
    "embeddings_name = \"all-MiniLM-L6-v2\"\n",
    "sentence_embedding_model = SentenceTransformer(embeddings_name)       # load embedding\n",
    "sentence_embedding_model._first_module().max_seq_length = 500 # if you want to increase, but makes it slower\n",
    "print(sentence_embedding_model.max_seq_length) #default = 256"
   ]
  },
  {
   "cell_type": "code",
   "execution_count": 15,
   "id": "ccd95974",
   "metadata": {},
   "outputs": [
    {
     "ename": "NameError",
     "evalue": "name 'test_qst' is not defined",
     "output_type": "error",
     "traceback": [
      "\u001b[0;31m---------------------------------------------------------------------------\u001b[0m",
      "\u001b[0;31mNameError\u001b[0m                                 Traceback (most recent call last)",
      "Cell \u001b[0;32mIn[15], line 1\u001b[0m\n\u001b[0;32m----> 1\u001b[0m embeddings_qst_test \u001b[38;5;241m=\u001b[39m sentence_embedding_model\u001b[38;5;241m.\u001b[39mencode(\u001b[43mtest_qst\u001b[49m, convert_to_tensor\u001b[38;5;241m=\u001b[39m\u001b[38;5;28;01mTrue\u001b[39;00m,show_progress_bar\u001b[38;5;241m=\u001b[39m\u001b[38;5;28;01mTrue\u001b[39;00m)\n\u001b[1;32m      2\u001b[0m embeddings_vocab \u001b[38;5;241m=\u001b[39m sentence_embedding_model\u001b[38;5;241m.\u001b[39mencode(vocab, convert_to_tensor\u001b[38;5;241m=\u001b[39m\u001b[38;5;28;01mTrue\u001b[39;00m, show_progress_bar\u001b[38;5;241m=\u001b[39m\u001b[38;5;28;01mTrue\u001b[39;00m)\n",
      "\u001b[0;31mNameError\u001b[0m: name 'test_qst' is not defined"
     ]
    }
   ],
   "source": [
    "embeddings_qst_test = sentence_embedding_model.encode(test_qst, convert_to_tensor=True,show_progress_bar=True)\n",
    "embeddings_vocab = sentence_embedding_model.encode(vocab, convert_to_tensor=True, show_progress_bar=True)"
   ]
  },
  {
   "cell_type": "code",
   "execution_count": null,
   "id": "ce910f25-749b-4076-866d-def32f105ece",
   "metadata": {},
   "outputs": [],
   "source": [
    "# prompt = \"\"\"\n",
    "# Classify the document into one of the following symptoms:\n",
    "# Symptoms to choose from: {symptoms}\n",
    "\n",
    "# Output only the most likely symptom. As an explanation, give me phrase that help you classify this document. Also give me the confidence level for the most likley symptom, as a number between 0 and 1. \n",
    "# I will not give a confidence level for my examples, but you should provide it. Don't give any additional explanation.\n",
    "\n",
    "# For example, \n",
    "# Document: {example_1}\n",
    "# Symptom: {symptom_1}\n",
    "# Explanation: {explanation_1}\n",
    "# Confidence level: \n",
    "\n",
    "\n",
    "# Document: {example_2}\n",
    "# Symptom: {symptom_2}\n",
    "# Explanation: {explanation_1}\n",
    "# Confidence level: \n",
    "\n",
    "# Document: {document}\n",
    "# Symptom:\n",
    "# Explanantion: \n",
    "# Confidence level: \n",
    "# \"\"\""
   ]
  },
  {
   "cell_type": "code",
   "execution_count": null,
   "id": "54661ceb",
   "metadata": {},
   "outputs": [
    {
     "data": {
      "text/plain": [
       "'self-inflicted stress exposure; hostile agression; unstable sleep habits; anhedhonia; frustrative non-reward; Reward anticipation impairment; non-perseverance; forgetfulness; time perception; adaptation to new enviroments ; cognitive flexibility; attentional lapses; motor overactivity; fine motor coordination impairement; risk taking ; impatience; substance abuse; distractability; behavioral inhibition; non-plannfulness; implusivity'"
      ]
     },
     "execution_count": 31,
     "metadata": {},
     "output_type": "execute_result"
    }
   ],
   "source": [
    "#symptoms = ['sustained attention', 'hyperactivity', 'disruptive behavior', 'impulse control', 'reward anticipation', 'agression']\n",
    "symptoms_str = '; '.join(symptoms)\n",
    "symptoms_str"
   ]
  },
  {
   "cell_type": "code",
   "execution_count": null,
   "id": "af4042f3",
   "metadata": {},
   "outputs": [
    {
     "name": "stdout",
     "output_type": "stream",
     "text": [
      "In the past two weeks, how often has your child put off or avoided doing things that were hard for him or her because they required a lot of attention?\n",
      "Symptom: non-plannfulness\n",
      "Explanation: put off or avoided doing things that were hard\n",
      "Confidence level: 0.85\n",
      "\n",
      "\n",
      "Do the problems we have just been talking about cause difficulties for your child in any of the following areas:With family\n",
      "Symptom: behavioral inhibition\n",
      "Explanation: cause difficulties for your child in any of the following areas: With family\n",
      "Confidence level: 0.85\n",
      "\n",
      "\n",
      "Do the problems we have just been talking about cause difficulties for your child in any of the following areas:With friends\n",
      "Symptom: social impairment\n",
      "Explanation: cause difficulties for your child with friends\n",
      "Confidence level: 0.85\n",
      "\n",
      "\n",
      "In the past two weeks, how often has your child talked when he or she wasn't supposed to, or had people complain that he or she talked too much?\n",
      "Symptom: impulsivity\n",
      "Explanation: talked when he or she wasn't supposed to, or had people complain that he or she talked too much\n",
      "Confidence level: 0.85\n",
      "\n",
      "\n",
      "In the past two weeks, how often has your child interrupted someone when they were talking?\n",
      "Symptom: impulsivity\n",
      "Explanation: interrupted someone when they were talking\n",
      "Confidence level: 0.85\n",
      "\n",
      "\n",
      "In the past two weeks, how often has your child had trouble waiting for his or her turn or waiting for other things?\n",
      "Symptom: impatience\n",
      "Explanation: had trouble waiting for his or her turn or waiting for other things\n",
      "Confidence level: 0.9\n",
      "\n",
      "\n",
      "In the past two weeks, how often has your child blurt out answers in school without being called on, or blurt out answers when someone wasn't talking to him or her?\n",
      "Symptom: impulsivity\n",
      "Explanation: blurt out answers\n",
      "Confidence level: 0.9\n",
      "\n",
      "\n",
      "In the past two weeks, how often has your child had trouble being quiet when he or she was supposed to be quiet?\n",
      "Symptom: behavioral inhibition\n",
      "Explanation: had trouble being quiet when he or she was supposed to be quiet\n",
      "Confidence level: 0.85\n",
      "\n",
      "\n",
      "In the past two weeks, how often has your child been on the go, moving from one place to another?\n",
      "Symptom: motor overactivity\n",
      "Explanation: on the go, moving from one place to another\n",
      "Confidence level: 0.9\n",
      "\n",
      "\n",
      "In the past two weeks, how often has your child run or climbed on things when he or she was not supposed to?\n",
      "Symptom: motor overactivity\n",
      "Explanation: run or climbed on things when he or she was not supposed to\n",
      "Confidence level: 0.9\n",
      "\n",
      "\n",
      "In the past two weeks, how often has your child felt fidgety, like it was hard to sit without bouncing his or her leg or getting up and moving around?\n",
      "Symptom: motor overactivity\n",
      "Explanation: felt fidgety, like it was hard to sit without bouncing his or her leg or getting up and moving around\n",
      "Confidence level: 0.9\n",
      "\n",
      "\n",
      "In the past two weeks, how often has your child forgotten something somewhere or forgotten to do something he or she was supposed to do?\n",
      "Symptom: forgetfulness\n",
      "Explanation: forgotten something somewhere or forgotten to do something\n",
      "Confidence level: 0.95\n",
      "\n",
      "\n",
      "In the past two weeks, how often has your child lost his or her homework, pencils, jacket, cell phone, or anything else big or small?\n",
      "Symptom: forgetfulness\n",
      "Explanation: lost his or her homework, pencils, jacket, cell phone, or anything else\n",
      "Confidence level: 0.9\n",
      "\n",
      "\n",
      "Do the problems we have just been talking about cause difficulties for your child in any of the following areas:At school\n",
      "Symptom: attentional lapses\n",
      "Explanation: cause difficulties for your child in any of the following areas: At school\n",
      "Confidence level: 0.85\n",
      "\n",
      "\n",
      "In the past two weeks, how often has your child had trouble organizing his or her homework or other tasks?\n",
      "Symptom: non-plannfulness\n",
      "Explanation: had trouble organizing his or her homework or other tasks\n",
      "Confidence level: 0.85\n",
      "\n",
      "\n",
      "In the past two weeks, how often has your child not followed instructions that a parent or teacher said to him or her, or instructions on an assignment or test?\n",
      "Symptom: non-plannfulness\n",
      "Explanation: not followed instructions\n",
      "Confidence level: 0.85\n",
      "\n",
      "\n",
      "In the past 2 weeks, how often has your child forgotten or tuned out what you or their teachers said to him or her?\n",
      "Symptom: forgetfulness\n",
      "Explanation: forgotten or tuned out what you or their teachers said\n",
      "Confidence level: 0.9\n",
      "\n",
      "\n",
      "You said in the past your child had trouble with attention and staying seated back in September 2008 and also in the past two weeks. When answering these next set of question, I'll be asking you about both the past two weeks and the time in the past when he or she had these problems. In the past two weeks, how many days has your child made a careless mistake?\n",
      "Symptom: attentional lapses\n",
      "Explanation: made a careless mistake\n",
      "Confidence level: 0.85\n",
      "\n",
      "\n",
      "In the past two weeks, how many days has your child made a careless mistake?\n",
      "Symptom: attentional lapses\n",
      "Explanation: made a careless mistake\n",
      "Confidence level: 0.85\n",
      "\n",
      "\n",
      "You said that in the past your child had a lot of trouble keeping focused and paying attention; was often easily distracted; often had trouble staying seated; was impulsive and often acted before he or she thought. When was that?\n",
      "Symptom: attentional lapses\n",
      "Explanation: trouble keeping focused and paying attention; was often easily distracted\n",
      "Confidence level: 0.9\n",
      "\n",
      "\n",
      "You said that in the past your child was often easily distracted; often had trouble staying seated; was impulsive and often acted before he or she thought. When was that?\n",
      "Symptom: attentional lapses\n",
      "Explanation: easily distracted\n",
      "Confidence level: 0.85\n",
      "\n",
      "\n",
      "You said that in the past your child had a lot of trouble keeping focused and paying attention; often had trouble staying seated; was impulsive and often acted before he or she thought. When was that?\n",
      "Symptom: attentional lapses\n",
      "Explanation: trouble keeping focused and paying attention\n",
      "Confidence level: 0.9\n",
      "\n",
      "\n",
      "You said that in the past your child had a lot of trouble keeping focused and paying attention; was often easily distracted; was impulsive and often acted before he or she thought. When was that?\n",
      "Symptom: attentional lapses\n",
      "Explanation: trouble keeping focused and paying attention; was often easily distracted\n",
      "Confidence level: 0.9\n",
      "\n",
      "\n",
      "You said that in the past your child had a lot of trouble keeping focused and paying attention; was often easily distracted; and often had trouble staying seated. When was that?\n",
      "Symptom: attentional lapses\n",
      "Explanation: trouble keeping focused and paying attention; was often easily distracted\n",
      "Confidence level: 0.9\n",
      "\n",
      "\n",
      "You said that in the past your child often had trouble staying seated; was impulsive and often acted before he or she thought. When was that?\n",
      "Symptom: impulsivity\n",
      "Explanation: impulsive and often acted before he or she thought\n",
      "Confidence level: 0.9\n",
      "\n",
      "\n"
     ]
    }
   ],
   "source": [
    "examples = ['In the past two weeks, how often has your child interrupted someone when they were talking?', \n",
    "            'In the past two weeks, how often has your child been on the go, moving from one place to another?',\n",
    "            'You said that in the past your child had a lot of trouble keeping focused and paying attention; was often easily distracted; often had trouble staying seated; was impulsive and often acted before he or she thought. When was that?']\n",
    "\n",
    "symptoms_examples = ['behavioral inhibition', \n",
    "                     'motor overactivity']\n",
    "#documents = [\"In the past two weeks, I interrupted someone while talking\"]\n",
    "explanations = ['interrupted someone when they were talking',\n",
    "                 \"on the go, moving from one place to another\"\n",
    "                ]\n",
    "responses = {}\n",
    "for i, document in enumerate(questions):\n",
    "    prompt_i = prompt.format(symptoms = symptoms_str, example_1 = examples[0], example_2 = examples[1], symptom_1 = symptoms_examples[0], symptom_2 = symptoms_examples[1], explanation_1 = explanations[0], explanation_2 = explanations[1], document = document)\n",
    "    response = api_request(prompt_i, model=gpt4_turbo)\n",
    "    print(document)\n",
    "    print(response)\n",
    "    print('\\n')\n",
    "    responses[i] = response"
   ]
  },
  {
   "cell_type": "code",
   "execution_count": null,
   "id": "0f88391d-d118-4310-916d-165c35ef4917",
   "metadata": {},
   "outputs": [
    {
     "ename": "NameError",
     "evalue": "name 'response' is not defined",
     "output_type": "error",
     "traceback": [
      "\u001b[0;31m---------------------------------------------------------------------------\u001b[0m",
      "\u001b[0;31mNameError\u001b[0m                                 Traceback (most recent call last)",
      "Cell \u001b[0;32mIn[21], line 1\u001b[0m\n\u001b[0;32m----> 1\u001b[0m \u001b[43mresponse\u001b[49m\u001b[38;5;241m.\u001b[39msplit(\u001b[38;5;124m'\u001b[39m\u001b[38;5;130;01m\\n\u001b[39;00m\u001b[38;5;124m'\u001b[39m)\n",
      "\u001b[0;31mNameError\u001b[0m: name 'response' is not defined"
     ]
    }
   ],
   "source": [
    "response.split('\\n')"
   ]
  },
  {
   "cell_type": "code",
   "execution_count": null,
   "id": "f4777f0e-9cd1-4913-9577-ed316416f842",
   "metadata": {},
   "outputs": [],
   "source": [
    "def generate_prompt(\n",
    "    construct,\n",
    "    prompt_name=None,\n",
    "    prompt=\"default\",\n",
    "    domain=None,\n",
    "    definition=None,\n",
    "    examples=None,\n",
    "    output_format=\"default\",\n",
    "    remove_parentheses_definition=True,\n",
    "):\n",
    "    if output_format == \"default\":\n",
    "        output_format = (\n",
    "            \"Each token should be separated by a semicolon. Do not return duplicate tokens. Do not provide any\"\n",
    "            \" explanation or additional text beyond the tokens.\"\n",
    "        )\n",
    "    # removed: Order them by how similar they are to {construct}.\n",
    "    elif output_format == \"json\":\n",
    "        output_format = (\n",
    "            \"Provide tokens in JSON output. Do not return duplicate tokens. Do not provide any explanation or\"\n",
    "            \" additional text beyond the tokens.\"\n",
    "        )\n",
    "\n",
    "    # Prompt\n",
    "    if not isinstance(prompt_name, str):\n",
    "        # if prompt_name == None:\n",
    "        prompt_name = construct.replace(\"_\", \" \").lower()\n",
    "\n",
    "    if prompt == \"default\":\n",
    "        prompt = \"Provide many single words and some short phrases related to\"\n",
    "        if domain:\n",
    "            domain = f\"(in the {domain} domain). \"\n",
    "            prompt = f\"\"\"{prompt} {prompt_name} {domain}{output_format}\"\"\"\n",
    "        else:\n",
    "            prompt = f\"\"\"{prompt} {prompt_name}. {output_format}\"\"\"\n",
    "        if definition:\n",
    "            if remove_parentheses_definition:\n",
    "                definition = re.sub(r\"\\(.*?\\)\", \"\", definition)  # remove parentheses which is usually citation.\n",
    "            prompt += f\"\\nHere is a definition of {prompt_name}: {definition.lower().strip()}\"\n",
    "\n",
    "        if isinstance(examples, list):\n",
    "            examples = \"; \".join(examples)\n",
    "        if isinstance(examples, str):\n",
    "            # examples = '; '.join(examples)\n",
    "            prompt += f\"\\nHere are some examples (include these in the list): {examples}.\"\n",
    "\n",
    "    return prompt\n",
    "\n"
   ]
  }
 ],
 "metadata": {
  "kernelspec": {
   "display_name": "Python 3 (ipykernel)",
   "language": "python",
   "name": "python3"
  },
  "language_info": {
   "codemirror_mode": {
    "name": "ipython",
    "version": 3
   },
   "file_extension": ".py",
   "mimetype": "text/x-python",
   "name": "python",
   "nbconvert_exporter": "python",
   "pygments_lexer": "ipython3",
   "version": "3.10.0"
  }
 },
 "nbformat": 4,
 "nbformat_minor": 5
}
