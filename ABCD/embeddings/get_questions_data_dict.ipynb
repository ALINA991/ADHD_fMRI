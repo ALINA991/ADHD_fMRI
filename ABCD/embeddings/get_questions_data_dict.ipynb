{
 "cells": [
  {
   "cell_type": "code",
   "execution_count": 1,
   "metadata": {},
   "outputs": [
    {
     "name": "stdout",
     "output_type": "stream",
     "text": [
      "q_prosocial_p.xlsx 8\n",
      "q_prosocial_y.xlsx 8\n",
      "q_taskfMRI_post_scan_qst_y.xlsx 33\n",
      "q_cbcl_p.xlsx 201\n",
      "q_brief_problem_monitor_y.xlsx 48\n",
      "q_brief_problem_monitor_t.xlsx 52\n",
      "q_ksads_symptoms_and_diagnoses_y.xlsx 1910\n",
      "q_difficulty_emotion_regulation_p.xlsx 30\n",
      "q_emotion_regulation_qst_y.xlsx 9\n",
      "q_NIH_toolbox_positive_affect.xlsx 13\n",
      "q_ksdas_odd_p.xlsx 35\n",
      "q_ksdas_cd_p.xlsx 274\n",
      "q_ksads_adhd_p.xlsx 93\n",
      "q_ksdas_cd_y.xlsx 265\n",
      "q_gbi_mania_p.xlsx 14\n",
      "q_ksdas_bd_p.xlsx 90\n",
      "q_ksdas_dep_p.xlsx 91\n",
      "q_ksads_dmdd_p.xlsx 11\n",
      "q_ksdas_dep_y.xlsx 91\n",
      "q_ksads_bd_y.xlsx 90\n",
      "q_7up_mania_y.xlsx 11\n",
      "q_ksads_dmdd_y.xlsx 11\n",
      "q_ksads_background_p.xlsx 184\n",
      "q_ksads_background_y.xlsx 60\n",
      "q_ksads_sleep_p.xlsx 5\n",
      "q_ksads_sleep_y.xlsx 5\n",
      "q_ea_temp_qst_p.xlsx 108\n",
      "q_beh_inhib_approach_system_scales_y.xlsx 42\n",
      "q_urgency_premed_impulsive_beh_scale_y.xlsx 35\n",
      "q_personality_disposition_p.xlsx 100\n",
      "q_personality_disposition_y.xlsx 240\n",
      "q_munich_chronotype_y.xlsx 81\n",
      "q_sleep_disturbance_scale_p.xlsx 48\n",
      "q_barkley_deficits_exec_p.xlsx 18\n",
      "q_ksads_alc_drug_p.xlsx 495\n",
      "q_ksads_alc_drug_y.xlsx 495\n",
      "q_path_nic_dep_y.xlsx 11\n",
      "Processing completed.\n"
     ]
    }
   ],
   "source": [
    "import pandas as pd\n",
    "import os\n",
    "import glob\n",
    "\n",
    "# Define the source and destination directories\n",
    "source_directory = '/Volumes/Samsung_T5/MIT/abcd/variables'\n",
    "destination_directory = '/Volumes/Samsung_T5/MIT/abcd/questions'\n",
    "\n",
    "# Create the destination directory if it doesn't exist\n",
    "os.makedirs(destination_directory, exist_ok=True)\n",
    "\n",
    "# Pattern to match CSV files, excluding those starting with '.'\n",
    "pattern = os.path.join(source_directory, '[!.]*.csv')\n",
    "\n",
    "# Iterate over files matching the pattern\n",
    "for file_path in glob.glob(pattern):\n",
    "    # Read the specific column from the CSV file\n",
    "    df = pd.read_csv(file_path, usecols=['var_label'])\n",
    "    \n",
    "    # Construct the new file name and path with .xlsx extension\n",
    "    new_file_name = \"q_\" + os.path.splitext(os.path.basename(file_path))[0] + '.xlsx'\n",
    "    new_file_path = os.path.join(destination_directory, new_file_name)\n",
    "    \n",
    "    # Save the extracted column to a new Excel file without the header\n",
    "    # Note: Excel writer engine 'openpyxl' is used by default for .xlsx files\n",
    "    #df.to_excel(new_file_path, index=False, header=False)\n",
    "    print(new_file_name, len(df))\n",
    "\n",
    "print(\"Processing completed.\")\n"
   ]
  },
  {
   "cell_type": "code",
   "execution_count": null,
   "metadata": {},
   "outputs": [],
   "source": []
  }
 ],
 "metadata": {
  "kernelspec": {
   "display_name": "abcd",
   "language": "python",
   "name": "python3"
  },
  "language_info": {
   "codemirror_mode": {
    "name": "ipython",
    "version": 3
   },
   "file_extension": ".py",
   "mimetype": "text/x-python",
   "name": "python",
   "nbconvert_exporter": "python",
   "pygments_lexer": "ipython3",
   "version": "3.10.0"
  }
 },
 "nbformat": 4,
 "nbformat_minor": 2
}
