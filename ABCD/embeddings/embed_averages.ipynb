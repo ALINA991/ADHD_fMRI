{
 "cells": [
  {
   "cell_type": "code",
   "execution_count": 168,
   "metadata": {},
   "outputs": [
    {
     "name": "stdout",
     "output_type": "stream",
     "text": [
      "The autoreload extension is already loaded. To reload it, use:\n",
      "  %reload_ext autoreload\n"
     ]
    }
   ],
   "source": [
    "from pathlib import Path\n",
    "import pandas as pd\n",
    "import numpy as np\n",
    "import matplotlib.pyplot as plt\n",
    "\n",
    "import os\n",
    "import sys\n",
    "from pathlib import Path\n",
    "from collections import OrderedDict\n",
    "\n",
    "import litellm\n",
    "from litellm import completion\n",
    "from sentence_transformers import SentenceTransformer\n",
    "\n",
    "from sklearn.metrics.pairwise import cosine_similarity\n",
    "import hdbscan \n",
    "import torch\n",
    "\n",
    "#sys.path.append(\"/Users/alina/Desktop/MIT/code/ADHD/item_analysis\")\n",
    "from src.topic_modeling import dimensionality_reduction\n",
    "\n",
    "%load_ext autoreload\n",
    "%autoreload 2"
   ]
  },
  {
   "cell_type": "code",
   "execution_count": 184,
   "metadata": {},
   "outputs": [],
   "source": [
    "#processing params \n",
    "paraphrase_qst = True\n",
    "use_defs = True\n",
    "use_type = True\n",
    "test = False \n",
    "types = ['b', 'nc']"
   ]
  },
  {
   "cell_type": "markdown",
   "metadata": {},
   "source": [
    "## Get data "
   ]
  },
  {
   "cell_type": "code",
   "execution_count": 186,
   "metadata": {},
   "outputs": [
    {
     "name": "stdout",
     "output_type": "stream",
     "text": [
      "(31,) (31,)\n",
      "(22,) (31,) (31,)\n"
     ]
    }
   ],
   "source": [
    "# vocab \n",
    "# add trimwhitespaces\n",
    "vocab_path = Path(\"/Users/alina/Desktop/MIT/literature research/preregistration/complete_symptoms.xlsx\")\n",
    "save_path = Path(\"/Volumes/Samsung_T5/MIT/abcd\")\n",
    "vocab = np.concatenate(np.array(pd.read_excel(vocab_path, usecols=[0]).dropna()))\n",
    "if use_defs:\n",
    "    defs =  np.concatenate(np.array(pd.read_excel(vocab_path, usecols=[1]).dropna()))\n",
    "    vocab = vocab[:len(defs)]\n",
    "    vocab_to_defs = dict( zip(vocab, defs))\n",
    "if use_type:\n",
    "    use = np.concatenate(np.array(pd.read_excel(vocab_path, usecols=[2]).dropna()))\n",
    "    vocab = vocab[:len(use)]\n",
    "    mask = np.isin(use, types)\n",
    "    print(use.shape, vocab.shape)\n",
    "    vocab = vocab[mask]\n",
    "    #defs = defs[mask]\n",
    "\n",
    "print(vocab.shape, defs.shape, use.shape)\n",
    "\n"
   ]
  },
  {
   "cell_type": "code",
   "execution_count": 187,
   "metadata": {},
   "outputs": [
    {
     "name": "stderr",
     "output_type": "stream",
     "text": [
      "/var/folders/hf/frc4nxb532j7gqr3_36l6kmh0000gn/T/ipykernel_18046/1910216239.py:11: DtypeWarning: Columns (23,76,83,84) have mixed types. Specify dtype option on import or set low_memory=False.\n",
      "  patient_data = pd.read_csv(data_path)\n"
     ]
    }
   ],
   "source": [
    "\n",
    "# question data \n",
    "data_root = Path(\"/Volumes/Samsung_T5/MIT/abcd/release_05/abcd-data-release-5.1\")\n",
    "section = \"core/mental-health\"\n",
    "table = 'mh_p_ksads_adhd.csv'\n",
    "mapping = 'ksads_adhd.csv'\n",
    "\n",
    "data_section = Path( data_root, section)\n",
    "data_path = Path(data_section, table) # path to results table  \n",
    "var_mapping_path =  Path(data_root, \"var_mapping\", mapping) # path to mapping of variable names to questions \n",
    "\n",
    "patient_data = pd.read_csv(data_path)\n",
    "var_description = pd.read_csv(var_mapping_path)\n",
    "\n",
    "var_names = np.array(var_description[\"var_name\"])\n",
    "questions = np.array(var_description[\"var_label\"])\n",
    "mapping = OrderedDict(zip(var_names, questions))\n"
   ]
  },
  {
   "cell_type": "code",
   "execution_count": 188,
   "metadata": {},
   "outputs": [],
   "source": [
    "if test : \n",
    "    questions =  np.array([ questions[0], questions[3], questions[12], questions[14]])\n",
    "    defs = np.array([vocab_to_defs['task initiation avoidance'], vocab_to_defs['excessive talkativeness '], vocab_to_defs['forgetfulness'], vocab_to_defs['non-planfulness']])\n",
    "    vocab = np.array(['task initiation avoidance', 'excessive talkativeness ','forgetfulness', 'non-planfulness'])\n",
    "    \n",
    "questions = questions[:10]"
   ]
  },
  {
   "cell_type": "code",
   "execution_count": 189,
   "metadata": {},
   "outputs": [
    {
     "data": {
      "text/plain": [
       "array(['In the past two weeks, how often has your child put off or avoided doing things that were hard for him or her because they required a lot of attention?',\n",
       "       'Do the problems we have just been talking about cause difficulties for your child in any of the following areas:With family',\n",
       "       'Do the problems we have just been talking about cause difficulties for your child in any of the following areas:With friends',\n",
       "       \"In the past two weeks, how often has your child talked when he or she wasn't supposed to, or had people complain that he or she talked too much?\",\n",
       "       'In the past two weeks, how often has your child interrupted someone when they were talking?',\n",
       "       'In the past two weeks, how often has your child had trouble waiting for his or her turn or waiting for other things?',\n",
       "       \"In the past two weeks, how often has your child blurt out answers in school without being called on, or blurt out answers when someone wasn't talking to him or her?\",\n",
       "       'In the past two weeks, how often has your child had trouble being quiet when he or she was supposed to be quiet?',\n",
       "       'In the past two weeks, how often has your child been on the go, moving from one place to another?',\n",
       "       'In the past two weeks, how often has your child run or climbed on things when he or she was not supposed to?'],\n",
       "      dtype=object)"
      ]
     },
     "execution_count": 189,
     "metadata": {},
     "output_type": "execute_result"
    }
   ],
   "source": [
    "questions"
   ]
  },
  {
   "cell_type": "markdown",
   "metadata": {},
   "source": [
    "## Set up model "
   ]
  },
  {
   "cell_type": "code",
   "execution_count": 190,
   "metadata": {},
   "outputs": [],
   "source": [
    "api_key = os.environ['OPENAI_API_KEY'] # string, you need your own key and to put at least $5 in the account\n",
    "#os.environ[\"COHERE_API_KEY\"] = api_keys.cohere_trial # string, you can get for free by logging into cohere and going to sandbox\n",
    "gpt4_turbo = \"gpt-4-1106-preview\"\n",
    "cohere = 'command-nightly'\n",
    "litellm.drop_params=True # will ignore paramaters you set if they don't belong in a model"
   ]
  },
  {
   "cell_type": "code",
   "execution_count": 191,
   "metadata": {},
   "outputs": [
    {
     "name": "stdout",
     "output_type": "stream",
     "text": [
      "['The experience of heightened arousal or stress due to an upcoming deadline'\n",
      " 'Unstable sleep patterns, like going to sleep or waking up at irregular times. '\n",
      " 'Unstable and unpredictable habit patterns.'\n",
      " 'The perception of close family members, friends or teachers that a person does not achieve his or her full potential. '\n",
      " 'Avoiding initiating tasks that are long, boring, non-stimulating or require a lot of concentration.'\n",
      " 'The lack of perseverance in completing tasks that are long, boring, non-stimulating or require a lot of concentration.'\n",
      " 'Trouble keeping relevant information in mind as well as considering the future when making plans.'\n",
      " 'The tendency to forget appointments and due-dates, or to lose or misplace items.'\n",
      " 'The tendency  to act on whims or on the spur of the moment without planning or concern for the consequences. '\n",
      " 'The extent to which an individual fails to fulfill responsibilities, requirements, promises, and obligations in relationships and other important life roles (e.g., school, work). '\n",
      " 'The belief that any behavior or work—one’s own or that of others—that is anything less than flawless is unacceptable. '\n",
      " 'A general preference for and orientation toward work relative to relationships, relaxation, and other important aspects of life, as well as an excessive focus on achievement, status, and success in life. '\n",
      " 'The desire  to explore, learn, and engage with unfamiliar situations or environments.'\n",
      " 'The tendency to engage in risky, dangerous behavior.'\n",
      " 'The capacity of flexibly updating information in mind to adapt to a changing situation.'\n",
      " 'The experience of intense concentration or absorption in an activity, losing track of time while completing it.'\n",
      " 'An inflexible adherence to one’s personal views, values, morals, and an unwillingness to consider the validity of alternative viewpoints or to change one’s mind. '\n",
      " 'The tendency to easily get distracted from a task by internal thoughts.'\n",
      " 'The tendency to get distracted by unexpected external (visual, auditory, somatosensory) stimuli.'\n",
      " 'The tendency to scan the environment for danger.'\n",
      " 'The frequent misjudgment of the time necessary to complete a task.'\n",
      " 'A preference for immediate versus delayed rewards, even if the delayed reward is greater.'\n",
      " 'Trouble with fine motor coordination tasks.'\n",
      " 'Engagement in inadequate or unexpected motor activity or motor hyperactivity.'\n",
      " 'Talking a lot and frequently.'\n",
      " \"Frequently intruding or interrupting other people's conversations.\"\n",
      " 'Frequent disobedience of rules.'\n",
      " 'Displaying unexpected and short reactive aggressive behavior.'\n",
      " 'Experiencing frustration due to the absence of an expected reward.'\n",
      " 'A short, reactive aggressive response to an event.'\n",
      " \"The capacity of recognizing other people's emotions and appropriately reacting to it.\"]\n"
     ]
    }
   ],
   "source": [
    "print(defs)"
   ]
  },
  {
   "cell_type": "code",
   "execution_count": 192,
   "metadata": {},
   "outputs": [],
   "source": [
    "def api_request(\n",
    "    prompt,\n",
    "    model=\"commmand-nightly\",\n",
    "    api_key=None,\n",
    "    temperature=0.1,\n",
    "    top_p=1,\n",
    "    timeout=45,\n",
    "    num_retries=2,\n",
    "    max_tokens=None,\n",
    "    seed=None,\n",
    "    response_format=None,\n",
    "):\n",
    "    # Open AI status: https://status.openai.com/\n",
    "\n",
    "    messages = [{\"content\": prompt, \"role\": \"user\"}]\n",
    "    responses = completion(\n",
    "        model=model,\n",
    "        messages=messages,\n",
    "        api_key=api_key,\n",
    "        temperature=temperature,\n",
    "        top_p=top_p,\n",
    "        timeout=timeout,\n",
    "        num_retries=num_retries,\n",
    "        max_tokens=max_tokens,\n",
    "        seed=seed,\n",
    "        # response_format = response_format\n",
    "    )\n",
    "    response = responses.get(\"choices\")[0].get(\"message\").get(\"content\")  # access response for first message\n",
    "    return response\n"
   ]
  },
  {
   "cell_type": "markdown",
   "metadata": {},
   "source": [
    "## Optional : Paraphrase questions "
   ]
  },
  {
   "cell_type": "code",
   "execution_count": 207,
   "metadata": {},
   "outputs": [],
   "source": [
    "#if paraphrase_qst == True :   \n",
    "def paraphrase(data_array, num_paraph):\n",
    "    prompt = \"\"\"\n",
    "    Paraphrase the following statements 10 times: {sentence}. Make sure to use words that are as different as possible from other paraphrasings as possible.\n",
    "    Don't number the answers, put all sentences on a single line, and don't give any additional information. Return a string of strings.\n",
    "    \"\"\" \n",
    "    paraphrases = []\n",
    "    for data in data_array:\n",
    "        print(data)\n",
    "        prompt_i = prompt.format(sentence = data)\n",
    "        paraphrases.append(api_request(prompt_i, model=gpt4_turbo, temperature=0))\n",
    "    print(paraphrases)\n",
    "    paraphrases = np.array(paraphrases)\n",
    "    split = np.array([ \"?',\".join(para.split('? ')) for para in paraphrases])\n",
    "    paraph  = [ string.split(\"\\',\") for string in split]\n",
    "    return paraph\n"
   ]
  },
  {
   "cell_type": "code",
   "execution_count": null,
   "metadata": {},
   "outputs": [],
   "source": [
    "\n",
    "paraph_qst = paraphrase(questions, 10 )\n"
   ]
  },
  {
   "cell_type": "code",
   "execution_count": 210,
   "metadata": {},
   "outputs": [
    {
     "data": {
      "text/plain": [
       "array(['high focus on last minute activities ', 'unstable sleep patterns',\n",
       "       'unstable daily habits', 'underachieving to potential ',\n",
       "       'task initiation avoidance', 'non-planfulness', 'forgetfulness',\n",
       "       'non-premeditation ', 'irresponsability', 'perfectionnism',\n",
       "       'workaholism', 'non-risk novelty seeking ', 'risk taking ',\n",
       "       'flexible decision making ', 'Rigid beliefs',\n",
       "       'hightented vigilance in relation to danger',\n",
       "       'altered time perception ', 'aversion to delay',\n",
       "       'fine motor coordination ', 'excessive talkativeness ',\n",
       "       'intrusion/ interruption ', 'rule violation '], dtype=object)"
      ]
     },
     "execution_count": 210,
     "metadata": {},
     "output_type": "execute_result"
    }
   ],
   "source": [
    "vocab"
   ]
  },
  {
   "cell_type": "code",
   "execution_count": null,
   "metadata": {},
   "outputs": [
    {
     "data": {
      "text/plain": [
       "'Trouble keeping relevant information in mind as well as considering the future when making plans.'"
      ]
     },
     "execution_count": 147,
     "metadata": {},
     "output_type": "execute_result"
    }
   ],
   "source": [
    "vocab_to_defs['task initiation avoidance']\n",
    "vocab_to_defs['excessive talkativeness ']\n",
    "vocab_to_defs['forgetfulness']\n",
    "vocab_to_defs['non-planfulness']"
   ]
  },
  {
   "cell_type": "code",
   "execution_count": 208,
   "metadata": {},
   "outputs": [
    {
     "name": "stdout",
     "output_type": "stream",
     "text": [
      "high focus on last minute activities \n",
      "unstable sleep patterns\n",
      "unstable daily habits\n",
      "['Concentrated attention on eleventh-hour tasks. Intense emphasis on final-hour endeavors. Strong concentration on last-ditch efforts. Acute fixation on endgame operations. Heightened attention to the twilight actions. Profound dedication to the closing phase undertakings. Sharp focus on the ultimate stretch assignments. Deep engagement with the finishing line activities. Keen interest in the last leg procedures. Vigorous pursuit of the eleventh-hour operations.', 'Erratic sleeping habits; irregular slumber rhythms; inconsistent rest cycles; unpredictable snooze schedules; inconstant dozing timings; variable sleep-wake sequences; fluctuating night-time routines; uneven bedrest patterns; non-uniform shuteye arrangements; capricious nap chronology.', 'Inconsistent daily routines. Erratic daily patterns. Irregular daily practices. Unpredictable daily activities. Variable daily customs. Sporadic daily rituals. Changeable daily schedules. Fluctuating daily regimens. Capricious daily behaviors. Unsteady daily proceedings.']\n",
      "[['Concentrated attention on eleventh-hour tasks. Intense emphasis on final-hour endeavors. Strong concentration on last-ditch efforts. Acute fixation on endgame operations. Heightened attention to the twilight actions. Profound dedication to the closing phase undertakings. Sharp focus on the ultimate stretch assignments. Deep engagement with the finishing line activities. Keen interest in the last leg procedures. Vigorous pursuit of the eleventh-hour operations.'], ['Erratic sleeping habits; irregular slumber rhythms; inconsistent rest cycles; unpredictable snooze schedules; inconstant dozing timings; variable sleep-wake sequences; fluctuating night-time routines; uneven bedrest patterns; non-uniform shuteye arrangements; capricious nap chronology.'], ['Inconsistent daily routines. Erratic daily patterns. Irregular daily practices. Unpredictable daily activities. Variable daily customs. Sporadic daily rituals. Changeable daily schedules. Fluctuating daily regimens. Capricious daily behaviors. Unsteady daily proceedings.']]\n"
     ]
    }
   ],
   "source": [
    "paraph_vocab = paraphrase(vocab[:3],10)\n",
    "print(paraph_vocab)\n",
    "#paraph_defs = paraphrase(defs,10)"
   ]
  },
  {
   "cell_type": "code",
   "execution_count": 209,
   "metadata": {},
   "outputs": [
    {
     "data": {
      "text/plain": [
       "array([['Concentrated attention on eleventh-hour tasks. Intense emphasis on final-hour endeavors. Strong concentration on last-ditch efforts. Acute fixation on endgame operations. Heightened attention to the twilight actions. Profound dedication to the closing phase undertakings. Sharp focus on the ultimate stretch assignments. Deep engagement with the finishing line activities. Keen interest in the last leg procedures. Vigorous pursuit of the eleventh-hour operations.'],\n",
       "       ['Erratic sleeping habits; irregular slumber rhythms; inconsistent rest cycles; unpredictable snooze schedules; inconstant dozing timings; variable sleep-wake sequences; fluctuating night-time routines; uneven bedrest patterns; non-uniform shuteye arrangements; capricious nap chronology.'],\n",
       "       ['Inconsistent daily routines. Erratic daily patterns. Irregular daily practices. Unpredictable daily activities. Variable daily customs. Sporadic daily rituals. Changeable daily schedules. Fluctuating daily regimens. Capricious daily behaviors. Unsteady daily proceedings.']],\n",
       "      dtype='<U464')"
      ]
     },
     "execution_count": 209,
     "metadata": {},
     "output_type": "execute_result"
    }
   ],
   "source": []
  },
  {
   "cell_type": "markdown",
   "metadata": {},
   "source": [
    "## Optional : read in definctions of vocab "
   ]
  },
  {
   "cell_type": "markdown",
   "metadata": {},
   "source": [
    "## Embed questions and vocab "
   ]
  },
  {
   "cell_type": "code",
   "execution_count": 211,
   "metadata": {},
   "outputs": [
    {
     "name": "stdout",
     "output_type": "stream",
     "text": [
      "500\n"
     ]
    }
   ],
   "source": [
    "embeddings_name = \"all-MiniLM-L6-v2\" # 'emilyalsentzer/Bio_ClinicalBERT'\n",
    "sentence_embedding_model = SentenceTransformer(embeddings_name)       # load embedding\n",
    "sentence_embedding_model._first_module().max_seq_length = 500 # if you want to increase, but makes it slower\n",
    "print(sentence_embedding_model.max_seq_length) #default = 256"
   ]
  },
  {
   "cell_type": "code",
   "execution_count": 215,
   "metadata": {},
   "outputs": [
    {
     "data": {
      "text/plain": [
       "(10,)"
      ]
     },
     "execution_count": 215,
     "metadata": {},
     "output_type": "execute_result"
    }
   ],
   "source": [
    "questions.shape"
   ]
  },
  {
   "cell_type": "code",
   "execution_count": 212,
   "metadata": {},
   "outputs": [
    {
     "data": {
      "application/vnd.jupyter.widget-view+json": {
       "model_id": "f82d14cc068a453bacaceba29c937f8c",
       "version_major": 2,
       "version_minor": 0
      },
      "text/plain": [
       "Batches:   0%|          | 0/1 [00:00<?, ?it/s]"
      ]
     },
     "metadata": {},
     "output_type": "display_data"
    },
    {
     "data": {
      "application/vnd.jupyter.widget-view+json": {
       "model_id": "bcb3d2c789d547329992bd9d2ef973cb",
       "version_major": 2,
       "version_minor": 0
      },
      "text/plain": [
       "Batches:   0%|          | 0/1 [00:00<?, ?it/s]"
      ]
     },
     "metadata": {},
     "output_type": "display_data"
    },
    {
     "data": {
      "application/vnd.jupyter.widget-view+json": {
       "model_id": "6ded537622424ac29fc1a3ac02f0f5f7",
       "version_major": 2,
       "version_minor": 0
      },
      "text/plain": [
       "Batches:   0%|          | 0/1 [00:00<?, ?it/s]"
      ]
     },
     "metadata": {},
     "output_type": "display_data"
    },
    {
     "data": {
      "application/vnd.jupyter.widget-view+json": {
       "model_id": "96b6c75a0782455a842336e9b8ed420d",
       "version_major": 2,
       "version_minor": 0
      },
      "text/plain": [
       "Batches:   0%|          | 0/1 [00:00<?, ?it/s]"
      ]
     },
     "metadata": {},
     "output_type": "display_data"
    },
    {
     "data": {
      "application/vnd.jupyter.widget-view+json": {
       "model_id": "ed2c1c6a33054c6e879ecc4190c841c0",
       "version_major": 2,
       "version_minor": 0
      },
      "text/plain": [
       "Batches:   0%|          | 0/1 [00:00<?, ?it/s]"
      ]
     },
     "metadata": {},
     "output_type": "display_data"
    }
   ],
   "source": [
    "if use_defs:\n",
    "    embeddings_vocab = sentence_embedding_model.encode(defs, convert_to_tensor=True, show_progress_bar=True)\n",
    "else:\n",
    "    embeddings_vocab = sentence_embedding_model.encode(vocab, convert_to_tensor=True, show_progress_bar=True)\n",
    "if paraphrase_qst:\n",
    "    embeddings_qst = torch.tensor(np.array([sentence_embedding_model.encode(para, convert_to_tensor=False, show_progress_bar=True) for para in paraph_qst])).mean(dim = 1)\n",
    "else:\n",
    "    embeddings_qst = sentence_embedding_model.encode(questions, convert_to_tensor=True, show_progress_bar=True)"
   ]
  },
  {
   "cell_type": "code",
   "execution_count": 213,
   "metadata": {},
   "outputs": [
    {
     "name": "stdout",
     "output_type": "stream",
     "text": [
      "torch.Size([31, 384]) torch.Size([4, 384])\n"
     ]
    }
   ],
   "source": [
    "print(embeddings_vocab.shape, embeddings_qst.shape)"
   ]
  },
  {
   "cell_type": "code",
   "execution_count": 216,
   "metadata": {},
   "outputs": [
    {
     "data": {
      "application/vnd.jupyter.widget-view+json": {
       "model_id": "f61fd637d5ff4e12acab62f884b8ebc6",
       "version_major": 2,
       "version_minor": 0
      },
      "text/plain": [
       "Batches:   0%|          | 0/1 [00:00<?, ?it/s]"
      ]
     },
     "metadata": {},
     "output_type": "display_data"
    },
    {
     "data": {
      "application/vnd.jupyter.widget-view+json": {
       "model_id": "6638f4bc0aaa48ff9e6526762ef540a7",
       "version_major": 2,
       "version_minor": 0
      },
      "text/plain": [
       "Batches:   0%|          | 0/1 [00:00<?, ?it/s]"
      ]
     },
     "metadata": {},
     "output_type": "display_data"
    },
    {
     "data": {
      "application/vnd.jupyter.widget-view+json": {
       "model_id": "d72d7b77956a45939ea67e1074b21a48",
       "version_major": 2,
       "version_minor": 0
      },
      "text/plain": [
       "Batches:   0%|          | 0/1 [00:00<?, ?it/s]"
      ]
     },
     "metadata": {},
     "output_type": "display_data"
    },
    {
     "data": {
      "application/vnd.jupyter.widget-view+json": {
       "model_id": "4c3519052bdc4e0f85ad64b74dc0f15d",
       "version_major": 2,
       "version_minor": 0
      },
      "text/plain": [
       "Batches:   0%|          | 0/1 [00:00<?, ?it/s]"
      ]
     },
     "metadata": {},
     "output_type": "display_data"
    },
    {
     "data": {
      "application/vnd.jupyter.widget-view+json": {
       "model_id": "280dacaae43a4a9dbb2fc22bc0c2efd3",
       "version_major": 2,
       "version_minor": 0
      },
      "text/plain": [
       "Batches:   0%|          | 0/1 [00:00<?, ?it/s]"
      ]
     },
     "metadata": {},
     "output_type": "display_data"
    }
   ],
   "source": [
    "embeddings_para = torch.tensor(np.array([sentence_embedding_model.encode(para, convert_to_tensor=False, show_progress_bar=True) for para in paraph_qst])).mean(dim = 1)\n",
    "\n",
    "embeddings_qst = sentence_embedding_model.encode(questions, convert_to_tensor=True, show_progress_bar=True)"
   ]
  },
  {
   "cell_type": "code",
   "execution_count": 217,
   "metadata": {},
   "outputs": [
    {
     "name": "stdout",
     "output_type": "stream",
     "text": [
      "In the past two weeks, how often has your child put off or avoided doing things that were hard for him or her because they required a lot of attention? ['In the past two weeks, how often has your child put off or avoided doing things that were hard for him or her because they required a lot of attention?']\n",
      "Do the problems we have just been talking about cause difficulties for your child in any of the following areas:With family [\"In the past two weeks, how often has your child talked when he or she wasn't supposed to, or had people complain that he or she talked too much?\"]\n",
      "Do the problems we have just been talking about cause difficulties for your child in any of the following areas:With friends [\"In the past two weeks, how often has your child talked when he or she wasn't supposed to, or had people complain that he or she talked too much?\"]\n",
      "In the past two weeks, how often has your child talked when he or she wasn't supposed to, or had people complain that he or she talked too much? ['Do the problems we have just been talking about cause difficulties for your child in any of the following areas:With family']\n",
      "In the past two weeks, how often has your child interrupted someone when they were talking? ['Do the problems we have just been talking about cause difficulties for your child in any of the following areas:With family']\n",
      "In the past two weeks, how often has your child had trouble waiting for his or her turn or waiting for other things? ['In the past two weeks, how often has your child put off or avoided doing things that were hard for him or her because they required a lot of attention?']\n",
      "In the past two weeks, how often has your child blurt out answers in school without being called on, or blurt out answers when someone wasn't talking to him or her? ['Do the problems we have just been talking about cause difficulties for your child in any of the following areas:With family']\n",
      "In the past two weeks, how often has your child had trouble being quiet when he or she was supposed to be quiet? ['Do the problems we have just been talking about cause difficulties for your child in any of the following areas:With family']\n",
      "In the past two weeks, how often has your child been on the go, moving from one place to another? ['In the past two weeks, how often has your child put off or avoided doing things that were hard for him or her because they required a lot of attention?']\n",
      "In the past two weeks, how often has your child run or climbed on things when he or she was not supposed to? ['In the past two weeks, how often has your child put off or avoided doing things that were hard for him or her because they required a lot of attention?']\n"
     ]
    }
   ],
   "source": [
    "cos_sim = cosine_similarity(embeddings_qst, embeddings_para)\n",
    "maxs = [np.where(cs == np.max(cs)) for cs in cos_sim]\n",
    "for i, qst in enumerate(questions):\n",
    "    print(questions[i], questions[maxs[i]])"
   ]
  },
  {
   "cell_type": "code",
   "execution_count": 218,
   "metadata": {},
   "outputs": [],
   "source": [
    "\n",
    "umap_qst = dimensionality_reduction(embeddings_qst, n_neighbors= 3, n_components=2, metric=\"cosine\", min_dist=0.1)\n",
    "umap_vocab = dimensionality_reduction(embeddings_para, n_neighbors= 3, n_components=2, metric=\"cosine\", min_dist=0.1)"
   ]
  },
  {
   "cell_type": "code",
   "execution_count": 220,
   "metadata": {},
   "outputs": [
    {
     "name": "stderr",
     "output_type": "stream",
     "text": [
      "/var/folders/hf/frc4nxb532j7gqr3_36l6kmh0000gn/T/ipykernel_18046/3051946335.py:2: UserWarning: No data for colormapping provided via 'c'. Parameters 'cmap' will be ignored\n",
      "  plt.scatter(umap_qst[:, 0], umap_qst[:, 1], cmap='Spectral', s=5, label=\"questions\")\n",
      "/var/folders/hf/frc4nxb532j7gqr3_36l6kmh0000gn/T/ipykernel_18046/3051946335.py:3: UserWarning: No data for colormapping provided via 'c'. Parameters 'cmap' will be ignored\n",
      "  plt.scatter(umap_vocab[:, 0], umap_vocab[:, 1], cmap='Spectral', s=5, label=\"vocab\")\n"
     ]
    },
    {
     "data": {
      "image/png": "[encoded data removed]",
      "text/plain": [
       "<Figure size 700x500 with 2 Axes>"
      ]
     },
     "metadata": {},
     "output_type": "display_data"
    }
   ],
   "source": [
    "plt.figure(figsize=(7,5))\n",
    "plt.scatter(umap_qst[:, 0], umap_qst[:, 1], cmap='Spectral', s=5, label=\"questions\")\n",
    "plt.scatter(umap_vocab[:, 0], umap_vocab[:, 1], cmap='Spectral', s=5, label=\"vocab\")\n",
    "plt.title('UMAP projection of the dataset', fontsize=24)\n",
    "plt.xlabel('UMAP 1', fontsize=18)\n",
    "plt.ylabel('UMAP 2', fontsize=18)\n",
    "plt.colorbar()\n",
    "plt.legend()\n",
    "plt.show()"
   ]
  },
  {
   "cell_type": "code",
   "execution_count": null,
   "metadata": {},
   "outputs": [],
   "source": [
    "umap_vocab = np.concatenate( (umap_vocab, umap_qst))"
   ]
  },
  {
   "cell_type": "markdown",
   "metadata": {},
   "source": [
    "## Cluster"
   ]
  },
  {
   "cell_type": "code",
   "execution_count": null,
   "metadata": {},
   "outputs": [],
   "source": [
    "\n",
    "cluster_qst = hdbscan.HDBSCAN(algorithm=\"best\", \n",
    "                          min_cluster_size=2,\n",
    "                          gen_min_span_tree = True,\n",
    "                          metric='euclidean',       \n",
    "                          cluster_selection_method = \"eom\").fit(umap_qst)\n",
    "cluster_vocab = hdbscan.HDBSCAN(algorithm=\"best\", \n",
    "                          min_cluster_size=2,\n",
    "                          gen_min_span_tree = True,\n",
    "                          metric='euclidean',       \n",
    "                          cluster_selection_method = \"eom\").fit(umap_vocab)"
   ]
  },
  {
   "cell_type": "code",
   "execution_count": null,
   "metadata": {},
   "outputs": [
    {
     "data": {
      "text/plain": [
       "(8,)"
      ]
     },
     "execution_count": 157,
     "metadata": {},
     "output_type": "execute_result"
    }
   ],
   "source": [
    "cluster_vocab.labels_.shape\n",
    "# cluster_qst.probabilities_\n",
    "# cluster_qst.cluster_persistence_\n",
    "# cluster_qst.outlier_scores_\n",
    "# cluster_qst.relative_validity_"
   ]
  },
  {
   "cell_type": "code",
   "execution_count": null,
   "metadata": {},
   "outputs": [],
   "source": [
    "result = pd.DataFrame(umap_vocab, columns=['x', 'y'])\n",
    "result['labels'] = cluster_vocab.labels_\n"
   ]
  },
  {
   "cell_type": "code",
   "execution_count": null,
   "metadata": {},
   "outputs": [],
   "source": [
    "clustered_qst = umap_qst[np.where(cluster_qst.labels_ != -1)]\n",
    "clustered_vocab = umap_vocab[np.where(cluster_vocab.labels_ != -1)]\n",
    "\n",
    "outliers_qst = umap_qst[np.where(cluster_qst.labels_ == -1)]\n",
    "outliers_vocab = umap_vocab[np.where(cluster_vocab.labels_ == -1)]\n",
    "\n",
    "labels = cluster_vocab.labels_[np.where(cluster_vocab.labels_ != -1)]"
   ]
  },
  {
   "cell_type": "code",
   "execution_count": null,
   "metadata": {},
   "outputs": [],
   "source": [
    "if use_defs:\n",
    "    vocab_app = np.concatenate((defs, questions))\n",
    "else:\n",
    "    vocab_app = np.concatenate((vocab, questions))"
   ]
  },
  {
   "cell_type": "code",
   "execution_count": null,
   "metadata": {},
   "outputs": [
    {
     "name": "stdout",
     "output_type": "stream",
     "text": [
      "[array([], dtype='<U151'), array(['task initiation avoidance', 'excessive talkativeness ',\n",
      "       'forgetfulness', 'non-planfulness'], dtype='<U151')]\n"
     ]
    }
   ],
   "source": [
    "print([ vocab_app[np.where(cluster_vocab.labels_ == i)] for i in range(-1, np.max(cluster_vocab.labels_)) ])"
   ]
  },
  {
   "cell_type": "code",
   "execution_count": null,
   "metadata": {},
   "outputs": [
    {
     "data": {
      "text/plain": [
       "<matplotlib.collections.PathCollection at 0x7ffd68c955d0>"
      ]
     },
     "execution_count": 162,
     "metadata": {},
     "output_type": "execute_result"
    },
    {
     "data": {
      "image/png": "[encoded data removed]",
      "text/plain": [
       "<Figure size 640x480 with 1 Axes>"
      ]
     },
     "metadata": {},
     "output_type": "display_data"
    }
   ],
   "source": [
    "plt.scatter(clustered_vocab[:,0], clustered_vocab[:,1], c=labels, s=2.0, cmap='hsv_r', label= \"vocabulary\")"
   ]
  },
  {
   "cell_type": "code",
   "execution_count": null,
   "metadata": {},
   "outputs": [],
   "source": [
    "\n",
    "# # Visualize clusters\n",
    "# fig, ax = plt.subplots(1,2, figsize=(10, 5))\n",
    "\n",
    "# #plt.scatter(outliers.x, outliers.y, color='#BDBDBD', s=0.1)\n",
    "# ax[0].scatter(clustered_qst[:,0], clustered_qst[:,1], c=cluster_qst.labels_, s=2.0, cmap='hsv_r')\n",
    "# ax[1].scatter(clustered_vocab[:,0], clustered_vocab[:,1], c=cluster_vocab.labels_, s=2.0, cmap='hsv_r', label= \"vocabulary\")\n",
    "\n",
    "# ax[0].set_title(\"questions\")\n",
    "# ax[1].set_title(\"vocabulary\")\n"
   ]
  },
  {
   "cell_type": "code",
   "execution_count": null,
   "metadata": {},
   "outputs": [],
   "source": []
  }
 ],
 "metadata": {
  "kernelspec": {
   "display_name": "abcd",
   "language": "python",
   "name": "python3"
  },
  "language_info": {
   "codemirror_mode": {
    "name": "ipython",
    "version": 3
   },
   "file_extension": ".py",
   "mimetype": "text/x-python",
   "name": "python",
   "nbconvert_exporter": "python",
   "pygments_lexer": "ipython3",
   "version": "3.10.0"
  }
 },
 "nbformat": 4,
 "nbformat_minor": 2
}
