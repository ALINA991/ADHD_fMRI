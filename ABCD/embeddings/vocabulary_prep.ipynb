{
 "cells": [
  {
   "cell_type": "code",
   "execution_count": 2,
   "metadata": {},
   "outputs": [],
   "source": [
    "from pathlib import Path\n",
    "import pandas as pd\n",
    "import numpy as np"
   ]
  },
  {
   "cell_type": "code",
   "execution_count": 8,
   "metadata": {},
   "outputs": [],
   "source": [
    "vocab_path = Path(\"/Users/alina/Desktop/MIT/literature research/preregistration/complete_symptoms.xlsx\")\n",
    "save_path = Path(\"/Volumes/Samsung_T5/MIT/abcd\")\n",
    "vocab = np.concatenate(np.array(pd.read_excel(vocab_path, usecols=[0]).dropna()))\n",
    "defs =  np.concatenate(np.array(pd.read_excel(vocab_path, usecols=[1]).dropna()))"
   ]
  },
  {
   "cell_type": "code",
   "execution_count": 4,
   "metadata": {},
   "outputs": [],
   "source": []
  },
  {
   "cell_type": "code",
   "execution_count": 9,
   "metadata": {},
   "outputs": [
    {
     "data": {
      "text/plain": [
       "array(['The patient experiences heightened arousal or stress due to an upcoming deadline',\n",
       "       'The patient shows unstable sleep patterns, like going to sleep or waking up at irregular times. ',\n",
       "       \"The patient has unstable and unpredictable habit patterns. The patient doesn't trust himself in predicting his actions.\",\n",
       "       \"The patient has unstable and unpredictable habit patterns. The patient doesn't trust himself in predicting his actions.\",\n",
       "       'The patient avoids initiating tasks that are long, boring, non-stimulating or require a lot of concentration.',\n",
       "       'The patient does persevere in or complete tasks that are long, boring, non-stimulating or require a lot of concentration.',\n",
       "       'The patient has trouble keeping relevant information in mind as well as considering the future when making plans.',\n",
       "       'The patient tends to forget appointments and due-dates, or looses or misplaces items.',\n",
       "       'The patient tends  to act on whims or on the spur of the moment without planning or concern for the consequences. ',\n",
       "       'The extent to which an individual fails to fulfill responsibilities, requirements, promises, and obligations in relationships and other important life roles (e.g., school, work). ',\n",
       "       'The belief that any behavior or work—one’s own or that of others—that is anything less than flawless is unacceptable. ',\n",
       "       'A general preference for and orientation toward work relative to relationships, relaxation, and other important aspects of life, as well as an excessive focus on achievement, status, and success in life. ',\n",
       "       'The patient has desire to explore, learn, and engage with unfamiliar situations or environments.',\n",
       "       'The patient engages in risky, dangerous behavior.',\n",
       "       'The patient is capable of flexibliy updating information in his mind to adapt to a changing situation.',\n",
       "       'The patient experiences intence concentration or absorbtion in an activity. (Stuck) loose track of time, not subset of ADHD more gunpoint and deadline  ',\n",
       "       'An inflexible adherence to one’s personal views, values, morals, and an unwillingness to consider the validity of alternative viewpoints or to change one’s mind. ',\n",
       "       'The patient easily gets distracted from a task by internal thoughts.',\n",
       "       'The patient easily gets distracted by unexpected external (visual, auditory, somatosensory) stimuli.',\n",
       "       'The patient has a tendency to scan the enviroment for danger.',\n",
       "       'The patient frequently misjuges the time necessary to complete a task, or looses track of time when an activity is engaging.',\n",
       "       'The patient has a preference for immediate versus delayed rewards, even if the delayed reward is greater.',\n",
       "       'The patient has trouble with fine motor coordination tasks.',\n",
       "       'The patient engages in unadequate or unexpected motor activity or motor hyperactivity.',\n",
       "       'The patient talk a lot and frequently.',\n",
       "       'The patient frequently intrudes or interrups other peoples conversations',\n",
       "       'The patient frequently diobeys rules.',\n",
       "       'The patient shows unexpected and short reactive agressive behavior.',\n",
       "       'The patient experiences frustration due to the absence of an expected reward',\n",
       "       'A short, reactive agressive response to an event.',\n",
       "       'The capacity of recognizing other peoples emotions and appropriatly react to it. '],\n",
       "      dtype=object)"
      ]
     },
     "execution_count": 9,
     "metadata": {},
     "output_type": "execute_result"
    }
   ],
   "source": [
    "vocab\n",
    "defs"
   ]
  },
  {
   "cell_type": "code",
   "execution_count": 31,
   "metadata": {},
   "outputs": [],
   "source": [
    "np.save(Path(save_path, 'adhd_vocab1.npy'), vocab) #will overwrite!! "
   ]
  },
  {
   "cell_type": "code",
   "execution_count": 32,
   "metadata": {},
   "outputs": [
    {
     "data": {
      "text/plain": [
       "array(['self-inflicted stress exposure', 'hostile agression',\n",
       "       'unstable sleep habits', 'anhedhonia', 'frustrative non-reward',\n",
       "       'Reward anticipation impairment', 'non-perseverance',\n",
       "       'forgetfulness', 'time perception',\n",
       "       'adaptation to new enviroments ', 'cognitive flexibility',\n",
       "       'attentional lapses', 'motor overactivity',\n",
       "       'fine motor coordination impairement', 'risk taking ',\n",
       "       'impatience', 'substance abuse', 'distractability',\n",
       "       'behavioral inhibition', 'non-plannfulness', 'implusivity'],\n",
       "      dtype=object)"
      ]
     },
     "execution_count": 32,
     "metadata": {},
     "output_type": "execute_result"
    }
   ],
   "source": [
    "test = np.load(Path(save_path, 'adhd_vocab1.npy'), allow_pickle=True)\n",
    "test"
   ]
  },
  {
   "cell_type": "code",
   "execution_count": null,
   "metadata": {},
   "outputs": [],
   "source": []
  }
 ],
 "metadata": {
  "kernelspec": {
   "display_name": "abcd",
   "language": "python",
   "name": "python3"
  },
  "language_info": {
   "codemirror_mode": {
    "name": "ipython",
    "version": 3
   },
   "file_extension": ".py",
   "mimetype": "text/x-python",
   "name": "python",
   "nbconvert_exporter": "python",
   "pygments_lexer": "ipython3",
   "version": "3.10.0"
  }
 },
 "nbformat": 4,
 "nbformat_minor": 2
}
