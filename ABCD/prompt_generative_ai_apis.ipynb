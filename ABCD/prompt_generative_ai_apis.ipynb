{
 "cells": [
  {
   "cell_type": "code",
   "execution_count": 57,
   "id": "44b0dcb4-3ed5-4a3b-a9e8-3f15174e1e3b",
   "metadata": {},
   "outputs": [],
   "source": [
    "# !pip install litellm==1.26.0\n",
    "import os\n",
    "import litellm\n",
    "import sys\n",
    "from pathlib import Path\n",
    "import numpy as np\n",
    "import pandas as pd\n",
    "from collections import OrderedDict"
   ]
  },
  {
   "cell_type": "code",
   "execution_count": 58,
   "id": "b29a1e22-0d44-4cb2-838b-7fe782dafdd6",
   "metadata": {},
   "outputs": [],
   "source": [
    "# [OPTIONAL] set env var\n",
    "api_key = os.environ['OPENAI_API_KEY'] # string, you need your own key and to put at least $5 in the account\n",
    "#s.environ[\"COHERE_API_KEY\"] = api_keys.cohere_trial # string, you can get for free by logging into cohere and going to sandbox\n",
    "\n",
    "gpt4_turbo = \"gpt-4-1106-preview\"\n",
    "cohere = 'command-nightly'\n",
    "litellm.drop_params=True # will ignore paramaters you set if they don't belong in a model"
   ]
  },
  {
   "cell_type": "code",
   "execution_count": 59,
   "id": "5e8fbf2e",
   "metadata": {},
   "outputs": [
    {
     "name": "stderr",
     "output_type": "stream",
     "text": [
      "/var/folders/hf/frc4nxb532j7gqr3_36l6kmh0000gn/T/ipykernel_8493/3996949487.py:12: DtypeWarning: Columns (23,76,83,84) have mixed types. Specify dtype option on import or set low_memory=False.\n",
      "  data = pd.read_csv(data_path)\n"
     ]
    }
   ],
   "source": [
    "data_root = Path(\"/Volumes/Samsung_T5/MIT/abcd/release_05/abcd-data-release-5.1\")\n",
    "vocab_path  = Path(\"/Volumes/Samsung_T5/MIT/abcd/adhd_vocab.npy\")\n",
    "\n",
    "section = \"core/mental-health\"\n",
    "table = 'mh_p_ksads_adhd.csv'\n",
    "mapping = 'ksads_adhd.csv'\n",
    "\n",
    "data_section = Path( data_root, section)\n",
    "data_path = Path(data_section, table) # path to results table  \n",
    "var_mapping_path =  Path(data_root, \"var_mapping\", mapping) # path to mapping of variable names to questions \n",
    "\n",
    "data = pd.read_csv(data_path)\n",
    "var_description = pd.read_csv(var_mapping_path)\n",
    "symptoms = np.unique(np.load(vocab_path, allow_pickle=True))\n",
    "\n",
    "var_names = np.array(var_description[\"var_name\"])\n",
    "questions = np.array(var_description[\"var_label\"])\n",
    "mapping = OrderedDict(zip(var_names, questions))\n"
   ]
  },
  {
   "cell_type": "code",
   "execution_count": 60,
   "id": "3c68fe15",
   "metadata": {},
   "outputs": [],
   "source": [
    "# from openai import OpenAI\n",
    "# client = OpenAI()\n",
    "# completion = client.chat.completions.create(\n",
    "#   model=\"gpt-3.5-turbo\",\n",
    "#   messages=[\n",
    "#     {\"role\": \"system\", \"content\": \"You are a poetic assistant, skilled in explaining complex programming concepts with creative flair.\"},\n",
    "#     {\"role\": \"user\", \"content\": \"Compose a poem that explains the concept of recursion in programming.\"}\n",
    "#   ]\n",
    "# )"
   ]
  },
  {
   "cell_type": "code",
   "execution_count": 61,
   "id": "d3a968eb-f041-4e47-8ee5-5115a79fd535",
   "metadata": {},
   "outputs": [],
   "source": [
    "from litellm import completion\n",
    "\n",
    "\n",
    "def api_request(\n",
    "    prompt,\n",
    "    model=\"commmand-nightly\",\n",
    "    api_key=None,\n",
    "    temperature=0.1,\n",
    "    top_p=1,\n",
    "    timeout=45,\n",
    "    num_retries=2,\n",
    "    max_tokens=None,\n",
    "    seed=None,\n",
    "    response_format=None,\n",
    "):\n",
    "    # Open AI status: https://status.openai.com/\n",
    "\n",
    "    messages = [{\"content\": prompt, \"role\": \"user\"}]\n",
    "    responses = completion(\n",
    "        model=model,\n",
    "        messages=messages,\n",
    "        api_key=api_key,\n",
    "        temperature=temperature,\n",
    "        top_p=top_p,\n",
    "        timeout=timeout,\n",
    "        num_retries=num_retries,\n",
    "        max_tokens=max_tokens,\n",
    "        seed=seed,\n",
    "        # response_format = response_format\n",
    "    )\n",
    "    response = responses.get(\"choices\")[0].get(\"message\").get(\"content\")  # access response for first message\n",
    "    return response\n",
    "\n"
   ]
  },
  {
   "cell_type": "code",
   "execution_count": 62,
   "id": "ce910f25-749b-4076-866d-def32f105ece",
   "metadata": {},
   "outputs": [],
   "source": [
    "prompt = \"\"\"\n",
    "Classify the document into one of the following symptoms:\n",
    "Symptoms to choose from: {symptoms}\n",
    "\n",
    "Output only the most likely symptom with no additional comments or explanation. \n",
    "\n",
    "For example, \n",
    "Document: {example_1}\n",
    "Symptom: {symptom_1}\n",
    "\n",
    "\n",
    "Document: {example_2}\n",
    "Symptom: {symptom_2}\n",
    "\n",
    "\n",
    "Document: {document}\n",
    "Symptom:\n",
    "\"\"\""
   ]
  },
  {
   "cell_type": "code",
   "execution_count": 63,
   "id": "ce40e936",
   "metadata": {},
   "outputs": [
    {
     "data": {
      "text/plain": [
       "array(['Addiction ', 'Impulse control ', 'Reward anticipation', 'Timing',\n",
       "       'agression', 'anhedhonia', 'arousal moderation ',\n",
       "       'cognitive flexibility', 'cognitive inhibition ',\n",
       "       'delay aversion (impatience)', 'disruptive behavior',\n",
       "       'distractability', 'executive control', 'fine motor coordination',\n",
       "       'heigthend awareness/sensitivity (sensory overleod) ',\n",
       "       'irritability', 'motor inhibition ', 'planning and organisation',\n",
       "       'set-shifting', 'social cognition', 'stress generation',\n",
       "       'unstable sleep habits', 'vigilance'], dtype=object)"
      ]
     },
     "execution_count": 63,
     "metadata": {},
     "output_type": "execute_result"
    }
   ],
   "source": [
    "symptoms"
   ]
  },
  {
   "cell_type": "code",
   "execution_count": 64,
   "id": "54661ceb",
   "metadata": {},
   "outputs": [
    {
     "data": {
      "text/plain": [
       "'Addiction ; Impulse control ; Reward anticipation; Timing; agression; anhedhonia; arousal moderation ; cognitive flexibility; cognitive inhibition ; delay aversion (impatience); disruptive behavior; distractability; executive control; fine motor coordination; heigthend awareness/sensitivity (sensory overleod) ; irritability; motor inhibition ; planning and organisation; set-shifting; social cognition; stress generation; unstable sleep habits; vigilance'"
      ]
     },
     "execution_count": 64,
     "metadata": {},
     "output_type": "execute_result"
    }
   ],
   "source": [
    "#symptoms = ['sustained attention', 'hyperactivity', 'disruptive behavior', 'impulse control', 'reward anticipation', 'agression']\n",
    "symptoms_str = '; '.join(symptoms)\n",
    "symptoms_str"
   ]
  },
  {
   "cell_type": "code",
   "execution_count": 66,
   "id": "af4042f3",
   "metadata": {},
   "outputs": [
    {
     "name": "stdout",
     "output_type": "stream",
     "text": [
      "In the past two weeks, how often has your child put off or avoided doing things that were hard for him or her because they required a lot of attention?\n",
      "delay aversion (impatience)\n",
      "Do the problems we have just been talking about cause difficulties for your child in any of the following areas:With family\n",
      "disruptive behavior\n",
      "Do the problems we have just been talking about cause difficulties for your child in any of the following areas:With friends\n",
      "social cognition\n",
      "In the past two weeks, how often has your child talked when he or she wasn't supposed to, or had people complain that he or she talked too much?\n",
      "disruptive behavior\n",
      "In the past two weeks, how often has your child interrupted someone when they were talking?\n",
      "impulse control\n",
      "In the past two weeks, how often has your child had trouble waiting for his or her turn or waiting for other things?\n",
      "delay aversion (impatience)\n",
      "In the past two weeks, how often has your child blurt out answers in school without being called on, or blurt out answers when someone wasn't talking to him or her?\n",
      "impulse control\n",
      "In the past two weeks, how often has your child had trouble being quiet when he or she was supposed to be quiet?\n",
      "impulse control\n",
      "In the past two weeks, how often has your child been on the go, moving from one place to another?\n",
      "hyperactivity\n",
      "In the past two weeks, how often has your child run or climbed on things when he or she was not supposed to?\n",
      "impulse control\n",
      "In the past two weeks, how often has your child felt fidgety, like it was hard to sit without bouncing his or her leg or getting up and moving around?\n",
      "arousal moderation\n",
      "In the past two weeks, how often has your child forgotten something somewhere or forgotten to do something he or she was supposed to do?\n",
      "executive control\n",
      "In the past two weeks, how often has your child lost his or her homework, pencils, jacket, cell phone, or anything else big or small?\n",
      "planning and organisation\n",
      "Do the problems we have just been talking about cause difficulties for your child in any of the following areas:At school\n",
      "executive control\n",
      "In the past two weeks, how often has your child had trouble organizing his or her homework or other tasks?\n",
      "planning and organisation\n",
      "In the past two weeks, how often has your child not followed instructions that a parent or teacher said to him or her, or instructions on an assignment or test?\n",
      "executive control\n",
      "In the past 2 weeks, how often has your child forgotten or tuned out what you or their teachers said to him or her?\n",
      "distractability\n",
      "You said in the past your child had trouble with attention and staying seated back in September 2008 and also in the past two weeks. When answering these next set of question, I'll be asking you about both the past two weeks and the time in the past when he or she had these problems. In the past two weeks, how many days has your child made a careless mistake?\n",
      "distractability\n",
      "In the past two weeks, how many days has your child made a careless mistake?\n",
      "distractability\n",
      "You said that in the past your child had a lot of trouble keeping focused and paying attention; was often easily distracted; often had trouble staying seated; was impulsive and often acted before he or she thought. When was that?\n",
      "executive control\n",
      "You said that in the past your child was often easily distracted; often had trouble staying seated; was impulsive and often acted before he or she thought. When was that?\n",
      "impulse control\n",
      "You said that in the past your child had a lot of trouble keeping focused and paying attention; often had trouble staying seated; was impulsive and often acted before he or she thought. When was that?\n",
      "executive control\n",
      "You said that in the past your child had a lot of trouble keeping focused and paying attention; was often easily distracted; was impulsive and often acted before he or she thought. When was that?\n",
      "executive control\n",
      "You said that in the past your child had a lot of trouble keeping focused and paying attention; was often easily distracted; and often had trouble staying seated. When was that?\n",
      "distractability\n",
      "You said that in the past your child often had trouble staying seated; was impulsive and often acted before he or she thought. When was that?\n",
      "impulse control\n"
     ]
    }
   ],
   "source": [
    "examples = [\"In the past two weeks, how often has your child blurt out answers in school without being called on, or blurt out answers when someone wasn't talking to him or her?\", \n",
    "            'You said that in the past your child had a lot of trouble keeping focused and paying attention; was often easily distracted; and often had trouble staying seated. When was that?']\n",
    "symptoms_examples = ['impulse control', \n",
    "                     'motor inhibition']\n",
    "#documents = [\"In the past two weeks, I interrupted someone while talking\"]\n",
    "responses = {}\n",
    "for i, document in enumerate(questions):\n",
    "    prompt_i = prompt.format(symptoms = symptoms_str, example_1 = examples[0], example_2 = examples[1], symptom_1 = symptoms_examples[0], symptom_2 = symptoms_examples[1], document = document)\n",
    "    response = api_request(prompt_i, model=gpt4_turbo)\n",
    "    print(document)\n",
    "    print(response)\n",
    "    responses[i] = response"
   ]
  },
  {
   "cell_type": "code",
   "execution_count": null,
   "id": "0f88391d-d118-4310-916d-165c35ef4917",
   "metadata": {},
   "outputs": [
    {
     "data": {
      "text/plain": [
       "['Symptom: impulse control',\n",
       " 'Explanation: I interrupted someone while talking']"
      ]
     },
     "execution_count": 24,
     "metadata": {},
     "output_type": "execute_result"
    }
   ],
   "source": [
    "response.split('\\n')"
   ]
  },
  {
   "cell_type": "code",
   "execution_count": null,
   "id": "f4777f0e-9cd1-4913-9577-ed316416f842",
   "metadata": {},
   "outputs": [],
   "source": [
    "def generate_prompt(\n",
    "    construct,\n",
    "    prompt_name=None,\n",
    "    prompt=\"default\",\n",
    "    domain=None,\n",
    "    definition=None,\n",
    "    examples=None,\n",
    "    output_format=\"default\",\n",
    "    remove_parentheses_definition=True,\n",
    "):\n",
    "    if output_format == \"default\":\n",
    "        output_format = (\n",
    "            \"Each token should be separated by a semicolon. Do not return duplicate tokens. Do not provide any\"\n",
    "            \" explanation or additional text beyond the tokens.\"\n",
    "        )\n",
    "    # removed: Order them by how similar they are to {construct}.\n",
    "    elif output_format == \"json\":\n",
    "        output_format = (\n",
    "            \"Provide tokens in JSON output. Do not return duplicate tokens. Do not provide any explanation or\"\n",
    "            \" additional text beyond the tokens.\"\n",
    "        )\n",
    "\n",
    "    # Prompt\n",
    "    if not isinstance(prompt_name, str):\n",
    "        # if prompt_name == None:\n",
    "        prompt_name = construct.replace(\"_\", \" \").lower()\n",
    "\n",
    "    if prompt == \"default\":\n",
    "        prompt = \"Provide many single words and some short phrases related to\"\n",
    "        if domain:\n",
    "            domain = f\"(in the {domain} domain). \"\n",
    "            prompt = f\"\"\"{prompt} {prompt_name} {domain}{output_format}\"\"\"\n",
    "        else:\n",
    "            prompt = f\"\"\"{prompt} {prompt_name}. {output_format}\"\"\"\n",
    "        if definition:\n",
    "            if remove_parentheses_definition:\n",
    "                definition = re.sub(r\"\\(.*?\\)\", \"\", definition)  # remove parentheses which is usually citation.\n",
    "            prompt += f\"\\nHere is a definition of {prompt_name}: {definition.lower().strip()}\"\n",
    "\n",
    "        if isinstance(examples, list):\n",
    "            examples = \"; \".join(examples)\n",
    "        if isinstance(examples, str):\n",
    "            # examples = '; '.join(examples)\n",
    "            prompt += f\"\\nHere are some examples (include these in the list): {examples}.\"\n",
    "\n",
    "    return prompt\n",
    "\n"
   ]
  }
 ],
 "metadata": {
  "kernelspec": {
   "display_name": "Python 3 (ipykernel)",
   "language": "python",
   "name": "python3"
  },
  "language_info": {
   "codemirror_mode": {
    "name": "ipython",
    "version": 3
   },
   "file_extension": ".py",
   "mimetype": "text/x-python",
   "name": "python",
   "nbconvert_exporter": "python",
   "pygments_lexer": "ipython3",
   "version": "3.10.0"
  }
 },
 "nbformat": 4,
 "nbformat_minor": 5
}
