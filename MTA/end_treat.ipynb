{
 "cells": [
  {
   "cell_type": "code",
   "execution_count": 1,
   "metadata": {},
   "outputs": [],
   "source": [
    "from pathlib import Path \n",
    "import numpy as np \n",
    "import matplotlib.pyplot as plt \n",
    "import pandas as pd\n",
    "from collections import OrderedDict\n",
    "import sys\n",
    "import os\n",
    "import seaborn as sns"
   ]
  },
  {
   "cell_type": "code",
   "execution_count": 2,
   "metadata": {},
   "outputs": [],
   "source": [
    "data_root = '/Volumes/Samsung_T5/MIT/mta'\n",
    "#os.listdir(data_root)"
   ]
  },
  {
   "cell_type": "code",
   "execution_count": 18,
   "metadata": {},
   "outputs": [
    {
     "data": {
      "text/plain": [
       "Index(['subjectkey', 'src_subject_id', 'interview_age', 'interview_date',\n",
       "       'gender', 'site', 'sjtyp', 'trtname', 'cmed', 'cteach', 'cdocs',\n",
       "       'ctotal'],\n",
       "      dtype='object')"
      ]
     },
     "execution_count": 18,
     "metadata": {},
     "output_type": "execute_result"
    }
   ],
   "source": [
    "end_treat_file = 'debrief1401.txt'\n",
    "cost_file = 'Collection_Documents/Derived Variables/B Excel Database/COST.xlsx' # find subject group assignment here \n",
    "defs_end_treat_file = 'dict/debrief1401_definitions.csv'\n",
    "\n",
    "end_treat = pd.read_csv(Path(data_root, end_treat_file), delimiter='\\t')\n",
    "cost = pd.read_excel(Path(data_root, cost_file))\n",
    "end_treat_defs = pd.read_csv(Path(data_root, defs_end_treat_file), usecols= ['ElementName', 'ElementDescription'])\n",
    "\n",
    "# colums are uppercase in original cost file \n",
    "cost_cols = [col.lower() for col in cost.columns]\n",
    "cost.columns = cost_cols\n",
    "cost.keys()"
   ]
  },
  {
   "cell_type": "code",
   "execution_count": 5,
   "metadata": {},
   "outputs": [],
   "source": [
    "end_treat = end_treat.dropna(subset=['interview_date'])"
   ]
  },
  {
   "cell_type": "code",
   "execution_count": 22,
   "metadata": {},
   "outputs": [
    {
     "data": {
      "text/html": [
       "<div>\n",
       "<style scoped>\n",
       "    .dataframe tbody tr th:only-of-type {\n",
       "        vertical-align: middle;\n",
       "    }\n",
       "\n",
       "    .dataframe tbody tr th {\n",
       "        vertical-align: top;\n",
       "    }\n",
       "\n",
       "    .dataframe thead th {\n",
       "        text-align: right;\n",
       "    }\n",
       "</style>\n",
       "<table border=\"1\" class=\"dataframe\">\n",
       "  <thead>\n",
       "    <tr style=\"text-align: right;\">\n",
       "      <th></th>\n",
       "      <th>ElementName</th>\n",
       "      <th>ElementDescription</th>\n",
       "    </tr>\n",
       "  </thead>\n",
       "  <tbody>\n",
       "    <tr>\n",
       "      <th>0</th>\n",
       "      <td>subjectkey</td>\n",
       "      <td>The NDAR Global Unique Identifier (GUID) for r...</td>\n",
       "    </tr>\n",
       "    <tr>\n",
       "      <th>1</th>\n",
       "      <td>src_subject_id</td>\n",
       "      <td>Subject ID how it's defined in lab/project</td>\n",
       "    </tr>\n",
       "    <tr>\n",
       "      <th>2</th>\n",
       "      <td>interview_date</td>\n",
       "      <td>Date on which the interview/genetic test/sampl...</td>\n",
       "    </tr>\n",
       "    <tr>\n",
       "      <th>3</th>\n",
       "      <td>interview_age</td>\n",
       "      <td>Age in months at the time of the interview/tes...</td>\n",
       "    </tr>\n",
       "    <tr>\n",
       "      <th>4</th>\n",
       "      <td>sex</td>\n",
       "      <td>Sex of subject at birth</td>\n",
       "    </tr>\n",
       "  </tbody>\n",
       "</table>\n",
       "</div>"
      ],
      "text/plain": [
       "      ElementName                                 ElementDescription\n",
       "0      subjectkey  The NDAR Global Unique Identifier (GUID) for r...\n",
       "1  src_subject_id         Subject ID how it's defined in lab/project\n",
       "2  interview_date  Date on which the interview/genetic test/sampl...\n",
       "3   interview_age  Age in months at the time of the interview/tes...\n",
       "4             sex                            Sex of subject at birth"
      ]
     },
     "execution_count": 22,
     "metadata": {},
     "output_type": "execute_result"
    }
   ],
   "source": [
    "end_treat_defs.head()\n"
   ]
  },
  {
   "cell_type": "code",
   "execution_count": 30,
   "metadata": {},
   "outputs": [
    {
     "data": {
      "text/plain": [
       "0      Date on which the interview/genetic test/sampl...\n",
       "1                                             10/16/1998\n",
       "2                                             09/13/1996\n",
       "3                                             06/10/1996\n",
       "4                                             07/17/1996\n",
       "                             ...                        \n",
       "429                                                  NaN\n",
       "430                                           05/28/1996\n",
       "431                                           08/06/1996\n",
       "432                                                  NaN\n",
       "433                                                  NaN\n",
       "Name: interview_date, Length: 434, dtype: object"
      ]
     },
     "execution_count": 30,
     "metadata": {},
     "output_type": "execute_result"
    }
   ],
   "source": [
    "end_treat['interview_date']"
   ]
  },
  {
   "cell_type": "code",
   "execution_count": 35,
   "metadata": {},
   "outputs": [
    {
     "name": "stdout",
     "output_type": "stream",
     "text": [
      "db1         213\n",
      "db2          11\n",
      "db3           2\n",
      "db4           8\n",
      "db5          30\n",
      "db6           7\n",
      "db7          29\n",
      "db8         129\n",
      "db9           4\n",
      "db10         34\n",
      "db11        145\n",
      "db12         15\n",
      "db13        108\n",
      "db14         44\n",
      "db15        135\n",
      "db16         44\n",
      "db17          3\n",
      "db18         17\n",
      "db19          5\n",
      "db20          2\n",
      "db21        273\n",
      "db22         13\n",
      "db23         64\n",
      "dbnumrec    400\n",
      "dtype: int64\n"
     ]
    }
   ],
   "source": [
    "cols_recc = [col for col in end_treat.columns if col.startswith('db')]\n",
    "recc_counts = end_treat[cols_recc].notna().sum()\n",
    "\n",
    "# Display the counts\n",
    "print(recc_counts)"
   ]
  },
  {
   "cell_type": "code",
   "execution_count": 40,
   "metadata": {},
   "outputs": [
    {
     "name": "stderr",
     "output_type": "stream",
     "text": [
      "/var/folders/hf/frc4nxb532j7gqr3_36l6kmh0000gn/T/ipykernel_81559/1684488532.py:6: FutureWarning: \n",
      "\n",
      "Passing `palette` without assigning `hue` is deprecated and will be removed in v0.14.0. Assign the `x` variable to `hue` and set `legend=False` for the same effect.\n",
      "\n",
      "  sns.barplot(data=service_counts_df, x='recomendation', y='count', palette='viridis')\n"
     ]
    },
    {
     "data": {
      "image/png": "[encoded data removed]",
      "text/plain": [
       "<Figure size 1000x600 with 1 Axes>"
      ]
     },
     "metadata": {},
     "output_type": "display_data"
    }
   ],
   "source": [
    "service_counts_df = recc_counts.reset_index()\n",
    "service_counts_df.columns = ['recomendation', 'count']\n",
    "\n",
    "# Create a bar plot\n",
    "plt.figure(figsize=(10, 6))\n",
    "sns.barplot(data=service_counts_df, x='recomendation', y='count', palette='viridis')\n",
    "plt.title('Count of Recommended Services')\n",
    "plt.xlabel('Service')\n",
    "plt.ylabel('Number of Recommendations')\n",
    "plt.show()"
   ]
  },
  {
   "cell_type": "code",
   "execution_count": 42,
   "metadata": {},
   "outputs": [
    {
     "data": {
      "text/plain": [
       "array(['Date on which the interview/genetic test/sampling/imaging/biospecimen was completed. MM/DD/YYYY',\n",
       "       '10/16/1998', '09/13/1996', '06/10/1996', '07/17/1996',\n",
       "       '08/31/1996', '10/14/1996', '07/11/1996', '09/13/1998',\n",
       "       '07/25/1996', '08/28/1996', '07/05/1996', '08/09/1996',\n",
       "       '04/24/1996', '07/31/1996', '03/31/1997', '10/05/1996', nan,\n",
       "       '08/13/1996', '07/26/1996', '06/10/1997', '08/26/1997',\n",
       "       '05/13/1999', '07/13/1999', '09/16/1997', '06/08/1999',\n",
       "       '08/24/1996', '08/22/1997', '08/16/1998', '06/03/1996',\n",
       "       '09/10/1997', '01/20/1999', '06/30/1996', '09/25/1997',\n",
       "       '08/05/1996', '08/20/1996', '08/31/1995', '04/08/1999',\n",
       "       '08/21/1996', '01/17/1999', '10/08/1997', '08/21/1998',\n",
       "       '01/19/1997', '09/17/1998', '08/17/1996', '08/23/1999',\n",
       "       '07/08/1996', '09/11/1996', '06/24/1997', '09/03/1996',\n",
       "       '09/12/1996', '08/30/1996', '07/31/1998', '07/10/1999',\n",
       "       '09/04/1996', '06/22/1996', '07/04/1997', '06/02/1997',\n",
       "       '07/07/1997', '08/19/1996', '07/12/1997', '07/03/1999',\n",
       "       '05/23/1996', '08/05/1995', '08/08/1999', '07/30/1997',\n",
       "       '07/26/1995', '03/18/1999', '09/23/1996', '08/11/1997',\n",
       "       '08/06/1996', '06/23/1999', '11/09/1997', '10/09/1997',\n",
       "       '07/20/1996', '09/16/1996', '09/11/1997', '07/02/1996',\n",
       "       '07/19/1997', '09/04/1998', '07/07/1996', '08/02/1995',\n",
       "       '09/07/1996', '06/26/1997', '10/20/1996', '06/27/1996',\n",
       "       '05/07/1999', '10/11/1998', '08/01/1997', '07/19/1998',\n",
       "       '09/08/1995', '11/14/1997', '07/08/1997', '09/06/1996',\n",
       "       '07/16/1997', '07/08/1995', '08/26/1996', '01/05/1999',\n",
       "       '05/07/1996', '08/27/1997', '08/02/1996', '08/16/1996',\n",
       "       '06/22/1997', '07/18/1999', '05/26/1996', '09/30/1996',\n",
       "       '06/21/1997', '10/12/1999', '06/25/1996', '04/20/1999',\n",
       "       '08/18/1996', '08/31/1997', '07/12/1999', '09/05/1996',\n",
       "       '08/28/1998', '04/16/1999', '06/07/1997', '06/13/1999',\n",
       "       '09/18/1996', '08/24/1999', '06/21/1996', '07/10/1997',\n",
       "       '06/27/1997', '09/29/1998', '10/26/1995', '08/23/1997',\n",
       "       '09/08/1997', '06/03/1997', '08/31/1998', '08/23/1996',\n",
       "       '06/17/1997', '07/01/1996', '07/17/1999', '04/18/1997',\n",
       "       '06/04/1997', '09/05/1997', '07/30/1999', '08/01/1999',\n",
       "       '09/18/1995', '03/24/1996', '08/04/1997', '08/11/1996',\n",
       "       '06/29/1996', '04/25/1996', '07/09/1999', '09/28/1997',\n",
       "       '08/06/1997', '10/25/1999', '06/27/1999', '06/16/1996',\n",
       "       '09/05/1998', '08/13/1997', '06/18/1996', '07/01/1997',\n",
       "       '06/26/1995', '09/01/1998', '07/21/1997', '08/29/1996',\n",
       "       '07/04/1995', '08/05/1997', '07/30/1996', '08/06/1995',\n",
       "       '03/20/1999', '10/21/1996', '08/14/1996', '10/30/1996',\n",
       "       '07/28/1996', '07/29/1997', '08/18/1999', '09/27/1997',\n",
       "       '10/30/1997', '09/29/1996', '08/21/1997', '09/09/1996',\n",
       "       '04/07/1996', '04/29/1999', '08/02/1997', '11/16/1997',\n",
       "       '06/24/1996', '07/26/1999', '06/08/1997', '06/11/1997',\n",
       "       '05/19/1999', '04/30/1997', '08/19/1997', '10/10/1997',\n",
       "       '06/07/1999', '07/06/1995', '04/25/1997', '09/21/1995',\n",
       "       '05/24/1997', '06/21/1999', '08/25/1997', '07/04/1999',\n",
       "       '07/06/1996', '06/04/1999', '06/11/1996', '08/26/1995',\n",
       "       '07/28/1995', '08/10/1997', '07/27/1996', '05/02/1996',\n",
       "       '06/18/1997', '06/29/1995', '10/22/1999', '07/28/1997',\n",
       "       '05/31/1995', '04/08/1996', '05/22/1996', '06/09/1997',\n",
       "       '08/07/1999', '07/14/1999', '06/15/1997', '05/25/1996',\n",
       "       '07/21/1999', '06/16/1997', '08/30/1997', '12/11/1997',\n",
       "       '06/02/1996', '06/13/1996', '08/19/1999', '05/13/1997',\n",
       "       '09/16/1998', '06/15/1996', '05/11/1996', '08/28/1997',\n",
       "       '07/02/1999', '07/05/1999', '11/27/1997', '08/12/1997',\n",
       "       '10/28/1999', '07/20/1999', '09/25/1999', '05/29/1997',\n",
       "       '10/26/1999', '07/15/1999', '07/15/1997', '05/28/1996'],\n",
       "      dtype=object)"
      ]
     },
     "execution_count": 42,
     "metadata": {},
     "output_type": "execute_result"
    }
   ],
   "source": [
    "end_treat['interview_date'].unique()"
   ]
  },
  {
   "cell_type": "code",
   "execution_count": null,
   "metadata": {},
   "outputs": [],
   "source": []
  }
 ],
 "metadata": {
  "kernelspec": {
   "display_name": "abcd",
   "language": "python",
   "name": "python3"
  },
  "language_info": {
   "codemirror_mode": {
    "name": "ipython",
    "version": 3
   },
   "file_extension": ".py",
   "mimetype": "text/x-python",
   "name": "python",
   "nbconvert_exporter": "python",
   "pygments_lexer": "ipython3",
   "version": "3.10.0"
  }
 },
 "nbformat": 4,
 "nbformat_minor": 2
}
