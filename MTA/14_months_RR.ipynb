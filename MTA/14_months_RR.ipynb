{
 "cells": [
  {
   "cell_type": "code",
   "execution_count": 271,
   "metadata": {},
   "outputs": [
    {
     "name": "stdout",
     "output_type": "stream",
     "text": [
      "The autoreload extension is already loaded. To reload it, use:\n",
      "  %reload_ext autoreload\n"
     ]
    }
   ],
   "source": [
    "from pathlib import Path \n",
    "import numpy as np \n",
    "import matplotlib.pyplot as plt \n",
    "import pandas as pd\n",
    "from collections import OrderedDict\n",
    "import sys\n",
    "import os\n",
    "import seaborn as sns\n",
    "import researchpy as rp\n",
    "import statsmodels.formula.api as smf\n",
    "import scipy.stats as stats\n",
    "from sklearn.preprocessing import StandardScaler\n",
    "\n",
    "#sys.path.append('/Users/alina/Desktop/MIT/code/ADHD/MTA/helper')\n",
    "from helper import rr, prep, var_dict\n",
    "\n",
    "%load_ext autoreload\n",
    "%autoreload 2"
   ]
  },
  {
   "cell_type": "code",
   "execution_count": 272,
   "metadata": {},
   "outputs": [],
   "source": [
    "#%reload_ext autoreload"
   ]
  },
  {
   "cell_type": "code",
   "execution_count": 273,
   "metadata": {},
   "outputs": [],
   "source": [
    "data_root = '/Volumes/Samsung_T5/MIT/mta'\n",
    "derived_data = '/Volumes/Samsung_T5/MIT/mta/output/derived_data'\n",
    "#os.listdir(data_root)\n"
   ]
  },
  {
   "cell_type": "code",
   "execution_count": 274,
   "metadata": {},
   "outputs": [],
   "source": [
    "baseline_var = ['src_subject_id', 'interview_date', 'interview_age', 'sex', 'site', 'days_baseline']\n",
    "dtypes_baseline = { 'src_subject_id' : 'str',\n",
    "                    'interview_date': 'str' , \n",
    "                    'interview_age' : 'int64' ,\n",
    "                    'sex' : 'str', \n",
    "                    'site' : 'int64' ,\n",
    "                    'days_baseline':  'int64',\n",
    "                    'version_form': 'str'}\n",
    "version_form = ['version_form']\n",
    "\n",
    "qsts = ['snap', 'ssrs',  'pc', 'wechsler'] #masc to many missing data "
   ]
  },
  {
   "cell_type": "code",
   "execution_count": 327,
   "metadata": {},
   "outputs": [],
   "source": [
    "#outcome variablles \n",
    "snap_vars = ['snainatx', 'snahypax', 'snaoddx'] #inattention_mean, hyperactie mean\n",
    "ssrs_vars = ['sspintx', 'ssptossx']# social skills mean, internalizing mean \n",
    "#masc_vars = ['masc_masctotalt']\n",
    "pc_vars = ['pcrcpax', 'pcrcprx'] # power assertion, personal closeness\n",
    "wechsler_vars = ['w1readb','w2math','w3spell' ]\n",
    "outcomes_dict  = {'snap' : snap_vars, 'ssrs' : ssrs_vars,  'pc': pc_vars, 'wechsler': wechsler_vars}\n"
   ]
  },
  {
   "cell_type": "code",
   "execution_count": 276,
   "metadata": {},
   "outputs": [],
   "source": [
    "interaction_predictors = ['days_baseline', 'site', 'trtname'] #time, site, treatment group\n",
    "\n",
    "# mediator variables\n",
    "comorb_mediators  = ['cdorodd' , 'pso', 'psoi', 'pag', 'pagi', 'pga', 'pgai' ,'psa'] #ODD/CD or anx excluding specific phobia \n",
    "services_mediators =  ['demo61'] #reciept of public assistance \n",
    "prev_med_mediators = ['hi_24'] #medication intake prior to study \n",
    "\n",
    "#moderator variables \n",
    "accept_moderator = ['d2dresp'] # initail acceptance of treatment "
   ]
  },
  {
   "cell_type": "code",
   "execution_count": 328,
   "metadata": {},
   "outputs": [
    {
     "name": "stderr",
     "output_type": "stream",
     "text": [
      "/var/folders/hf/frc4nxb532j7gqr3_36l6kmh0000gn/T/ipykernel_39023/1258586597.py:10: UserWarning: Could not infer format, so each element will be parsed individually, falling back to `dateutil`. To ensure parsing is consistent and as-expected, please specify a format.\n",
      "  snap_ = pd.read_csv(Path(data_root, snap_file), delimiter=\"\\t\", usecols=np.concatenate((baseline_var, snap_vars, version_form)), skiprows=[1] , parse_dates=['days_baseline']).dropna(subset='days_baseline').drop_duplicates()\n",
      "/var/folders/hf/frc4nxb532j7gqr3_36l6kmh0000gn/T/ipykernel_39023/1258586597.py:11: UserWarning: Could not infer format, so each element will be parsed individually, falling back to `dateutil`. To ensure parsing is consistent and as-expected, please specify a format.\n",
      "  ssrs_ = pd.read_csv(Path(data_root, ssrs_file), delimiter=\"\\t\", usecols=np.concatenate((baseline_var, ssrs_vars, version_form)), skiprows=[1] , parse_dates=['days_baseline']).dropna(subset='days_baseline').drop_duplicates()\n",
      "/var/folders/hf/frc4nxb532j7gqr3_36l6kmh0000gn/T/ipykernel_39023/1258586597.py:13: UserWarning: Could not infer format, so each element will be parsed individually, falling back to `dateutil`. To ensure parsing is consistent and as-expected, please specify a format.\n",
      "  pc_ = pd.read_csv(Path(data_root, parent_child_file), delimiter=\"\\t\", usecols=np.concatenate((baseline_var, pc_vars, version_form)), skiprows=[1] , parse_dates=['days_baseline']).dropna(subset='days_baseline').drop_duplicates()\n",
      "/var/folders/hf/frc4nxb532j7gqr3_36l6kmh0000gn/T/ipykernel_39023/1258586597.py:14: UserWarning: Could not infer format, so each element will be parsed individually, falling back to `dateutil`. To ensure parsing is consistent and as-expected, please specify a format.\n",
      "  wechsler_ = pd.read_csv(Path(data_root, wechsler_file), delimiter=\"\\t\", usecols=np.concatenate((baseline_var, wechsler_vars)), skiprows=[1] , parse_dates=['days_baseline']).dropna(subset='days_baseline').drop_duplicates()\n"
     ]
    }
   ],
   "source": [
    "# load files, drop rows if missing date, drop duplicates \n",
    "\n",
    "snap_file = 'snap01.txt'\n",
    "ssrs_file = 'ssrs01.txt'\n",
    "#masc_file = 'masc_p01.txt'\n",
    "parent_child_file = 'pcrc01.txt'\n",
    "wechsler_file = 'wiat_iiip201.txt'\n",
    "treat_group = 'treatment_groups.csv'\n",
    "\n",
    "snap_ = pd.read_csv(Path(data_root, snap_file), delimiter=\"\\t\", usecols=np.concatenate((baseline_var, snap_vars, version_form)), skiprows=[1] , parse_dates=['days_baseline']).dropna(subset='days_baseline').drop_duplicates()\n",
    "ssrs_ = pd.read_csv(Path(data_root, ssrs_file), delimiter=\"\\t\", usecols=np.concatenate((baseline_var, ssrs_vars, version_form)), skiprows=[1] , parse_dates=['days_baseline']).dropna(subset='days_baseline').drop_duplicates()\n",
    "#masc_ = pd.read_csv(Path(data_root, masc_file), delimiter=\"\\t\", usecols=np.concatenate((baseline_var, masc_vars, version_form)), skiprows=[1] , parse_dates=['days_baseline']).dropna(subset='days_baseline').drop_duplicates()\n",
    "pc_ = pd.read_csv(Path(data_root, parent_child_file), delimiter=\"\\t\", usecols=np.concatenate((baseline_var, pc_vars, version_form)), skiprows=[1] , parse_dates=['days_baseline']).dropna(subset='days_baseline').drop_duplicates()\n",
    "wechsler_ = pd.read_csv(Path(data_root, wechsler_file), delimiter=\"\\t\", usecols=np.concatenate((baseline_var, wechsler_vars)), skiprows=[1] , parse_dates=['days_baseline']).dropna(subset='days_baseline').drop_duplicates()\n",
    "treat_group = pd.read_csv(Path(derived_data, treat_group))\n",
    "orig_rr_14 = pd.read_csv(Path(derived_data, 'original_rr_results_14.csv'))"
   ]
  },
  {
   "cell_type": "code",
   "execution_count": null,
   "metadata": {},
   "outputs": [],
   "source": []
  },
  {
   "cell_type": "code",
   "execution_count": null,
   "metadata": {},
   "outputs": [],
   "source": []
  },
  {
   "cell_type": "code",
   "execution_count": 329,
   "metadata": {},
   "outputs": [
    {
     "name": "stdout",
     "output_type": "stream",
     "text": [
      "Success\n",
      "Success\n",
      "Success\n",
      "Success\n",
      "(14540, 10) (10735, 10) (8627, 10) (4571, 10)\n"
     ]
    }
   ],
   "source": [
    "# merge with treatment group info convert colum data to appropriate dtypes \n",
    "\n",
    "snap = prep.set_baseline_dtypes(pd.merge(snap_, treat_group, how='inner', on = 'src_subject_id')).dropna()#.table with relevant snap vales, rater, and treatment group \n",
    "ssrs = prep.set_baseline_dtypes(pd.merge(ssrs_, treat_group, how='inner', on = 'src_subject_id').dropna())#.dropna() #table with relevant snap vales, rater, and treatment group \n",
    "#masc = prep.set_baseline_dtypes(pd.merge(masc_, treat_group, how='inner', on = 'src_subject_id')).dropna()#.dropna() #table with relevant snap vales, rater, and treatment group \n",
    "pc = prep.set_baseline_dtypes(pd.merge(pc_, treat_group, how='inner', on = 'src_subject_id').dropna())#.dropna() #table with relevant snap vales, rater, and treatment group \n",
    "wechsler = prep.set_baseline_dtypes(pd.merge(wechsler_, treat_group, how='inner', on = 'src_subject_id')).dropna()#.dropna() #table with relevant snap vales, rater, and treatment group \n",
    "\n",
    "print(snap_.shape, ssrs.shape, pc.shape, wechsler.shape)"
   ]
  },
  {
   "cell_type": "code",
   "execution_count": 279,
   "metadata": {},
   "outputs": [],
   "source": [
    "ssrs.loc[ssrs['version_form'].str.startswith('Teacher'), 'version_form'] = 'Teacher'\n",
    "ssrs.loc[ssrs['version_form'].str.startswith('Parent'), 'version_form'] = 'Parent'"
   ]
  },
  {
   "cell_type": "code",
   "execution_count": 280,
   "metadata": {},
   "outputs": [
    {
     "name": "stdout",
     "output_type": "stream",
     "text": [
      "Success\n",
      "Success\n",
      "Success\n",
      "Success\n"
     ]
    },
    {
     "name": "stderr",
     "output_type": "stream",
     "text": [
      "/var/folders/hf/frc4nxb532j7gqr3_36l6kmh0000gn/T/ipykernel_39023/3879433410.py:6: UserWarning: Could not infer format, so each element will be parsed individually, falling back to `dateutil`. To ensure parsing is consistent and as-expected, please specify a format.\n",
      "  comorb = prep.set_baseline_dtypes(pd.read_csv(Path(data_root, comorb_file), delimiter= '\\t', usecols = np.concatenate((baseline_var, comorb_mediators)), skiprows=[1] , parse_dates=['days_baseline']).dropna(subset='days_baseline').drop_duplicates())\n",
      "/var/folders/hf/frc4nxb532j7gqr3_36l6kmh0000gn/T/ipykernel_39023/3879433410.py:7: UserWarning: Could not infer format, so each element will be parsed individually, falling back to `dateutil`. To ensure parsing is consistent and as-expected, please specify a format.\n",
      "  demog = prep.set_baseline_dtypes(pd.read_csv(Path(data_root, demog_file), delimiter= '\\t', usecols  =np.concatenate((baseline_var, services_mediators)), skiprows=[1] , parse_dates=['days_baseline']).dropna(subset='days_baseline').drop_duplicates())\n",
      "/var/folders/hf/frc4nxb532j7gqr3_36l6kmh0000gn/T/ipykernel_39023/3879433410.py:8: UserWarning: Could not infer format, so each element will be parsed individually, falling back to `dateutil`. To ensure parsing is consistent and as-expected, please specify a format.\n",
      "  health_qst = prep.set_baseline_dtypes(pd.read_csv(Path(data_root, health_qst_file), delimiter= '\\t', usecols=np.concatenate((baseline_var, prev_med_mediators)), skiprows=[1] , parse_dates=['days_baseline']).dropna(subset='days_baseline').drop_duplicates())\n"
     ]
    }
   ],
   "source": [
    "comorb_file = 'diagpsx01.txt' # contains odd/cd and anx comorbid diagnoses \n",
    "demog_file = 'demgr01.txt' # contains recieot of public assistance \n",
    "health_qst_file  = 'health01.txt' # contains previous medication \n",
    "init_sat_file = 'debrief01.txt' # contains rating of initial acceptance of treatment goup\n",
    "\n",
    "comorb = prep.set_baseline_dtypes(pd.read_csv(Path(data_root, comorb_file), delimiter= '\\t', usecols = np.concatenate((baseline_var, comorb_mediators)), skiprows=[1] , parse_dates=['days_baseline']).dropna(subset='days_baseline').drop_duplicates())\n",
    "demog = prep.set_baseline_dtypes(pd.read_csv(Path(data_root, demog_file), delimiter= '\\t', usecols  =np.concatenate((baseline_var, services_mediators)), skiprows=[1] , parse_dates=['days_baseline']).dropna(subset='days_baseline').drop_duplicates())\n",
    "health_qst = prep.set_baseline_dtypes(pd.read_csv(Path(data_root, health_qst_file), delimiter= '\\t', usecols=np.concatenate((baseline_var, prev_med_mediators)), skiprows=[1] , parse_dates=['days_baseline']).dropna(subset='days_baseline').drop_duplicates())\n",
    "init_sat_file = prep.set_baseline_dtypes(pd.read_csv(Path(data_root, init_sat_file), delimiter= '\\t', usecols=np.concatenate((baseline_var,  accept_moderator)), skiprows=[1] , parse_dates=['days_baseline']).dropna(subset='days_baseline').drop_duplicates())\n",
    "\n"
   ]
  },
  {
   "cell_type": "code",
   "execution_count": 281,
   "metadata": {},
   "outputs": [],
   "source": [
    "snap_split_dict = prep.split_data_from_timepoints(snap)\n",
    "ssrs_split_dict = prep.split_data_from_timepoints(ssrs)\n",
    "pc_split_dict = prep.split_data_from_timepoints(pc)\n",
    "wechsler_split_dict = prep.split_data_from_timepoints(wechsler)\n",
    "data = {'snap' : snap_split_dict, 'ssrs': ssrs_split_dict, 'pc': pc_split_dict, 'wechsler': wechsler_split_dict}"
   ]
  },
  {
   "cell_type": "code",
   "execution_count": 282,
   "metadata": {},
   "outputs": [
    {
     "data": {
      "text/plain": [
       "days_baseline\n",
       "0      2880\n",
       "419      36\n",
       "196      31\n",
       "392      30\n",
       "448      30\n",
       "       ... \n",
       "49        1\n",
       "63        1\n",
       "308       1\n",
       "307       1\n",
       "327       1\n",
       "Name: count, Length: 437, dtype: int64"
      ]
     },
     "execution_count": 282,
     "metadata": {},
     "output_type": "execute_result"
    }
   ],
   "source": [
    "pc_split_dict['14']['days_baseline'].value_counts()"
   ]
  },
  {
   "cell_type": "code",
   "execution_count": null,
   "metadata": {},
   "outputs": [],
   "source": []
  },
  {
   "cell_type": "code",
   "execution_count": 283,
   "metadata": {},
   "outputs": [
    {
     "data": {
      "text/plain": [
       "0       True\n",
       "1       True\n",
       "2       True\n",
       "3       True\n",
       "4       True\n",
       "        ... \n",
       "8665    True\n",
       "8666    True\n",
       "8667    True\n",
       "8668    True\n",
       "8669    True\n",
       "Name: days_baseline, Length: 6985, dtype: bool"
      ]
     },
     "execution_count": 283,
     "metadata": {},
     "output_type": "execute_result"
    }
   ],
   "source": [
    "data['pc']['14']['days_baseline'] == pc_split_dict['14']['days_baseline']"
   ]
  },
  {
   "cell_type": "code",
   "execution_count": 284,
   "metadata": {},
   "outputs": [
    {
     "data": {
      "text/plain": [
       "days_baseline\n",
       "0      2880\n",
       "419      36\n",
       "196      31\n",
       "392      30\n",
       "448      30\n",
       "       ... \n",
       "49        1\n",
       "63        1\n",
       "308       1\n",
       "307       1\n",
       "327       1\n",
       "Name: count, Length: 437, dtype: int64"
      ]
     },
     "execution_count": 284,
     "metadata": {},
     "output_type": "execute_result"
    }
   ],
   "source": [
    "data['pc']['14']['days_baseline'].value_counts()"
   ]
  },
  {
   "cell_type": "code",
   "execution_count": 285,
   "metadata": {},
   "outputs": [
    {
     "data": {
      "text/plain": [
       "{'snap': ['snainatx ~ C(trtname, Treatment(reference = \"L\")) * days_baseline * C(site)',\n",
       "  'snahypax ~ C(trtname, Treatment(reference = \"L\")) * days_baseline * C(site)',\n",
       "  'snaoddx ~ C(trtname, Treatment(reference = \"L\")) * days_baseline * C(site)'],\n",
       " 'ssrs': ['sspintx ~ C(trtname, Treatment(reference = \"L\")) * days_baseline * C(site)',\n",
       "  'ssptossx ~ C(trtname, Treatment(reference = \"L\")) * days_baseline * C(site)'],\n",
       " 'pc': ['pcrcpax ~ C(trtname, Treatment(reference = \"L\")) * days_baseline * C(site)',\n",
       "  'pcrcprx ~ C(trtname, Treatment(reference = \"L\")) * days_baseline * C(site)'],\n",
       " 'wechsler': ['w1readb ~ C(trtname, Treatment(reference = \"L\")) * days_baseline * C(site)',\n",
       "  'w2math ~ C(trtname, Treatment(reference = \"L\")) * days_baseline * C(site)',\n",
       "  'w3spell ~ C(trtname, Treatment(reference = \"L\")) * days_baseline * C(site)']}"
      ]
     },
     "execution_count": 285,
     "metadata": {},
     "output_type": "execute_result"
    }
   ],
   "source": [
    "gen_interact_formula = 'C(trtname, Treatment(reference = \"L\")) * days_baseline * C(site)' # reapeat with log days \n",
    "formulas =  [[' ~ '.join((var, gen_interact_formula)) for var in values] for values in outcomes_dict.values()]\n",
    "formulas_dict = dict(zip(outcomes_dict.keys(), formulas))\n",
    "formulas_dict"
   ]
  },
  {
   "cell_type": "code",
   "execution_count": 286,
   "metadata": {},
   "outputs": [],
   "source": [
    "\n",
    "groups = 'src_subject_id'\n",
    "alpha = 0.05\n",
    "hyps_interactions = var_dict.get_hyps_interactions()"
   ]
  },
  {
   "cell_type": "code",
   "execution_count": 287,
   "metadata": {},
   "outputs": [
    {
     "data": {
      "text/plain": [
       "{'time_treat': 'C(trtname, Treatment(reference=\"L\"))[T.M]:days_baseline = C(trtname, Treatment(reference=\"L\"))[T.P]:days_baseline  = C(trtname, Treatment(reference=\"L\"))[T.C]:days_baseline = 0',\n",
       " 'site_treat': 'C(trtname, Treatment(reference=\"L\"))[T.M]:C(site)[T.2] = C(trtname, Treatment(reference=\"L\"))[T.P]:C(site)[T.2] = C(trtname, Treatment(reference=\"L\"))[T.C]:C(site)[T.2] = C(trtname, Treatment(reference=\"L\"))[T.M]:C(site)[T.3] = C(trtname, Treatment(reference=\"L\"))[T.P]:C(site)[T.3] = C(trtname, Treatment(reference=\"L\"))[T.C]:C(site)[T.3] = C(trtname, Treatment(reference=\"L\"))[T.M]:C(site)[T.4] = C(trtname, Treatment(reference=\"L\"))[T.P]:C(site)[T.4] = C(trtname, Treatment(reference=\"L\"))[T.C]:C(site)[T.4] = C(trtname, Treatment(reference=\"L\"))[T.M]:C(site)[T.5] = C(trtname, Treatment(reference=\"L\"))[T.P]:C(site)[T.5] = C(trtname, Treatment(reference=\"L\"))[T.C]:C(site)[T.5] = C(trtname, Treatment(reference=\"L\"))[T.M]:C(site)[T.6] = C(trtname, Treatment(reference=\"L\"))[T.P]:C(site)[T.6] = C(trtname, Treatment(reference=\"L\"))[T.C]:C(site)[T.6] = 0',\n",
       " 'site': 'C(site)[T.2] = C(site)[T.3] = C(site)[T.4] = C(site)[T.5] = C(site)[T.6] = 0'}"
      ]
     },
     "execution_count": 287,
     "metadata": {},
     "output_type": "execute_result"
    }
   ],
   "source": [
    "hyps_interactions"
   ]
  },
  {
   "cell_type": "code",
   "execution_count": 288,
   "metadata": {},
   "outputs": [],
   "source": [
    "# result, summ, hsmm = rr.get_RR_stats(formula, data, groups=groups, alpha= alpha)\n",
    "# rr.f_test_interactions(result, hyps_interactions, alpha)"
   ]
  },
  {
   "cell_type": "code",
   "execution_count": 308,
   "metadata": {},
   "outputs": [],
   "source": [
    "raters = ['Teacher', 'Parent']"
   ]
  },
  {
   "cell_type": "code",
   "execution_count": 309,
   "metadata": {},
   "outputs": [],
   "source": [
    "result_snap = [[ smf.mixedlm(formulas_dict['snap'][i], data['snap']['14'][data['snap']['14']['version_form'] == rater], groups = groups).fit() for rater in raters] for i in range(len(snap_vars))]"
   ]
  },
  {
   "cell_type": "code",
   "execution_count": 310,
   "metadata": {},
   "outputs": [],
   "source": [
    "result_ssrs = [[ smf.mixedlm(formulas_dict['ssrs'][i], data['ssrs']['14'][data['ssrs']['14']['version_form'] == rater], groups = groups).fit() for rater in raters] for i in range(len(ssrs_vars))]"
   ]
  },
  {
   "cell_type": "code",
   "execution_count": 311,
   "metadata": {},
   "outputs": [],
   "source": [
    "#test = data['pc']['14'][data['pc']['14']['version_form'] == 'Parent'].copy()"
   ]
  },
  {
   "cell_type": "code",
   "execution_count": 312,
   "metadata": {},
   "outputs": [],
   "source": [
    "#scaler = StandardScaler()"
   ]
  },
  {
   "cell_type": "code",
   "execution_count": 313,
   "metadata": {},
   "outputs": [],
   "source": [
    "#test['days_baseline'] = scaler.fit_transform(np.array(test['days_baseline']).reshape(-1, 1))"
   ]
  },
  {
   "cell_type": "code",
   "execution_count": 314,
   "metadata": {},
   "outputs": [],
   "source": [
    "#test_pc_formula = 'pcrcpax ~ C(trtname, Treatment(reference = \"L\"))* days_baseline  '"
   ]
  },
  {
   "cell_type": "code",
   "execution_count": 315,
   "metadata": {},
   "outputs": [],
   "source": [
    "#result = smf.mixedlm(formulas_dict['pc'][0], data['pc']['14'][data['pc']['14']['version_form'] == 'Parent'], groups = groups).fit() "
   ]
  },
  {
   "cell_type": "code",
   "execution_count": 316,
   "metadata": {},
   "outputs": [],
   "source": [
    "#result.summary()"
   ]
  },
  {
   "cell_type": "code",
   "execution_count": 317,
   "metadata": {},
   "outputs": [],
   "source": [
    "# from statsmodels.stats.outliers_influence import variance_inflation_factor\n",
    "# X = result.model.exog\n",
    "# vif = pd.DataFrame()\n",
    "# vif[\"VIF Factor\"] = [variance_inflation_factor(X, i) for i in range(X.shape[1])]\n",
    "# vif[\"features\"] = result.model.exog_names\n",
    "# print(vif)"
   ]
  },
  {
   "cell_type": "code",
   "execution_count": 318,
   "metadata": {},
   "outputs": [],
   "source": [
    "#result_pc2 =  smf.mixedlm(formulas_dict['pc'][1], data['pc']['14'][data['pc']['14']['version_form'] == 'Parent'], groups = groups).fit()  "
   ]
  },
  {
   "cell_type": "code",
   "execution_count": 319,
   "metadata": {},
   "outputs": [],
   "source": [
    "# result_wechlser = [ smf.mixedlm(formulas_dict['wechsler'][i], data['wechsler']['14'], groups = groups).fit()  for i in range(len(wechsler_vars))]"
   ]
  },
  {
   "cell_type": "code",
   "execution_count": 320,
   "metadata": {},
   "outputs": [],
   "source": [
    "## worked for snap, ssrs, wechsler"
   ]
  },
  {
   "cell_type": "code",
   "execution_count": 321,
   "metadata": {},
   "outputs": [
    {
     "data": {
      "text/plain": [
       "{'time_treat': 'C(trtname, Treatment(reference=\"L\"))[T.M]:days_baseline = C(trtname, Treatment(reference=\"L\"))[T.P]:days_baseline  = C(trtname, Treatment(reference=\"L\"))[T.C]:days_baseline = 0',\n",
       " 'site_treat': 'C(trtname, Treatment(reference=\"L\"))[T.M]:C(site)[T.2] = C(trtname, Treatment(reference=\"L\"))[T.P]:C(site)[T.2] = C(trtname, Treatment(reference=\"L\"))[T.C]:C(site)[T.2] = C(trtname, Treatment(reference=\"L\"))[T.M]:C(site)[T.3] = C(trtname, Treatment(reference=\"L\"))[T.P]:C(site)[T.3] = C(trtname, Treatment(reference=\"L\"))[T.C]:C(site)[T.3] = C(trtname, Treatment(reference=\"L\"))[T.M]:C(site)[T.4] = C(trtname, Treatment(reference=\"L\"))[T.P]:C(site)[T.4] = C(trtname, Treatment(reference=\"L\"))[T.C]:C(site)[T.4] = C(trtname, Treatment(reference=\"L\"))[T.M]:C(site)[T.5] = C(trtname, Treatment(reference=\"L\"))[T.P]:C(site)[T.5] = C(trtname, Treatment(reference=\"L\"))[T.C]:C(site)[T.5] = C(trtname, Treatment(reference=\"L\"))[T.M]:C(site)[T.6] = C(trtname, Treatment(reference=\"L\"))[T.P]:C(site)[T.6] = C(trtname, Treatment(reference=\"L\"))[T.C]:C(site)[T.6] = 0',\n",
       " 'site': 'C(site)[T.2] = C(site)[T.3] = C(site)[T.4] = C(site)[T.5] = C(site)[T.6] = 0'}"
      ]
     },
     "execution_count": 321,
     "metadata": {},
     "output_type": "execute_result"
    }
   ],
   "source": [
    "hyps_interactions = var_dict.get_hyps_interactions()\n",
    "hyps_interactions"
   ]
  },
  {
   "cell_type": "code",
   "execution_count": 322,
   "metadata": {},
   "outputs": [
    {
     "name": "stdout",
     "output_type": "stream",
     "text": [
      "snainatx   Description     Significance    F-Value       P-Value\n",
      "0  time_treat    *Significant*  16.061269  2.349415e-10\n",
      "1  site_treat  Not Significant   1.474889  1.054912e-01\n",
      "2        site  Not Significant   0.285858  9.210400e-01\n",
      "snainatx   Description     Significance    F-Value       P-Value\n",
      "0  time_treat    *Significant*  11.422714  1.850028e-07\n",
      "1  site_treat  Not Significant   0.778523  7.031027e-01\n",
      "2        site  Not Significant   0.478532  7.925425e-01\n",
      "snahypax   Description     Significance    F-Value       P-Value\n",
      "0  time_treat    *Significant*  21.565982  8.193047e-14\n",
      "1  site_treat  Not Significant   1.527963  8.670372e-02\n",
      "2        site  Not Significant   1.069212  3.753642e-01\n",
      "snahypax   Description     Significance    F-Value       P-Value\n",
      "0  time_treat    *Significant*  14.544289  1.998723e-09\n",
      "1  site_treat  Not Significant   1.643687  5.523849e-02\n",
      "2        site  Not Significant   0.111711  9.898156e-01\n",
      "snaoddx   Description     Significance   F-Value   P-Value\n",
      "0  time_treat    *Significant*  7.167568  0.000086\n",
      "1  site_treat  Not Significant  1.162364  0.294253\n",
      "2        site  Not Significant  0.718907  0.609189\n",
      "snaoddx   Description     Significance   F-Value   P-Value\n",
      "0  time_treat    *Significant*  3.415621  0.016661\n",
      "1  site_treat    *Significant*  1.754793  0.035154\n",
      "2        site  Not Significant  0.398933  0.849852\n"
     ]
    }
   ],
   "source": [
    "for i, var in enumerate(snap_vars):\n",
    "    for res in result_snap[i]:\n",
    "        print(var, rr.f_test_interactions(res, hyps_interactions, alpha))"
   ]
  },
  {
   "cell_type": "code",
   "execution_count": 323,
   "metadata": {},
   "outputs": [
    {
     "name": "stdout",
     "output_type": "stream",
     "text": [
      "sspintx   Description     Significance   F-Value   P-Value\n",
      "0  time_treat  Not Significant  0.100833  0.959549\n",
      "1  site_treat  Not Significant  0.456635  0.961461\n",
      "2        site  Not Significant  0.368243  0.870591\n",
      "sspintx   Description     Significance   F-Value   P-Value\n",
      "0  time_treat  Not Significant  1.776329  0.149427\n",
      "1  site_treat  Not Significant  0.771165  0.711268\n",
      "2        site  Not Significant  0.631833  0.675473\n",
      "ssptossx   Description     Significance   F-Value   P-Value\n",
      "0  time_treat    *Significant*  5.101886  0.001608\n",
      "1  site_treat  Not Significant  0.496734  0.943616\n",
      "2        site  Not Significant  0.485249  0.787516\n",
      "ssptossx   Description     Significance   F-Value   P-Value\n",
      "0  time_treat  Not Significant  0.861553  0.460281\n",
      "1  site_treat  Not Significant  0.935707  0.522976\n",
      "2        site  Not Significant  0.970836  0.434083\n"
     ]
    }
   ],
   "source": [
    "for i, var in enumerate(ssrs_vars):\n",
    "    for res in result_ssrs[i]:\n",
    "        print(var, rr.f_test_interactions(res, hyps_interactions, alpha))"
   ]
  },
  {
   "cell_type": "code",
   "execution_count": null,
   "metadata": {},
   "outputs": [],
   "source": []
  },
  {
   "cell_type": "code",
   "execution_count": 351,
   "metadata": {},
   "outputs": [
    {
     "data": {
      "text/plain": [
       "0.05"
      ]
     },
     "execution_count": 351,
     "metadata": {},
     "output_type": "execute_result"
    }
   ],
   "source": [
    "alpha"
   ]
  },
  {
   "cell_type": "code",
   "execution_count": 324,
   "metadata": {},
   "outputs": [],
   "source": [
    "f_result_snap  =[]\n",
    "for i, var in enumerate(snap_vars):\n",
    "    for res in result_snap[i]:\n",
    "        f_result_snap.append([var, rr.f_test_interactions(res, hyps_interactions, alpha)])"
   ]
  },
  {
   "cell_type": "code",
   "execution_count": 325,
   "metadata": {},
   "outputs": [],
   "source": [
    "f_result_ssrs  =[]\n",
    "for i, var in enumerate(ssrs_vars):\n",
    "    for res in result_ssrs[i]:\n",
    "        f_result_ssrs.append([var, rr.f_test_interactions(res, hyps_interactions, alpha)])"
   ]
  },
  {
   "cell_type": "code",
   "execution_count": null,
   "metadata": {},
   "outputs": [
    {
     "data": {
      "text/plain": [
       "[['snainatx',\n",
       "    Description     Significance    F-Value       P-Value\n",
       "  0  time_treat    *Significant*  11.422714  1.850028e-07\n",
       "  1  site_treat  Not Significant   0.778523  7.031027e-01\n",
       "  2        site  Not Significant   0.478532  7.925425e-01],\n",
       " ['snainatx',\n",
       "    Description     Significance    F-Value       P-Value\n",
       "  0  time_treat    *Significant*  16.061269  2.349415e-10\n",
       "  1  site_treat  Not Significant   1.474889  1.054912e-01\n",
       "  2        site  Not Significant   0.285858  9.210400e-01],\n",
       " ['snahypax',\n",
       "    Description     Significance    F-Value       P-Value\n",
       "  0  time_treat    *Significant*  14.544289  1.998723e-09\n",
       "  1  site_treat  Not Significant   1.643687  5.523849e-02\n",
       "  2        site  Not Significant   0.111711  9.898156e-01],\n",
       " ['snahypax',\n",
       "    Description     Significance    F-Value       P-Value\n",
       "  0  time_treat    *Significant*  21.565982  8.193047e-14\n",
       "  1  site_treat  Not Significant   1.527963  8.670372e-02\n",
       "  2        site  Not Significant   1.069212  3.753642e-01],\n",
       " ['snaoddx',\n",
       "    Description     Significance   F-Value   P-Value\n",
       "  0  time_treat    *Significant*  3.415621  0.016661\n",
       "  1  site_treat    *Significant*  1.754793  0.035154\n",
       "  2        site  Not Significant  0.398933  0.849852],\n",
       " ['snaoddx',\n",
       "    Description     Significance   F-Value   P-Value\n",
       "  0  time_treat    *Significant*  7.167568  0.000086\n",
       "  1  site_treat  Not Significant  1.162364  0.294253\n",
       "  2        site  Not Significant  0.718907  0.609189]]"
      ]
     },
     "execution_count": 235,
     "metadata": {},
     "output_type": "execute_result"
    }
   ],
   "source": []
  },
  {
   "cell_type": "code",
   "execution_count": 336,
   "metadata": {},
   "outputs": [],
   "source": [
    "# orig_rr_14 = orig_rr_14[orig_rr_14['Measure and Rater'] != 'Classroom observer' ]\n",
    "# orig_rr_14 = orig_rr_14[orig_rr_14['Measure and Rater'] != 'MASC Child' ]\n",
    "\n",
    "# orig_rr_14 = orig_rr_14.reset_index()"
   ]
  },
  {
   "cell_type": "code",
   "execution_count": 337,
   "metadata": {},
   "outputs": [
    {
     "name": "stdout",
     "output_type": "stream",
     "text": [
      "0 snainatx 16.06\n",
      "1 snainatx 1.47\n",
      "2 snainatx 0.29\n",
      "3 snainatx 11.42\n",
      "4 snainatx 0.78\n",
      "5 snainatx 0.48\n",
      "6 snahypax 21.57\n",
      "7 snahypax 1.53\n",
      "8 snahypax 1.07\n",
      "9 snahypax 14.54\n",
      "10 snahypax 1.64\n",
      "11 snahypax 0.11\n",
      "12 snaoddx 7.17\n",
      "13 snaoddx 1.16\n",
      "14 snaoddx 0.72\n",
      "15 snaoddx 3.42\n",
      "16 snaoddx 1.75\n",
      "17 snaoddx 0.4\n"
     ]
    }
   ],
   "source": [
    "# orig_rr_14['replicated F_value'] = None\n",
    "# orig_rr_14['replicated p_value'] = None\n",
    "# orig_rr_14['variable'] = None\n",
    "# k = 0\n",
    "# for i, res in enumerate(f_result_snap):\n",
    "#         for j in range(len(res[1])):\n",
    "#                 print(k, res[0], res[1]['F-Value'][j].round(2))\n",
    "#                 orig_rr_14.loc[k, 'replicated F_value'] = res[1]['F-Value'][j].round(2)\n",
    "#                 orig_rr_14.loc[k, 'replicated p_value'] = res[1]['P-Value'][j].round(2)\n",
    "#                 orig_rr_14.loc[k, 'variable'] = res[0]\n",
    "#                 k += 1"
   ]
  },
  {
   "cell_type": "code",
   "execution_count": 338,
   "metadata": {},
   "outputs": [
    {
     "data": {
      "text/plain": [
       "[['sspintx',\n",
       "    Description     Significance   F-Value   P-Value\n",
       "  0  time_treat  Not Significant  0.100833  0.959549\n",
       "  1  site_treat  Not Significant  0.456635  0.961461\n",
       "  2        site  Not Significant  0.368243  0.870591],\n",
       " ['sspintx',\n",
       "    Description     Significance   F-Value   P-Value\n",
       "  0  time_treat  Not Significant  1.776329  0.149427\n",
       "  1  site_treat  Not Significant  0.771165  0.711268\n",
       "  2        site  Not Significant  0.631833  0.675473],\n",
       " ['ssptossx',\n",
       "    Description     Significance   F-Value   P-Value\n",
       "  0  time_treat    *Significant*  5.101886  0.001608\n",
       "  1  site_treat  Not Significant  0.496734  0.943616\n",
       "  2        site  Not Significant  0.485249  0.787516],\n",
       " ['ssptossx',\n",
       "    Description     Significance   F-Value   P-Value\n",
       "  0  time_treat  Not Significant  0.861553  0.460281\n",
       "  1  site_treat  Not Significant  0.935707  0.522976\n",
       "  2        site  Not Significant  0.970836  0.434083]]"
      ]
     },
     "execution_count": 338,
     "metadata": {},
     "output_type": "execute_result"
    }
   ],
   "source": [
    "f_result_ssrs"
   ]
  },
  {
   "cell_type": "code",
   "execution_count": 339,
   "metadata": {},
   "outputs": [
    {
     "name": "stdout",
     "output_type": "stream",
     "text": [
      "18 sspintx 0.1\n",
      "19 sspintx 0.46\n",
      "20 sspintx 0.37\n",
      "21 sspintx 1.78\n",
      "22 sspintx 0.77\n",
      "23 sspintx 0.63\n",
      "24 ssptossx 5.1\n",
      "25 ssptossx 0.5\n",
      "26 ssptossx 0.49\n",
      "27 ssptossx 0.86\n",
      "28 ssptossx 0.94\n",
      "29 ssptossx 0.97\n"
     ]
    }
   ],
   "source": [
    "# k = 18\n",
    "# for i, res in enumerate(f_result_ssrs):\n",
    "#         for j in range(len(res[1])):\n",
    "#                 print(k, res[0], res[1]['F-Value'][j].round(2))\n",
    "#                 orig_rr_14.loc[k, 'replicated F_value'] = res[1]['F-Value'][j].round(2)\n",
    "#                 orig_rr_14.loc[k, 'replicated p_value'] = res[1]['P-Value'][j].round(2)\n",
    "#                 orig_rr_14.loc[k, 'variable'] = res[0]\n",
    "#                 k += 1"
   ]
  },
  {
   "cell_type": "code",
   "execution_count": 363,
   "metadata": {},
   "outputs": [
    {
     "data": {
      "text/html": [
       "<style type=\"text/css\">\n",
       "#T_e5990_row0_col8, #T_e5990_row3_col8, #T_e5990_row6_col8, #T_e5990_row9_col8, #T_e5990_row12_col8, #T_e5990_row15_col8, #T_e5990_row16_col8, #T_e5990_row24_col8 {\n",
       "  background-color: blue;\n",
       "}\n",
       "</style>\n",
       "<table id=\"T_e5990\">\n",
       "  <thead>\n",
       "    <tr>\n",
       "      <th class=\"blank level0\" >&nbsp;</th>\n",
       "      <th id=\"T_e5990_level0_col0\" class=\"col_heading level0 col0\" >index</th>\n",
       "      <th id=\"T_e5990_level0_col1\" class=\"col_heading level0 col1\" >Unnamed: 0</th>\n",
       "      <th id=\"T_e5990_level0_col2\" class=\"col_heading level0 col2\" >Outcome Domain</th>\n",
       "      <th id=\"T_e5990_level0_col3\" class=\"col_heading level0 col3\" >Measure and Rater</th>\n",
       "      <th id=\"T_e5990_level0_col4\" class=\"col_heading level0 col4\" >Test</th>\n",
       "      <th id=\"T_e5990_level0_col5\" class=\"col_heading level0 col5\" >F_value</th>\n",
       "      <th id=\"T_e5990_level0_col6\" class=\"col_heading level0 col6\" >P_value</th>\n",
       "      <th id=\"T_e5990_level0_col7\" class=\"col_heading level0 col7\" >replicated F_value</th>\n",
       "      <th id=\"T_e5990_level0_col8\" class=\"col_heading level0 col8\" >replicated p_value</th>\n",
       "      <th id=\"T_e5990_level0_col9\" class=\"col_heading level0 col9\" >variable</th>\n",
       "    </tr>\n",
       "  </thead>\n",
       "  <tbody>\n",
       "    <tr>\n",
       "      <th id=\"T_e5990_level0_row0\" class=\"row_heading level0 row0\" >0</th>\n",
       "      <td id=\"T_e5990_row0_col0\" class=\"data row0 col0\" >0</td>\n",
       "      <td id=\"T_e5990_row0_col1\" class=\"data row0 col1\" >0</td>\n",
       "      <td id=\"T_e5990_row0_col2\" class=\"data row0 col2\" >ADHD symptoms</td>\n",
       "      <td id=\"T_e5990_row0_col3\" class=\"data row0 col3\" >Inattention - Teacher</td>\n",
       "      <td id=\"T_e5990_row0_col4\" class=\"data row0 col4\" >Treatment x time</td>\n",
       "      <td id=\"T_e5990_row0_col5\" class=\"data row0 col5\" >10.600000</td>\n",
       "      <td id=\"T_e5990_row0_col6\" class=\"data row0 col6\" ><.001</td>\n",
       "      <td id=\"T_e5990_row0_col7\" class=\"data row0 col7\" >16.060000</td>\n",
       "      <td id=\"T_e5990_row0_col8\" class=\"data row0 col8\" >0.000000</td>\n",
       "      <td id=\"T_e5990_row0_col9\" class=\"data row0 col9\" >snainatx</td>\n",
       "    </tr>\n",
       "    <tr>\n",
       "      <th id=\"T_e5990_level0_row1\" class=\"row_heading level0 row1\" >1</th>\n",
       "      <td id=\"T_e5990_row1_col0\" class=\"data row1 col0\" >1</td>\n",
       "      <td id=\"T_e5990_row1_col1\" class=\"data row1 col1\" >1</td>\n",
       "      <td id=\"T_e5990_row1_col2\" class=\"data row1 col2\" >ADHD symptoms</td>\n",
       "      <td id=\"T_e5990_row1_col3\" class=\"data row1 col3\" >Inattention - Teacher</td>\n",
       "      <td id=\"T_e5990_row1_col4\" class=\"data row1 col4\" >Treatment x site</td>\n",
       "      <td id=\"T_e5990_row1_col5\" class=\"data row1 col5\" >0.900000</td>\n",
       "      <td id=\"T_e5990_row1_col6\" class=\"data row1 col6\" >.56</td>\n",
       "      <td id=\"T_e5990_row1_col7\" class=\"data row1 col7\" >1.470000</td>\n",
       "      <td id=\"T_e5990_row1_col8\" class=\"data row1 col8\" >0.110000</td>\n",
       "      <td id=\"T_e5990_row1_col9\" class=\"data row1 col9\" >snainatx</td>\n",
       "    </tr>\n",
       "    <tr>\n",
       "      <th id=\"T_e5990_level0_row2\" class=\"row_heading level0 row2\" >2</th>\n",
       "      <td id=\"T_e5990_row2_col0\" class=\"data row2 col0\" >2</td>\n",
       "      <td id=\"T_e5990_row2_col1\" class=\"data row2 col1\" >2</td>\n",
       "      <td id=\"T_e5990_row2_col2\" class=\"data row2 col2\" >ADHD symptoms</td>\n",
       "      <td id=\"T_e5990_row2_col3\" class=\"data row2 col3\" >Inattention - Teacher</td>\n",
       "      <td id=\"T_e5990_row2_col4\" class=\"data row2 col4\" >Site</td>\n",
       "      <td id=\"T_e5990_row2_col5\" class=\"data row2 col5\" >2.700000</td>\n",
       "      <td id=\"T_e5990_row2_col6\" class=\"data row2 col6\" >.02</td>\n",
       "      <td id=\"T_e5990_row2_col7\" class=\"data row2 col7\" >0.290000</td>\n",
       "      <td id=\"T_e5990_row2_col8\" class=\"data row2 col8\" >0.920000</td>\n",
       "      <td id=\"T_e5990_row2_col9\" class=\"data row2 col9\" >snainatx</td>\n",
       "    </tr>\n",
       "    <tr>\n",
       "      <th id=\"T_e5990_level0_row3\" class=\"row_heading level0 row3\" >3</th>\n",
       "      <td id=\"T_e5990_row3_col0\" class=\"data row3 col0\" >3</td>\n",
       "      <td id=\"T_e5990_row3_col1\" class=\"data row3 col1\" >3</td>\n",
       "      <td id=\"T_e5990_row3_col2\" class=\"data row3 col2\" >ADHD symptoms</td>\n",
       "      <td id=\"T_e5990_row3_col3\" class=\"data row3 col3\" >Inattention - Parent</td>\n",
       "      <td id=\"T_e5990_row3_col4\" class=\"data row3 col4\" >Treatment x time</td>\n",
       "      <td id=\"T_e5990_row3_col5\" class=\"data row3 col5\" >21.500000</td>\n",
       "      <td id=\"T_e5990_row3_col6\" class=\"data row3 col6\" ><.001</td>\n",
       "      <td id=\"T_e5990_row3_col7\" class=\"data row3 col7\" >11.420000</td>\n",
       "      <td id=\"T_e5990_row3_col8\" class=\"data row3 col8\" >0.000000</td>\n",
       "      <td id=\"T_e5990_row3_col9\" class=\"data row3 col9\" >snainatx</td>\n",
       "    </tr>\n",
       "    <tr>\n",
       "      <th id=\"T_e5990_level0_row4\" class=\"row_heading level0 row4\" >4</th>\n",
       "      <td id=\"T_e5990_row4_col0\" class=\"data row4 col0\" >4</td>\n",
       "      <td id=\"T_e5990_row4_col1\" class=\"data row4 col1\" >4</td>\n",
       "      <td id=\"T_e5990_row4_col2\" class=\"data row4 col2\" >ADHD symptoms</td>\n",
       "      <td id=\"T_e5990_row4_col3\" class=\"data row4 col3\" >Inattention - Parent</td>\n",
       "      <td id=\"T_e5990_row4_col4\" class=\"data row4 col4\" >Treatment x site</td>\n",
       "      <td id=\"T_e5990_row4_col5\" class=\"data row4 col5\" >0.600000</td>\n",
       "      <td id=\"T_e5990_row4_col6\" class=\"data row4 col6\" >.88</td>\n",
       "      <td id=\"T_e5990_row4_col7\" class=\"data row4 col7\" >0.780000</td>\n",
       "      <td id=\"T_e5990_row4_col8\" class=\"data row4 col8\" >0.700000</td>\n",
       "      <td id=\"T_e5990_row4_col9\" class=\"data row4 col9\" >snainatx</td>\n",
       "    </tr>\n",
       "    <tr>\n",
       "      <th id=\"T_e5990_level0_row5\" class=\"row_heading level0 row5\" >5</th>\n",
       "      <td id=\"T_e5990_row5_col0\" class=\"data row5 col0\" >5</td>\n",
       "      <td id=\"T_e5990_row5_col1\" class=\"data row5 col1\" >5</td>\n",
       "      <td id=\"T_e5990_row5_col2\" class=\"data row5 col2\" >ADHD symptoms</td>\n",
       "      <td id=\"T_e5990_row5_col3\" class=\"data row5 col3\" >Inattention - Parent</td>\n",
       "      <td id=\"T_e5990_row5_col4\" class=\"data row5 col4\" >Site</td>\n",
       "      <td id=\"T_e5990_row5_col5\" class=\"data row5 col5\" >3.000000</td>\n",
       "      <td id=\"T_e5990_row5_col6\" class=\"data row5 col6\" >.02</td>\n",
       "      <td id=\"T_e5990_row5_col7\" class=\"data row5 col7\" >0.480000</td>\n",
       "      <td id=\"T_e5990_row5_col8\" class=\"data row5 col8\" >0.790000</td>\n",
       "      <td id=\"T_e5990_row5_col9\" class=\"data row5 col9\" >snainatx</td>\n",
       "    </tr>\n",
       "    <tr>\n",
       "      <th id=\"T_e5990_level0_row6\" class=\"row_heading level0 row6\" >6</th>\n",
       "      <td id=\"T_e5990_row6_col0\" class=\"data row6 col0\" >6</td>\n",
       "      <td id=\"T_e5990_row6_col1\" class=\"data row6 col1\" >6</td>\n",
       "      <td id=\"T_e5990_row6_col2\" class=\"data row6 col2\" >ADHD symptoms</td>\n",
       "      <td id=\"T_e5990_row6_col3\" class=\"data row6 col3\" >Hyperactive-impulsive - Teacher</td>\n",
       "      <td id=\"T_e5990_row6_col4\" class=\"data row6 col4\" >Treatment x time</td>\n",
       "      <td id=\"T_e5990_row6_col5\" class=\"data row6 col5\" >10.000000</td>\n",
       "      <td id=\"T_e5990_row6_col6\" class=\"data row6 col6\" ><.001</td>\n",
       "      <td id=\"T_e5990_row6_col7\" class=\"data row6 col7\" >21.570000</td>\n",
       "      <td id=\"T_e5990_row6_col8\" class=\"data row6 col8\" >0.000000</td>\n",
       "      <td id=\"T_e5990_row6_col9\" class=\"data row6 col9\" >snahypax</td>\n",
       "    </tr>\n",
       "    <tr>\n",
       "      <th id=\"T_e5990_level0_row7\" class=\"row_heading level0 row7\" >7</th>\n",
       "      <td id=\"T_e5990_row7_col0\" class=\"data row7 col0\" >7</td>\n",
       "      <td id=\"T_e5990_row7_col1\" class=\"data row7 col1\" >7</td>\n",
       "      <td id=\"T_e5990_row7_col2\" class=\"data row7 col2\" >ADHD symptoms</td>\n",
       "      <td id=\"T_e5990_row7_col3\" class=\"data row7 col3\" >Hyperactive-impulsive - Teacher</td>\n",
       "      <td id=\"T_e5990_row7_col4\" class=\"data row7 col4\" >Treatment x site</td>\n",
       "      <td id=\"T_e5990_row7_col5\" class=\"data row7 col5\" >1.300000</td>\n",
       "      <td id=\"T_e5990_row7_col6\" class=\"data row7 col6\" >.49</td>\n",
       "      <td id=\"T_e5990_row7_col7\" class=\"data row7 col7\" >1.530000</td>\n",
       "      <td id=\"T_e5990_row7_col8\" class=\"data row7 col8\" >0.090000</td>\n",
       "      <td id=\"T_e5990_row7_col9\" class=\"data row7 col9\" >snahypax</td>\n",
       "    </tr>\n",
       "    <tr>\n",
       "      <th id=\"T_e5990_level0_row8\" class=\"row_heading level0 row8\" >8</th>\n",
       "      <td id=\"T_e5990_row8_col0\" class=\"data row8 col0\" >8</td>\n",
       "      <td id=\"T_e5990_row8_col1\" class=\"data row8 col1\" >8</td>\n",
       "      <td id=\"T_e5990_row8_col2\" class=\"data row8 col2\" >ADHD symptoms</td>\n",
       "      <td id=\"T_e5990_row8_col3\" class=\"data row8 col3\" >Hyperactive-impulsive - Teacher</td>\n",
       "      <td id=\"T_e5990_row8_col4\" class=\"data row8 col4\" >Site</td>\n",
       "      <td id=\"T_e5990_row8_col5\" class=\"data row8 col5\" >3.000000</td>\n",
       "      <td id=\"T_e5990_row8_col6\" class=\"data row8 col6\" >.02</td>\n",
       "      <td id=\"T_e5990_row8_col7\" class=\"data row8 col7\" >1.070000</td>\n",
       "      <td id=\"T_e5990_row8_col8\" class=\"data row8 col8\" >0.380000</td>\n",
       "      <td id=\"T_e5990_row8_col9\" class=\"data row8 col9\" >snahypax</td>\n",
       "    </tr>\n",
       "    <tr>\n",
       "      <th id=\"T_e5990_level0_row9\" class=\"row_heading level0 row9\" >9</th>\n",
       "      <td id=\"T_e5990_row9_col0\" class=\"data row9 col0\" >9</td>\n",
       "      <td id=\"T_e5990_row9_col1\" class=\"data row9 col1\" >9</td>\n",
       "      <td id=\"T_e5990_row9_col2\" class=\"data row9 col2\" >ADHD symptoms</td>\n",
       "      <td id=\"T_e5990_row9_col3\" class=\"data row9 col3\" >Hyperactive-impulsive - Parent</td>\n",
       "      <td id=\"T_e5990_row9_col4\" class=\"data row9 col4\" >Treatment x time</td>\n",
       "      <td id=\"T_e5990_row9_col5\" class=\"data row9 col5\" >21.500000</td>\n",
       "      <td id=\"T_e5990_row9_col6\" class=\"data row9 col6\" ><.001</td>\n",
       "      <td id=\"T_e5990_row9_col7\" class=\"data row9 col7\" >14.540000</td>\n",
       "      <td id=\"T_e5990_row9_col8\" class=\"data row9 col8\" >0.000000</td>\n",
       "      <td id=\"T_e5990_row9_col9\" class=\"data row9 col9\" >snahypax</td>\n",
       "    </tr>\n",
       "    <tr>\n",
       "      <th id=\"T_e5990_level0_row10\" class=\"row_heading level0 row10\" >10</th>\n",
       "      <td id=\"T_e5990_row10_col0\" class=\"data row10 col0\" >10</td>\n",
       "      <td id=\"T_e5990_row10_col1\" class=\"data row10 col1\" >10</td>\n",
       "      <td id=\"T_e5990_row10_col2\" class=\"data row10 col2\" >ADHD symptoms</td>\n",
       "      <td id=\"T_e5990_row10_col3\" class=\"data row10 col3\" >Hyperactive-impulsive - Parent</td>\n",
       "      <td id=\"T_e5990_row10_col4\" class=\"data row10 col4\" >Treatment x site</td>\n",
       "      <td id=\"T_e5990_row10_col5\" class=\"data row10 col5\" >1.300000</td>\n",
       "      <td id=\"T_e5990_row10_col6\" class=\"data row10 col6\" >.23</td>\n",
       "      <td id=\"T_e5990_row10_col7\" class=\"data row10 col7\" >1.640000</td>\n",
       "      <td id=\"T_e5990_row10_col8\" class=\"data row10 col8\" >0.060000</td>\n",
       "      <td id=\"T_e5990_row10_col9\" class=\"data row10 col9\" >snahypax</td>\n",
       "    </tr>\n",
       "    <tr>\n",
       "      <th id=\"T_e5990_level0_row11\" class=\"row_heading level0 row11\" >11</th>\n",
       "      <td id=\"T_e5990_row11_col0\" class=\"data row11 col0\" >11</td>\n",
       "      <td id=\"T_e5990_row11_col1\" class=\"data row11 col1\" >11</td>\n",
       "      <td id=\"T_e5990_row11_col2\" class=\"data row11 col2\" >ADHD symptoms</td>\n",
       "      <td id=\"T_e5990_row11_col3\" class=\"data row11 col3\" >Hyperactive-impulsive - Parent</td>\n",
       "      <td id=\"T_e5990_row11_col4\" class=\"data row11 col4\" >Site</td>\n",
       "      <td id=\"T_e5990_row11_col5\" class=\"data row11 col5\" >4.400000</td>\n",
       "      <td id=\"T_e5990_row11_col6\" class=\"data row11 col6\" >.0006</td>\n",
       "      <td id=\"T_e5990_row11_col7\" class=\"data row11 col7\" >0.110000</td>\n",
       "      <td id=\"T_e5990_row11_col8\" class=\"data row11 col8\" >0.990000</td>\n",
       "      <td id=\"T_e5990_row11_col9\" class=\"data row11 col9\" >snahypax</td>\n",
       "    </tr>\n",
       "    <tr>\n",
       "      <th id=\"T_e5990_level0_row12\" class=\"row_heading level0 row12\" >12</th>\n",
       "      <td id=\"T_e5990_row12_col0\" class=\"data row12 col0\" >15</td>\n",
       "      <td id=\"T_e5990_row12_col1\" class=\"data row12 col1\" >15</td>\n",
       "      <td id=\"T_e5990_row12_col2\" class=\"data row12 col2\" >Aggression-ODD</td>\n",
       "      <td id=\"T_e5990_row12_col3\" class=\"data row12 col3\" >ODD = aggression - Teacher</td>\n",
       "      <td id=\"T_e5990_row12_col4\" class=\"data row12 col4\" >Treatment x time</td>\n",
       "      <td id=\"T_e5990_row12_col5\" class=\"data row12 col5\" >6.500000</td>\n",
       "      <td id=\"T_e5990_row12_col6\" class=\"data row12 col6\" >.0003</td>\n",
       "      <td id=\"T_e5990_row12_col7\" class=\"data row12 col7\" >7.170000</td>\n",
       "      <td id=\"T_e5990_row12_col8\" class=\"data row12 col8\" >0.000000</td>\n",
       "      <td id=\"T_e5990_row12_col9\" class=\"data row12 col9\" >snaoddx</td>\n",
       "    </tr>\n",
       "    <tr>\n",
       "      <th id=\"T_e5990_level0_row13\" class=\"row_heading level0 row13\" >13</th>\n",
       "      <td id=\"T_e5990_row13_col0\" class=\"data row13 col0\" >16</td>\n",
       "      <td id=\"T_e5990_row13_col1\" class=\"data row13 col1\" >16</td>\n",
       "      <td id=\"T_e5990_row13_col2\" class=\"data row13 col2\" >Aggression-ODD</td>\n",
       "      <td id=\"T_e5990_row13_col3\" class=\"data row13 col3\" >ODD = aggression - Teacher</td>\n",
       "      <td id=\"T_e5990_row13_col4\" class=\"data row13 col4\" >Treatment x site</td>\n",
       "      <td id=\"T_e5990_row13_col5\" class=\"data row13 col5\" >1.200000</td>\n",
       "      <td id=\"T_e5990_row13_col6\" class=\"data row13 col6\" >.25</td>\n",
       "      <td id=\"T_e5990_row13_col7\" class=\"data row13 col7\" >1.160000</td>\n",
       "      <td id=\"T_e5990_row13_col8\" class=\"data row13 col8\" >0.290000</td>\n",
       "      <td id=\"T_e5990_row13_col9\" class=\"data row13 col9\" >snaoddx</td>\n",
       "    </tr>\n",
       "    <tr>\n",
       "      <th id=\"T_e5990_level0_row14\" class=\"row_heading level0 row14\" >14</th>\n",
       "      <td id=\"T_e5990_row14_col0\" class=\"data row14 col0\" >17</td>\n",
       "      <td id=\"T_e5990_row14_col1\" class=\"data row14 col1\" >17</td>\n",
       "      <td id=\"T_e5990_row14_col2\" class=\"data row14 col2\" >Aggression-ODD</td>\n",
       "      <td id=\"T_e5990_row14_col3\" class=\"data row14 col3\" >ODD = aggression - Teacher</td>\n",
       "      <td id=\"T_e5990_row14_col4\" class=\"data row14 col4\" >Site</td>\n",
       "      <td id=\"T_e5990_row14_col5\" class=\"data row14 col5\" >4.200000</td>\n",
       "      <td id=\"T_e5990_row14_col6\" class=\"data row14 col6\" >.001</td>\n",
       "      <td id=\"T_e5990_row14_col7\" class=\"data row14 col7\" >0.720000</td>\n",
       "      <td id=\"T_e5990_row14_col8\" class=\"data row14 col8\" >0.610000</td>\n",
       "      <td id=\"T_e5990_row14_col9\" class=\"data row14 col9\" >snaoddx</td>\n",
       "    </tr>\n",
       "    <tr>\n",
       "      <th id=\"T_e5990_level0_row15\" class=\"row_heading level0 row15\" >15</th>\n",
       "      <td id=\"T_e5990_row15_col0\" class=\"data row15 col0\" >18</td>\n",
       "      <td id=\"T_e5990_row15_col1\" class=\"data row15 col1\" >18</td>\n",
       "      <td id=\"T_e5990_row15_col2\" class=\"data row15 col2\" >Aggression-ODD</td>\n",
       "      <td id=\"T_e5990_row15_col3\" class=\"data row15 col3\" >ODD = aggression - Parent</td>\n",
       "      <td id=\"T_e5990_row15_col4\" class=\"data row15 col4\" >Treatment x time</td>\n",
       "      <td id=\"T_e5990_row15_col5\" class=\"data row15 col5\" >7.400000</td>\n",
       "      <td id=\"T_e5990_row15_col6\" class=\"data row15 col6\" ><.001</td>\n",
       "      <td id=\"T_e5990_row15_col7\" class=\"data row15 col7\" >3.420000</td>\n",
       "      <td id=\"T_e5990_row15_col8\" class=\"data row15 col8\" >0.020000</td>\n",
       "      <td id=\"T_e5990_row15_col9\" class=\"data row15 col9\" >snaoddx</td>\n",
       "    </tr>\n",
       "    <tr>\n",
       "      <th id=\"T_e5990_level0_row16\" class=\"row_heading level0 row16\" >16</th>\n",
       "      <td id=\"T_e5990_row16_col0\" class=\"data row16 col0\" >19</td>\n",
       "      <td id=\"T_e5990_row16_col1\" class=\"data row16 col1\" >19</td>\n",
       "      <td id=\"T_e5990_row16_col2\" class=\"data row16 col2\" >Aggression-ODD</td>\n",
       "      <td id=\"T_e5990_row16_col3\" class=\"data row16 col3\" >ODD = aggression - Parent</td>\n",
       "      <td id=\"T_e5990_row16_col4\" class=\"data row16 col4\" >Treatment x site</td>\n",
       "      <td id=\"T_e5990_row16_col5\" class=\"data row16 col5\" >1.100000</td>\n",
       "      <td id=\"T_e5990_row16_col6\" class=\"data row16 col6\" >.40</td>\n",
       "      <td id=\"T_e5990_row16_col7\" class=\"data row16 col7\" >1.750000</td>\n",
       "      <td id=\"T_e5990_row16_col8\" class=\"data row16 col8\" >0.040000</td>\n",
       "      <td id=\"T_e5990_row16_col9\" class=\"data row16 col9\" >snaoddx</td>\n",
       "    </tr>\n",
       "    <tr>\n",
       "      <th id=\"T_e5990_level0_row17\" class=\"row_heading level0 row17\" >17</th>\n",
       "      <td id=\"T_e5990_row17_col0\" class=\"data row17 col0\" >20</td>\n",
       "      <td id=\"T_e5990_row17_col1\" class=\"data row17 col1\" >20</td>\n",
       "      <td id=\"T_e5990_row17_col2\" class=\"data row17 col2\" >Aggression-ODD</td>\n",
       "      <td id=\"T_e5990_row17_col3\" class=\"data row17 col3\" >ODD = aggression - Parent</td>\n",
       "      <td id=\"T_e5990_row17_col4\" class=\"data row17 col4\" >Site</td>\n",
       "      <td id=\"T_e5990_row17_col5\" class=\"data row17 col5\" >4.300000</td>\n",
       "      <td id=\"T_e5990_row17_col6\" class=\"data row17 col6\" >.0007</td>\n",
       "      <td id=\"T_e5990_row17_col7\" class=\"data row17 col7\" >0.400000</td>\n",
       "      <td id=\"T_e5990_row17_col8\" class=\"data row17 col8\" >0.850000</td>\n",
       "      <td id=\"T_e5990_row17_col9\" class=\"data row17 col9\" >snaoddx</td>\n",
       "    </tr>\n",
       "    <tr>\n",
       "      <th id=\"T_e5990_level0_row18\" class=\"row_heading level0 row18\" >18</th>\n",
       "      <td id=\"T_e5990_row18_col0\" class=\"data row18 col0\" >24</td>\n",
       "      <td id=\"T_e5990_row18_col1\" class=\"data row18 col1\" >24</td>\n",
       "      <td id=\"T_e5990_row18_col2\" class=\"data row18 col2\" >Internalizing symptoms</td>\n",
       "      <td id=\"T_e5990_row18_col3\" class=\"data row18 col3\" >SSRS Internalizing - Teacher</td>\n",
       "      <td id=\"T_e5990_row18_col4\" class=\"data row18 col4\" >Treatment x time</td>\n",
       "      <td id=\"T_e5990_row18_col5\" class=\"data row18 col5\" >2.100000</td>\n",
       "      <td id=\"T_e5990_row18_col6\" class=\"data row18 col6\" >.10</td>\n",
       "      <td id=\"T_e5990_row18_col7\" class=\"data row18 col7\" >0.100000</td>\n",
       "      <td id=\"T_e5990_row18_col8\" class=\"data row18 col8\" >0.960000</td>\n",
       "      <td id=\"T_e5990_row18_col9\" class=\"data row18 col9\" >sspintx</td>\n",
       "    </tr>\n",
       "    <tr>\n",
       "      <th id=\"T_e5990_level0_row19\" class=\"row_heading level0 row19\" >19</th>\n",
       "      <td id=\"T_e5990_row19_col0\" class=\"data row19 col0\" >25</td>\n",
       "      <td id=\"T_e5990_row19_col1\" class=\"data row19 col1\" >25</td>\n",
       "      <td id=\"T_e5990_row19_col2\" class=\"data row19 col2\" >Internalizing symptoms</td>\n",
       "      <td id=\"T_e5990_row19_col3\" class=\"data row19 col3\" >SSRS Internalizing - Teacher</td>\n",
       "      <td id=\"T_e5990_row19_col4\" class=\"data row19 col4\" >Treatment x site</td>\n",
       "      <td id=\"T_e5990_row19_col5\" class=\"data row19 col5\" >0.500000</td>\n",
       "      <td id=\"T_e5990_row19_col6\" class=\"data row19 col6\" >.92</td>\n",
       "      <td id=\"T_e5990_row19_col7\" class=\"data row19 col7\" >0.460000</td>\n",
       "      <td id=\"T_e5990_row19_col8\" class=\"data row19 col8\" >0.960000</td>\n",
       "      <td id=\"T_e5990_row19_col9\" class=\"data row19 col9\" >sspintx</td>\n",
       "    </tr>\n",
       "    <tr>\n",
       "      <th id=\"T_e5990_level0_row20\" class=\"row_heading level0 row20\" >20</th>\n",
       "      <td id=\"T_e5990_row20_col0\" class=\"data row20 col0\" >26</td>\n",
       "      <td id=\"T_e5990_row20_col1\" class=\"data row20 col1\" >26</td>\n",
       "      <td id=\"T_e5990_row20_col2\" class=\"data row20 col2\" >Internalizing symptoms</td>\n",
       "      <td id=\"T_e5990_row20_col3\" class=\"data row20 col3\" >SSRS Internalizing - Teacher</td>\n",
       "      <td id=\"T_e5990_row20_col4\" class=\"data row20 col4\" >Site</td>\n",
       "      <td id=\"T_e5990_row20_col5\" class=\"data row20 col5\" >1.600000</td>\n",
       "      <td id=\"T_e5990_row20_col6\" class=\"data row20 col6\" >.17</td>\n",
       "      <td id=\"T_e5990_row20_col7\" class=\"data row20 col7\" >0.370000</td>\n",
       "      <td id=\"T_e5990_row20_col8\" class=\"data row20 col8\" >0.870000</td>\n",
       "      <td id=\"T_e5990_row20_col9\" class=\"data row20 col9\" >sspintx</td>\n",
       "    </tr>\n",
       "    <tr>\n",
       "      <th id=\"T_e5990_level0_row21\" class=\"row_heading level0 row21\" >21</th>\n",
       "      <td id=\"T_e5990_row21_col0\" class=\"data row21 col0\" >27</td>\n",
       "      <td id=\"T_e5990_row21_col1\" class=\"data row21 col1\" >27</td>\n",
       "      <td id=\"T_e5990_row21_col2\" class=\"data row21 col2\" >Internalizing symptoms</td>\n",
       "      <td id=\"T_e5990_row21_col3\" class=\"data row21 col3\" >SSRS Internalizing - Parent</td>\n",
       "      <td id=\"T_e5990_row21_col4\" class=\"data row21 col4\" >Treatment x time</td>\n",
       "      <td id=\"T_e5990_row21_col5\" class=\"data row21 col5\" >9.200000</td>\n",
       "      <td id=\"T_e5990_row21_col6\" class=\"data row21 col6\" ><.001</td>\n",
       "      <td id=\"T_e5990_row21_col7\" class=\"data row21 col7\" >1.780000</td>\n",
       "      <td id=\"T_e5990_row21_col8\" class=\"data row21 col8\" >0.150000</td>\n",
       "      <td id=\"T_e5990_row21_col9\" class=\"data row21 col9\" >sspintx</td>\n",
       "    </tr>\n",
       "    <tr>\n",
       "      <th id=\"T_e5990_level0_row22\" class=\"row_heading level0 row22\" >22</th>\n",
       "      <td id=\"T_e5990_row22_col0\" class=\"data row22 col0\" >28</td>\n",
       "      <td id=\"T_e5990_row22_col1\" class=\"data row22 col1\" >28</td>\n",
       "      <td id=\"T_e5990_row22_col2\" class=\"data row22 col2\" >Internalizing symptoms</td>\n",
       "      <td id=\"T_e5990_row22_col3\" class=\"data row22 col3\" >SSRS Internalizing - Parent</td>\n",
       "      <td id=\"T_e5990_row22_col4\" class=\"data row22 col4\" >Treatment x site</td>\n",
       "      <td id=\"T_e5990_row22_col5\" class=\"data row22 col5\" >1.100000</td>\n",
       "      <td id=\"T_e5990_row22_col6\" class=\"data row22 col6\" >.35</td>\n",
       "      <td id=\"T_e5990_row22_col7\" class=\"data row22 col7\" >0.770000</td>\n",
       "      <td id=\"T_e5990_row22_col8\" class=\"data row22 col8\" >0.710000</td>\n",
       "      <td id=\"T_e5990_row22_col9\" class=\"data row22 col9\" >sspintx</td>\n",
       "    </tr>\n",
       "    <tr>\n",
       "      <th id=\"T_e5990_level0_row23\" class=\"row_heading level0 row23\" >23</th>\n",
       "      <td id=\"T_e5990_row23_col0\" class=\"data row23 col0\" >29</td>\n",
       "      <td id=\"T_e5990_row23_col1\" class=\"data row23 col1\" >29</td>\n",
       "      <td id=\"T_e5990_row23_col2\" class=\"data row23 col2\" >Internalizing symptoms</td>\n",
       "      <td id=\"T_e5990_row23_col3\" class=\"data row23 col3\" >SSRS Internalizing - Parent</td>\n",
       "      <td id=\"T_e5990_row23_col4\" class=\"data row23 col4\" >Site</td>\n",
       "      <td id=\"T_e5990_row23_col5\" class=\"data row23 col5\" >2.200000</td>\n",
       "      <td id=\"T_e5990_row23_col6\" class=\"data row23 col6\" >.05</td>\n",
       "      <td id=\"T_e5990_row23_col7\" class=\"data row23 col7\" >0.630000</td>\n",
       "      <td id=\"T_e5990_row23_col8\" class=\"data row23 col8\" >0.680000</td>\n",
       "      <td id=\"T_e5990_row23_col9\" class=\"data row23 col9\" >sspintx</td>\n",
       "    </tr>\n",
       "    <tr>\n",
       "      <th id=\"T_e5990_level0_row24\" class=\"row_heading level0 row24\" >24</th>\n",
       "      <td id=\"T_e5990_row24_col0\" class=\"data row24 col0\" >33</td>\n",
       "      <td id=\"T_e5990_row24_col1\" class=\"data row24 col1\" >33</td>\n",
       "      <td id=\"T_e5990_row24_col2\" class=\"data row24 col2\" >Social skills</td>\n",
       "      <td id=\"T_e5990_row24_col3\" class=\"data row24 col3\" >SSRS Teacher</td>\n",
       "      <td id=\"T_e5990_row24_col4\" class=\"data row24 col4\" >Treatment x time</td>\n",
       "      <td id=\"T_e5990_row24_col5\" class=\"data row24 col5\" >6.100000</td>\n",
       "      <td id=\"T_e5990_row24_col6\" class=\"data row24 col6\" >.0004</td>\n",
       "      <td id=\"T_e5990_row24_col7\" class=\"data row24 col7\" >5.100000</td>\n",
       "      <td id=\"T_e5990_row24_col8\" class=\"data row24 col8\" >0.000000</td>\n",
       "      <td id=\"T_e5990_row24_col9\" class=\"data row24 col9\" >ssptossx</td>\n",
       "    </tr>\n",
       "    <tr>\n",
       "      <th id=\"T_e5990_level0_row25\" class=\"row_heading level0 row25\" >25</th>\n",
       "      <td id=\"T_e5990_row25_col0\" class=\"data row25 col0\" >34</td>\n",
       "      <td id=\"T_e5990_row25_col1\" class=\"data row25 col1\" >34</td>\n",
       "      <td id=\"T_e5990_row25_col2\" class=\"data row25 col2\" >Social skills</td>\n",
       "      <td id=\"T_e5990_row25_col3\" class=\"data row25 col3\" >SSRS Teacher</td>\n",
       "      <td id=\"T_e5990_row25_col4\" class=\"data row25 col4\" >Treatment x site</td>\n",
       "      <td id=\"T_e5990_row25_col5\" class=\"data row25 col5\" >0.050000</td>\n",
       "      <td id=\"T_e5990_row25_col6\" class=\"data row25 col6\" >.96</td>\n",
       "      <td id=\"T_e5990_row25_col7\" class=\"data row25 col7\" >0.500000</td>\n",
       "      <td id=\"T_e5990_row25_col8\" class=\"data row25 col8\" >0.940000</td>\n",
       "      <td id=\"T_e5990_row25_col9\" class=\"data row25 col9\" >ssptossx</td>\n",
       "    </tr>\n",
       "    <tr>\n",
       "      <th id=\"T_e5990_level0_row26\" class=\"row_heading level0 row26\" >26</th>\n",
       "      <td id=\"T_e5990_row26_col0\" class=\"data row26 col0\" >35</td>\n",
       "      <td id=\"T_e5990_row26_col1\" class=\"data row26 col1\" >35</td>\n",
       "      <td id=\"T_e5990_row26_col2\" class=\"data row26 col2\" >Social skills</td>\n",
       "      <td id=\"T_e5990_row26_col3\" class=\"data row26 col3\" >SSRS Teacher</td>\n",
       "      <td id=\"T_e5990_row26_col4\" class=\"data row26 col4\" >Site</td>\n",
       "      <td id=\"T_e5990_row26_col5\" class=\"data row26 col5\" >3.900000</td>\n",
       "      <td id=\"T_e5990_row26_col6\" class=\"data row26 col6\" >.002</td>\n",
       "      <td id=\"T_e5990_row26_col7\" class=\"data row26 col7\" >0.490000</td>\n",
       "      <td id=\"T_e5990_row26_col8\" class=\"data row26 col8\" >0.790000</td>\n",
       "      <td id=\"T_e5990_row26_col9\" class=\"data row26 col9\" >ssptossx</td>\n",
       "    </tr>\n",
       "    <tr>\n",
       "      <th id=\"T_e5990_level0_row27\" class=\"row_heading level0 row27\" >27</th>\n",
       "      <td id=\"T_e5990_row27_col0\" class=\"data row27 col0\" >36</td>\n",
       "      <td id=\"T_e5990_row27_col1\" class=\"data row27 col1\" >36</td>\n",
       "      <td id=\"T_e5990_row27_col2\" class=\"data row27 col2\" >Social skills</td>\n",
       "      <td id=\"T_e5990_row27_col3\" class=\"data row27 col3\" >SSRS Parent</td>\n",
       "      <td id=\"T_e5990_row27_col4\" class=\"data row27 col4\" >Treatment x time</td>\n",
       "      <td id=\"T_e5990_row27_col5\" class=\"data row27 col5\" >2.200000</td>\n",
       "      <td id=\"T_e5990_row27_col6\" class=\"data row27 col6\" >.09</td>\n",
       "      <td id=\"T_e5990_row27_col7\" class=\"data row27 col7\" >0.860000</td>\n",
       "      <td id=\"T_e5990_row27_col8\" class=\"data row27 col8\" >0.460000</td>\n",
       "      <td id=\"T_e5990_row27_col9\" class=\"data row27 col9\" >ssptossx</td>\n",
       "    </tr>\n",
       "    <tr>\n",
       "      <th id=\"T_e5990_level0_row28\" class=\"row_heading level0 row28\" >28</th>\n",
       "      <td id=\"T_e5990_row28_col0\" class=\"data row28 col0\" >37</td>\n",
       "      <td id=\"T_e5990_row28_col1\" class=\"data row28 col1\" >37</td>\n",
       "      <td id=\"T_e5990_row28_col2\" class=\"data row28 col2\" >Social skills</td>\n",
       "      <td id=\"T_e5990_row28_col3\" class=\"data row28 col3\" >SSRS Parent</td>\n",
       "      <td id=\"T_e5990_row28_col4\" class=\"data row28 col4\" >Treatment x site</td>\n",
       "      <td id=\"T_e5990_row28_col5\" class=\"data row28 col5\" >1.000000</td>\n",
       "      <td id=\"T_e5990_row28_col6\" class=\"data row28 col6\" >.86</td>\n",
       "      <td id=\"T_e5990_row28_col7\" class=\"data row28 col7\" >0.940000</td>\n",
       "      <td id=\"T_e5990_row28_col8\" class=\"data row28 col8\" >0.520000</td>\n",
       "      <td id=\"T_e5990_row28_col9\" class=\"data row28 col9\" >ssptossx</td>\n",
       "    </tr>\n",
       "    <tr>\n",
       "      <th id=\"T_e5990_level0_row29\" class=\"row_heading level0 row29\" >29</th>\n",
       "      <td id=\"T_e5990_row29_col0\" class=\"data row29 col0\" >38</td>\n",
       "      <td id=\"T_e5990_row29_col1\" class=\"data row29 col1\" >38</td>\n",
       "      <td id=\"T_e5990_row29_col2\" class=\"data row29 col2\" >Social skills</td>\n",
       "      <td id=\"T_e5990_row29_col3\" class=\"data row29 col3\" >SSRS Parent</td>\n",
       "      <td id=\"T_e5990_row29_col4\" class=\"data row29 col4\" >Site</td>\n",
       "      <td id=\"T_e5990_row29_col5\" class=\"data row29 col5\" >3.800000</td>\n",
       "      <td id=\"T_e5990_row29_col6\" class=\"data row29 col6\" >.02</td>\n",
       "      <td id=\"T_e5990_row29_col7\" class=\"data row29 col7\" >0.970000</td>\n",
       "      <td id=\"T_e5990_row29_col8\" class=\"data row29 col8\" >0.430000</td>\n",
       "      <td id=\"T_e5990_row29_col9\" class=\"data row29 col9\" >ssptossx</td>\n",
       "    </tr>\n",
       "    <tr>\n",
       "      <th id=\"T_e5990_level0_row30\" class=\"row_heading level0 row30\" >30</th>\n",
       "      <td id=\"T_e5990_row30_col0\" class=\"data row30 col0\" >39</td>\n",
       "      <td id=\"T_e5990_row30_col1\" class=\"data row30 col1\" >39</td>\n",
       "      <td id=\"T_e5990_row30_col2\" class=\"data row30 col2\" >Parent-child relations</td>\n",
       "      <td id=\"T_e5990_row30_col3\" class=\"data row30 col3\" >Power assertion - Parent</td>\n",
       "      <td id=\"T_e5990_row30_col4\" class=\"data row30 col4\" >Treatment x time</td>\n",
       "      <td id=\"T_e5990_row30_col5\" class=\"data row30 col5\" >5.600000</td>\n",
       "      <td id=\"T_e5990_row30_col6\" class=\"data row30 col6\" >.0008</td>\n",
       "      <td id=\"T_e5990_row30_col7\" class=\"data row30 col7\" >None</td>\n",
       "      <td id=\"T_e5990_row30_col8\" class=\"data row30 col8\" >nan</td>\n",
       "      <td id=\"T_e5990_row30_col9\" class=\"data row30 col9\" >None</td>\n",
       "    </tr>\n",
       "    <tr>\n",
       "      <th id=\"T_e5990_level0_row31\" class=\"row_heading level0 row31\" >31</th>\n",
       "      <td id=\"T_e5990_row31_col0\" class=\"data row31 col0\" >40</td>\n",
       "      <td id=\"T_e5990_row31_col1\" class=\"data row31 col1\" >40</td>\n",
       "      <td id=\"T_e5990_row31_col2\" class=\"data row31 col2\" >Parent-child relations</td>\n",
       "      <td id=\"T_e5990_row31_col3\" class=\"data row31 col3\" >Power assertion - Parent</td>\n",
       "      <td id=\"T_e5990_row31_col4\" class=\"data row31 col4\" >Treatment x site</td>\n",
       "      <td id=\"T_e5990_row31_col5\" class=\"data row31 col5\" >1.000000</td>\n",
       "      <td id=\"T_e5990_row31_col6\" class=\"data row31 col6\" >.45</td>\n",
       "      <td id=\"T_e5990_row31_col7\" class=\"data row31 col7\" >None</td>\n",
       "      <td id=\"T_e5990_row31_col8\" class=\"data row31 col8\" >nan</td>\n",
       "      <td id=\"T_e5990_row31_col9\" class=\"data row31 col9\" >None</td>\n",
       "    </tr>\n",
       "    <tr>\n",
       "      <th id=\"T_e5990_level0_row32\" class=\"row_heading level0 row32\" >32</th>\n",
       "      <td id=\"T_e5990_row32_col0\" class=\"data row32 col0\" >41</td>\n",
       "      <td id=\"T_e5990_row32_col1\" class=\"data row32 col1\" >41</td>\n",
       "      <td id=\"T_e5990_row32_col2\" class=\"data row32 col2\" >Parent-child relations</td>\n",
       "      <td id=\"T_e5990_row32_col3\" class=\"data row32 col3\" >Power assertion - Parent</td>\n",
       "      <td id=\"T_e5990_row32_col4\" class=\"data row32 col4\" >Site</td>\n",
       "      <td id=\"T_e5990_row32_col5\" class=\"data row32 col5\" >2.800000</td>\n",
       "      <td id=\"T_e5990_row32_col6\" class=\"data row32 col6\" >.02</td>\n",
       "      <td id=\"T_e5990_row32_col7\" class=\"data row32 col7\" >None</td>\n",
       "      <td id=\"T_e5990_row32_col8\" class=\"data row32 col8\" >nan</td>\n",
       "      <td id=\"T_e5990_row32_col9\" class=\"data row32 col9\" >None</td>\n",
       "    </tr>\n",
       "    <tr>\n",
       "      <th id=\"T_e5990_level0_row33\" class=\"row_heading level0 row33\" >33</th>\n",
       "      <td id=\"T_e5990_row33_col0\" class=\"data row33 col0\" >42</td>\n",
       "      <td id=\"T_e5990_row33_col1\" class=\"data row33 col1\" >42</td>\n",
       "      <td id=\"T_e5990_row33_col2\" class=\"data row33 col2\" >Parent-child relations</td>\n",
       "      <td id=\"T_e5990_row33_col3\" class=\"data row33 col3\" >Personal closeness - Parent</td>\n",
       "      <td id=\"T_e5990_row33_col4\" class=\"data row33 col4\" >Treatment x time</td>\n",
       "      <td id=\"T_e5990_row33_col5\" class=\"data row33 col5\" >2.000000</td>\n",
       "      <td id=\"T_e5990_row33_col6\" class=\"data row33 col6\" >.0008</td>\n",
       "      <td id=\"T_e5990_row33_col7\" class=\"data row33 col7\" >None</td>\n",
       "      <td id=\"T_e5990_row33_col8\" class=\"data row33 col8\" >nan</td>\n",
       "      <td id=\"T_e5990_row33_col9\" class=\"data row33 col9\" >None</td>\n",
       "    </tr>\n",
       "    <tr>\n",
       "      <th id=\"T_e5990_level0_row34\" class=\"row_heading level0 row34\" >34</th>\n",
       "      <td id=\"T_e5990_row34_col0\" class=\"data row34 col0\" >43</td>\n",
       "      <td id=\"T_e5990_row34_col1\" class=\"data row34 col1\" >43</td>\n",
       "      <td id=\"T_e5990_row34_col2\" class=\"data row34 col2\" >Parent-child relations</td>\n",
       "      <td id=\"T_e5990_row34_col3\" class=\"data row34 col3\" >Personal closeness - Parent</td>\n",
       "      <td id=\"T_e5990_row34_col4\" class=\"data row34 col4\" >Treatment x site</td>\n",
       "      <td id=\"T_e5990_row34_col5\" class=\"data row34 col5\" >1.000000</td>\n",
       "      <td id=\"T_e5990_row34_col6\" class=\"data row34 col6\" >.54</td>\n",
       "      <td id=\"T_e5990_row34_col7\" class=\"data row34 col7\" >None</td>\n",
       "      <td id=\"T_e5990_row34_col8\" class=\"data row34 col8\" >nan</td>\n",
       "      <td id=\"T_e5990_row34_col9\" class=\"data row34 col9\" >None</td>\n",
       "    </tr>\n",
       "    <tr>\n",
       "      <th id=\"T_e5990_level0_row35\" class=\"row_heading level0 row35\" >35</th>\n",
       "      <td id=\"T_e5990_row35_col0\" class=\"data row35 col0\" >44</td>\n",
       "      <td id=\"T_e5990_row35_col1\" class=\"data row35 col1\" >44</td>\n",
       "      <td id=\"T_e5990_row35_col2\" class=\"data row35 col2\" >Parent-child relations</td>\n",
       "      <td id=\"T_e5990_row35_col3\" class=\"data row35 col3\" >Personal closeness - Parent</td>\n",
       "      <td id=\"T_e5990_row35_col4\" class=\"data row35 col4\" >Site</td>\n",
       "      <td id=\"T_e5990_row35_col5\" class=\"data row35 col5\" >1.200000</td>\n",
       "      <td id=\"T_e5990_row35_col6\" class=\"data row35 col6\" >.32</td>\n",
       "      <td id=\"T_e5990_row35_col7\" class=\"data row35 col7\" >None</td>\n",
       "      <td id=\"T_e5990_row35_col8\" class=\"data row35 col8\" >nan</td>\n",
       "      <td id=\"T_e5990_row35_col9\" class=\"data row35 col9\" >None</td>\n",
       "    </tr>\n",
       "  </tbody>\n",
       "</table>\n"
      ],
      "text/plain": [
       "<pandas.io.formats.style.Styler at 0x7ff163a336d0>"
      ]
     },
     "execution_count": 363,
     "metadata": {},
     "output_type": "execute_result"
    }
   ],
   "source": [
    "orig_rr_14['replicated p_value'] = orig_rr_14['replicated p_value'].astype(float)\n",
    "\n",
    "orig_rr_14.style.apply(\n",
    "    lambda x: ['background-color: blue' if v < alpha else '' for v in x], \n",
    "    subset=['replicated p_value'])"
   ]
  },
  {
   "cell_type": "code",
   "execution_count": 341,
   "metadata": {},
   "outputs": [],
   "source": [
    "# mean_dict = {}\n",
    "# std_dict = {}\n",
    "# for qst, dat in zip( data.keys(), data.values()):\n",
    "#     dates_meandict = {}\n",
    "#     dates_stddict = {}\n",
    "#     for date in ['b', '14', '24', '36']:\n",
    "#         group_mean= []\n",
    "#         group_std= []\n",
    "\n",
    "#         for var in outcomes_dict[qst]:\n",
    "#             mean, std  = [], []\n",
    "\n",
    "#             for group in ['C', 'M', 'P']:\n",
    "            \n",
    "#                 dat_ = dat[date][dat[date]['trtname'] == group] #extract data from qst[date[var], group \n",
    "\n",
    "#                 mean.append(dat_[var].mean())\n",
    "#                 std.append(dat_[var].std())\n",
    "#             group_mean.append(mean)\n",
    "#             group_std.append(std)\n",
    "#         dates_meandict[date] = group_mean\n",
    "#         dates_stddict[date] = group_std\n",
    "\n",
    "            \n",
    "#     mean_dict[qst] = dates_meandict\n",
    "#     std_dict[qst] = dates_stddict\n",
    "\n"
   ]
  },
  {
   "cell_type": "code",
   "execution_count": 342,
   "metadata": {},
   "outputs": [],
   "source": [
    "# orig_rr_14.to_csv(Path(derived_data, 'original_and_new_rr_14.csv'))"
   ]
  },
  {
   "cell_type": "code",
   "execution_count": 350,
   "metadata": {},
   "outputs": [
    {
     "name": "stdout",
     "output_type": "stream",
     "text": [
      "['sspintx',   Description     Significance   F-Value   P-Value\n",
      "0  time_treat  Not Significant  0.100833  0.959549\n",
      "1  site_treat  Not Significant  0.456635  0.961461\n",
      "2        site  Not Significant  0.368243  0.870591]\n",
      "['sspintx',   Description     Significance   F-Value   P-Value\n",
      "0  time_treat  Not Significant  1.776329  0.149427\n",
      "1  site_treat  Not Significant  0.771165  0.711268\n",
      "2        site  Not Significant  0.631833  0.675473]\n",
      "['ssptossx',   Description     Significance   F-Value   P-Value\n",
      "0  time_treat    *Significant*  5.101886  0.001608\n",
      "1  site_treat  Not Significant  0.496734  0.943616\n",
      "2        site  Not Significant  0.485249  0.787516]\n",
      "['ssptossx',   Description     Significance   F-Value   P-Value\n",
      "0  time_treat  Not Significant  0.861553  0.460281\n",
      "1  site_treat  Not Significant  0.935707  0.522976\n",
      "2        site  Not Significant  0.970836  0.434083]\n"
     ]
    }
   ],
   "source": [
    "for i, res in enumerate(f_result_ssrs):\n",
    "    print(res)"
   ]
  },
  {
   "cell_type": "markdown",
   "metadata": {},
   "source": [
    "- all snap vars are significant \n",
    "- ssrs 'sspintx', parent  not significant \n",
    "\n"
   ]
  },
  {
   "cell_type": "code",
   "execution_count": 348,
   "metadata": {},
   "outputs": [
    {
     "data": {
      "text/html": [
       "<div>\n",
       "<style scoped>\n",
       "    .dataframe tbody tr th:only-of-type {\n",
       "        vertical-align: middle;\n",
       "    }\n",
       "\n",
       "    .dataframe tbody tr th {\n",
       "        vertical-align: top;\n",
       "    }\n",
       "\n",
       "    .dataframe thead th {\n",
       "        text-align: right;\n",
       "    }\n",
       "</style>\n",
       "<table border=\"1\" class=\"dataframe\">\n",
       "  <thead>\n",
       "    <tr style=\"text-align: right;\">\n",
       "      <th></th>\n",
       "      <th>0</th>\n",
       "      <th>1</th>\n",
       "    </tr>\n",
       "  </thead>\n",
       "  <tbody>\n",
       "    <tr>\n",
       "      <th>0</th>\n",
       "      <td>snainatx</td>\n",
       "      <td>Description     Significance    F-Value     ...</td>\n",
       "    </tr>\n",
       "    <tr>\n",
       "      <th>1</th>\n",
       "      <td>snainatx</td>\n",
       "      <td>Description     Significance    F-Value     ...</td>\n",
       "    </tr>\n",
       "    <tr>\n",
       "      <th>2</th>\n",
       "      <td>snahypax</td>\n",
       "      <td>Description     Significance    F-Value     ...</td>\n",
       "    </tr>\n",
       "    <tr>\n",
       "      <th>3</th>\n",
       "      <td>snahypax</td>\n",
       "      <td>Description     Significance    F-Value     ...</td>\n",
       "    </tr>\n",
       "    <tr>\n",
       "      <th>4</th>\n",
       "      <td>snaoddx</td>\n",
       "      <td>Description     Significance   F-Value   P-V...</td>\n",
       "    </tr>\n",
       "    <tr>\n",
       "      <th>5</th>\n",
       "      <td>snaoddx</td>\n",
       "      <td>Description     Significance   F-Value   P-V...</td>\n",
       "    </tr>\n",
       "  </tbody>\n",
       "</table>\n",
       "</div>"
      ],
      "text/plain": [
       "          0                                                  1\n",
       "0  snainatx    Description     Significance    F-Value     ...\n",
       "1  snainatx    Description     Significance    F-Value     ...\n",
       "2  snahypax    Description     Significance    F-Value     ...\n",
       "3  snahypax    Description     Significance    F-Value     ...\n",
       "4   snaoddx    Description     Significance   F-Value   P-V...\n",
       "5   snaoddx    Description     Significance   F-Value   P-V..."
      ]
     },
     "execution_count": 348,
     "metadata": {},
     "output_type": "execute_result"
    }
   ],
   "source": []
  },
  {
   "cell_type": "markdown",
   "metadata": {},
   "source": [
    "## contrasts "
   ]
  },
  {
   "cell_type": "code",
   "execution_count": null,
   "metadata": {},
   "outputs": [],
   "source": []
  }
 ],
 "metadata": {
  "kernelspec": {
   "display_name": "abcd",
   "language": "python",
   "name": "python3"
  },
  "language_info": {
   "codemirror_mode": {
    "name": "ipython",
    "version": 3
   },
   "file_extension": ".py",
   "mimetype": "text/x-python",
   "name": "python",
   "nbconvert_exporter": "python",
   "pygments_lexer": "ipython3",
   "version": "3.10.0"
  }
 },
 "nbformat": 4,
 "nbformat_minor": 2
}
