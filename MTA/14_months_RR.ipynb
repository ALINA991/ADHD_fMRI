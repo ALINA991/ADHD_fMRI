{
 "cells": [
  {
   "cell_type": "code",
   "execution_count": 278,
   "metadata": {},
   "outputs": [],
   "source": [
    "from pathlib import Path \n",
    "import numpy as np \n",
    "import matplotlib.pyplot as plt \n",
    "import pandas as pd\n",
    "from collections import OrderedDict\n",
    "import sys\n",
    "import os\n",
    "import seaborn as sns\n",
    "import researchpy as rp\n",
    "import statsmodels.api as sm\n",
    "import scipy.stats as stats"
   ]
  },
  {
   "cell_type": "code",
   "execution_count": 279,
   "metadata": {},
   "outputs": [],
   "source": [
    "data_root = '/Volumes/Samsung_T5/MIT/mta'\n",
    "#os.listdir(data_root)\n"
   ]
  },
  {
   "cell_type": "markdown",
   "metadata": {},
   "source": [
    "#### Assessments \n",
    " - ADHD symptoms: assessed by the inattentive and hyperactive subscale of the SNAP (parent and teacher rated\n",
    "- ODD symptoms: assessed by the oppositional/aggressive subscale o the SNAP (parent and teacher rated) \n",
    "- \tSocial skills: assessed by the Social Skill Rating System (SSRS), parent and teacher rated. \n",
    "- \tInternalizing: assessed with the internalizing subscale of the SSRS (parent and teacher rated) and the child-reported Multidimensional Anxiety scale for children (MASC) \n",
    "- \tParent-child relations: assessed with a parent-child relationship questionnaire.\n",
    "- \tAcademic achievement: assessed with the reading, mathematics, and spelling subscale of the Wechsler Individual Achievement test.\n"
   ]
  },
  {
   "cell_type": "code",
   "execution_count": 280,
   "metadata": {},
   "outputs": [
    {
     "data": {
      "text/plain": [
       "['Collection_Documents',\n",
       " 'debrief1401.txt.partial',\n",
       " 'loeber01.txt',\n",
       " 'debrief1401.txt',\n",
       " 'snap01.txt',\n",
       " 'debrief01.txt',\n",
       " 'demgr01.txt',\n",
       " 'medse01.txt',\n",
       " 'README.pdf',\n",
       " 'scapijus01.txt',\n",
       " 'side_effects01.txt',\n",
       " 'scid01.txt',\n",
       " '._README.pdf',\n",
       " 'cbcl01.txt',\n",
       " 'casr01.txt',\n",
       " '._casr01.txt',\n",
       " 'codd01.txt',\n",
       " '._codd01.txt',\n",
       " 'codd01.txt.partial',\n",
       " '._codd01.txt.partial',\n",
       " 'cohi01.txt',\n",
       " '._cohi01.txt',\n",
       " 'cis_c01.txt',\n",
       " '._cis_c01.txt',\n",
       " 'cohi01.txt.partial',\n",
       " '._cohi01.txt.partial',\n",
       " 'cis_c01.txt.partial',\n",
       " '._cis_c01.txt.partial',\n",
       " 'cope01.txt',\n",
       " '._cope01.txt',\n",
       " 'cptc01.txt',\n",
       " '._cptc01.txt',\n",
       " 'cptc01.txt.partial',\n",
       " '._cptc01.txt.partial',\n",
       " 'ctrs_199702.txt',\n",
       " '._ctrs_199702.txt',\n",
       " 'diagpsx_p201.txt',\n",
       " '._diagpsx_p201.txt',\n",
       " 'diagpsx_p301.txt',\n",
       " '._diagpsx_p301.txt',\n",
       " 'sipirs01.txt',\n",
       " 'agg01.txt',\n",
       " 'diagpsx_p301.txt.partial',\n",
       " '._diagpsx_p301.txt.partial',\n",
       " 'cprs_200202.txt',\n",
       " '._cprs_200202.txt',\n",
       " 'cisp_p01.txt',\n",
       " '._cisp_p01.txt',\n",
       " 'diagpsx_p401.txt',\n",
       " '._diagpsx_p401.txt',\n",
       " 'diagpsx_p501.txt',\n",
       " '._diagpsx_p501.txt',\n",
       " '._cbcl01.txt',\n",
       " 'glf01.txt',\n",
       " 'airs01.txt',\n",
       " 'masc_p01.txt',\n",
       " 'apq01.txt',\n",
       " 'ssrs01.txt',\n",
       " 'bai01.txt',\n",
       " 'diagpsx_p601.txt',\n",
       " 'bdi01.txt',\n",
       " 'diagpsx_p701.txt',\n",
       " 'caars01.txt',\n",
       " 'dkefs01.txt',\n",
       " 'childdepr01.txt',\n",
       " 'diagpsx01.txt',\n",
       " 'conduct01.txt',\n",
       " 'neo_ffi_form_s_adult_200301.txt',\n",
       " 'conners3_ps01.txt',\n",
       " 'trf01.txt',\n",
       " 'consq01.txt',\n",
       " 'disc4_ad01.txt',\n",
       " 'cpth01.txt',\n",
       " 'senseek01.txt',\n",
       " 'csinfo01.txt',\n",
       " 'cws01.txt',\n",
       " 'cyds01.txt',\n",
       " 'dataset_collection.txt',\n",
       " 'dba01.txt',\n",
       " 'dishion01.txt',\n",
       " 'drinkhx01.txt',\n",
       " 'dyadic_adj_scale01.txt',\n",
       " 'edi301.txt',\n",
       " 'edinburgh_hand01.txt',\n",
       " 'expect01.txt',\n",
       " 'freesvol01.txt',\n",
       " 'hartera01.txt',\n",
       " 'vitals01.txt',\n",
       " 'wais_iv_part101.txt',\n",
       " 'wais_iv_part101.txt.partial',\n",
       " 'wender01.txt',\n",
       " 'wiat_iiip201.txt',\n",
       " 'wisc_iii01.txt',\n",
       " 'wispi01.txt',\n",
       " 'working_alliance_scale01.txt',\n",
       " 'wrat301.txt',\n",
       " 'yale01.txt',\n",
       " 'harterac01.txt',\n",
       " 'hartermpy01.txt',\n",
       " 'harterpt01.txt',\n",
       " 'health01.txt',\n",
       " 'homesit01.txt',\n",
       " 'homework01.txt',\n",
       " 'hvltr01.txt',\n",
       " 'imaging_qa01.txt',\n",
       " 'insur01.txt',\n",
       " 'isle01.txt',\n",
       " 'jiq01.txt',\n",
       " 'knowledg01.txt',\n",
       " 'kpts01.txt',\n",
       " 'leisure01.txt',\n",
       " 'life_events01.txt',\n",
       " 'mast01.txt',\n",
       " 'matcigal01.txt',\n",
       " 'milwork01.txt',\n",
       " 'mta_alc01.txt',\n",
       " 'mta_dbd01.txt',\n",
       " 'mta_misc01.txt',\n",
       " 'mta_mood01.txt',\n",
       " 'mta_pav01.txt',\n",
       " 'mta_schiz01.txt',\n",
       " 'nes01.txt',\n",
       " 'nri01.txt',\n",
       " 'nws01.txt',\n",
       " 'obs01.txt',\n",
       " 'ontop01.txt',\n",
       " 'package_info.txt',\n",
       " 'parinvol01.txt',\n",
       " 'pasat01.txt',\n",
       " 'pci01.txt',\n",
       " 'pcrc01.txt',\n",
       " 'pe01.txt',\n",
       " 'peerds01.txt',\n",
       " 'psi_iv_01.txt',\n",
       " 'psu01.txt',\n",
       " 'psychscr01.txt',\n",
       " 'ptsu01.txt',\n",
       " 'readatt01.txt',\n",
       " 'rptcard01.txt',\n",
       " 'schoolhx01.txt',\n",
       " '._agg01.txt',\n",
       " '._airs01.txt',\n",
       " '._diagpsx01.txt',\n",
       " '._mta_alc01.txt',\n",
       " '._package_info.txt',\n",
       " '._side_effects01.txt',\n",
       " '._mta_mood01.txt',\n",
       " '._glf01.txt',\n",
       " '._freesvol01.txt',\n",
       " '._edi301.txt',\n",
       " '._dyadic_adj_scale01.txt']"
      ]
     },
     "execution_count": 280,
     "metadata": {},
     "output_type": "execute_result"
    }
   ],
   "source": [
    "os.listdir(data_root)"
   ]
  },
  {
   "cell_type": "code",
   "execution_count": 281,
   "metadata": {},
   "outputs": [
    {
     "name": "stderr",
     "output_type": "stream",
     "text": [
      "/var/folders/hf/frc4nxb532j7gqr3_36l6kmh0000gn/T/ipykernel_26458/895967431.py:7: DtypeWarning: Columns (0,1,2,6,8,9,10,11,12,13,14,15,16,17,18,19,20,21,22,23,24,25,26,27,28,29,30,31,32,33,34,35,36,37,38,39,40,41,42,43,44,45,46,47,48,49,50,51,52,53,54,55,56,57,58,59,60,61,62,63,64,65,66,67,68,69,70,71,72,73,74,76,77,78,79,81,82,83,84,85,86,87,88,89,90,91,92,93,94,95,96,97,98,99,100,101,102,103,104,105,106,107,108,109,110,111,112,113,114,115,116,117,118,119,120,121,122,123,124,125,126,127,128,129,130,131,132,133,134,135,136,137,138,139,140,141,142,143,144,145,146,147,148,149,150,151,152,153,154,155,156,157,158) have mixed types. Specify dtype option on import or set low_memory=False.\n",
      "  snap = pd.read_csv(Path(data_root, snap_file), delimiter=\"\\t\")\n",
      "/var/folders/hf/frc4nxb532j7gqr3_36l6kmh0000gn/T/ipykernel_26458/895967431.py:8: DtypeWarning: Columns (0,1,2,6,8,10,11,12,13,14,15,16,17,18,19,20,21,22,23,24,25,26,27,28,29,30,31,32,33,34,35,36,37,38,39,40,41,42,43,44,45,46,47,48,49,50,51,52,53,54,55,56,57,58,59,60,61,62,63,64,65,66,67,68,69,70,71,72,73,74,75,76,77,78,79,80,81,82,83,84,85,86,87,88,89,90,91,92,93,94,95,96,97,98,99,100,101,102,103,104,105,106,107,108,109,110,111,112,113,114,115,116,117,118,119,120,121,122,123,124,125,126,127,128,129,130,131,132,133,134,135,136,137,138,139,140,141,142,143,144,145,146,147,148,149,150,151,152,153,154,155,156,157,159,160,161,162,163,164,165,166,167,168,169,170,171,172,173,174,175,176,177,178,179,180,181,182,183,184,185,186,187,188,189,190,191,192,193,194,195,196,197,198,199,200,201,202,203,204,205,206,207,208,209,210,211,212,213,214,215,216,217,218,219,220,221,222,223,224,225,226,227,228,229,230,231,232,233,234,235,236,237,238,239,240,241,242,243,244,245,246,247,248,249,250,251,252,253,254,255,256,257,258,259,260,261,262,263,264,265,266,267,268,269,270,271,272,273,274,275,276,277,278,279,280,281,282,283,284,285,286,287,288,289,290,291,292,293,294,295,296,297,298,299,300,301,302) have mixed types. Specify dtype option on import or set low_memory=False.\n",
      "  ssrs = pd.read_csv(Path(data_root, ssrs_file), delimiter=\"\\t\")\n",
      "/var/folders/hf/frc4nxb532j7gqr3_36l6kmh0000gn/T/ipykernel_26458/895967431.py:9: DtypeWarning: Columns (0,1,2,6,8,9,10,11,12,13,14,15,16,17,18,19,20,21,22,23,24,25,26,27,28,29,30,31,32,33,34,35,36,37,38,39,40,41,42,43,44,45,46,47,48,49,50,51,52,53,54,55,56,57,58,59,60,61,62,63,64,65,66,67,68,69,70,71,72,73,74,75,76,77,78,79,80,81,82,83,84,85,86,87,88,89,90,91,92,93,94,95,96,97,98,99,100,101,102,103,104,105,106,107,108,109,110,111,112,113,114,115,116,117,118,119,120,121,122,123,124,125,126,127,128,129,130,131,132,133,134,135,136,137,138,139,140,141,142,143,144,145,146,148,149,150,151,152,153,154,155,156,157,158,159,160,161,162,163,164,165,166,167,168,169,170,171,172,173,174,175,176,177,178,179,180,181,182,183,184,185,186,187,188,189,190,191,192,193,194,195,196,197,198,199,200,201,202,203,204,205,206,207,208,209,210,211,212) have mixed types. Specify dtype option on import or set low_memory=False.\n",
      "  masc = pd.read_csv(Path(data_root, masc_file), delimiter=\"\\t\")\n",
      "/var/folders/hf/frc4nxb532j7gqr3_36l6kmh0000gn/T/ipykernel_26458/895967431.py:10: DtypeWarning: Columns (0,1,2,6,8,10,11,12,13,14,15,16,17,18,19,20,21,22,23,24,25,26,27,28,29,30,31,32,33,34,35,36,37,38,39,40,41,42,43,44,45,46,47,48,49,50,51,52,53,54,55,56,57,58,59,60,61,62,63,64,65,66,67,68,69,70,71,72,73,74,75,76,77) have mixed types. Specify dtype option on import or set low_memory=False.\n",
      "  pc = pd.read_csv(Path(data_root, parent_child_file), delimiter=\"\\t\")\n",
      "/var/folders/hf/frc4nxb532j7gqr3_36l6kmh0000gn/T/ipykernel_26458/895967431.py:11: DtypeWarning: Columns (0,1,2,6,8,9,10,11,12,13,14,15,16,17,18,19,20,21,22,23,24,25,26,27,28,29,30,31,32,33,34,35,36,37,38,39,40,41,42,43,44,45,46,47,48,49,50,51,52,53,54,55,56,57,58,59,60,61,62,63,64,65,66,67,68,69,70,71,72,73,74,75,76,77,78,79,80,81,82,83,84,85,86,87,88,89,90,91,92,93,94,95,96,97,98,99,100,101,102,103,104,105,106,107,108,109,110,111,112,113,114,115,116,117,118,119,120,121,122,123,124,125,126,127,128,129,130,131,132,133,134,135,136,137,138,139,140,141,142,143,144,145,146,147,148,149,150,151,152,153,154,155,156,157,158,159,160,161,162,163,164,165,166,167,168,169,170,171,172,173,174,175,176,177,178,179,180,181,182,183,184,185,186,187,188,189,190,191,192,193,194,195,196,197,198,199,200,201,202,203,204,205,206,207,208,209,210,211,212,213,214,215,216,217,218,219,220,221,222,223,224,225,226,227,228,229,230,231,232,233,234,235,236,237,238,239,240,241,242,243,244,245,246,247,248,249,250,251,252,253,254,255,256,257,258,259,260,261,262,263,264,265,266,267,268,269,270,271,272,273,274,275,276,277,278,279,280,281,282,283,284,285,286,287,288,289,290,291,292,293,294,295,296,297,298,299,300,301,302,303,304,305,306,307,308,309,310,311,312,313,314,315,316,317,318,319,320,321,322,323,324,325,326,327,328,329,330,331,332,333,334,335,336,337,338,339,340,341,342,343,344,345,346,347,348,349,350,351,352,353,354,355,356,357,358,359,360,361,362,363,364,365,366,367,368,369,370,371,372,373,374,375,376,377,378,379,380,381,382,383,384,386,387,388,389,390,391,392,393,394,395,396,397,398,399,400,401,402,403,404) have mixed types. Specify dtype option on import or set low_memory=False.\n",
      "  wechsler = pd.read_csv(Path(data_root, wechsler_file), delimiter=\"\\t\")\n"
     ]
    }
   ],
   "source": [
    "snap_file = 'snap01.txt'\n",
    "ssrs_file = 'ssrs01.txt'\n",
    "masc_file = 'masc_p01.txt'\n",
    "parent_child_file = 'pcrc01.txt'\n",
    "wechsler_file = 'wiat_iiip201.txt'\n",
    "\n",
    "snap = pd.read_csv(Path(data_root, snap_file), delimiter=\"\\t\")\n",
    "ssrs = pd.read_csv(Path(data_root, ssrs_file), delimiter=\"\\t\")\n",
    "masc = pd.read_csv(Path(data_root, masc_file), delimiter=\"\\t\")\n",
    "pc = pd.read_csv(Path(data_root, parent_child_file), delimiter=\"\\t\")\n",
    "wechsler = pd.read_csv(Path(data_root, wechsler_file), delimiter=\"\\t\")\n",
    "\n"
   ]
  },
  {
   "cell_type": "code",
   "execution_count": 282,
   "metadata": {},
   "outputs": [
    {
     "data": {
      "text/plain": [
       "Index(['collection_id', 'snap01_id', 'dataset_id', 'subjectkey',\n",
       "       'src_subject_id', 'interview_date', 'interview_age', 'sex',\n",
       "       'respondent', 'respondent_other_specify',\n",
       "       ...\n",
       "       'deportment_other', 'deportment_rules', 'snap_iv_pac_score_io',\n",
       "       'snap_iv_pac_score_ad', 'cgi_tot', 'snap_iv_pac_score_academic',\n",
       "       'academic_orienting', 'academic_maintaining', 'academic_directing',\n",
       "       'collection_title'],\n",
       "      dtype='object', length=160)"
      ]
     },
     "execution_count": 282,
     "metadata": {},
     "output_type": "execute_result"
    }
   ],
   "source": [
    "snap.keys()"
   ]
  },
  {
   "cell_type": "code",
   "execution_count": 283,
   "metadata": {},
   "outputs": [
    {
     "name": "stdout",
     "output_type": "stream",
     "text": [
      "collection_id                                                     collection_id\n",
      "snap01_id                                                             snap01_id\n",
      "dataset_id                                                           dataset_id\n",
      "subjectkey                    The NDAR Global Unique Identifier (GUID) for r...\n",
      "src_subject_id                       Subject ID how it's defined in lab/project\n",
      "                                                    ...                        \n",
      "snap_iv_pac_score_academic                                    ACADEMIC subscore\n",
      "academic_orienting                                           Orienting subscore\n",
      "academic_maintaining                                       Maintaining subscore\n",
      "academic_directing                                           Directing subscore\n",
      "collection_title                                               collection_title\n",
      "Name: 0, Length: 160, dtype: object collection_id                                           collection_id\n",
      "ssrs01_id                                                   ssrs01_id\n",
      "dataset_id                                                 dataset_id\n",
      "subjectkey          The NDAR Global Unique Identifier (GUID) for r...\n",
      "src_subject_id             Subject ID how it's defined in lab/project\n",
      "                                          ...                        \n",
      "socpart28           How often does your son or daughter on their o...\n",
      "socpart29           How often does your son or daughter on their o...\n",
      "socpart30           How often does your son or daughter on their o...\n",
      "timepoint_label                                 Timepoint/visit label\n",
      "collection_title                                     collection_title\n",
      "Name: 0, Length: 304, dtype: object collection_id                                           collection_id\n",
      "masc_p01_id                                               masc_p01_id\n",
      "dataset_id                                                 dataset_id\n",
      "subjectkey          The NDAR Global Unique Identifier (GUID) for r...\n",
      "src_subject_id             Subject ID how it's defined in lab/project\n",
      "                                          ...                        \n",
      "masc_pan_rs                                 Anxiety probability score\n",
      "masc_anxprob                                               Time Point\n",
      "timept                                                  Year in study\n",
      "year_mta                                             collection_title\n",
      "collection_title                                                  NaN\n",
      "Name: 0, Length: 214, dtype: object collection_id                                           collection_id\n",
      "pcrc01_id                                                   pcrc01_id\n",
      "dataset_id                                                 dataset_id\n",
      "subjectkey          The NDAR Global Unique Identifier (GUID) for r...\n",
      "src_subject_id             Subject ID how it's defined in lab/project\n",
      "                                          ...                        \n",
      "pcrcpax             Quarreling, Dominance, Physical Punishment, De...\n",
      "pcrcprx             Pro-social, Similarity, Intimacy, Nurturance &...\n",
      "pcrcdwx             Praise, Shared Decision Making & Rationale (me...\n",
      "version_form                                Form used/assessment name\n",
      "collection_title                                     collection_title\n",
      "Name: 0, Length: 80, dtype: object collection_id                                           collection_id\n",
      "wiat_iiip201_id                                       wiat_iiip201_id\n",
      "dataset_id                                                 dataset_id\n",
      "subjectkey          The NDAR Global Unique Identifier (GUID) for r...\n",
      "src_subject_id             Subject ID how it's defined in lab/project\n",
      "                                          ...                        \n",
      "stage                                                     Study stage\n",
      "wech6               WIAT Screener Test Results: Basic reading stan...\n",
      "wech7               WIAT Screener Test Results: Teen requires assi...\n",
      "visit                                                      Visit name\n",
      "collection_title                                     collection_title\n",
      "Name: 0, Length: 406, dtype: object\n"
     ]
    }
   ],
   "source": [
    "print(snap.iloc[0], ssrs.iloc[0], masc.iloc[0], pc.iloc[0], wechsler.iloc[0])"
   ]
  },
  {
   "cell_type": "code",
   "execution_count": 284,
   "metadata": {},
   "outputs": [],
   "source": [
    "snap = snap.drop(0)\n",
    "ssrs = ssrs.drop(0)\n",
    "masc = masc.drop(0)\n",
    "pc = pc.drop(0)\n",
    "wechsler = wechsler.drop(0)"
   ]
  },
  {
   "cell_type": "code",
   "execution_count": 285,
   "metadata": {},
   "outputs": [
    {
     "name": "stdout",
     "output_type": "stream",
     "text": [
      "collection_id                                                             2155\n",
      "snap01_id                                                                19789\n",
      "dataset_id                                                               29641\n",
      "subjectkey                                                    NDAR_INVXP413AM1\n",
      "src_subject_id                                                           P1001\n",
      "                                                    ...                       \n",
      "snap_iv_pac_score_academic                                                 NaN\n",
      "academic_orienting                                                         NaN\n",
      "academic_maintaining                                                       NaN\n",
      "academic_directing                                                         NaN\n",
      "collection_title              Multimodal Treatment Study of Children With ADHD\n",
      "Name: 1, Length: 160, dtype: object collection_id                                                   2155\n",
      "ssrs01_id                                                          1\n",
      "dataset_id                                                      9357\n",
      "subjectkey                                          NDAR_INVXP413AM1\n",
      "src_subject_id                                                 P1001\n",
      "                                          ...                       \n",
      "socpart28                                                        NaN\n",
      "socpart29                                                        NaN\n",
      "socpart30                                                        NaN\n",
      "timepoint_label                                                  NaN\n",
      "collection_title    Multimodal Treatment Study of Children With ADHD\n",
      "Name: 1, Length: 304, dtype: object collection_id                                                   2155\n",
      "masc_p01_id                                                     6205\n",
      "dataset_id                                                      9222\n",
      "subjectkey                                          NDAR_INVXP413AM1\n",
      "src_subject_id                                                 P1001\n",
      "                                          ...                       \n",
      "masc_pan_rs                                                      NaN\n",
      "masc_anxprob                                                     NaN\n",
      "timept                                                           NaN\n",
      "year_mta                                                         NaN\n",
      "collection_title    Multimodal Treatment Study of Children With ADHD\n",
      "Name: 1, Length: 214, dtype: object collection_id                                                   2155\n",
      "pcrc01_id                                                          1\n",
      "dataset_id                                                      9357\n",
      "subjectkey                                          NDAR_INVXP413AM1\n",
      "src_subject_id                                                 P1001\n",
      "                                          ...                       \n",
      "pcrcpax                                                         1.25\n",
      "pcrcprx                                                          3.7\n",
      "pcrcdwx                                                            4\n",
      "version_form                                                  Parent\n",
      "collection_title    Multimodal Treatment Study of Children With ADHD\n",
      "Name: 1, Length: 80, dtype: object collection_id                                                   2155\n",
      "wiat_iiip201_id                                                    8\n",
      "dataset_id                                                      9223\n",
      "subjectkey                                          NDAR_INVXP413AM1\n",
      "src_subject_id                                                 P1001\n",
      "                                          ...                       \n",
      "stage                                                            NaN\n",
      "wech6                                                            NaN\n",
      "wech7                                                            NaN\n",
      "visit                                                            NaN\n",
      "collection_title    Multimodal Treatment Study of Children With ADHD\n",
      "Name: 1, Length: 406, dtype: object\n"
     ]
    }
   ],
   "source": [
    "print(snap.iloc[0], ssrs.iloc[0], masc.iloc[0], pc.iloc[0], wechsler.iloc[0])"
   ]
  },
  {
   "cell_type": "markdown",
   "metadata": {},
   "source": [
    "## SSRS \n"
   ]
  },
  {
   "cell_type": "markdown",
   "metadata": {},
   "source": [
    "Relationship : 1 = Biological mom; 2 = Biological dad; 3 = Grandparent; 4 = Special education (sped) teacher; 5 = General education teacher; 6 = Occupational therapist; 7 = Speech and language therapist; 8 = Behavioral therapist; 9 = Paraprofessional; 10 = Aide; 11 = Principal; 12 = Administrator; 14 = Content teacher; 15 = Parent center director; 16 = Self; 17 = Adoptive mother; 18 = Adoptive father; 19 = Foster mother; 20 = Foster father; 21 = Grandmother; 22 = Grandfather; 23 = Step-mother; 24 = Step-father; 25 = Aunt; 26 = Uncle; 28 = Both parents; 31 = Grandmother from mother side; 32 = Grandfather from mother side; 33 = Grandmother from father side; 34 = Grandfather from father side; 36 = Brother; 37 = Sister; 38 = Cousin; 39 = Female caregiver; 40 = Male caregiver; 41 = Female child; 42 = Male child; 43 = Spouse/Mate; 44 = Friend; 45 = Parent; 46 = Significant other; 47 = Sibling; 48 = Son/Daughter; 49 = Son-in-law/Daughter-in law; 50 = Other Relative; 51 = Paid caregiver; 52 = Friends; 53 = Roommate; 54 = Supervisor; 55 = Mother's boyfriend; 56 = Other parental figure; 57 = Summary; 58 = Counselor; 59 = Other female relative; 60 = Other male relative; 61 = Non-relative ; 62 = Maternal Aunt; 63 = Maternal Uncle; 64 = Maternal Cousin; 65 = Paternal Aunt; 66 = Paternal Uncle; 67 = Paternal Cousin; 68 = Biological/Adoptive Mother and Grandmother; 69 = Biological/Adoptive Mother and Stepmother and Grandmother; 70 = Biological/Adoptive Mother and Grandmother and Foster Father; 71 = Biological/Adoptive Mother and Stepmother and Foster Mother; 72 = Biological/Adoptive Mother and Foster Mother; 73 = Biological/Adoptive Mother and Biological/Adoptive Father; 74 = Biological/Adoptive Mother and Stepmother and Biological/Adoptive Father; 75 = Biological/Adoptive Mother and Other; 76 = Biological/Adoptive Mother and Stepmother and Stepfather; 77 = Biological/Adoptive Mother and Stepfather; 78 = Biological/Adoptive Mother and Grandfather; 79 = Biological/Adoptive Mother and Stepmother and Foster Father; 80 = Biological/Adoptive Mother and Stepmother; 81 = Guardian, female; 82 = Other female; 83 = Guardian, male; 84 = Other male; 85 = Other/Grandparent/Nanny; 86 = Mother, Father, Guardian; 87 = Daughter, son, grandchild; 88 = Professional (e.g., social worker, nurse, therapist, psychiatrist, or group home staff); -999 = Missing; 89 = Biological parent; 90 = Other; 91 = Stepparent; 92 = Adoptive parent; 93 = Foster parent; 94 = Co-worker; 95 = Independent Evaluator"
   ]
  },
  {
   "cell_type": "code",
   "execution_count": 286,
   "metadata": {},
   "outputs": [],
   "source": [
    "relationship = {\n",
    "    'Biological mom': 1,\n",
    "    'Biological dad': 2,\n",
    "    'Grandparent': 3,\n",
    "    'Special education (sped) teacher': 4,\n",
    "    'General education teacher': 5,\n",
    "    'Occupational therapist': 6,\n",
    "    'Speech and language therapist': 7,\n",
    "    'Behavioral therapist': 8,\n",
    "    'Paraprofessional': 9,\n",
    "    'Aide': 10,\n",
    "    'Principal': 11,\n",
    "    'Administrator': 12,\n",
    "    'Content teacher': 14,\n",
    "    'Parent center director': 15,\n",
    "    'Self': 16,\n",
    "    'Adoptive mother': 17,\n",
    "    'Adoptive father': 18,\n",
    "    'Foster mother': 19,\n",
    "    'Foster father': 20,\n",
    "    'Grandmother': 21,\n",
    "    'Grandfather': 22,\n",
    "    'Step-mother': 23,\n",
    "    'Step-father': 24,\n",
    "    'Aunt': 25,\n",
    "    'Uncle': 26,\n",
    "    'Both parents': 28,\n",
    "    'Grandmother from mother side': 31,\n",
    "    'Grandfather from mother side': 32,\n",
    "    'Grandmother from father side': 33,\n",
    "    'Grandfather from father side': 34,\n",
    "    'Brother': 36,\n",
    "    'Sister': 37,\n",
    "    'Cousin': 38,\n",
    "    'Female caregiver': 39,\n",
    "    'Male caregiver': 40,\n",
    "    'Female child': 41,\n",
    "    'Male child': 42,\n",
    "    'Spouse/Mate': 43,\n",
    "    'Friend': 44,\n",
    "    'Parent': 45,\n",
    "    'Significant other': 46,\n",
    "    'Sibling': 47,\n",
    "    'Son/Daughter': 48,\n",
    "    'Son-in-law/Daughter-in-law': 49,\n",
    "    'Other Relative': 50,\n",
    "    'Paid caregiver': 51,\n",
    "    'Friends': 52,\n",
    "    'Roommate': 53,\n",
    "    'Supervisor': 54,\n",
    "    \"Mother's boyfriend\": 55,\n",
    "    'Other parental figure': 56,\n",
    "    'Summary': 57,\n",
    "    'Counselor': 58,\n",
    "    'Other female relative': 59,\n",
    "    'Other male relative': 60,\n",
    "    'Non-relative': 61,\n",
    "    'Maternal Aunt': 62,\n",
    "    'Maternal Uncle': 63,\n",
    "    'Maternal Cousin': 64,\n",
    "    'Paternal Aunt': 65,\n",
    "    'Paternal Uncle': 66,\n",
    "    'Paternal Cousin': 67,\n",
    "    'Biological/Adoptive Mother and Grandmother': 68,\n",
    "    'Biological/Adoptive Mother and Stepmother and Grandmother': 69,\n",
    "    'Biological/Adoptive Mother and Grandmother and Foster Father': 70,\n",
    "    'Biological/Adoptive Mother and Stepmother and Foster Mother': 71,\n",
    "    'Biological/Adoptive Mother and Foster Mother': 72,\n",
    "    'Biological/Adoptive Mother and Biological/Adoptive Father': 73,\n",
    "    'Biological/Adoptive Mother and Stepmother and Biological/Adoptive Father': 74,\n",
    "    'Biological/Adoptive Mother and Other': 75,\n",
    "    'Biological/Adoptive Mother and Stepmother and Stepfather': 76,\n",
    "    'Biological/Adoptive Mother and Stepfather': 77,\n",
    "    'Biological/Adoptive Mother and Grandfather': 78,\n",
    "    'Biological/Adoptive Mother and Stepmother and Foster Father': 79,\n",
    "    'Biological/Adoptive Mother and Stepmother': 80,\n",
    "    'Guardian, female': 81,\n",
    "    'Other female': 82,\n",
    "    'Guardian, male': 83,\n",
    "    'Other male': 84,\n",
    "    'Other/Grandparent/Nanny': 85,\n",
    "    'Mother, Father, Guardian': 86,\n",
    "    'Daughter, son, grandchild': 87,\n",
    "    'Professional (e.g., social worker, nurse, therapist, psychiatrist, or group home staff)': 88,\n",
    "    'Missing': -999,\n",
    "    'Biological parent': 89,\n",
    "    'Other': 90,\n",
    "    'Stepparent': 91,\n",
    "    'Adoptive parent': 92,\n",
    "    'Foster parent': 93,\n",
    "    'Co-worker': 94,\n",
    "    'Independent Evaluator': 95\n",
    "}\n",
    "rev_relationship = {v: k for k, v in relationship.items()}"
   ]
  },
  {
   "cell_type": "code",
   "execution_count": 287,
   "metadata": {},
   "outputs": [],
   "source": [
    "teacher_dict = {\n",
    "    'Special education (sped) teacher': 4,\n",
    "    'General education teacher': 5,\n",
    "    'Content teacher': 14,\n",
    "}\n",
    "rev_teacher_dict = {v: k for k, v in teacher_dict.items()}\n"
   ]
  },
  {
   "cell_type": "code",
   "execution_count": 288,
   "metadata": {},
   "outputs": [],
   "source": [
    "parent_dict = {    'Biological mom': 1,\n",
    "    'Biological dad': 2,\n",
    "    'Grandparent': 3,\n",
    "    'Adoptive mother': 17,\n",
    "    'Adoptive father': 18,\n",
    "    'Foster mother': 19,\n",
    "    'Foster father': 20,\n",
    "    'Grandmother': 21,\n",
    "    'Grandfather': 22,\n",
    "    'Step-mother': 23,\n",
    "    'Step-father': 24,\n",
    "    'Both parents': 28,\n",
    "    \"Mother's boyfriend\": 55,\n",
    "    'Other parental figure': 56,\n",
    "    'Biological/Adoptive Mother and Grandmother': 68,\n",
    "    'Biological/Adoptive Mother and Stepmother and Grandmother': 69,\n",
    "    'Biological/Adoptive Mother and Grandmother and Foster Father': 70,\n",
    "    'Biological/Adoptive Mother and Stepmother and Foster Mother': 71,\n",
    "    'Biological/Adoptive Mother and Foster Mother': 72,\n",
    "    'Biological/Adoptive Mother and Biological/Adoptive Father': 73,\n",
    "    'Biological/Adoptive Mother and Stepmother and Biological/Adoptive Father': 74,\n",
    "    'Biological/Adoptive Mother and Other': 75,\n",
    "    'Biological/Adoptive Mother and Stepmother and Stepfather': 76,\n",
    "    'Biological/Adoptive Mother and Stepfather': 77,\n",
    "    'Biological/Adoptive Mother and Grandfather': 78,\n",
    "    'Biological/Adoptive Mother and Stepmother and Foster Father': 79,\n",
    "    'Biological/Adoptive Mother and Stepmother': 80,\n",
    "    'Guardian, female': 81,    \n",
    "    'Guardian, male': 83,\n",
    "    'Mother, Father, Guardian': 86,\n",
    "    'Biological parent': 89,\n",
    "    'Stepparent': 91,\n",
    "    'Adoptive parent': 92,\n",
    "    'Foster parent': 93,\n",
    "    }\n",
    "rev_parent_dict = {v: k for k, v in parent_dict.items()}"
   ]
  },
  {
   "cell_type": "code",
   "execution_count": 289,
   "metadata": {},
   "outputs": [],
   "source": [
    "baseline_var = ['src_subject_id', 'interview_date', 'interview_age', 'sex', 'site']"
   ]
  },
  {
   "cell_type": "code",
   "execution_count": 290,
   "metadata": {},
   "outputs": [
    {
     "data": {
      "text/plain": [
       "Index(['collection_id', 'ssrs01_id', 'dataset_id', 'subjectkey',\n",
       "       'src_subject_id', 'interview_date', 'interview_age', 'sex',\n",
       "       'days_baseline', 'assbdic',\n",
       "       ...\n",
       "       'c_s_ssq_emp', 'c_s_ssq_sc', 'c_s_ssq_tot_rs', 'c_s_ssq_tot_ss',\n",
       "       'socpart27', 'socpart28', 'socpart29', 'socpart30', 'timepoint_label',\n",
       "       'collection_title'],\n",
       "      dtype='object', length=304)"
      ]
     },
     "execution_count": 290,
     "metadata": {},
     "output_type": "execute_result"
    }
   ],
   "source": [
    "ssrs.keys()"
   ]
  },
  {
   "cell_type": "code",
   "execution_count": 291,
   "metadata": {},
   "outputs": [
    {
     "name": "stdout",
     "output_type": "stream",
     "text": [
      "['src_subject_id' 'interview_date' 'interview_age' 'sex' 'site'\n",
      " 'relationship' 'ssptossx' 'ssptosst' 'sspintx' 'sspintt']\n",
      "relationship (11038,)\n",
      "ssptossx (10804,)\n",
      "ssptosst (10804,)\n",
      "sspintx (10955,)\n",
      "sspintt (10955,)\n",
      "Biological mom 3147\n",
      "Biological dad 1635\n",
      "Special education (sped) teacher 28\n",
      "General education teacher 2097\n",
      "Content teacher 1627\n",
      "Foster mother 21\n",
      "Foster father 8\n",
      "Grandmother 97\n",
      "Grandfather 54\n",
      "Step-mother 42\n",
      "Step-father 187\n",
      "Aunt 31\n",
      "Uncle 5\n",
      "Other Relative 12\n",
      "None 3147 1635\n"
     ]
    }
   ],
   "source": [
    "ssrs_dict = {\n",
    "    'relationship' : 'relationship', # just use relationship directly\n",
    "    'ssrs_ss_mean' :'ssptossx', #social skilla\n",
    "    'ssrs_ss_std' : 'ssptosst',\n",
    "    'ssrs_int_mean' : 'sspintx', #internalizing \n",
    "    'ssrs_int_std' : 'sspintt'\n",
    "}\n",
    "\n",
    "ssrs_col2extract_ = [val for val in ssrs_dict.values()] #valiable columns to extracts\n",
    "ssrs_col2extract = np.concatenate((baseline_var, ssrs_col2extract_)) # add basline vars \n",
    "print(ssrs_col2extract)\n",
    "#ssrs_t_ss_tot_raw = 't_c_ssq_tot_rs' #teacher # no data \n",
    "#ssrs_t_int_raw = 't_c_ssq_int' # teacher }\n",
    "\n",
    "for var in ssrs_dict.values(): \n",
    "    print(var, ssrs[var].dropna().shape)\n",
    "    \n",
    "for var in relationship.values():\n",
    "    count = ssrs['relationship'].value_counts().get(var)\n",
    "    if  count is not None:\n",
    "        print(rev_relationship[var], count)\n",
    "    \n",
    "#extract parent answers \n",
    "# ssrs_parent_mask = ssrs['relationship'].isin(rev_parent_dict)\n",
    "# ssrs_teacher_mask = ssrs['relationship'].isin(rev_teacher_dict)\n",
    "# ssrs_parent = ssrs[ssrs_parent_mask]\n",
    "# ssrs_teacher = ssrs[ssrs_teacher_mask]\n",
    "# print(ssrs.shape, ssrs_parent.shape, ssrs_teacher.shape)\n",
    "# print(ssrs_parent['src_subject_id'].unique().shape, ssrs_teacher['src_subject_id'].unique().shape)\n",
    "\n",
    "ssrs_p_t_mask = ssrs['relationship'].isin(rev_parent_dict ) | ssrs['relationship'].isin(rev_teacher_dict)\n",
    "ssrs_p_t = ssrs[ssrs_p_t_mask][ssrs_col2extract]\n",
    "\n",
    "ssrs_p_t['p_t_bool'] =  np.where(ssrs_p_t['relationship'].isin(rev_parent_dict), 1, # code all parent souce ratings as 1, teacher source ratings as 2 \n",
    "                                 np.where(ssrs_p_t['relationship'].isin(rev_teacher_dict), 2, 0))\n",
    "\n",
    "print(ssrs_p_t['relationship'].value_counts().get(0), ssrs_p_t['relationship'].value_counts().get(1), ssrs_p_t['relationship'].value_counts().get(2)) #check why let values than individualp parent + teacher \n"
   ]
  },
  {
   "cell_type": "markdown",
   "metadata": {},
   "source": [
    "### set types"
   ]
  },
  {
   "cell_type": "code",
   "execution_count": 292,
   "metadata": {},
   "outputs": [
    {
     "name": "stdout",
     "output_type": "stream",
     "text": [
      "src_subject_id     object\n",
      "interview_date     object\n",
      "interview_age       int64\n",
      "sex                object\n",
      "site                int64\n",
      "relationship        int64\n",
      "ssptossx          float64\n",
      "ssptosst          float64\n",
      "sspintx           float64\n",
      "sspintt           float64\n",
      "p_t_bool            int64\n",
      "dtype: object\n"
     ]
    }
   ],
   "source": [
    "ssrs_p_t[['interview_age', 'relationship', 'p_t_bool', 'site']] = ssrs_p_t[['interview_age', 'relationship', 'p_t_bool', 'site']].astype(int)\n",
    "ssrs_p_t[['sspintx', 'sspintt', 'ssptossx','ssptosst']]= ssrs_p_t[['sspintx', 'sspintt', 'ssptossx','ssptosst']].astype(float)\n",
    "print(ssrs_p_t.dtypes)"
   ]
  },
  {
   "cell_type": "markdown",
   "metadata": {},
   "source": [
    "### SNAP "
   ]
  },
  {
   "cell_type": "code",
   "execution_count": 293,
   "metadata": {},
   "outputs": [
    {
     "name": "stdout",
     "output_type": "stream",
     "text": [
      "['src_subject_id' 'interview_date' 'interview_age' 'sex' 'site'\n",
      " 'relationship' 'snainatx' 'snainatt' 'snahypax' 'snahypat' 'snaimpux'\n",
      " 'snaimput' 'snaoddx' 'snaoddt']\n",
      "relationship (14580,)\n",
      "snainatx (14530,)\n",
      "snainatt (14530,)\n",
      "snahypax (14488,)\n",
      "snahypat (14488,)\n",
      "snaimpux (14447,)\n",
      "snaimput (14447,)\n",
      "snaoddx (14489,)\n",
      "snaoddt (14489,)\n",
      "Biological mom 2585\n",
      "Biological dad 1167\n",
      "Special education (sped) teacher 47\n",
      "General education teacher 2694\n",
      "Content teacher 2849\n",
      "Foster mother 20\n",
      "Foster father 10\n",
      "Grandmother 86\n",
      "Grandfather 53\n",
      "Step-mother 29\n",
      "Step-father 117\n",
      "Aunt 23\n",
      "None 2585 1167\n"
     ]
    }
   ],
   "source": [
    "snap_dict = {\n",
    "    'relationship' : 'relationship',\n",
    "    'snap_inatt_mean' : 'snainatx', #inattentuin \n",
    "    'snap_inatt_tot' :'snainatt', # hyperactie \n",
    "    'snap_hyp_mean' : 'snahypax',\n",
    "    'snap_hyp_tot' : 'snahypat',\n",
    "    'snap_imp_mean' : 'snaimpux', #impusive \n",
    "    'snap_imp_tot': 'snaimput',\n",
    "    'snap_odd_mean' :'snaoddx', #oppositional defiant \n",
    "    'snap_odd_tot' :  'snaoddt'\n",
    "\n",
    "}\n",
    "\n",
    "snap_col2extract_ = [val for val in snap_dict.values()] #valiable columns to extracts\n",
    "snap_col2extract = np.concatenate((baseline_var, snap_col2extract_)) # add basline vars \n",
    "print(snap_col2extract)\n",
    "\n",
    "for var in snap_dict.values(): \n",
    "    print(var, snap[var].dropna().shape)\n",
    "\n",
    "#snap_inatt_sum =  'snap_inattn_totalscore'  # no data \n",
    "#snap_inatt_av = 'snap_inattn_avg'\n",
    "#snap_hyp_sum = 'snap_hyp_totalscore'\n",
    "#snap_hyp_av = 'snap_hyp_avg'\n",
    "for var in relationship.values():\n",
    "    count = snap['relationship'].value_counts().get(var)\n",
    "    if  count is not None:\n",
    "        print(rev_relationship[var], count)\n",
    "        \n",
    "# snap_parent_mask = snap['relationship'].isin(rev_parent_dict) #extract parent figures \n",
    "# snap_teacher_mask = snap['relationship'].isin(rev_teacher_dict)\n",
    "# snap_parent = snap[snap_parent_mask][snap_col2extract] # parent figures only relevant columns\n",
    "# snap_teacher = snap[snap_teacher_mask][snap_col2extract]\n",
    "\n",
    "snap_p_t_mask = snap['relationship'].isin(rev_parent_dict ) | snap['relationship'].isin(rev_teacher_dict)\n",
    "snap_p_t = snap[snap_p_t_mask][snap_col2extract]\n",
    "\n",
    "snap_p_t['p_t_bool'] =  np.where(snap_p_t['relationship'].isin(rev_parent_dict), 1, # code all parent souce ratings as 1, teacher source ratings as 2 \n",
    "                                 np.where(snap_p_t['relationship'].isin(rev_teacher_dict), 2, 0))\n",
    "\n",
    "# print(snap.shape, snap_parent.shape,  snap_teacher.shape, snap_p_t.shape)\n",
    "# print(snap_parent['src_subject_id'].unique().shape, snap_teacher['src_subject_id'].unique().shape)\n",
    "\n",
    "print(snap_p_t['relationship'].value_counts().get(0), snap_p_t['relationship'].value_counts().get(1), snap_p_t['relationship'].value_counts().get(2)) #check why let values than individualp parent + teacher "
   ]
  },
  {
   "cell_type": "markdown",
   "metadata": {},
   "source": [
    "### set types"
   ]
  },
  {
   "cell_type": "code",
   "execution_count": 294,
   "metadata": {},
   "outputs": [
    {
     "name": "stdout",
     "output_type": "stream",
     "text": [
      "src_subject_id     object\n",
      "interview_date     object\n",
      "interview_age       int64\n",
      "sex                object\n",
      "site                int64\n",
      "relationship        int64\n",
      "snainatx          float64\n",
      "snainatt          float64\n",
      "snahypax          float64\n",
      "snahypat          float64\n",
      "snaimpux          float64\n",
      "snaimput          float64\n",
      "snaoddx           float64\n",
      "snaoddt           float64\n",
      "p_t_bool            int64\n",
      "dtype: object\n"
     ]
    }
   ],
   "source": [
    "snap_p_t[['interview_age', 'relationship', 'p_t_bool', 'site']] = snap_p_t[['interview_age', 'relationship', 'p_t_bool', 'site']].astype(int)\n",
    "snap_p_t[['snainatx', 'snainatt', 'snahypax', 'snahypat','snaimpux', 'snaimput', 'snaoddx', 'snaoddt']]= snap_p_t[['snainatx', 'snainatt', 'snahypax', 'snahypat','snaimpux', 'snaimput', 'snaoddx', 'snaoddt']].astype(float)\n",
    "print(snap_p_t.dtypes)"
   ]
  },
  {
   "cell_type": "markdown",
   "metadata": {},
   "source": [
    "### MASC"
   ]
  },
  {
   "cell_type": "code",
   "execution_count": 295,
   "metadata": {},
   "outputs": [
    {
     "name": "stdout",
     "output_type": "stream",
     "text": [
      "['src_subject_id' 'interview_date' 'interview_age' 'sex' 'site'\n",
      " 'relationship' 'masc_masctotalt']\n",
      "relationship (4703,)\n",
      "masc_masctotalt (4703,)\n",
      "Self 608\n",
      "(4703, 214) (4703, 7)\n"
     ]
    }
   ],
   "source": [
    "masc_dict = {\n",
    "    'relationship' : 'relationship', \n",
    "    'masc_tot_T_score' : 'masc_masctotalt'}  #total score \n",
    "    #'masc10_tit_imputed_vals' : 'masctotv'}\n",
    "    \n",
    "masc_col2extract_ = [val for val in masc_dict.values()] #valiable columns to extracts\n",
    "masc_col2extract = np.concatenate((baseline_var, masc_col2extract_)) # add basline vars \n",
    "print(masc_col2extract)\n",
    "\n",
    "for var in masc_dict.values(): \n",
    "    print(var, masc[var].dropna().shape)\n",
    "    \n",
    "for var in relationship.values():\n",
    "    count = masc['relationship'].value_counts().get(var)\n",
    "    if  count is not None:\n",
    "        print(rev_relationship[var], count)\n",
    "\n",
    "masc_child = masc[masc_col2extract]\n",
    "print(masc.shape, masc_child.shape)"
   ]
  },
  {
   "cell_type": "markdown",
   "metadata": {},
   "source": [
    "### set types"
   ]
  },
  {
   "cell_type": "code",
   "execution_count": 296,
   "metadata": {},
   "outputs": [
    {
     "name": "stdout",
     "output_type": "stream",
     "text": [
      "src_subject_id      object\n",
      "interview_date      object\n",
      "interview_age        int64\n",
      "sex                 object\n",
      "site                 int64\n",
      "relationship         int64\n",
      "masc_masctotalt    float64\n",
      "dtype: object\n"
     ]
    },
    {
     "name": "stderr",
     "output_type": "stream",
     "text": [
      "/var/folders/hf/frc4nxb532j7gqr3_36l6kmh0000gn/T/ipykernel_26458/2149054518.py:2: SettingWithCopyWarning: \n",
      "A value is trying to be set on a copy of a slice from a DataFrame.\n",
      "Try using .loc[row_indexer,col_indexer] = value instead\n",
      "\n",
      "See the caveats in the documentation: https://pandas.pydata.org/pandas-docs/stable/user_guide/indexing.html#returning-a-view-versus-a-copy\n",
      "  masc_child[['interview_age', 'relationship', 'site']] = masc_child[['interview_age', 'relationship', 'site']].astype(int)\n",
      "/var/folders/hf/frc4nxb532j7gqr3_36l6kmh0000gn/T/ipykernel_26458/2149054518.py:3: SettingWithCopyWarning: \n",
      "A value is trying to be set on a copy of a slice from a DataFrame.\n",
      "Try using .loc[row_indexer,col_indexer] = value instead\n",
      "\n",
      "See the caveats in the documentation: https://pandas.pydata.org/pandas-docs/stable/user_guide/indexing.html#returning-a-view-versus-a-copy\n",
      "  masc_child['masc_masctotalt'] = masc_child['masc_masctotalt'].astype(float)\n"
     ]
    }
   ],
   "source": [
    "masc_child.dtypes\n",
    "masc_child[['interview_age', 'relationship', 'site']] = masc_child[['interview_age', 'relationship', 'site']].astype(int)\n",
    "masc_child['masc_masctotalt'] = masc_child['masc_masctotalt'].astype(float)\n",
    "print(masc_child.dtypes)"
   ]
  },
  {
   "cell_type": "markdown",
   "metadata": {},
   "source": [
    "### Parent-Child\n"
   ]
  },
  {
   "cell_type": "code",
   "execution_count": 297,
   "metadata": {},
   "outputs": [
    {
     "name": "stdout",
     "output_type": "stream",
     "text": [
      "relationship (8712,)\n",
      "pcrcpax (8667,)\n",
      "pcrcprx (8673,)\n",
      "['src_subject_id' 'interview_date' 'interview_age' 'sex' 'site'\n",
      " 'relationship' 'pcrcpax' 'pcrcprx']\n",
      "Biological mom 269\n",
      "Biological dad 191\n",
      "Grandmother 14\n",
      "Grandfather 9\n",
      "Step-mother 15\n",
      "Step-father 23\n",
      "(8712, 80) (521, 8) (0, 8)\n",
      "(82,) (0,)\n"
     ]
    }
   ],
   "source": [
    "pc_dict = {\n",
    "    'pc_relationship' : 'relationship', \n",
    "    'pc_dominance_mean' : 'pcrcpax', #power assertion\n",
    "    'pc_pro_social_mean' : 'pcrcprx' #personal closeness \n",
    "}\n",
    "for var in pc_dict.values(): \n",
    "    print(var, pc[var].dropna().shape)\n",
    "\n",
    "pc_col2extract_ = [val for val in pc_dict.values()] #valiable columns to extracts\n",
    "pc_col2extract = np.concatenate((baseline_var, pc_col2extract_)) # add basline vars \n",
    "print(pc_col2extract)\n",
    "\n",
    "for var in relationship.values():\n",
    "    count = pc['relationship'].value_counts().get(var)\n",
    "    if  count is not None:\n",
    "        print(rev_relationship[var], count)\n",
    "\n",
    "pc_parent_mask = pc['relationship'].isin(rev_parent_dict)\n",
    "pc_teacher_mask = pc['relationship'].isin(rev_teacher_dict) # no data \n",
    "pc_parent = pc[pc_parent_mask][pc_col2extract]\n",
    "pc_teacher = pc[pc_teacher_mask][pc_col2extract]\n",
    "print(pc.shape, pc_parent.shape, pc_teacher.shape)\n",
    "print(pc_parent['src_subject_id'].unique().shape, pc_teacher['src_subject_id'].unique().shape)\n"
   ]
  },
  {
   "cell_type": "code",
   "execution_count": 298,
   "metadata": {},
   "outputs": [
    {
     "data": {
      "text/plain": [
       "Index(['src_subject_id', 'interview_date', 'interview_age', 'sex', 'site',\n",
       "       'relationship', 'pcrcpax', 'pcrcprx'],\n",
       "      dtype='object')"
      ]
     },
     "execution_count": 298,
     "metadata": {},
     "output_type": "execute_result"
    }
   ],
   "source": [
    "pc_parent.keys()"
   ]
  },
  {
   "cell_type": "markdown",
   "metadata": {},
   "source": [
    "### set types "
   ]
  },
  {
   "cell_type": "code",
   "execution_count": 299,
   "metadata": {},
   "outputs": [
    {
     "name": "stdout",
     "output_type": "stream",
     "text": [
      "src_subject_id     object\n",
      "interview_date     object\n",
      "interview_age       int64\n",
      "sex                object\n",
      "site                int64\n",
      "relationship        int64\n",
      "pcrcpax           float64\n",
      "pcrcprx           float64\n",
      "dtype: object\n"
     ]
    }
   ],
   "source": [
    "pc_parent[['interview_age', 'relationship', 'site']] = pc_parent[['interview_age', 'relationship', 'site']].astype(int)\n",
    "pc_parent[['pcrcpax', 'pcrcprx']]= pc_parent[['pcrcpax', 'pcrcprx']].astype(float)\n",
    "print(pc_parent.dtypes)"
   ]
  },
  {
   "cell_type": "markdown",
   "metadata": {},
   "source": [
    "### Wechsler"
   ]
  },
  {
   "cell_type": "code",
   "execution_count": 300,
   "metadata": {},
   "outputs": [
    {
     "name": "stdout",
     "output_type": "stream",
     "text": [
      "['src_subject_id' 'interview_date' 'interview_age' 'sex' 'site'\n",
      " 'relationship' 'w1readb' 'w2math' 'w3spell']\n",
      "relationship (6243,)\n",
      "w1readb (6242,)\n",
      "w2math (6241,)\n",
      "w3spell (4572,)\n",
      "Self 4196\n",
      "(6243, 406) (6243, 9)\n"
     ]
    }
   ],
   "source": [
    "wechsler_dict = {\n",
    "    'relationship' : 'relationship',\n",
    "    'wiat_reading_sc': 'w1readb', # scaled scores \n",
    "    'wiat_math_sc' : 'w2math', \n",
    "    'wiat_read_sc' : 'w3spell'\n",
    "}\n",
    "\n",
    "wechsler_col2extract_ = [val for val in wechsler_dict.values()] #valiable columns to extracts\n",
    "wechsler_col2extract = np.concatenate((baseline_var, wechsler_col2extract_)) # add basline vars \n",
    "print(wechsler_col2extract)\n",
    "\n",
    "for var in wechsler_dict.values(): \n",
    "    print(var, wechsler[var].dropna().shape)\n",
    "\n",
    "for var in relationship.values():\n",
    "    count = wechsler['relationship'].value_counts().get(var)\n",
    "    if  count is not None:\n",
    "        print(rev_relationship[var], count)\n",
    "\n",
    "wechsler_child = wechsler[wechsler_col2extract]\n",
    "print(wechsler.shape, wechsler_child.shape)"
   ]
  },
  {
   "cell_type": "code",
   "execution_count": 301,
   "metadata": {},
   "outputs": [
    {
     "data": {
      "text/plain": [
       "Index(['src_subject_id', 'interview_date', 'interview_age', 'sex', 'site',\n",
       "       'relationship', 'w1readb', 'w2math', 'w3spell'],\n",
       "      dtype='object')"
      ]
     },
     "execution_count": 301,
     "metadata": {},
     "output_type": "execute_result"
    }
   ],
   "source": [
    "wechsler_child.keys()"
   ]
  },
  {
   "cell_type": "markdown",
   "metadata": {},
   "source": [
    "### set types"
   ]
  },
  {
   "cell_type": "code",
   "execution_count": 302,
   "metadata": {},
   "outputs": [
    {
     "name": "stdout",
     "output_type": "stream",
     "text": [
      "src_subject_id     object\n",
      "interview_date     object\n",
      "interview_age       int64\n",
      "sex                object\n",
      "site                int64\n",
      "relationship        int64\n",
      "w1readb           float64\n",
      "w2math            float64\n",
      "w3spell           float64\n",
      "dtype: object\n"
     ]
    },
    {
     "name": "stderr",
     "output_type": "stream",
     "text": [
      "/var/folders/hf/frc4nxb532j7gqr3_36l6kmh0000gn/T/ipykernel_26458/2355518100.py:1: SettingWithCopyWarning: \n",
      "A value is trying to be set on a copy of a slice from a DataFrame.\n",
      "Try using .loc[row_indexer,col_indexer] = value instead\n",
      "\n",
      "See the caveats in the documentation: https://pandas.pydata.org/pandas-docs/stable/user_guide/indexing.html#returning-a-view-versus-a-copy\n",
      "  wechsler_child[['interview_age', 'relationship', 'site']] = wechsler_child[['interview_age', 'relationship', 'site']].astype(int)\n",
      "/var/folders/hf/frc4nxb532j7gqr3_36l6kmh0000gn/T/ipykernel_26458/2355518100.py:2: SettingWithCopyWarning: \n",
      "A value is trying to be set on a copy of a slice from a DataFrame.\n",
      "Try using .loc[row_indexer,col_indexer] = value instead\n",
      "\n",
      "See the caveats in the documentation: https://pandas.pydata.org/pandas-docs/stable/user_guide/indexing.html#returning-a-view-versus-a-copy\n",
      "  wechsler_child[['w1readb', 'w2math', 'w3spell']] = wechsler_child[['w1readb', 'w2math', 'w3spell']].astype(float)\n"
     ]
    }
   ],
   "source": [
    "wechsler_child[['interview_age', 'relationship', 'site']] = wechsler_child[['interview_age', 'relationship', 'site']].astype(int)\n",
    "wechsler_child[['w1readb', 'w2math', 'w3spell']] = wechsler_child[['w1readb', 'w2math', 'w3spell']].astype(float)\n",
    "print(wechsler_child.dtypes)"
   ]
  },
  {
   "cell_type": "code",
   "execution_count": 303,
   "metadata": {},
   "outputs": [
    {
     "data": {
      "text/plain": [
       "7398"
      ]
     },
     "execution_count": 303,
     "metadata": {},
     "output_type": "execute_result"
    }
   ],
   "source": [
    "(ssrs.sjtyp == 1).sum()"
   ]
  },
  {
   "cell_type": "markdown",
   "metadata": {},
   "source": [
    "#### Treatment groups \n"
   ]
  },
  {
   "cell_type": "code",
   "execution_count": 304,
   "metadata": {},
   "outputs": [
    {
     "data": {
      "text/plain": [
       "src_subject_id    object\n",
       "trtname           object\n",
       "dtype: object"
      ]
     },
     "execution_count": 304,
     "metadata": {},
     "output_type": "execute_result"
    }
   ],
   "source": [
    "end_treat_file = 'debrief1401.txt'\n",
    "end_treat = pd.read_csv(Path(data_root, end_treat_file), delimiter='\\t')\n",
    "\n",
    "treat_group = end_treat[['src_subject_id', 'trtname']].astype(str)\n",
    "treat_group['trtname'].unique()\n",
    "\n",
    "sub_m = treat_group.query(\"trtname == 'M'\") #medi\n",
    "sub_c = treat_group.query(\"trtname == 'C'\") #'combined'\n",
    "sub_p = treat_group.query(\"trtname == 'P'\") # psychosocial \n",
    "treat_group.dtypes"
   ]
  },
  {
   "cell_type": "code",
   "execution_count": 305,
   "metadata": {},
   "outputs": [
    {
     "data": {
      "text/plain": [
       "(434, 2)"
      ]
     },
     "execution_count": 305,
     "metadata": {},
     "output_type": "execute_result"
    }
   ],
   "source": [
    "treat_group.dropna().shape"
   ]
  },
  {
   "cell_type": "code",
   "execution_count": 306,
   "metadata": {},
   "outputs": [
    {
     "name": "stdout",
     "output_type": "stream",
     "text": [
      "433\n",
      "8590\n",
      "(868,)\n"
     ]
    }
   ],
   "source": [
    "print((treat_group['src_subject_id'].isin(snap.src_subject_id)).sum())\n",
    "print(snap.src_subject_id.isin(treat_group['src_subject_id']).sum())\n",
    "print(snap.src_subject_id.unique().shape)"
   ]
  },
  {
   "cell_type": "code",
   "execution_count": 307,
   "metadata": {},
   "outputs": [],
   "source": [
    "snap_p_t_treat = pd.merge(snap_p_t, treat_group, how='inner', on = 'src_subject_id') #table with relevant snap vales, rater, and treatment group \n",
    "ssrs_p_t_treat = pd.merge(ssrs_p_t, treat_group, how='inner', on = 'src_subject_id') #table with relevant snap vales, rater, and treatment group \n",
    "masc_c_treat = pd.merge(masc_child, treat_group, how='inner', on = 'src_subject_id') #table with relevant snap vales, rater, and treatment group \n",
    "pc_p_treat = pd.merge(pc_parent, treat_group, how='inner', on = 'src_subject_id') #table with relevant snap vales, rater, and treatment group \n",
    "wechsler_c_treat = pd.merge(wechsler_child, treat_group, how='inner', on = 'src_subject_id') #table with relevant snap vales, rater, and treatment group \n",
    "\n",
    "#print(snap_p_t_treat.info(), ssrs_p_t_treat.info(), masc_c_treat.info(), pc_p_treat.info(), wechsler_c_treat.info())"
   ]
  },
  {
   "cell_type": "code",
   "execution_count": 308,
   "metadata": {},
   "outputs": [
    {
     "data": {
      "text/html": [
       "<div>\n",
       "<style scoped>\n",
       "    .dataframe tbody tr th:only-of-type {\n",
       "        vertical-align: middle;\n",
       "    }\n",
       "\n",
       "    .dataframe tbody tr th {\n",
       "        vertical-align: top;\n",
       "    }\n",
       "\n",
       "    .dataframe thead th {\n",
       "        text-align: right;\n",
       "    }\n",
       "</style>\n",
       "<table border=\"1\" class=\"dataframe\">\n",
       "  <thead>\n",
       "    <tr style=\"text-align: right;\">\n",
       "      <th></th>\n",
       "      <th>src_subject_id</th>\n",
       "      <th>interview_date</th>\n",
       "      <th>interview_age</th>\n",
       "      <th>sex</th>\n",
       "      <th>site</th>\n",
       "      <th>relationship</th>\n",
       "      <th>snainatx</th>\n",
       "      <th>snainatt</th>\n",
       "      <th>snahypax</th>\n",
       "      <th>snahypat</th>\n",
       "      <th>snaimpux</th>\n",
       "      <th>snaimput</th>\n",
       "      <th>snaoddx</th>\n",
       "      <th>snaoddt</th>\n",
       "      <th>p_t_bool</th>\n",
       "      <th>trtname</th>\n",
       "    </tr>\n",
       "  </thead>\n",
       "  <tbody>\n",
       "    <tr>\n",
       "      <th>0</th>\n",
       "      <td>P1434</td>\n",
       "      <td>12/26/2004</td>\n",
       "      <td>203</td>\n",
       "      <td>M</td>\n",
       "      <td>2</td>\n",
       "      <td>1</td>\n",
       "      <td>1.78</td>\n",
       "      <td>16.0</td>\n",
       "      <td>1.50</td>\n",
       "      <td>9.0</td>\n",
       "      <td>1.33</td>\n",
       "      <td>4.0</td>\n",
       "      <td>2.13</td>\n",
       "      <td>17.0</td>\n",
       "      <td>1</td>\n",
       "      <td>P</td>\n",
       "    </tr>\n",
       "    <tr>\n",
       "      <th>1</th>\n",
       "      <td>P1435</td>\n",
       "      <td>09/03/1995</td>\n",
       "      <td>77</td>\n",
       "      <td>F</td>\n",
       "      <td>6</td>\n",
       "      <td>1</td>\n",
       "      <td>3.00</td>\n",
       "      <td>27.0</td>\n",
       "      <td>3.00</td>\n",
       "      <td>18.0</td>\n",
       "      <td>3.00</td>\n",
       "      <td>9.0</td>\n",
       "      <td>2.75</td>\n",
       "      <td>22.0</td>\n",
       "      <td>1</td>\n",
       "      <td>M</td>\n",
       "    </tr>\n",
       "    <tr>\n",
       "      <th>2</th>\n",
       "      <td>P1435</td>\n",
       "      <td>07/21/1996</td>\n",
       "      <td>88</td>\n",
       "      <td>F</td>\n",
       "      <td>6</td>\n",
       "      <td>1</td>\n",
       "      <td>1.89</td>\n",
       "      <td>17.0</td>\n",
       "      <td>2.83</td>\n",
       "      <td>17.0</td>\n",
       "      <td>3.00</td>\n",
       "      <td>9.0</td>\n",
       "      <td>2.38</td>\n",
       "      <td>19.0</td>\n",
       "      <td>1</td>\n",
       "      <td>M</td>\n",
       "    </tr>\n",
       "    <tr>\n",
       "      <th>3</th>\n",
       "      <td>P1435</td>\n",
       "      <td>10/02/1996</td>\n",
       "      <td>90</td>\n",
       "      <td>F</td>\n",
       "      <td>6</td>\n",
       "      <td>1</td>\n",
       "      <td>1.78</td>\n",
       "      <td>16.0</td>\n",
       "      <td>1.83</td>\n",
       "      <td>11.0</td>\n",
       "      <td>1.67</td>\n",
       "      <td>5.0</td>\n",
       "      <td>2.38</td>\n",
       "      <td>19.0</td>\n",
       "      <td>1</td>\n",
       "      <td>M</td>\n",
       "    </tr>\n",
       "    <tr>\n",
       "      <th>4</th>\n",
       "      <td>P1435</td>\n",
       "      <td>04/30/1997</td>\n",
       "      <td>97</td>\n",
       "      <td>F</td>\n",
       "      <td>6</td>\n",
       "      <td>1</td>\n",
       "      <td>0.89</td>\n",
       "      <td>8.0</td>\n",
       "      <td>1.00</td>\n",
       "      <td>6.0</td>\n",
       "      <td>0.67</td>\n",
       "      <td>2.0</td>\n",
       "      <td>1.75</td>\n",
       "      <td>14.0</td>\n",
       "      <td>1</td>\n",
       "      <td>M</td>\n",
       "    </tr>\n",
       "    <tr>\n",
       "      <th>...</th>\n",
       "      <td>...</td>\n",
       "      <td>...</td>\n",
       "      <td>...</td>\n",
       "      <td>...</td>\n",
       "      <td>...</td>\n",
       "      <td>...</td>\n",
       "      <td>...</td>\n",
       "      <td>...</td>\n",
       "      <td>...</td>\n",
       "      <td>...</td>\n",
       "      <td>...</td>\n",
       "      <td>...</td>\n",
       "      <td>...</td>\n",
       "      <td>...</td>\n",
       "      <td>...</td>\n",
       "      <td>...</td>\n",
       "    </tr>\n",
       "    <tr>\n",
       "      <th>5472</th>\n",
       "      <td>P1842</td>\n",
       "      <td>08/21/1998</td>\n",
       "      <td>115</td>\n",
       "      <td>M</td>\n",
       "      <td>4</td>\n",
       "      <td>4</td>\n",
       "      <td>2.22</td>\n",
       "      <td>20.0</td>\n",
       "      <td>0.67</td>\n",
       "      <td>4.0</td>\n",
       "      <td>0.67</td>\n",
       "      <td>2.0</td>\n",
       "      <td>0.63</td>\n",
       "      <td>5.0</td>\n",
       "      <td>2</td>\n",
       "      <td>M</td>\n",
       "    </tr>\n",
       "    <tr>\n",
       "      <th>5473</th>\n",
       "      <td>P1842</td>\n",
       "      <td>10/05/2001</td>\n",
       "      <td>153</td>\n",
       "      <td>M</td>\n",
       "      <td>4</td>\n",
       "      <td>14</td>\n",
       "      <td>1.11</td>\n",
       "      <td>10.0</td>\n",
       "      <td>0.00</td>\n",
       "      <td>0.0</td>\n",
       "      <td>0.33</td>\n",
       "      <td>1.0</td>\n",
       "      <td>0.38</td>\n",
       "      <td>3.0</td>\n",
       "      <td>2</td>\n",
       "      <td>M</td>\n",
       "    </tr>\n",
       "    <tr>\n",
       "      <th>5474</th>\n",
       "      <td>P1842</td>\n",
       "      <td>10/09/2001</td>\n",
       "      <td>153</td>\n",
       "      <td>M</td>\n",
       "      <td>4</td>\n",
       "      <td>14</td>\n",
       "      <td>1.00</td>\n",
       "      <td>9.0</td>\n",
       "      <td>0.00</td>\n",
       "      <td>0.0</td>\n",
       "      <td>0.33</td>\n",
       "      <td>1.0</td>\n",
       "      <td>0.63</td>\n",
       "      <td>5.0</td>\n",
       "      <td>2</td>\n",
       "      <td>M</td>\n",
       "    </tr>\n",
       "    <tr>\n",
       "      <th>5475</th>\n",
       "      <td>P1842</td>\n",
       "      <td>02/23/2003</td>\n",
       "      <td>169</td>\n",
       "      <td>M</td>\n",
       "      <td>4</td>\n",
       "      <td>4</td>\n",
       "      <td>1.22</td>\n",
       "      <td>11.0</td>\n",
       "      <td>0.00</td>\n",
       "      <td>0.0</td>\n",
       "      <td>0.00</td>\n",
       "      <td>0.0</td>\n",
       "      <td>0.00</td>\n",
       "      <td>0.0</td>\n",
       "      <td>2</td>\n",
       "      <td>M</td>\n",
       "    </tr>\n",
       "    <tr>\n",
       "      <th>5476</th>\n",
       "      <td>P1842</td>\n",
       "      <td>02/25/2003</td>\n",
       "      <td>170</td>\n",
       "      <td>M</td>\n",
       "      <td>4</td>\n",
       "      <td>14</td>\n",
       "      <td>2.67</td>\n",
       "      <td>24.0</td>\n",
       "      <td>0.00</td>\n",
       "      <td>0.0</td>\n",
       "      <td>0.00</td>\n",
       "      <td>0.0</td>\n",
       "      <td>0.13</td>\n",
       "      <td>1.0</td>\n",
       "      <td>2</td>\n",
       "      <td>M</td>\n",
       "    </tr>\n",
       "  </tbody>\n",
       "</table>\n",
       "<p>5477 rows × 16 columns</p>\n",
       "</div>"
      ],
      "text/plain": [
       "     src_subject_id interview_date  interview_age sex  site  relationship  \\\n",
       "0             P1434     12/26/2004            203   M     2             1   \n",
       "1             P1435     09/03/1995             77   F     6             1   \n",
       "2             P1435     07/21/1996             88   F     6             1   \n",
       "3             P1435     10/02/1996             90   F     6             1   \n",
       "4             P1435     04/30/1997             97   F     6             1   \n",
       "...             ...            ...            ...  ..   ...           ...   \n",
       "5472          P1842     08/21/1998            115   M     4             4   \n",
       "5473          P1842     10/05/2001            153   M     4            14   \n",
       "5474          P1842     10/09/2001            153   M     4            14   \n",
       "5475          P1842     02/23/2003            169   M     4             4   \n",
       "5476          P1842     02/25/2003            170   M     4            14   \n",
       "\n",
       "      snainatx  snainatt  snahypax  snahypat  snaimpux  snaimput  snaoddx  \\\n",
       "0         1.78      16.0      1.50       9.0      1.33       4.0     2.13   \n",
       "1         3.00      27.0      3.00      18.0      3.00       9.0     2.75   \n",
       "2         1.89      17.0      2.83      17.0      3.00       9.0     2.38   \n",
       "3         1.78      16.0      1.83      11.0      1.67       5.0     2.38   \n",
       "4         0.89       8.0      1.00       6.0      0.67       2.0     1.75   \n",
       "...        ...       ...       ...       ...       ...       ...      ...   \n",
       "5472      2.22      20.0      0.67       4.0      0.67       2.0     0.63   \n",
       "5473      1.11      10.0      0.00       0.0      0.33       1.0     0.38   \n",
       "5474      1.00       9.0      0.00       0.0      0.33       1.0     0.63   \n",
       "5475      1.22      11.0      0.00       0.0      0.00       0.0     0.00   \n",
       "5476      2.67      24.0      0.00       0.0      0.00       0.0     0.13   \n",
       "\n",
       "      snaoddt  p_t_bool trtname  \n",
       "0        17.0         1       P  \n",
       "1        22.0         1       M  \n",
       "2        19.0         1       M  \n",
       "3        19.0         1       M  \n",
       "4        14.0         1       M  \n",
       "...       ...       ...     ...  \n",
       "5472      5.0         2       M  \n",
       "5473      3.0         2       M  \n",
       "5474      5.0         2       M  \n",
       "5475      0.0         2       M  \n",
       "5476      1.0         2       M  \n",
       "\n",
       "[5477 rows x 16 columns]"
      ]
     },
     "execution_count": 308,
     "metadata": {},
     "output_type": "execute_result"
    }
   ],
   "source": [
    "snap_p_t_treat"
   ]
  },
  {
   "cell_type": "code",
   "execution_count": 309,
   "metadata": {},
   "outputs": [
    {
     "data": {
      "text/plain": [
       "src_subject_id     object\n",
       "interview_date     object\n",
       "interview_age       int64\n",
       "sex                object\n",
       "site                int64\n",
       "relationship        int64\n",
       "snainatx          float64\n",
       "snainatt          float64\n",
       "snahypax          float64\n",
       "snahypat          float64\n",
       "snaimpux          float64\n",
       "snaimput          float64\n",
       "snaoddx           float64\n",
       "snaoddt           float64\n",
       "p_t_bool            int64\n",
       "trtname            object\n",
       "dtype: object"
      ]
     },
     "execution_count": 309,
     "metadata": {},
     "output_type": "execute_result"
    }
   ],
   "source": [
    "snap_p_t_treat.dtypes"
   ]
  },
  {
   "cell_type": "code",
   "execution_count": 310,
   "metadata": {},
   "outputs": [
    {
     "name": "stdout",
     "output_type": "stream",
     "text": [
      "\n",
      "\n"
     ]
    },
    {
     "data": {
      "text/html": [
       "<div>\n",
       "<style scoped>\n",
       "    .dataframe tbody tr th:only-of-type {\n",
       "        vertical-align: middle;\n",
       "    }\n",
       "\n",
       "    .dataframe tbody tr th {\n",
       "        vertical-align: top;\n",
       "    }\n",
       "\n",
       "    .dataframe thead th {\n",
       "        text-align: right;\n",
       "    }\n",
       "</style>\n",
       "<table border=\"1\" class=\"dataframe\">\n",
       "  <thead>\n",
       "    <tr style=\"text-align: right;\">\n",
       "      <th></th>\n",
       "      <th>N</th>\n",
       "      <th>Mean</th>\n",
       "      <th>SD</th>\n",
       "      <th>SE</th>\n",
       "      <th>95% Conf.</th>\n",
       "      <th>Interval</th>\n",
       "    </tr>\n",
       "    <tr>\n",
       "      <th>trtname</th>\n",
       "      <th></th>\n",
       "      <th></th>\n",
       "      <th></th>\n",
       "      <th></th>\n",
       "      <th></th>\n",
       "      <th></th>\n",
       "    </tr>\n",
       "  </thead>\n",
       "  <tbody>\n",
       "    <tr>\n",
       "      <th>C</th>\n",
       "      <td>1896</td>\n",
       "      <td>1.5033</td>\n",
       "      <td>0.8204</td>\n",
       "      <td>0.0188</td>\n",
       "      <td>1.4664</td>\n",
       "      <td>1.5403</td>\n",
       "    </tr>\n",
       "    <tr>\n",
       "      <th>M</th>\n",
       "      <td>1589</td>\n",
       "      <td>1.5238</td>\n",
       "      <td>0.8570</td>\n",
       "      <td>0.0215</td>\n",
       "      <td>1.4817</td>\n",
       "      <td>1.5660</td>\n",
       "    </tr>\n",
       "    <tr>\n",
       "      <th>P</th>\n",
       "      <td>1971</td>\n",
       "      <td>1.6849</td>\n",
       "      <td>0.8056</td>\n",
       "      <td>0.0181</td>\n",
       "      <td>1.6493</td>\n",
       "      <td>1.7205</td>\n",
       "    </tr>\n",
       "  </tbody>\n",
       "</table>\n",
       "</div>"
      ],
      "text/plain": [
       "            N    Mean      SD      SE  95% Conf.  Interval\n",
       "trtname                                                   \n",
       "C        1896  1.5033  0.8204  0.0188     1.4664    1.5403\n",
       "M        1589  1.5238  0.8570  0.0215     1.4817    1.5660\n",
       "P        1971  1.6849  0.8056  0.0181     1.6493    1.7205"
      ]
     },
     "execution_count": 310,
     "metadata": {},
     "output_type": "execute_result"
    }
   ],
   "source": [
    "rp.summary_cont(snap_p_t_treat.groupby('trtname')['snainatx'])"
   ]
  },
  {
   "cell_type": "code",
   "execution_count": null,
   "metadata": {},
   "outputs": [],
   "source": []
  }
 ],
 "metadata": {
  "kernelspec": {
   "display_name": "abcd",
   "language": "python",
   "name": "python3"
  },
  "language_info": {
   "codemirror_mode": {
    "name": "ipython",
    "version": 3
   },
   "file_extension": ".py",
   "mimetype": "text/x-python",
   "name": "python",
   "nbconvert_exporter": "python",
   "pygments_lexer": "ipython3",
   "version": "3.10.0"
  }
 },
 "nbformat": 4,
 "nbformat_minor": 2
}
