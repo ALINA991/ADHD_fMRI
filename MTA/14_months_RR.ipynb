{
 "cells": [
  {
   "cell_type": "code",
   "execution_count": 45,
   "metadata": {},
   "outputs": [
    {
     "name": "stdout",
     "output_type": "stream",
     "text": [
      "The autoreload extension is already loaded. To reload it, use:\n",
      "  %reload_ext autoreload\n"
     ]
    }
   ],
   "source": [
    "from pathlib import Path \n",
    "import numpy as np \n",
    "import matplotlib.pyplot as plt \n",
    "import pandas as pd\n",
    "from collections import OrderedDict\n",
    "import sys\n",
    "import os\n",
    "import seaborn as sns\n",
    "import researchpy as rp\n",
    "import statsmodels.formula.api as smf\n",
    "import scipy.stats as stats\n",
    "from sklearn.preprocessing import StandardScaler\n",
    "\n",
    "#sys.path.append('/Users/alina/Desktop/MIT/code/ADHD/MTA/helper')\n",
    "from helper import rr, prep, var_dict\n",
    "\n",
    "%load_ext autoreload\n",
    "%autoreload 2"
   ]
  },
  {
   "cell_type": "code",
   "execution_count": 46,
   "metadata": {},
   "outputs": [],
   "source": [
    "#%reload_ext autoreload"
   ]
  },
  {
   "cell_type": "code",
   "execution_count": 47,
   "metadata": {},
   "outputs": [],
   "source": [
    "if Path('/Volumes/Samsung_T5/MIT/mta').exists():\n",
    "    data_root =     '/Volumes/Samsung_T5/MIT/mta'\n",
    "    derived_data  = '/Volumes/Samsung_T5/MIT/mta/output/derived_data'\n",
    "else: \n",
    "    data_root = '/Users/alina/Desktop/MIT/code/data'\n",
    "    derived_data  = '/Users/alina/Desktop/MIT/code/data/output/derived_data'\n",
    "#os.listdir(data_root)\n"
   ]
  },
  {
   "cell_type": "code",
   "execution_count": 48,
   "metadata": {},
   "outputs": [],
   "source": [
    "baseline_var = ['src_subject_id', 'interview_date', 'interview_age', 'sex', 'site', 'days_baseline']\n",
    "dtypes_baseline = { 'src_subject_id' : 'str',\n",
    "                    'interview_date': 'str' , \n",
    "                    'interview_age' : 'int64' ,\n",
    "                    'sex' : 'str', \n",
    "                    'site' : 'int64' ,\n",
    "                    'days_baseline':  'int64',\n",
    "                    'version_form': 'str'}\n",
    "version_form = ['version_form']\n",
    "\n",
    "qsts = ['snap', 'ssrs',  'pc', 'wechsler'] #masc to many missing data "
   ]
  },
  {
   "cell_type": "code",
   "execution_count": 49,
   "metadata": {},
   "outputs": [],
   "source": [
    "#outcome variablles \n",
    "snap_vars = ['snainatx', 'snahypax', 'snaoddx'] #inattention_mean, hyperactie mean\n",
    "ssrs_vars = ['sspintx', 'ssptossx']# social skills mean, internalizing mean \n",
    "#masc_vars = ['masc_masctotalt']\n",
    "pc_vars = ['pcrcpax', 'pcrcprx'] # power assertion, personal closeness\n",
    "wechsler_vars = ['w1readb','w2math','w3spell' ]\n",
    "outcomes_dict  = {'snap' : snap_vars, 'ssrs' : ssrs_vars,  'pc': pc_vars, 'wechsler': wechsler_vars}\n"
   ]
  },
  {
   "cell_type": "code",
   "execution_count": 50,
   "metadata": {},
   "outputs": [],
   "source": [
    "interaction_predictors = ['days_baseline', 'site', 'trtname'] #time, site, treatment group\n",
    "\n",
    "# mediator variables\n",
    "comorb_mediators  = ['cdorodd' , 'pso', 'psoi', 'pag', 'pagi', 'pga', 'pgai' ,'psa'] #ODD/CD or anx excluding specific phobia \n",
    "services_mediators =  ['demo61'] #reciept of public assistance \n",
    "prev_med_mediators = ['hi_24'] #medication intake prior to study \n",
    "\n",
    "#moderator variables \n",
    "accept_moderator = ['d2dresp'] # initail acceptance of treatment "
   ]
  },
  {
   "cell_type": "code",
   "execution_count": 51,
   "metadata": {},
   "outputs": [
    {
     "name": "stderr",
     "output_type": "stream",
     "text": [
      "/var/folders/hf/frc4nxb532j7gqr3_36l6kmh0000gn/T/ipykernel_8099/1258586597.py:10: UserWarning: Could not infer format, so each element will be parsed individually, falling back to `dateutil`. To ensure parsing is consistent and as-expected, please specify a format.\n",
      "  snap_ = pd.read_csv(Path(data_root, snap_file), delimiter=\"\\t\", usecols=np.concatenate((baseline_var, snap_vars, version_form)), skiprows=[1] , parse_dates=['days_baseline']).dropna(subset='days_baseline').drop_duplicates()\n",
      "/var/folders/hf/frc4nxb532j7gqr3_36l6kmh0000gn/T/ipykernel_8099/1258586597.py:11: UserWarning: Could not infer format, so each element will be parsed individually, falling back to `dateutil`. To ensure parsing is consistent and as-expected, please specify a format.\n",
      "  ssrs_ = pd.read_csv(Path(data_root, ssrs_file), delimiter=\"\\t\", usecols=np.concatenate((baseline_var, ssrs_vars, version_form)), skiprows=[1] , parse_dates=['days_baseline']).dropna(subset='days_baseline').drop_duplicates()\n",
      "/var/folders/hf/frc4nxb532j7gqr3_36l6kmh0000gn/T/ipykernel_8099/1258586597.py:13: UserWarning: Could not infer format, so each element will be parsed individually, falling back to `dateutil`. To ensure parsing is consistent and as-expected, please specify a format.\n",
      "  pc_ = pd.read_csv(Path(data_root, parent_child_file), delimiter=\"\\t\", usecols=np.concatenate((baseline_var, pc_vars, version_form)), skiprows=[1] , parse_dates=['days_baseline']).dropna(subset='days_baseline').drop_duplicates()\n",
      "/var/folders/hf/frc4nxb532j7gqr3_36l6kmh0000gn/T/ipykernel_8099/1258586597.py:14: UserWarning: Could not infer format, so each element will be parsed individually, falling back to `dateutil`. To ensure parsing is consistent and as-expected, please specify a format.\n",
      "  wechsler_ = pd.read_csv(Path(data_root, wechsler_file), delimiter=\"\\t\", usecols=np.concatenate((baseline_var, wechsler_vars)), skiprows=[1] , parse_dates=['days_baseline']).dropna(subset='days_baseline').drop_duplicates()\n"
     ]
    }
   ],
   "source": [
    "# load files, drop rows if missing date, drop duplicates \n",
    "\n",
    "snap_file = 'snap01.txt'\n",
    "ssrs_file = 'ssrs01.txt'\n",
    "#masc_file = 'masc_p01.txt'\n",
    "parent_child_file = 'pcrc01.txt'\n",
    "wechsler_file = 'wiat_iiip201.txt'\n",
    "treat_group = 'treatment_groups.csv'\n",
    "\n",
    "snap_ = pd.read_csv(Path(data_root, snap_file), delimiter=\"\\t\", usecols=np.concatenate((baseline_var, snap_vars, version_form)), skiprows=[1] , parse_dates=['days_baseline']).dropna(subset='days_baseline').drop_duplicates()\n",
    "ssrs_ = pd.read_csv(Path(data_root, ssrs_file), delimiter=\"\\t\", usecols=np.concatenate((baseline_var, ssrs_vars, version_form)), skiprows=[1] , parse_dates=['days_baseline']).dropna(subset='days_baseline').drop_duplicates()\n",
    "#masc_ = pd.read_csv(Path(data_root, masc_file), delimiter=\"\\t\", usecols=np.concatenate((baseline_var, masc_vars, version_form)), skiprows=[1] , parse_dates=['days_baseline']).dropna(subset='days_baseline').drop_duplicates()\n",
    "pc_ = pd.read_csv(Path(data_root, parent_child_file), delimiter=\"\\t\", usecols=np.concatenate((baseline_var, pc_vars, version_form)), skiprows=[1] , parse_dates=['days_baseline']).dropna(subset='days_baseline').drop_duplicates()\n",
    "wechsler_ = pd.read_csv(Path(data_root, wechsler_file), delimiter=\"\\t\", usecols=np.concatenate((baseline_var, wechsler_vars)), skiprows=[1] , parse_dates=['days_baseline']).dropna(subset='days_baseline').drop_duplicates()\n",
    "treat_group = pd.read_csv(Path(derived_data, treat_group))\n",
    "orig_rr_14 = pd.read_csv(Path(derived_data, 'original_rr_results_14.csv'))"
   ]
  },
  {
   "cell_type": "code",
   "execution_count": 52,
   "metadata": {},
   "outputs": [
    {
     "name": "stdout",
     "output_type": "stream",
     "text": [
      "Success\n",
      "Success\n",
      "Success\n",
      "Success\n",
      "(14540, 10) (10735, 10) (8627, 10) (4571, 10)\n"
     ]
    }
   ],
   "source": [
    "# merge with treatment group info convert colum data to appropriate dtypes \n",
    "\n",
    "snap = prep.set_baseline_dtypes(pd.merge(snap_, treat_group, how='inner', on = 'src_subject_id')).dropna()#.table with relevant snap vales, rater, and treatment group \n",
    "ssrs = prep.set_baseline_dtypes(pd.merge(ssrs_, treat_group, how='inner', on = 'src_subject_id').dropna())#.dropna() #table with relevant snap vales, rater, and treatment group \n",
    "#masc = prep.set_baseline_dtypes(pd.merge(masc_, treat_group, how='inner', on = 'src_subject_id')).dropna()#.dropna() #table with relevant snap vales, rater, and treatment group \n",
    "pc = prep.set_baseline_dtypes(pd.merge(pc_, treat_group, how='inner', on = 'src_subject_id').dropna())#.dropna() #table with relevant snap vales, rater, and treatment group \n",
    "wechsler = prep.set_baseline_dtypes(pd.merge(wechsler_, treat_group, how='inner', on = 'src_subject_id')).dropna()#.dropna() #table with relevant snap vales, rater, and treatment group \n",
    "\n",
    "print(snap_.shape, ssrs.shape, pc.shape, wechsler.shape)"
   ]
  },
  {
   "cell_type": "code",
   "execution_count": 53,
   "metadata": {},
   "outputs": [],
   "source": [
    "ssrs.loc[ssrs['version_form'].str.startswith('Teacher'), 'version_form'] = 'Teacher'\n",
    "ssrs.loc[ssrs['version_form'].str.startswith('Parent'), 'version_form'] = 'Parent'"
   ]
  },
  {
   "cell_type": "code",
   "execution_count": 54,
   "metadata": {},
   "outputs": [
    {
     "name": "stdout",
     "output_type": "stream",
     "text": [
      "Success\n",
      "Success\n",
      "Success\n",
      "Success\n"
     ]
    },
    {
     "name": "stderr",
     "output_type": "stream",
     "text": [
      "/var/folders/hf/frc4nxb532j7gqr3_36l6kmh0000gn/T/ipykernel_8099/3879433410.py:6: UserWarning: Could not infer format, so each element will be parsed individually, falling back to `dateutil`. To ensure parsing is consistent and as-expected, please specify a format.\n",
      "  comorb = prep.set_baseline_dtypes(pd.read_csv(Path(data_root, comorb_file), delimiter= '\\t', usecols = np.concatenate((baseline_var, comorb_mediators)), skiprows=[1] , parse_dates=['days_baseline']).dropna(subset='days_baseline').drop_duplicates())\n",
      "/var/folders/hf/frc4nxb532j7gqr3_36l6kmh0000gn/T/ipykernel_8099/3879433410.py:7: UserWarning: Could not infer format, so each element will be parsed individually, falling back to `dateutil`. To ensure parsing is consistent and as-expected, please specify a format.\n",
      "  demog = prep.set_baseline_dtypes(pd.read_csv(Path(data_root, demog_file), delimiter= '\\t', usecols  =np.concatenate((baseline_var, services_mediators)), skiprows=[1] , parse_dates=['days_baseline']).dropna(subset='days_baseline').drop_duplicates())\n",
      "/var/folders/hf/frc4nxb532j7gqr3_36l6kmh0000gn/T/ipykernel_8099/3879433410.py:8: UserWarning: Could not infer format, so each element will be parsed individually, falling back to `dateutil`. To ensure parsing is consistent and as-expected, please specify a format.\n",
      "  health_qst = prep.set_baseline_dtypes(pd.read_csv(Path(data_root, health_qst_file), delimiter= '\\t', usecols=np.concatenate((baseline_var, prev_med_mediators)), skiprows=[1] , parse_dates=['days_baseline']).dropna(subset='days_baseline').drop_duplicates())\n"
     ]
    }
   ],
   "source": [
    "comorb_file = 'diagpsx01.txt' # contains odd/cd and anx comorbid diagnoses \n",
    "demog_file = 'demgr01.txt' # contains recieot of public assistance \n",
    "health_qst_file  = 'health01.txt' # contains previous medication \n",
    "init_sat_file = 'debrief01.txt' # contains rating of initial acceptance of treatment goup\n",
    "\n",
    "comorb = prep.set_baseline_dtypes(pd.read_csv(Path(data_root, comorb_file), delimiter= '\\t', usecols = np.concatenate((baseline_var, comorb_mediators)), skiprows=[1] , parse_dates=['days_baseline']).dropna(subset='days_baseline').drop_duplicates())\n",
    "demog = prep.set_baseline_dtypes(pd.read_csv(Path(data_root, demog_file), delimiter= '\\t', usecols  =np.concatenate((baseline_var, services_mediators)), skiprows=[1] , parse_dates=['days_baseline']).dropna(subset='days_baseline').drop_duplicates())\n",
    "health_qst = prep.set_baseline_dtypes(pd.read_csv(Path(data_root, health_qst_file), delimiter= '\\t', usecols=np.concatenate((baseline_var, prev_med_mediators)), skiprows=[1] , parse_dates=['days_baseline']).dropna(subset='days_baseline').drop_duplicates())\n",
    "init_sat_file = prep.set_baseline_dtypes(pd.read_csv(Path(data_root, init_sat_file), delimiter= '\\t', usecols=np.concatenate((baseline_var,  accept_moderator)), skiprows=[1] , parse_dates=['days_baseline']).dropna(subset='days_baseline').drop_duplicates())\n",
    "\n"
   ]
  },
  {
   "cell_type": "code",
   "execution_count": 55,
   "metadata": {},
   "outputs": [],
   "source": [
    "snap_split_dict = prep.split_data_from_timepoints(snap)\n",
    "ssrs_split_dict = prep.split_data_from_timepoints(ssrs)\n",
    "pc_split_dict = prep.split_data_from_timepoints(pc)\n",
    "wechsler_split_dict = prep.split_data_from_timepoints(wechsler)\n",
    "data = {'snap' : snap_split_dict, 'ssrs': ssrs_split_dict, 'pc': pc_split_dict, 'wechsler': wechsler_split_dict}"
   ]
  },
  {
   "cell_type": "code",
   "execution_count": 56,
   "metadata": {},
   "outputs": [
    {
     "data": {
      "text/plain": [
       "days_baseline\n",
       "0      2880\n",
       "419      36\n",
       "196      31\n",
       "392      30\n",
       "448      30\n",
       "       ... \n",
       "49        1\n",
       "63        1\n",
       "308       1\n",
       "307       1\n",
       "327       1\n",
       "Name: count, Length: 437, dtype: int64"
      ]
     },
     "execution_count": 56,
     "metadata": {},
     "output_type": "execute_result"
    }
   ],
   "source": [
    "pc_split_dict['14']['days_baseline'].value_counts()"
   ]
  },
  {
   "cell_type": "code",
   "execution_count": null,
   "metadata": {},
   "outputs": [],
   "source": []
  },
  {
   "cell_type": "code",
   "execution_count": 57,
   "metadata": {},
   "outputs": [
    {
     "data": {
      "text/plain": [
       "0       True\n",
       "1       True\n",
       "2       True\n",
       "3       True\n",
       "4       True\n",
       "        ... \n",
       "8665    True\n",
       "8666    True\n",
       "8667    True\n",
       "8668    True\n",
       "8669    True\n",
       "Name: days_baseline, Length: 6985, dtype: bool"
      ]
     },
     "execution_count": 57,
     "metadata": {},
     "output_type": "execute_result"
    }
   ],
   "source": [
    "data['pc']['14']['days_baseline'] == pc_split_dict['14']['days_baseline']"
   ]
  },
  {
   "cell_type": "code",
   "execution_count": 58,
   "metadata": {},
   "outputs": [
    {
     "data": {
      "text/plain": [
       "days_baseline\n",
       "0      2880\n",
       "419      36\n",
       "196      31\n",
       "392      30\n",
       "448      30\n",
       "       ... \n",
       "49        1\n",
       "63        1\n",
       "308       1\n",
       "307       1\n",
       "327       1\n",
       "Name: count, Length: 437, dtype: int64"
      ]
     },
     "execution_count": 58,
     "metadata": {},
     "output_type": "execute_result"
    }
   ],
   "source": [
    "data['pc']['14']['days_baseline'].value_counts()"
   ]
  },
  {
   "cell_type": "code",
   "execution_count": 59,
   "metadata": {},
   "outputs": [
    {
     "data": {
      "text/plain": [
       "{'snap': ['snainatx ~ C(trtname, Treatment(reference = \"L\")) * days_baseline * C(site)',\n",
       "  'snahypax ~ C(trtname, Treatment(reference = \"L\")) * days_baseline * C(site)',\n",
       "  'snaoddx ~ C(trtname, Treatment(reference = \"L\")) * days_baseline * C(site)'],\n",
       " 'ssrs': ['sspintx ~ C(trtname, Treatment(reference = \"L\")) * days_baseline * C(site)',\n",
       "  'ssptossx ~ C(trtname, Treatment(reference = \"L\")) * days_baseline * C(site)'],\n",
       " 'pc': ['pcrcpax ~ C(trtname, Treatment(reference = \"L\")) * days_baseline * C(site)',\n",
       "  'pcrcprx ~ C(trtname, Treatment(reference = \"L\")) * days_baseline * C(site)'],\n",
       " 'wechsler': ['w1readb ~ C(trtname, Treatment(reference = \"L\")) * days_baseline * C(site)',\n",
       "  'w2math ~ C(trtname, Treatment(reference = \"L\")) * days_baseline * C(site)',\n",
       "  'w3spell ~ C(trtname, Treatment(reference = \"L\")) * days_baseline * C(site)']}"
      ]
     },
     "execution_count": 59,
     "metadata": {},
     "output_type": "execute_result"
    }
   ],
   "source": [
    "gen_interact_formula = 'C(trtname, Treatment(reference = \"L\")) * days_baseline * C(site)' # reapeat with log days \n",
    "formulas =  [[' ~ '.join((var, gen_interact_formula)) for var in values] for values in outcomes_dict.values()]\n",
    "formulas_dict = dict(zip(outcomes_dict.keys(), formulas))\n",
    "formulas_dict"
   ]
  },
  {
   "cell_type": "code",
   "execution_count": 60,
   "metadata": {},
   "outputs": [],
   "source": [
    "\n",
    "groups = 'src_subject_id'\n",
    "alpha = 0.05\n",
    "hyps_interactions = var_dict.get_hyps_interactions()"
   ]
  },
  {
   "cell_type": "code",
   "execution_count": 61,
   "metadata": {},
   "outputs": [
    {
     "data": {
      "text/plain": [
       "{'time_treat': 'C(trtname, Treatment(reference=\"L\"))[T.M]:days_baseline = C(trtname, Treatment(reference=\"L\"))[T.P]:days_baseline  = C(trtname, Treatment(reference=\"L\"))[T.C]:days_baseline = 0',\n",
       " 'site_treat': 'C(trtname, Treatment(reference=\"L\"))[T.M]:C(site)[T.2] = C(trtname, Treatment(reference=\"L\"))[T.P]:C(site)[T.2] = C(trtname, Treatment(reference=\"L\"))[T.C]:C(site)[T.2] = C(trtname, Treatment(reference=\"L\"))[T.M]:C(site)[T.3] = C(trtname, Treatment(reference=\"L\"))[T.P]:C(site)[T.3] = C(trtname, Treatment(reference=\"L\"))[T.C]:C(site)[T.3] = C(trtname, Treatment(reference=\"L\"))[T.M]:C(site)[T.4] = C(trtname, Treatment(reference=\"L\"))[T.P]:C(site)[T.4] = C(trtname, Treatment(reference=\"L\"))[T.C]:C(site)[T.4] = C(trtname, Treatment(reference=\"L\"))[T.M]:C(site)[T.5] = C(trtname, Treatment(reference=\"L\"))[T.P]:C(site)[T.5] = C(trtname, Treatment(reference=\"L\"))[T.C]:C(site)[T.5] = C(trtname, Treatment(reference=\"L\"))[T.M]:C(site)[T.6] = C(trtname, Treatment(reference=\"L\"))[T.P]:C(site)[T.6] = C(trtname, Treatment(reference=\"L\"))[T.C]:C(site)[T.6] = 0',\n",
       " 'site': 'C(site)[T.2] = C(site)[T.3] = C(site)[T.4] = C(site)[T.5] = C(site)[T.6] = 0'}"
      ]
     },
     "execution_count": 61,
     "metadata": {},
     "output_type": "execute_result"
    }
   ],
   "source": [
    "hyps_interactions"
   ]
  },
  {
   "cell_type": "code",
   "execution_count": 62,
   "metadata": {},
   "outputs": [],
   "source": [
    "# result, summ, hsmm = rr.get_RR_stats(formula, data, groups=groups, alpha= alpha)\n",
    "# rr.f_test_interactions(result, hyps_interactions, alpha)"
   ]
  },
  {
   "cell_type": "code",
   "execution_count": 63,
   "metadata": {},
   "outputs": [],
   "source": [
    "raters = ['Teacher', 'Parent']"
   ]
  },
  {
   "cell_type": "code",
   "execution_count": 64,
   "metadata": {},
   "outputs": [],
   "source": [
    "result_snap = [[ smf.mixedlm(formulas_dict['snap'][i], data['snap']['14'][data['snap']['14']['version_form'] == rater], groups = groups).fit() for rater in raters] for i in range(len(snap_vars))]"
   ]
  },
  {
   "cell_type": "code",
   "execution_count": 65,
   "metadata": {},
   "outputs": [],
   "source": [
    "result_ssrs = [[ smf.mixedlm(formulas_dict['ssrs'][i], data['ssrs']['14'][data['ssrs']['14']['version_form'] == rater], groups = groups).fit() for rater in raters] for i in range(len(ssrs_vars))]"
   ]
  },
  {
   "cell_type": "code",
   "execution_count": 66,
   "metadata": {},
   "outputs": [],
   "source": [
    "#test = data['pc']['14'][data['pc']['14']['version_form'] == 'Parent'].copy()"
   ]
  },
  {
   "cell_type": "code",
   "execution_count": 67,
   "metadata": {},
   "outputs": [],
   "source": [
    "#scaler = StandardScaler()"
   ]
  },
  {
   "cell_type": "code",
   "execution_count": 68,
   "metadata": {},
   "outputs": [],
   "source": [
    "#test['days_baseline'] = scaler.fit_transform(np.array(test['days_baseline']).reshape(-1, 1))"
   ]
  },
  {
   "cell_type": "code",
   "execution_count": 69,
   "metadata": {},
   "outputs": [],
   "source": [
    "#test_pc_formula = 'pcrcpax ~ C(trtname, Treatment(reference = \"L\"))* days_baseline  '"
   ]
  },
  {
   "cell_type": "code",
   "execution_count": 70,
   "metadata": {},
   "outputs": [],
   "source": [
    "#result = smf.mixedlm(formulas_dict['pc'][0], data['pc']['14'][data['pc']['14']['version_form'] == 'Parent'], groups = groups).fit() "
   ]
  },
  {
   "cell_type": "code",
   "execution_count": 71,
   "metadata": {},
   "outputs": [],
   "source": [
    "#result.summary()"
   ]
  },
  {
   "cell_type": "code",
   "execution_count": 72,
   "metadata": {},
   "outputs": [],
   "source": [
    "# from statsmodels.stats.outliers_influence import variance_inflation_factor\n",
    "# X = result.model.exog\n",
    "# vif = pd.DataFrame()\n",
    "# vif[\"VIF Factor\"] = [variance_inflation_factor(X, i) for i in range(X.shape[1])]\n",
    "# vif[\"features\"] = result.model.exog_names\n",
    "# print(vif)"
   ]
  },
  {
   "cell_type": "code",
   "execution_count": 73,
   "metadata": {},
   "outputs": [],
   "source": [
    "#result_pc2 =  smf.mixedlm(formulas_dict['pc'][1], data['pc']['14'][data['pc']['14']['version_form'] == 'Parent'], groups = groups).fit()  "
   ]
  },
  {
   "cell_type": "code",
   "execution_count": 74,
   "metadata": {},
   "outputs": [],
   "source": [
    "# result_wechlser = [ smf.mixedlm(formulas_dict['wechsler'][i], data['wechsler']['14'], groups = groups).fit()  for i in range(len(wechsler_vars))]"
   ]
  },
  {
   "cell_type": "code",
   "execution_count": 75,
   "metadata": {},
   "outputs": [],
   "source": [
    "## worked for snap, ssrs, wechsler"
   ]
  },
  {
   "cell_type": "code",
   "execution_count": 76,
   "metadata": {},
   "outputs": [
    {
     "data": {
      "text/plain": [
       "{'time_treat': 'C(trtname, Treatment(reference=\"L\"))[T.M]:days_baseline = C(trtname, Treatment(reference=\"L\"))[T.P]:days_baseline  = C(trtname, Treatment(reference=\"L\"))[T.C]:days_baseline = 0',\n",
       " 'site_treat': 'C(trtname, Treatment(reference=\"L\"))[T.M]:C(site)[T.2] = C(trtname, Treatment(reference=\"L\"))[T.P]:C(site)[T.2] = C(trtname, Treatment(reference=\"L\"))[T.C]:C(site)[T.2] = C(trtname, Treatment(reference=\"L\"))[T.M]:C(site)[T.3] = C(trtname, Treatment(reference=\"L\"))[T.P]:C(site)[T.3] = C(trtname, Treatment(reference=\"L\"))[T.C]:C(site)[T.3] = C(trtname, Treatment(reference=\"L\"))[T.M]:C(site)[T.4] = C(trtname, Treatment(reference=\"L\"))[T.P]:C(site)[T.4] = C(trtname, Treatment(reference=\"L\"))[T.C]:C(site)[T.4] = C(trtname, Treatment(reference=\"L\"))[T.M]:C(site)[T.5] = C(trtname, Treatment(reference=\"L\"))[T.P]:C(site)[T.5] = C(trtname, Treatment(reference=\"L\"))[T.C]:C(site)[T.5] = C(trtname, Treatment(reference=\"L\"))[T.M]:C(site)[T.6] = C(trtname, Treatment(reference=\"L\"))[T.P]:C(site)[T.6] = C(trtname, Treatment(reference=\"L\"))[T.C]:C(site)[T.6] = 0',\n",
       " 'site': 'C(site)[T.2] = C(site)[T.3] = C(site)[T.4] = C(site)[T.5] = C(site)[T.6] = 0'}"
      ]
     },
     "execution_count": 76,
     "metadata": {},
     "output_type": "execute_result"
    }
   ],
   "source": [
    "hyps_interactions = var_dict.get_hyps_interactions()\n",
    "hyps_interactions"
   ]
  },
  {
   "cell_type": "code",
   "execution_count": 77,
   "metadata": {},
   "outputs": [
    {
     "name": "stdout",
     "output_type": "stream",
     "text": [
      "snainatx   Description     Significance    F-Value       P-Value\n",
      "0  time_treat    *Significant*  16.061269  2.349415e-10\n",
      "1  site_treat  Not Significant   1.474889  1.054912e-01\n",
      "2        site  Not Significant   0.285858  9.210400e-01\n",
      "snainatx   Description     Significance    F-Value       P-Value\n",
      "0  time_treat    *Significant*  11.422714  1.850028e-07\n",
      "1  site_treat  Not Significant   0.778523  7.031027e-01\n",
      "2        site  Not Significant   0.478532  7.925425e-01\n",
      "snahypax   Description     Significance    F-Value       P-Value\n",
      "0  time_treat    *Significant*  21.565982  8.193047e-14\n",
      "1  site_treat  Not Significant   1.527963  8.670372e-02\n",
      "2        site  Not Significant   1.069212  3.753642e-01\n",
      "snahypax   Description     Significance    F-Value       P-Value\n",
      "0  time_treat    *Significant*  14.544289  1.998723e-09\n",
      "1  site_treat  Not Significant   1.643687  5.523849e-02\n",
      "2        site  Not Significant   0.111711  9.898156e-01\n",
      "snaoddx   Description     Significance   F-Value   P-Value\n",
      "0  time_treat    *Significant*  7.167568  0.000086\n",
      "1  site_treat  Not Significant  1.162364  0.294253\n",
      "2        site  Not Significant  0.718907  0.609189\n",
      "snaoddx   Description     Significance   F-Value   P-Value\n",
      "0  time_treat    *Significant*  3.415621  0.016661\n",
      "1  site_treat    *Significant*  1.754793  0.035154\n",
      "2        site  Not Significant  0.398933  0.849852\n"
     ]
    }
   ],
   "source": [
    "for i, var in enumerate(snap_vars):\n",
    "    for res in result_snap[i]:\n",
    "        print(var, rr.f_test_interactions(res, hyps_interactions, alpha))"
   ]
  },
  {
   "cell_type": "code",
   "execution_count": 78,
   "metadata": {},
   "outputs": [
    {
     "name": "stdout",
     "output_type": "stream",
     "text": [
      "sspintx   Description     Significance   F-Value   P-Value\n",
      "0  time_treat  Not Significant  0.100833  0.959549\n",
      "1  site_treat  Not Significant  0.456635  0.961461\n",
      "2        site  Not Significant  0.368243  0.870591\n",
      "sspintx   Description     Significance   F-Value   P-Value\n",
      "0  time_treat  Not Significant  1.776329  0.149427\n",
      "1  site_treat  Not Significant  0.771165  0.711268\n",
      "2        site  Not Significant  0.631833  0.675473\n",
      "ssptossx   Description     Significance   F-Value   P-Value\n",
      "0  time_treat    *Significant*  5.101886  0.001608\n",
      "1  site_treat  Not Significant  0.496734  0.943616\n",
      "2        site  Not Significant  0.485249  0.787516\n",
      "ssptossx   Description     Significance   F-Value   P-Value\n",
      "0  time_treat  Not Significant  0.861553  0.460281\n",
      "1  site_treat  Not Significant  0.935707  0.522976\n",
      "2        site  Not Significant  0.970836  0.434083\n"
     ]
    }
   ],
   "source": [
    "for i, var in enumerate(ssrs_vars):\n",
    "    for res in result_ssrs[i]:\n",
    "        print(var, rr.f_test_interactions(res, hyps_interactions, alpha))"
   ]
  },
  {
   "cell_type": "code",
   "execution_count": null,
   "metadata": {},
   "outputs": [],
   "source": []
  },
  {
   "cell_type": "code",
   "execution_count": 79,
   "metadata": {},
   "outputs": [
    {
     "data": {
      "text/plain": [
       "0.05"
      ]
     },
     "execution_count": 79,
     "metadata": {},
     "output_type": "execute_result"
    }
   ],
   "source": [
    "alpha"
   ]
  },
  {
   "cell_type": "code",
   "execution_count": 80,
   "metadata": {},
   "outputs": [],
   "source": [
    "f_result_snap  =[]\n",
    "for i, var in enumerate(snap_vars):\n",
    "    for res in result_snap[i]:\n",
    "        f_result_snap.append( rr.f_test_interactions(res, hyps_interactions, alpha))"
   ]
  },
  {
   "cell_type": "code",
   "execution_count": 133,
   "metadata": {},
   "outputs": [],
   "source": [
    "for f in f_result_snap:\n",
    "    f['F-Value'] = f['F-Value'].round(2)\n",
    "    f['P-Value'] = f['P-Value'].round(2)"
   ]
  },
  {
   "cell_type": "code",
   "execution_count": 134,
   "metadata": {},
   "outputs": [
    {
     "data": {
      "text/plain": [
       "[  Description     Significance  F-Value  P-Value\n",
       " 0  time_treat    *Significant*    16.06     0.00\n",
       " 1  site_treat  Not Significant     1.47     0.11\n",
       " 2        site  Not Significant     0.29     0.92,\n",
       "   Description     Significance  F-Value  P-Value\n",
       " 0  time_treat    *Significant*    11.42     0.00\n",
       " 1  site_treat  Not Significant     0.78     0.70\n",
       " 2        site  Not Significant     0.48     0.79,\n",
       "   Description     Significance  F-Value  P-Value\n",
       " 0  time_treat    *Significant*    21.57     0.00\n",
       " 1  site_treat  Not Significant     1.53     0.09\n",
       " 2        site  Not Significant     1.07     0.38,\n",
       "   Description     Significance  F-Value  P-Value\n",
       " 0  time_treat    *Significant*    14.54     0.00\n",
       " 1  site_treat  Not Significant     1.64     0.06\n",
       " 2        site  Not Significant     0.11     0.99,\n",
       "   Description     Significance  F-Value  P-Value\n",
       " 0  time_treat    *Significant*     7.17     0.00\n",
       " 1  site_treat  Not Significant     1.16     0.29\n",
       " 2        site  Not Significant     0.72     0.61,\n",
       "   Description     Significance  F-Value  P-Value\n",
       " 0  time_treat    *Significant*     3.42     0.02\n",
       " 1  site_treat    *Significant*     1.75     0.04\n",
       " 2        site  Not Significant     0.40     0.85]"
      ]
     },
     "execution_count": 134,
     "metadata": {},
     "output_type": "execute_result"
    }
   ],
   "source": [
    "f_result_snap"
   ]
  },
  {
   "cell_type": "code",
   "execution_count": 93,
   "metadata": {},
   "outputs": [],
   "source": [
    "f_result_ssrs  =[]\n",
    "for i, var in enumerate(ssrs_vars):\n",
    "    for res in result_ssrs[i]:\n",
    "        f_result_ssrs.append( rr.f_test_interactions(res, hyps_interactions, alpha))"
   ]
  },
  {
   "cell_type": "code",
   "execution_count": 135,
   "metadata": {},
   "outputs": [],
   "source": [
    "for f in f_result_ssrs:\n",
    "    f['F-Value'] = f['F-Value'].round(2)\n",
    "    f['P-Value'] = f['P-Value'].round(2)"
   ]
  },
  {
   "cell_type": "code",
   "execution_count": 136,
   "metadata": {},
   "outputs": [],
   "source": [
    "\n",
    "f_results = np.concatenate((f_result_snap, f_result_ssrs))"
   ]
  },
  {
   "cell_type": "code",
   "execution_count": 137,
   "metadata": {},
   "outputs": [],
   "source": [
    "orig_rr_14 = pd.read_csv(Path(derived_data,  'original_rr_results_14.csv'))"
   ]
  },
  {
   "cell_type": "code",
   "execution_count": 138,
   "metadata": {},
   "outputs": [],
   "source": [
    "measures = ['Inattention', 'Hyperactive-impulsive',  'ODD = aggression',  'SSRS Internalizing', 'SSRS social skills']"
   ]
  },
  {
   "cell_type": "code",
   "execution_count": 139,
   "metadata": {},
   "outputs": [
    {
     "data": {
      "text/plain": [
       "{'snainatx': 'Inattention',\n",
       " 'snahypax': 'Hyperactive-impulsive',\n",
       " 'snaoddx': 'ODD = aggression',\n",
       " 'sspintx': 'SSRS Internalizing',\n",
       " 'ssptossx': 'SSRS social skills'}"
      ]
     },
     "execution_count": 139,
     "metadata": {},
     "output_type": "execute_result"
    }
   ],
   "source": [
    "outcomes_available = np.concatenate((outcomes_dict['snap'], outcomes_dict['ssrs']))\n",
    "outcomes_available_dict = dict(zip(outcomes_available, measures))\n",
    "outcomes_available_dict"
   ]
  },
  {
   "cell_type": "code",
   "execution_count": 140,
   "metadata": {},
   "outputs": [
    {
     "data": {
      "text/plain": [
       "array([16.06, 1.47, 0.29], dtype=object)"
      ]
     },
     "execution_count": 140,
     "metadata": {},
     "output_type": "execute_result"
    }
   ],
   "source": [
    "f_results[0][:,2]"
   ]
  },
  {
   "cell_type": "code",
   "execution_count": 141,
   "metadata": {},
   "outputs": [],
   "source": [
    "orig_rr_14['replicated F_value'] = pd.NA  \n",
    "orig_rr_14['replicated P_value'] = pd.NA  "
   ]
  },
  {
   "cell_type": "code",
   "execution_count": 142,
   "metadata": {},
   "outputs": [],
   "source": [
    "# j = 0  \n",
    "\n",
    "# for i, (var, measure) in enumerate(zip(outcomes_available_dict.keys(), outcomes_available_dict.values())):\n",
    "#     print(i, var, measure)\n",
    "\n",
    "#     orig_rr_14.loc[orig_rr_14['Measure'] == measure, 'variable'] = var\n",
    "#     first_index = orig_rr_14.index[orig_rr_14['Measure'] == measure].tolist()[0]\n",
    "#     orig_rr_14.iloc[first_index:first_index+3, orig_rr_14.columns.get_loc('replicated F_value')] = f_results[i][:, 2]\n",
    "#     orig_rr_14.iloc[first_index:first_index+3, orig_rr_14.columns.get_loc('replicated P_value')] = f_results[i][:, 3]\n",
    "\n",
    "#     j = first_index + 3\n",
    "#     print(j)"
   ]
  },
  {
   "cell_type": "code",
   "execution_count": 143,
   "metadata": {},
   "outputs": [
    {
     "data": {
      "text/plain": [
       "array([[['time_treat', '*Significant*', 16.06, 0.0],\n",
       "        ['site_treat', 'Not Significant', 1.47, 0.11],\n",
       "        ['site', 'Not Significant', 0.29, 0.92]],\n",
       "\n",
       "       [['time_treat', '*Significant*', 11.42, 0.0],\n",
       "        ['site_treat', 'Not Significant', 0.78, 0.7],\n",
       "        ['site', 'Not Significant', 0.48, 0.79]],\n",
       "\n",
       "       [['time_treat', '*Significant*', 21.57, 0.0],\n",
       "        ['site_treat', 'Not Significant', 1.53, 0.09],\n",
       "        ['site', 'Not Significant', 1.07, 0.38]],\n",
       "\n",
       "       [['time_treat', '*Significant*', 14.54, 0.0],\n",
       "        ['site_treat', 'Not Significant', 1.64, 0.06],\n",
       "        ['site', 'Not Significant', 0.11, 0.99]],\n",
       "\n",
       "       [['time_treat', '*Significant*', 7.17, 0.0],\n",
       "        ['site_treat', 'Not Significant', 1.16, 0.29],\n",
       "        ['site', 'Not Significant', 0.72, 0.61]],\n",
       "\n",
       "       [['time_treat', '*Significant*', 3.42, 0.02],\n",
       "        ['site_treat', '*Significant*', 1.75, 0.04],\n",
       "        ['site', 'Not Significant', 0.4, 0.85]],\n",
       "\n",
       "       [['time_treat', 'Not Significant', 0.1, 0.96],\n",
       "        ['site_treat', 'Not Significant', 0.46, 0.96],\n",
       "        ['site', 'Not Significant', 0.37, 0.87]],\n",
       "\n",
       "       [['time_treat', 'Not Significant', 1.78, 0.15],\n",
       "        ['site_treat', 'Not Significant', 0.77, 0.71],\n",
       "        ['site', 'Not Significant', 0.63, 0.68]],\n",
       "\n",
       "       [['time_treat', '*Significant*', 5.1, 0.0],\n",
       "        ['site_treat', 'Not Significant', 0.5, 0.94],\n",
       "        ['site', 'Not Significant', 0.49, 0.79]],\n",
       "\n",
       "       [['time_treat', 'Not Significant', 0.86, 0.46],\n",
       "        ['site_treat', 'Not Significant', 0.94, 0.52],\n",
       "        ['site', 'Not Significant', 0.97, 0.43]]], dtype=object)"
      ]
     },
     "execution_count": 143,
     "metadata": {},
     "output_type": "execute_result"
    }
   ],
   "source": [
    "f_results"
   ]
  },
  {
   "cell_type": "code",
   "execution_count": 144,
   "metadata": {},
   "outputs": [
    {
     "name": "stdout",
     "output_type": "stream",
     "text": [
      "0 snainatx Inattention\n",
      "6\n",
      "1 snahypax Hyperactive-impulsive\n",
      "12\n",
      "2 snaoddx ODD = aggression\n",
      "21\n",
      "3 sspintx SSRS Internalizing\n",
      "30\n",
      "4 ssptossx SSRS social skills\n",
      "39\n"
     ]
    }
   ],
   "source": [
    "j = 0  \n",
    "\n",
    "for i, (var, measure) in enumerate(zip(outcomes_available_dict.keys(), outcomes_available_dict.values())):\n",
    "    print(i, var, measure)\n",
    "\n",
    "    # Find the first index of the measure in the DataFrame\n",
    "    orig_rr_14.loc[orig_rr_14['Measure'] == measure, 'variable'] = var\n",
    "    first_index = orig_rr_14.index[orig_rr_14['Measure'] == measure].tolist()[0]\n",
    "    \n",
    "    # Populate first block of rows (first_index : first_index + 3)\n",
    "    orig_rr_14.iloc[first_index:first_index+3, orig_rr_14.columns.get_loc('replicated F_value')] = f_results[i][:, 2]\n",
    "    orig_rr_14.iloc[first_index:first_index+3, orig_rr_14.columns.get_loc('replicated P_value')] = f_results[i][:, 3]\n",
    "    \n",
    "    # Populate second block of rows (first_index + 3 : first_index + 6) with next element in f_results\n",
    "    if i + 1 < len(f_results):  # Ensure that i+1 exists\n",
    "        orig_rr_14.iloc[first_index+3:first_index+6, orig_rr_14.columns.get_loc('replicated F_value')] = f_results[i+1][:, 2]\n",
    "        orig_rr_14.iloc[first_index+3:first_index+6, orig_rr_14.columns.get_loc('replicated P_value')] = f_results[i+1][:, 3]\n",
    "    \n",
    "    # Update j and print it for tracking\n",
    "    j = first_index + 6\n",
    "    print(j)"
   ]
  },
  {
   "cell_type": "code",
   "execution_count": 145,
   "metadata": {},
   "outputs": [
    {
     "data": {
      "text/html": [
       "<div>\n",
       "<style scoped>\n",
       "    .dataframe tbody tr th:only-of-type {\n",
       "        vertical-align: middle;\n",
       "    }\n",
       "\n",
       "    .dataframe tbody tr th {\n",
       "        vertical-align: top;\n",
       "    }\n",
       "\n",
       "    .dataframe thead th {\n",
       "        text-align: right;\n",
       "    }\n",
       "</style>\n",
       "<table border=\"1\" class=\"dataframe\">\n",
       "  <thead>\n",
       "    <tr style=\"text-align: right;\">\n",
       "      <th></th>\n",
       "      <th>Unnamed: 0</th>\n",
       "      <th>Outcome Domain</th>\n",
       "      <th>Measure</th>\n",
       "      <th>Rater</th>\n",
       "      <th>Test</th>\n",
       "      <th>F_value</th>\n",
       "      <th>P_value</th>\n",
       "      <th>replicated F_value</th>\n",
       "      <th>replicated P_value</th>\n",
       "      <th>variable</th>\n",
       "    </tr>\n",
       "  </thead>\n",
       "  <tbody>\n",
       "    <tr>\n",
       "      <th>0</th>\n",
       "      <td>0</td>\n",
       "      <td>ADHD symptoms</td>\n",
       "      <td>Inattention</td>\n",
       "      <td>Teacher</td>\n",
       "      <td>Treatment x time</td>\n",
       "      <td>10.60</td>\n",
       "      <td>&lt;.001</td>\n",
       "      <td>16.06</td>\n",
       "      <td>0.0</td>\n",
       "      <td>snainatx</td>\n",
       "    </tr>\n",
       "    <tr>\n",
       "      <th>1</th>\n",
       "      <td>1</td>\n",
       "      <td>ADHD symptoms</td>\n",
       "      <td>Inattention</td>\n",
       "      <td>Teacher</td>\n",
       "      <td>Treatment x site</td>\n",
       "      <td>0.90</td>\n",
       "      <td>.56</td>\n",
       "      <td>1.47</td>\n",
       "      <td>0.11</td>\n",
       "      <td>snainatx</td>\n",
       "    </tr>\n",
       "    <tr>\n",
       "      <th>2</th>\n",
       "      <td>2</td>\n",
       "      <td>ADHD symptoms</td>\n",
       "      <td>Inattention</td>\n",
       "      <td>Teacher</td>\n",
       "      <td>Site</td>\n",
       "      <td>2.70</td>\n",
       "      <td>.02</td>\n",
       "      <td>0.29</td>\n",
       "      <td>0.92</td>\n",
       "      <td>snainatx</td>\n",
       "    </tr>\n",
       "    <tr>\n",
       "      <th>3</th>\n",
       "      <td>3</td>\n",
       "      <td>ADHD symptoms</td>\n",
       "      <td>Inattention</td>\n",
       "      <td>Parent</td>\n",
       "      <td>Treatment x time</td>\n",
       "      <td>21.50</td>\n",
       "      <td>&lt;.001</td>\n",
       "      <td>11.42</td>\n",
       "      <td>0.0</td>\n",
       "      <td>snainatx</td>\n",
       "    </tr>\n",
       "    <tr>\n",
       "      <th>4</th>\n",
       "      <td>4</td>\n",
       "      <td>ADHD symptoms</td>\n",
       "      <td>Inattention</td>\n",
       "      <td>Parent</td>\n",
       "      <td>Treatment x site</td>\n",
       "      <td>0.60</td>\n",
       "      <td>.88</td>\n",
       "      <td>0.78</td>\n",
       "      <td>0.7</td>\n",
       "      <td>snainatx</td>\n",
       "    </tr>\n",
       "    <tr>\n",
       "      <th>5</th>\n",
       "      <td>5</td>\n",
       "      <td>ADHD symptoms</td>\n",
       "      <td>Inattention</td>\n",
       "      <td>Parent</td>\n",
       "      <td>Site</td>\n",
       "      <td>3.00</td>\n",
       "      <td>.02</td>\n",
       "      <td>0.48</td>\n",
       "      <td>0.79</td>\n",
       "      <td>snainatx</td>\n",
       "    </tr>\n",
       "    <tr>\n",
       "      <th>6</th>\n",
       "      <td>6</td>\n",
       "      <td>ADHD symptoms</td>\n",
       "      <td>Hyperactive-impulsive</td>\n",
       "      <td>Teacher</td>\n",
       "      <td>Treatment x time</td>\n",
       "      <td>10.00</td>\n",
       "      <td>&lt;.001</td>\n",
       "      <td>11.42</td>\n",
       "      <td>0.0</td>\n",
       "      <td>snahypax</td>\n",
       "    </tr>\n",
       "    <tr>\n",
       "      <th>7</th>\n",
       "      <td>7</td>\n",
       "      <td>ADHD symptoms</td>\n",
       "      <td>Hyperactive-impulsive</td>\n",
       "      <td>Teacher</td>\n",
       "      <td>Treatment x site</td>\n",
       "      <td>1.30</td>\n",
       "      <td>.49</td>\n",
       "      <td>0.78</td>\n",
       "      <td>0.7</td>\n",
       "      <td>snahypax</td>\n",
       "    </tr>\n",
       "    <tr>\n",
       "      <th>8</th>\n",
       "      <td>8</td>\n",
       "      <td>ADHD symptoms</td>\n",
       "      <td>Hyperactive-impulsive</td>\n",
       "      <td>Teacher</td>\n",
       "      <td>Site</td>\n",
       "      <td>3.00</td>\n",
       "      <td>.02</td>\n",
       "      <td>0.48</td>\n",
       "      <td>0.79</td>\n",
       "      <td>snahypax</td>\n",
       "    </tr>\n",
       "    <tr>\n",
       "      <th>9</th>\n",
       "      <td>9</td>\n",
       "      <td>ADHD symptoms</td>\n",
       "      <td>Hyperactive-impulsive</td>\n",
       "      <td>Parent</td>\n",
       "      <td>Treatment x time</td>\n",
       "      <td>21.50</td>\n",
       "      <td>&lt;.001</td>\n",
       "      <td>21.57</td>\n",
       "      <td>0.0</td>\n",
       "      <td>snahypax</td>\n",
       "    </tr>\n",
       "    <tr>\n",
       "      <th>10</th>\n",
       "      <td>10</td>\n",
       "      <td>ADHD symptoms</td>\n",
       "      <td>Hyperactive-impulsive</td>\n",
       "      <td>Parent</td>\n",
       "      <td>Treatment x site</td>\n",
       "      <td>1.30</td>\n",
       "      <td>.23</td>\n",
       "      <td>1.53</td>\n",
       "      <td>0.09</td>\n",
       "      <td>snahypax</td>\n",
       "    </tr>\n",
       "    <tr>\n",
       "      <th>11</th>\n",
       "      <td>11</td>\n",
       "      <td>ADHD symptoms</td>\n",
       "      <td>Hyperactive-impulsive</td>\n",
       "      <td>Parent</td>\n",
       "      <td>Site</td>\n",
       "      <td>4.40</td>\n",
       "      <td>.0006</td>\n",
       "      <td>1.07</td>\n",
       "      <td>0.38</td>\n",
       "      <td>snahypax</td>\n",
       "    </tr>\n",
       "    <tr>\n",
       "      <th>12</th>\n",
       "      <td>12</td>\n",
       "      <td>ADHD symptoms</td>\n",
       "      <td>Classroom observer</td>\n",
       "      <td>NaN</td>\n",
       "      <td>Treatment x time</td>\n",
       "      <td>2.60</td>\n",
       "      <td>.05</td>\n",
       "      <td>&lt;NA&gt;</td>\n",
       "      <td>&lt;NA&gt;</td>\n",
       "      <td>NaN</td>\n",
       "    </tr>\n",
       "    <tr>\n",
       "      <th>13</th>\n",
       "      <td>13</td>\n",
       "      <td>ADHD symptoms</td>\n",
       "      <td>Classroom observer</td>\n",
       "      <td>NaN</td>\n",
       "      <td>Treatment x site</td>\n",
       "      <td>1.50</td>\n",
       "      <td>.11</td>\n",
       "      <td>&lt;NA&gt;</td>\n",
       "      <td>&lt;NA&gt;</td>\n",
       "      <td>NaN</td>\n",
       "    </tr>\n",
       "    <tr>\n",
       "      <th>14</th>\n",
       "      <td>14</td>\n",
       "      <td>ADHD symptoms</td>\n",
       "      <td>Classroom observer</td>\n",
       "      <td>NaN</td>\n",
       "      <td>Site</td>\n",
       "      <td>11.50</td>\n",
       "      <td>&lt;.001</td>\n",
       "      <td>&lt;NA&gt;</td>\n",
       "      <td>&lt;NA&gt;</td>\n",
       "      <td>NaN</td>\n",
       "    </tr>\n",
       "    <tr>\n",
       "      <th>15</th>\n",
       "      <td>15</td>\n",
       "      <td>Aggression-ODD</td>\n",
       "      <td>ODD = aggression</td>\n",
       "      <td>Teacher</td>\n",
       "      <td>Treatment x time</td>\n",
       "      <td>6.50</td>\n",
       "      <td>.0003</td>\n",
       "      <td>21.57</td>\n",
       "      <td>0.0</td>\n",
       "      <td>snaoddx</td>\n",
       "    </tr>\n",
       "    <tr>\n",
       "      <th>16</th>\n",
       "      <td>16</td>\n",
       "      <td>Aggression-ODD</td>\n",
       "      <td>ODD = aggression</td>\n",
       "      <td>Teacher</td>\n",
       "      <td>Treatment x site</td>\n",
       "      <td>1.20</td>\n",
       "      <td>.25</td>\n",
       "      <td>1.53</td>\n",
       "      <td>0.09</td>\n",
       "      <td>snaoddx</td>\n",
       "    </tr>\n",
       "    <tr>\n",
       "      <th>17</th>\n",
       "      <td>17</td>\n",
       "      <td>Aggression-ODD</td>\n",
       "      <td>ODD = aggression</td>\n",
       "      <td>Teacher</td>\n",
       "      <td>Site</td>\n",
       "      <td>4.20</td>\n",
       "      <td>.001</td>\n",
       "      <td>1.07</td>\n",
       "      <td>0.38</td>\n",
       "      <td>snaoddx</td>\n",
       "    </tr>\n",
       "    <tr>\n",
       "      <th>18</th>\n",
       "      <td>18</td>\n",
       "      <td>Aggression-ODD</td>\n",
       "      <td>ODD = aggression</td>\n",
       "      <td>Parent</td>\n",
       "      <td>Treatment x time</td>\n",
       "      <td>7.40</td>\n",
       "      <td>&lt;.001</td>\n",
       "      <td>14.54</td>\n",
       "      <td>0.0</td>\n",
       "      <td>snaoddx</td>\n",
       "    </tr>\n",
       "    <tr>\n",
       "      <th>19</th>\n",
       "      <td>19</td>\n",
       "      <td>Aggression-ODD</td>\n",
       "      <td>ODD = aggression</td>\n",
       "      <td>Parent</td>\n",
       "      <td>Treatment x site</td>\n",
       "      <td>1.10</td>\n",
       "      <td>.40</td>\n",
       "      <td>1.64</td>\n",
       "      <td>0.06</td>\n",
       "      <td>snaoddx</td>\n",
       "    </tr>\n",
       "    <tr>\n",
       "      <th>20</th>\n",
       "      <td>20</td>\n",
       "      <td>Aggression-ODD</td>\n",
       "      <td>ODD = aggression</td>\n",
       "      <td>Parent</td>\n",
       "      <td>Site</td>\n",
       "      <td>4.30</td>\n",
       "      <td>.0007</td>\n",
       "      <td>0.11</td>\n",
       "      <td>0.99</td>\n",
       "      <td>snaoddx</td>\n",
       "    </tr>\n",
       "    <tr>\n",
       "      <th>21</th>\n",
       "      <td>21</td>\n",
       "      <td>Aggression-ODD</td>\n",
       "      <td>Classroom observer</td>\n",
       "      <td>NaN</td>\n",
       "      <td>Treatment x time</td>\n",
       "      <td>6.90</td>\n",
       "      <td>.10</td>\n",
       "      <td>&lt;NA&gt;</td>\n",
       "      <td>&lt;NA&gt;</td>\n",
       "      <td>NaN</td>\n",
       "    </tr>\n",
       "    <tr>\n",
       "      <th>22</th>\n",
       "      <td>22</td>\n",
       "      <td>Aggression-ODD</td>\n",
       "      <td>Classroom observer</td>\n",
       "      <td>NaN</td>\n",
       "      <td>Treatment x site</td>\n",
       "      <td>18.50</td>\n",
       "      <td>.30</td>\n",
       "      <td>&lt;NA&gt;</td>\n",
       "      <td>&lt;NA&gt;</td>\n",
       "      <td>NaN</td>\n",
       "    </tr>\n",
       "    <tr>\n",
       "      <th>23</th>\n",
       "      <td>23</td>\n",
       "      <td>Aggression-ODD</td>\n",
       "      <td>Classroom observer</td>\n",
       "      <td>NaN</td>\n",
       "      <td>Site</td>\n",
       "      <td>85.40</td>\n",
       "      <td>&lt;.001</td>\n",
       "      <td>&lt;NA&gt;</td>\n",
       "      <td>&lt;NA&gt;</td>\n",
       "      <td>NaN</td>\n",
       "    </tr>\n",
       "    <tr>\n",
       "      <th>24</th>\n",
       "      <td>24</td>\n",
       "      <td>Internalizing symptoms</td>\n",
       "      <td>SSRS Internalizing</td>\n",
       "      <td>Teacher</td>\n",
       "      <td>Treatment x time</td>\n",
       "      <td>2.10</td>\n",
       "      <td>.10</td>\n",
       "      <td>14.54</td>\n",
       "      <td>0.0</td>\n",
       "      <td>sspintx</td>\n",
       "    </tr>\n",
       "    <tr>\n",
       "      <th>25</th>\n",
       "      <td>25</td>\n",
       "      <td>Internalizing symptoms</td>\n",
       "      <td>SSRS Internalizing</td>\n",
       "      <td>Teacher</td>\n",
       "      <td>Treatment x site</td>\n",
       "      <td>0.50</td>\n",
       "      <td>.92</td>\n",
       "      <td>1.64</td>\n",
       "      <td>0.06</td>\n",
       "      <td>sspintx</td>\n",
       "    </tr>\n",
       "    <tr>\n",
       "      <th>26</th>\n",
       "      <td>26</td>\n",
       "      <td>Internalizing symptoms</td>\n",
       "      <td>SSRS Internalizing</td>\n",
       "      <td>Teacher</td>\n",
       "      <td>Site</td>\n",
       "      <td>1.60</td>\n",
       "      <td>.17</td>\n",
       "      <td>0.11</td>\n",
       "      <td>0.99</td>\n",
       "      <td>sspintx</td>\n",
       "    </tr>\n",
       "    <tr>\n",
       "      <th>27</th>\n",
       "      <td>27</td>\n",
       "      <td>Internalizing symptoms</td>\n",
       "      <td>SSRS Internalizing</td>\n",
       "      <td>Parent</td>\n",
       "      <td>Treatment x time</td>\n",
       "      <td>9.20</td>\n",
       "      <td>&lt;.001</td>\n",
       "      <td>7.17</td>\n",
       "      <td>0.0</td>\n",
       "      <td>sspintx</td>\n",
       "    </tr>\n",
       "    <tr>\n",
       "      <th>28</th>\n",
       "      <td>28</td>\n",
       "      <td>Internalizing symptoms</td>\n",
       "      <td>SSRS Internalizing</td>\n",
       "      <td>Parent</td>\n",
       "      <td>Treatment x site</td>\n",
       "      <td>1.10</td>\n",
       "      <td>.35</td>\n",
       "      <td>1.16</td>\n",
       "      <td>0.29</td>\n",
       "      <td>sspintx</td>\n",
       "    </tr>\n",
       "    <tr>\n",
       "      <th>29</th>\n",
       "      <td>29</td>\n",
       "      <td>Internalizing symptoms</td>\n",
       "      <td>SSRS Internalizing</td>\n",
       "      <td>Parent</td>\n",
       "      <td>Site</td>\n",
       "      <td>2.20</td>\n",
       "      <td>.05</td>\n",
       "      <td>0.72</td>\n",
       "      <td>0.61</td>\n",
       "      <td>sspintx</td>\n",
       "    </tr>\n",
       "    <tr>\n",
       "      <th>30</th>\n",
       "      <td>30</td>\n",
       "      <td>Internalizing symptoms</td>\n",
       "      <td>MASC Child</td>\n",
       "      <td>NaN</td>\n",
       "      <td>Treatment x time</td>\n",
       "      <td>0.60</td>\n",
       "      <td>.65</td>\n",
       "      <td>&lt;NA&gt;</td>\n",
       "      <td>&lt;NA&gt;</td>\n",
       "      <td>NaN</td>\n",
       "    </tr>\n",
       "    <tr>\n",
       "      <th>31</th>\n",
       "      <td>31</td>\n",
       "      <td>Internalizing symptoms</td>\n",
       "      <td>MASC Child</td>\n",
       "      <td>NaN</td>\n",
       "      <td>Treatment x site</td>\n",
       "      <td>0.07</td>\n",
       "      <td>.78</td>\n",
       "      <td>&lt;NA&gt;</td>\n",
       "      <td>&lt;NA&gt;</td>\n",
       "      <td>NaN</td>\n",
       "    </tr>\n",
       "    <tr>\n",
       "      <th>32</th>\n",
       "      <td>32</td>\n",
       "      <td>Internalizing symptoms</td>\n",
       "      <td>MASC Child</td>\n",
       "      <td>NaN</td>\n",
       "      <td>Site</td>\n",
       "      <td>2.20</td>\n",
       "      <td>.05</td>\n",
       "      <td>&lt;NA&gt;</td>\n",
       "      <td>&lt;NA&gt;</td>\n",
       "      <td>NaN</td>\n",
       "    </tr>\n",
       "    <tr>\n",
       "      <th>33</th>\n",
       "      <td>33</td>\n",
       "      <td>Social skills</td>\n",
       "      <td>SSRS social skills</td>\n",
       "      <td>Teacher</td>\n",
       "      <td>Treatment x time</td>\n",
       "      <td>6.10</td>\n",
       "      <td>.0004</td>\n",
       "      <td>7.17</td>\n",
       "      <td>0.0</td>\n",
       "      <td>ssptossx</td>\n",
       "    </tr>\n",
       "    <tr>\n",
       "      <th>34</th>\n",
       "      <td>34</td>\n",
       "      <td>Social skills</td>\n",
       "      <td>SSRS social skills</td>\n",
       "      <td>Teacher</td>\n",
       "      <td>Treatment x site</td>\n",
       "      <td>0.05</td>\n",
       "      <td>.96</td>\n",
       "      <td>1.16</td>\n",
       "      <td>0.29</td>\n",
       "      <td>ssptossx</td>\n",
       "    </tr>\n",
       "    <tr>\n",
       "      <th>35</th>\n",
       "      <td>35</td>\n",
       "      <td>Social skills</td>\n",
       "      <td>SSRS social skills</td>\n",
       "      <td>Teacher</td>\n",
       "      <td>Site</td>\n",
       "      <td>3.90</td>\n",
       "      <td>.002</td>\n",
       "      <td>0.72</td>\n",
       "      <td>0.61</td>\n",
       "      <td>ssptossx</td>\n",
       "    </tr>\n",
       "    <tr>\n",
       "      <th>36</th>\n",
       "      <td>36</td>\n",
       "      <td>Social skills</td>\n",
       "      <td>SSRS social skills</td>\n",
       "      <td>Parent</td>\n",
       "      <td>Treatment x time</td>\n",
       "      <td>2.20</td>\n",
       "      <td>.09</td>\n",
       "      <td>3.42</td>\n",
       "      <td>0.02</td>\n",
       "      <td>ssptossx</td>\n",
       "    </tr>\n",
       "    <tr>\n",
       "      <th>37</th>\n",
       "      <td>37</td>\n",
       "      <td>Social skills</td>\n",
       "      <td>SSRS social skills</td>\n",
       "      <td>Parent</td>\n",
       "      <td>Treatment x site</td>\n",
       "      <td>1.00</td>\n",
       "      <td>.86</td>\n",
       "      <td>1.75</td>\n",
       "      <td>0.04</td>\n",
       "      <td>ssptossx</td>\n",
       "    </tr>\n",
       "    <tr>\n",
       "      <th>38</th>\n",
       "      <td>38</td>\n",
       "      <td>Social skills</td>\n",
       "      <td>SSRS social skills</td>\n",
       "      <td>Parent</td>\n",
       "      <td>Site</td>\n",
       "      <td>3.80</td>\n",
       "      <td>.02</td>\n",
       "      <td>0.4</td>\n",
       "      <td>0.85</td>\n",
       "      <td>ssptossx</td>\n",
       "    </tr>\n",
       "    <tr>\n",
       "      <th>39</th>\n",
       "      <td>39</td>\n",
       "      <td>Parent-child relations</td>\n",
       "      <td>Power assertion</td>\n",
       "      <td>Parent</td>\n",
       "      <td>Treatment x time</td>\n",
       "      <td>5.60</td>\n",
       "      <td>.0008</td>\n",
       "      <td>&lt;NA&gt;</td>\n",
       "      <td>&lt;NA&gt;</td>\n",
       "      <td>NaN</td>\n",
       "    </tr>\n",
       "    <tr>\n",
       "      <th>40</th>\n",
       "      <td>40</td>\n",
       "      <td>Parent-child relations</td>\n",
       "      <td>Power assertion</td>\n",
       "      <td>Parent</td>\n",
       "      <td>Treatment x site</td>\n",
       "      <td>1.00</td>\n",
       "      <td>.45</td>\n",
       "      <td>&lt;NA&gt;</td>\n",
       "      <td>&lt;NA&gt;</td>\n",
       "      <td>NaN</td>\n",
       "    </tr>\n",
       "    <tr>\n",
       "      <th>41</th>\n",
       "      <td>41</td>\n",
       "      <td>Parent-child relations</td>\n",
       "      <td>Power assertion</td>\n",
       "      <td>Parent</td>\n",
       "      <td>Site</td>\n",
       "      <td>2.80</td>\n",
       "      <td>.02</td>\n",
       "      <td>&lt;NA&gt;</td>\n",
       "      <td>&lt;NA&gt;</td>\n",
       "      <td>NaN</td>\n",
       "    </tr>\n",
       "    <tr>\n",
       "      <th>42</th>\n",
       "      <td>42</td>\n",
       "      <td>Parent-child relations</td>\n",
       "      <td>Personal closeness</td>\n",
       "      <td>Parent</td>\n",
       "      <td>Treatment x time</td>\n",
       "      <td>2.00</td>\n",
       "      <td>.0008</td>\n",
       "      <td>&lt;NA&gt;</td>\n",
       "      <td>&lt;NA&gt;</td>\n",
       "      <td>NaN</td>\n",
       "    </tr>\n",
       "    <tr>\n",
       "      <th>43</th>\n",
       "      <td>43</td>\n",
       "      <td>Parent-child relations</td>\n",
       "      <td>Personal closeness</td>\n",
       "      <td>Parent</td>\n",
       "      <td>Treatment x site</td>\n",
       "      <td>1.00</td>\n",
       "      <td>.54</td>\n",
       "      <td>&lt;NA&gt;</td>\n",
       "      <td>&lt;NA&gt;</td>\n",
       "      <td>NaN</td>\n",
       "    </tr>\n",
       "    <tr>\n",
       "      <th>44</th>\n",
       "      <td>44</td>\n",
       "      <td>Parent-child relations</td>\n",
       "      <td>Personal closeness</td>\n",
       "      <td>Parent</td>\n",
       "      <td>Site</td>\n",
       "      <td>1.20</td>\n",
       "      <td>.32</td>\n",
       "      <td>&lt;NA&gt;</td>\n",
       "      <td>&lt;NA&gt;</td>\n",
       "      <td>NaN</td>\n",
       "    </tr>\n",
       "  </tbody>\n",
       "</table>\n",
       "</div>"
      ],
      "text/plain": [
       "    Unnamed: 0          Outcome Domain                Measure    Rater  \\\n",
       "0            0           ADHD symptoms            Inattention  Teacher   \n",
       "1            1           ADHD symptoms            Inattention  Teacher   \n",
       "2            2           ADHD symptoms            Inattention  Teacher   \n",
       "3            3           ADHD symptoms            Inattention   Parent   \n",
       "4            4           ADHD symptoms            Inattention   Parent   \n",
       "5            5           ADHD symptoms            Inattention   Parent   \n",
       "6            6           ADHD symptoms  Hyperactive-impulsive  Teacher   \n",
       "7            7           ADHD symptoms  Hyperactive-impulsive  Teacher   \n",
       "8            8           ADHD symptoms  Hyperactive-impulsive  Teacher   \n",
       "9            9           ADHD symptoms  Hyperactive-impulsive   Parent   \n",
       "10          10           ADHD symptoms  Hyperactive-impulsive   Parent   \n",
       "11          11           ADHD symptoms  Hyperactive-impulsive   Parent   \n",
       "12          12           ADHD symptoms     Classroom observer      NaN   \n",
       "13          13           ADHD symptoms     Classroom observer      NaN   \n",
       "14          14           ADHD symptoms     Classroom observer      NaN   \n",
       "15          15          Aggression-ODD       ODD = aggression  Teacher   \n",
       "16          16          Aggression-ODD       ODD = aggression  Teacher   \n",
       "17          17          Aggression-ODD       ODD = aggression  Teacher   \n",
       "18          18          Aggression-ODD       ODD = aggression   Parent   \n",
       "19          19          Aggression-ODD       ODD = aggression   Parent   \n",
       "20          20          Aggression-ODD       ODD = aggression   Parent   \n",
       "21          21          Aggression-ODD     Classroom observer      NaN   \n",
       "22          22          Aggression-ODD     Classroom observer      NaN   \n",
       "23          23          Aggression-ODD     Classroom observer      NaN   \n",
       "24          24  Internalizing symptoms     SSRS Internalizing  Teacher   \n",
       "25          25  Internalizing symptoms     SSRS Internalizing  Teacher   \n",
       "26          26  Internalizing symptoms     SSRS Internalizing  Teacher   \n",
       "27          27  Internalizing symptoms     SSRS Internalizing   Parent   \n",
       "28          28  Internalizing symptoms     SSRS Internalizing   Parent   \n",
       "29          29  Internalizing symptoms     SSRS Internalizing   Parent   \n",
       "30          30  Internalizing symptoms             MASC Child      NaN   \n",
       "31          31  Internalizing symptoms             MASC Child      NaN   \n",
       "32          32  Internalizing symptoms             MASC Child      NaN   \n",
       "33          33           Social skills     SSRS social skills  Teacher   \n",
       "34          34           Social skills     SSRS social skills  Teacher   \n",
       "35          35           Social skills     SSRS social skills  Teacher   \n",
       "36          36           Social skills     SSRS social skills   Parent   \n",
       "37          37           Social skills     SSRS social skills   Parent   \n",
       "38          38           Social skills     SSRS social skills   Parent   \n",
       "39          39  Parent-child relations        Power assertion   Parent   \n",
       "40          40  Parent-child relations        Power assertion   Parent   \n",
       "41          41  Parent-child relations        Power assertion   Parent   \n",
       "42          42  Parent-child relations     Personal closeness   Parent   \n",
       "43          43  Parent-child relations     Personal closeness   Parent   \n",
       "44          44  Parent-child relations     Personal closeness   Parent   \n",
       "\n",
       "                Test  F_value P_value replicated F_value replicated P_value  \\\n",
       "0   Treatment x time    10.60   <.001              16.06                0.0   \n",
       "1   Treatment x site     0.90     .56               1.47               0.11   \n",
       "2               Site     2.70     .02               0.29               0.92   \n",
       "3   Treatment x time    21.50   <.001              11.42                0.0   \n",
       "4   Treatment x site     0.60     .88               0.78                0.7   \n",
       "5               Site     3.00     .02               0.48               0.79   \n",
       "6   Treatment x time    10.00   <.001              11.42                0.0   \n",
       "7   Treatment x site     1.30     .49               0.78                0.7   \n",
       "8               Site     3.00     .02               0.48               0.79   \n",
       "9   Treatment x time    21.50   <.001              21.57                0.0   \n",
       "10  Treatment x site     1.30     .23               1.53               0.09   \n",
       "11              Site     4.40   .0006               1.07               0.38   \n",
       "12  Treatment x time     2.60     .05               <NA>               <NA>   \n",
       "13  Treatment x site     1.50     .11               <NA>               <NA>   \n",
       "14              Site    11.50   <.001               <NA>               <NA>   \n",
       "15  Treatment x time     6.50   .0003              21.57                0.0   \n",
       "16  Treatment x site     1.20     .25               1.53               0.09   \n",
       "17              Site     4.20    .001               1.07               0.38   \n",
       "18  Treatment x time     7.40   <.001              14.54                0.0   \n",
       "19  Treatment x site     1.10     .40               1.64               0.06   \n",
       "20              Site     4.30   .0007               0.11               0.99   \n",
       "21  Treatment x time     6.90     .10               <NA>               <NA>   \n",
       "22  Treatment x site    18.50     .30               <NA>               <NA>   \n",
       "23              Site    85.40   <.001               <NA>               <NA>   \n",
       "24  Treatment x time     2.10     .10              14.54                0.0   \n",
       "25  Treatment x site     0.50     .92               1.64               0.06   \n",
       "26              Site     1.60     .17               0.11               0.99   \n",
       "27  Treatment x time     9.20   <.001               7.17                0.0   \n",
       "28  Treatment x site     1.10     .35               1.16               0.29   \n",
       "29              Site     2.20     .05               0.72               0.61   \n",
       "30  Treatment x time     0.60     .65               <NA>               <NA>   \n",
       "31  Treatment x site     0.07     .78               <NA>               <NA>   \n",
       "32              Site     2.20     .05               <NA>               <NA>   \n",
       "33  Treatment x time     6.10   .0004               7.17                0.0   \n",
       "34  Treatment x site     0.05     .96               1.16               0.29   \n",
       "35              Site     3.90    .002               0.72               0.61   \n",
       "36  Treatment x time     2.20     .09               3.42               0.02   \n",
       "37  Treatment x site     1.00     .86               1.75               0.04   \n",
       "38              Site     3.80     .02                0.4               0.85   \n",
       "39  Treatment x time     5.60   .0008               <NA>               <NA>   \n",
       "40  Treatment x site     1.00     .45               <NA>               <NA>   \n",
       "41              Site     2.80     .02               <NA>               <NA>   \n",
       "42  Treatment x time     2.00   .0008               <NA>               <NA>   \n",
       "43  Treatment x site     1.00     .54               <NA>               <NA>   \n",
       "44              Site     1.20     .32               <NA>               <NA>   \n",
       "\n",
       "    variable  \n",
       "0   snainatx  \n",
       "1   snainatx  \n",
       "2   snainatx  \n",
       "3   snainatx  \n",
       "4   snainatx  \n",
       "5   snainatx  \n",
       "6   snahypax  \n",
       "7   snahypax  \n",
       "8   snahypax  \n",
       "9   snahypax  \n",
       "10  snahypax  \n",
       "11  snahypax  \n",
       "12       NaN  \n",
       "13       NaN  \n",
       "14       NaN  \n",
       "15   snaoddx  \n",
       "16   snaoddx  \n",
       "17   snaoddx  \n",
       "18   snaoddx  \n",
       "19   snaoddx  \n",
       "20   snaoddx  \n",
       "21       NaN  \n",
       "22       NaN  \n",
       "23       NaN  \n",
       "24   sspintx  \n",
       "25   sspintx  \n",
       "26   sspintx  \n",
       "27   sspintx  \n",
       "28   sspintx  \n",
       "29   sspintx  \n",
       "30       NaN  \n",
       "31       NaN  \n",
       "32       NaN  \n",
       "33  ssptossx  \n",
       "34  ssptossx  \n",
       "35  ssptossx  \n",
       "36  ssptossx  \n",
       "37  ssptossx  \n",
       "38  ssptossx  \n",
       "39       NaN  \n",
       "40       NaN  \n",
       "41       NaN  \n",
       "42       NaN  \n",
       "43       NaN  \n",
       "44       NaN  "
      ]
     },
     "execution_count": 145,
     "metadata": {},
     "output_type": "execute_result"
    }
   ],
   "source": [
    "orig_rr_14"
   ]
  },
  {
   "cell_type": "code",
   "execution_count": 146,
   "metadata": {},
   "outputs": [],
   "source": [
    "#orig_rr_14.to_csv(Path(derived_data, 'original_and_new_rr_14.csv'))"
   ]
  },
  {
   "cell_type": "code",
   "execution_count": null,
   "metadata": {},
   "outputs": [],
   "source": []
  }
 ],
 "metadata": {
  "kernelspec": {
   "display_name": "abcd",
   "language": "python",
   "name": "python3"
  },
  "language_info": {
   "codemirror_mode": {
    "name": "ipython",
    "version": 3
   },
   "file_extension": ".py",
   "mimetype": "text/x-python",
   "name": "python",
   "nbconvert_exporter": "python",
   "pygments_lexer": "ipython3",
   "version": "3.10.0"
  }
 },
 "nbformat": 4,
 "nbformat_minor": 2
}
