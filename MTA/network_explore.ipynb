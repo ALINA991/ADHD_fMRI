{
 "cells": [
  {
   "cell_type": "code",
   "execution_count": 12,
   "metadata": {},
   "outputs": [
    {
     "name": "stdout",
     "output_type": "stream",
     "text": [
      "The autoreload extension is already loaded. To reload it, use:\n",
      "  %reload_ext autoreload\n",
      "The autoreload extension is already loaded. To reload it, use:\n",
      "  %reload_ext autoreload\n"
     ]
    }
   ],
   "source": [
    "import numpy as np \n",
    "import pandas as pd \n",
    "import matplotlib.pyplot as plt \n",
    "from pathlib import Path\n",
    "import sys \n",
    "import networkx as nx\n",
    "\n",
    "from helper import rr, prep, var_dict, graph\n",
    "\n",
    "%load_ext autoreload\n",
    "%autoreload 2\n",
    "\n",
    "\n",
    "sys.path.append('/Users/alina/Desktop/MIT/code/ADHD/MTA/helper')\n",
    "from helper import rr, prep, var_dict\n",
    "\n",
    "%load_ext autoreload\n",
    "%autoreload 2"
   ]
  },
  {
   "cell_type": "code",
   "execution_count": 13,
   "metadata": {},
   "outputs": [],
   "source": [
    "\n",
    "\n",
    "if Path('/Volumes/Samsung_T5/MIT/mta').exists():\n",
    "    data_root =     '/Volumes/Samsung_T5/MIT/mta'\n",
    "    data_derived = '/Volumes/Samsung_T5/MIT/mta/output/derived_data'\n",
    "else: \n",
    "    data_root = '/Users/alina/Desktop/MIT/code/data'\n",
    "    data_deried = '/Users/alina/Desktop/MIT/code/data/output/derived_data'\n",
    "#os.listdir(data_root)"
   ]
  },
  {
   "cell_type": "code",
   "execution_count": 38,
   "metadata": {},
   "outputs": [
    {
     "name": "stdout",
     "output_type": "stream",
     "text": [
      "Conversion encountered a problem. Attempt to drop description line.\n",
      "Success\n"
     ]
    },
    {
     "name": "stderr",
     "output_type": "stream",
     "text": [
      "/var/folders/hf/frc4nxb532j7gqr3_36l6kmh0000gn/T/ipykernel_90910/141224344.py:1: DtypeWarning:\n",
      "\n",
      "Columns (0,1,2,6,8,9,10,11,12,13,14,15,16,17,18,19,20,21,22,23,24,25,26,27,28,29,30,31,32,33,34,35,36,37,38,39,40,41,42,43,44,45,46,47,48,49,50,51,52,53,54,55,56,57,58,59,60,61,62,63,64,65,66,67,68,69,70,71,72,73,74,75,76,77,78,79,80,81,82,83,84,85,86,87,88,89,90,91,92,93,94,95,96,97,98,99,100,101,102,103,104,105,106,107,108,109,110,111,112,113,114,115,116,117,118,119,120,121,122,123,124,125,126,127,128,129,130,131,132,133,134,135,136,137,138,139,140,141,142,143,144,145,146,147,148,149,150,151,152,153,154,155,156,157,158,159,160,161,162,163,164,165,166,167,168,169,170,171,172,173,174,175,176,177,178,179,180,181,182,183,184,185,186,187,188,189,190,191,192,193,194,195,196,197,198,199,200,201,202,203,204,205,206,207,208,209,210,211,212,213,214,215,216,217,218,219,220,221,222,223,224,225,226,227,228,229,230,231,232,233,234,235,236,237,238,239,240,241,242,243,244,245,246,247,248,249,250,251,252,253,254,255,256,257,258,259,260,261,262,263,264,265,266,267,268,269,270,271,272,273,274,275,276,278,279,280,281,282,283,284,285,286,287,288,289,290,291,292,293,294,295,296,297,298,299,300,301,302,303,304,305,306,307,308,309,310,311,312,313,314,315,316,317,318,319,320,321,322,323,324,325,326,327,328,329,330,331,332,333,334,335,336,337,338,339,340,341,342,343,344,345,346,347,348,349,350,351,352,353,354,355,356,357,358,359,360,361,362,363,364,365,366,367,368,369,370,371,372,373,374,375,376,377,378,379,380,381,382,383,384,385,386,387,388,389,390,391,392,393,394,395,396,397,398,399,400,401,402,403,404,405,406,407,408,409,410,411,412,413,414,415,416,417,418,419,420,421,422,423,424,425,426,427,428,429,430,431,432,433,434,435,436,437,438,439,440,441,442,443,444,445,446,447,448,449,450,451,452,453,454,455,456,457,458,459,460,461,462,463,464,465,466,467,468,469,470,471,472,473,474,475,476,477,478,479,480,481,482,483,484,485,486,487) have mixed types. Specify dtype option on import or set low_memory=False.\n",
      "\n"
     ]
    }
   ],
   "source": [
    "cbcl  = pd.read_csv(Path(data_root, 'cbcl01.txt'), delimiter='\\t')\n",
    "cbcl = prep.get_nonNaN_cols(cbcl)\n",
    "cbcl_set = prep.set_baseline_dtypes(cbcl, dropna=False)\n",
    "cbcl =  prep.split_data_from_timepoints(cbcl)"
   ]
  },
  {
   "cell_type": "code",
   "execution_count": 45,
   "metadata": {},
   "outputs": [],
   "source": [
    "cbcl = cbcl['14']"
   ]
  },
  {
   "cell_type": "code",
   "execution_count": 41,
   "metadata": {},
   "outputs": [],
   "source": [
    "cbcl_b = cbcl['b']\n",
    "cbcl_14 = cbcl['14']\n",
    "cbcl_24 = cbcl['24']\n",
    "cbcl_36 = cbcl['36']"
   ]
  },
  {
   "cell_type": "code",
   "execution_count": 46,
   "metadata": {},
   "outputs": [
    {
     "data": {
      "text/plain": [
       "list"
      ]
     },
     "execution_count": 46,
     "metadata": {},
     "output_type": "execute_result"
    }
   ],
   "source": [
    "baseline_columns = var_dict.get_baseline_vars()\n",
    "subject_spec_cols = ['collection_id', 'cbcl01_id', 'dataset_id', 'subjectkey',\n",
    "       'src_subject_id', 'interview_date', 'interview_age', 'sex', 'sjtyp', 'collection_title', 'assbdic', 'actbdic']\n",
    "cbcl_raw_cores_col = list(cbcl.columns[161:189])\n",
    "type(cbcl_raw_cores_col)"
   ]
  },
  {
   "cell_type": "code",
   "execution_count": 47,
   "metadata": {},
   "outputs": [],
   "source": [
    "unique_cols= list(set(np.concatenate((baseline_columns, subject_spec_cols + cbcl_raw_cores_col))))"
   ]
  },
  {
   "cell_type": "code",
   "execution_count": 48,
   "metadata": {},
   "outputs": [],
   "source": [
    "cbcl_qst_data = cbcl_set.copy()\n",
    "cbcl_qst_data.drop(columns=unique_cols, inplace=True)"
   ]
  },
  {
   "cell_type": "code",
   "execution_count": 49,
   "metadata": {},
   "outputs": [
    {
     "data": {
      "text/plain": [
       "(51,)"
      ]
     },
     "execution_count": 49,
     "metadata": {},
     "output_type": "execute_result"
    }
   ],
   "source": [
    "cbcl_qst_data.ins.dropna().shape"
   ]
  },
  {
   "cell_type": "code",
   "execution_count": 50,
   "metadata": {},
   "outputs": [],
   "source": [
    "\n",
    "var_qst_dict = dict(zip(cbcl.columns, cbcl.iloc[0]))"
   ]
  },
  {
   "cell_type": "code",
   "execution_count": 51,
   "metadata": {},
   "outputs": [
    {
     "ename": "AttributeError",
     "evalue": "'str' object has no attribute 'copy'",
     "output_type": "error",
     "traceback": [
      "\u001b[0;31m---------------------------------------------------------------------------\u001b[0m",
      "\u001b[0;31mAttributeError\u001b[0m                            Traceback (most recent call last)",
      "Cell \u001b[0;32mIn[51], line 4\u001b[0m\n\u001b[1;32m      1\u001b[0m cbcl_b_set \u001b[38;5;241m=\u001b[39m cbcl_b\u001b[38;5;241m.\u001b[39mcopy()\n\u001b[1;32m      2\u001b[0m cbcl_b_set\u001b[38;5;241m.\u001b[39mdrop(columns\u001b[38;5;241m=\u001b[39munique_cols, inplace\u001b[38;5;241m=\u001b[39m\u001b[38;5;28;01mTrue\u001b[39;00m)\n\u001b[0;32m----> 4\u001b[0m cbcl_14_set \u001b[38;5;241m=\u001b[39m \u001b[43mcbcl14\u001b[49m\u001b[38;5;241;43m.\u001b[39;49m\u001b[43mcopy\u001b[49m()\n\u001b[1;32m      5\u001b[0m cbcl_14_set\u001b[38;5;241m.\u001b[39mdrop(columns\u001b[38;5;241m=\u001b[39munique_cols, inplace\u001b[38;5;241m=\u001b[39m\u001b[38;5;28;01mTrue\u001b[39;00m)\n\u001b[1;32m      7\u001b[0m cbcl_24_set \u001b[38;5;241m=\u001b[39m cbcl24\u001b[38;5;241m.\u001b[39mcopy()\n",
      "\u001b[0;31mAttributeError\u001b[0m: 'str' object has no attribute 'copy'"
     ]
    }
   ],
   "source": [
    "cbcl_b_set = cbcl_b.copy()\n",
    "cbcl_b_set.drop(columns=unique_cols, inplace=True)\n",
    "\n",
    "cbcl_14_set = cbcl14.copy()\n",
    "cbcl_14_set.drop(columns=unique_cols, inplace=True)\n",
    "\n",
    "cbcl_24_set = cbcl24.copy()\n",
    "cbcl_24_set.drop(columns=unique_cols, inplace=True)\n",
    "\n",
    "cbcl_36_set = cbcl36.copy()\n",
    "cbcl_36_set.drop(columns=unique_cols, inplace=True)"
   ]
  },
  {
   "cell_type": "code",
   "execution_count": 52,
   "metadata": {},
   "outputs": [],
   "source": [
    "df = cbcl_b_set\n",
    "question_dict = dict(zip(cbcl.columns, cbcl.iloc[0]))\n"
   ]
  },
  {
   "cell_type": "code",
   "execution_count": 53,
   "metadata": {},
   "outputs": [
    {
     "ename": "AttributeError",
     "evalue": "'float' object has no attribute 'split'",
     "output_type": "error",
     "traceback": [
      "\u001b[0;31m---------------------------------------------------------------------------\u001b[0m",
      "\u001b[0;31mAttributeError\u001b[0m                            Traceback (most recent call last)",
      "Cell \u001b[0;32mIn[53], line 1\u001b[0m\n\u001b[0;32m----> 1\u001b[0m question_dict \u001b[38;5;241m=\u001b[39m {key: value\u001b[38;5;241m.\u001b[39msplit(\u001b[38;5;124m'\u001b[39m\u001b[38;5;124m/\u001b[39m\u001b[38;5;124m'\u001b[39m)[\u001b[38;5;241m0\u001b[39m]\u001b[38;5;241m.\u001b[39mstrip() \u001b[38;5;28;01mfor\u001b[39;00m key, value \u001b[38;5;129;01min\u001b[39;00m question_dict\u001b[38;5;241m.\u001b[39mitems()}\n",
      "Cell \u001b[0;32mIn[53], line 1\u001b[0m, in \u001b[0;36m<dictcomp>\u001b[0;34m(.0)\u001b[0m\n\u001b[0;32m----> 1\u001b[0m question_dict \u001b[38;5;241m=\u001b[39m {key: \u001b[43mvalue\u001b[49m\u001b[38;5;241;43m.\u001b[39;49m\u001b[43msplit\u001b[49m(\u001b[38;5;124m'\u001b[39m\u001b[38;5;124m/\u001b[39m\u001b[38;5;124m'\u001b[39m)[\u001b[38;5;241m0\u001b[39m]\u001b[38;5;241m.\u001b[39mstrip() \u001b[38;5;28;01mfor\u001b[39;00m key, value \u001b[38;5;129;01min\u001b[39;00m question_dict\u001b[38;5;241m.\u001b[39mitems()}\n",
      "\u001b[0;31mAttributeError\u001b[0m: 'float' object has no attribute 'split'"
     ]
    }
   ],
   "source": [
    "question_dict = {key: value.split('/')[0].strip() for key, value in question_dict.items()}"
   ]
  },
  {
   "cell_type": "code",
   "execution_count": 54,
   "metadata": {},
   "outputs": [],
   "source": [
    "G_b03 = graph.compute_graph(cbcl_b_set, 'correlation', 0.3)\n",
    "G_b04 = graph.compute_graph(cbcl_b_set, 'correlation', 0.4)\n",
    "G_b05 = graph.compute_graph(cbcl_b_set, 'correlation', 0.5)\n",
    "\n",
    "#G_14 = graph.compute_graph(cbcl_14_set, 'correlation', 0.3)\n",
    "##G_24 = graph.compute_graph(cbcl_24_set, 'correlation', 0.3)\n",
    "#G_36 = graph.compute_graph(cbcl_36_set, 'correlation', 0.3)"
   ]
  },
  {
   "cell_type": "code",
   "execution_count": 34,
   "metadata": {},
   "outputs": [
    {
     "ename": "NameError",
     "evalue": "name 'G_b03' is not defined",
     "output_type": "error",
     "traceback": [
      "\u001b[0;31m---------------------------------------------------------------------------\u001b[0m",
      "\u001b[0;31mNameError\u001b[0m                                 Traceback (most recent call last)",
      "Cell \u001b[0;32mIn[34], line 1\u001b[0m\n\u001b[0;32m----> 1\u001b[0m graph\u001b[38;5;241m.\u001b[39mplot_graph(\u001b[43mG_b03\u001b[49m, question_dict, static\u001b[38;5;241m=\u001b[39m\u001b[38;5;28;01mTrue\u001b[39;00m, corr_width\u001b[38;5;241m=\u001b[39m\u001b[38;5;28;01mFalse\u001b[39;00m, plot_title\u001b[38;5;241m=\u001b[39m\u001b[38;5;124m\"\u001b[39m\u001b[38;5;124mCBCL Baseline, Correlation threshold = 0.3\u001b[39m\u001b[38;5;124m\"\u001b[39m)\n",
      "\u001b[0;31mNameError\u001b[0m: name 'G_b03' is not defined"
     ]
    }
   ],
   "source": [
    "graph.plot_graph(G_b03, question_dict, static=True, corr_width=False, plot_title=\"CBCL Baseline, Correlation threshold = 0.3\")"
   ]
  },
  {
   "cell_type": "code",
   "execution_count": null,
   "metadata": {},
   "outputs": [],
   "source": [
    "graph.plot_graph(G_b04, question_dict, static=True, corr_width=False, plot_title=\"CBCL Baseline, Correlation threshold = 0.4\")"
   ]
  },
  {
   "cell_type": "code",
   "execution_count": null,
   "metadata": {},
   "outputs": [],
   "source": [
    "graph.plot_graph(G_b05, question_dict, static=True, corr_width=False, plot_title=\"Baseline, Correlation threshold = 0.5\")"
   ]
  },
  {
   "cell_type": "code",
   "execution_count": null,
   "metadata": {},
   "outputs": [],
   "source": [
    "#graph.plot_graph(G_14, question_dict, static=True, corr_width=False, plot_title=\"14 months\")"
   ]
  },
  {
   "cell_type": "code",
   "execution_count": null,
   "metadata": {},
   "outputs": [],
   "source": [
    "#graph.plot_graph(G_24, question_dict, static=True, corr_width=False, plot_title=\"24 months\")"
   ]
  },
  {
   "cell_type": "code",
   "execution_count": null,
   "metadata": {},
   "outputs": [],
   "source": [
    "#graph.plot_graph(G_36, question_dict, static=True, corr_width=False, plot_title=\"36 months\")"
   ]
  },
  {
   "cell_type": "code",
   "execution_count": null,
   "metadata": {},
   "outputs": [],
   "source": [
    "G_neg = graph.compute_graph(cbcl_b_set, 'correlation', 0.35, allow_neg_edge=True)"
   ]
  },
  {
   "cell_type": "code",
   "execution_count": null,
   "metadata": {},
   "outputs": [],
   "source": [
    "graph.plot_graph(G_neg, question_dict, neg_edges=True, static=True, plot_title=\"Baseline, Correlation threshold = 0.35\")"
   ]
  },
  {
   "cell_type": "code",
   "execution_count": null,
   "metadata": {},
   "outputs": [
    {
     "name": "stdout",
     "output_type": "stream",
     "text": [
      "Index(['collection_id', 'snap01_id', 'dataset_id', 'subjectkey',\n",
      "       'src_subject_id', 'interview_date', 'interview_age', 'sex',\n",
      "       'snap_adhd_1', 'snap_adhd_2', 'snap_adhd_3', 'snap_adhd_4',\n",
      "       'snap_adhd_5', 'snap_adhd_6', 'snap_adhd_7', 'snap_adhd_8',\n",
      "       'snap_adhd_9', 'snap_adhd_11', 'snap_adhd_12', 'snap_adhd_13',\n",
      "       'snap_adhd_14', 'snap_adhd_15', 'snap_adhd_16', 'snap_adhd_17',\n",
      "       'snap_adhd_18', 'snap_adhd_19', 'snap_inattn_totalscore',\n",
      "       'snap_inattn_avg', 'snap_hyp_totalscore', 'snap_hyp_avg', 'sna19',\n",
      "       'sna20', 'sna21', 'sna22', 'sna23', 'sna24', 'sna25', 'sna26', 'sna27',\n",
      "       'sna28', 'sna29', 'sna30', 'sna31', 'sna32', 'sna33', 'sna34', 'sna35',\n",
      "       'sna36', 'sna37', 'sna38', 'sna39', 'snainatx', 'snainatt', 'snahypax',\n",
      "       'snahypat', 'snaimpux', 'snaimput', 'snaaddwx', 'snaaddwt', 'snaoddx',\n",
      "       'snaoddt', 'snatotlx', 'snatotlt', 'snahyimx', 'snaadhdx', 'snaadhdt',\n",
      "       'snahix', 'snahit', 'snadbdx', 'snaxrsp', 'days_baseline', 'assbdic',\n",
      "       'relationship', 'actbdic', 'site', 'sjtyp', 'version_form',\n",
      "       'collection_title'],\n",
      "      dtype='object')\n"
     ]
    },
    {
     "name": "stderr",
     "output_type": "stream",
     "text": [
      "/var/folders/hf/frc4nxb532j7gqr3_36l6kmh0000gn/T/ipykernel_30856/3632520116.py:1: DtypeWarning:\n",
      "\n",
      "Columns (0,1,2,6,8,9,10,11,12,13,14,15,16,17,18,19,20,21,22,23,24,25,26,27,28,29,30,31,32,33,34,35,36,37,38,39,40,41,42,43,44,45,46,47,48,49,50,51,52,53,54,55,56,57,58,59,60,61,62,63,64,65,66,67,68,69,70,71,72,73,74,76,77,78,79,81,82,83,84,85,86,87,88,89,90,91,92,93,94,95,96,97,98,99,100,101,102,103,104,105,106,107,108,109,110,111,112,113,114,115,116,117,118,119,120,121,122,123,124,125,126,127,128,129,130,131,132,133,134,135,136,137,138,139,140,141,142,143,144,145,146,147,148,149,150,151,152,153,154,155,156,157,158) have mixed types. Specify dtype option on import or set low_memory=False.\n",
      "\n"
     ]
    }
   ],
   "source": [
    "snap = pd.read_csv(Path(data_root, 'snap01.txt'), delimiter=\"\\t\")\n",
    "snap_red_  = prep.get_nonNaN_cols(snap)\n",
    "\n",
    "print(snap_red_.columns)"
   ]
  },
  {
   "cell_type": "code",
   "execution_count": null,
   "metadata": {},
   "outputs": [
    {
     "name": "stdout",
     "output_type": "stream",
     "text": [
      "['src_subject_id' 'sex' 'sjtyp' 'relationship' 'collection_title'\n",
      " 'interview_age' 'assbdic' 'subjectkey' 'actbdic' 'dataset_id'\n",
      " 'interview_date' 'site' 'collection_id' 'snap01_id' 'version_form'\n",
      " 'snainatx' 'snainatt' 'snahypax' 'snahypat' 'snaimpux' 'snaimput'\n",
      " 'snaaddwx' 'snaaddwt' 'snaoddx' 'snaoddt' 'snatotlx' 'snatotlt'\n",
      " 'snahyimx' 'snaadhdx' 'snaadhdt' 'snahix' 'snahit' 'snadbdx' 'snaxrsp'\n",
      " 'snap_inattn_avg' 'snap_hyp_totalscore' 'snap_hyp_avg']\n"
     ]
    }
   ],
   "source": [
    "\n",
    "cols2drop = [col for col in unique_cols if col in snap_red_.columns and col != 'days_baseline']\n",
    "cols2drop.append('snap01_id')\n",
    "cols2drop.append('version_form')\n",
    "snap_raw_score_cols = snap.columns[55:74]\n",
    "cols2drop = np.concatenate((cols2drop, snap_raw_score_cols, ['snap_inattn_avg', 'snap_hyp_totalscore', 'snap_hyp_avg']))\n",
    "print(cols2drop)\n",
    "snap_red = snap_red_.drop(columns=cols2drop)\n",
    "\n",
    "#snap_red = snap[snap_cols]"
   ]
  },
  {
   "cell_type": "code",
   "execution_count": null,
   "metadata": {},
   "outputs": [],
   "source": [
    "snap_b, snap14, snap24, snap36 = prep.split_data_from_timepoints(snap_red)"
   ]
  },
  {
   "cell_type": "code",
   "execution_count": null,
   "metadata": {},
   "outputs": [],
   "source": [
    "question_dict_snap = dict(zip(snap_red.columns, snap_red.iloc[0]))"
   ]
  },
  {
   "cell_type": "markdown",
   "metadata": {},
   "source": []
  },
  {
   "cell_type": "code",
   "execution_count": null,
   "metadata": {},
   "outputs": [],
   "source": [
    "snap_b = snap_b.drop(columns='days_baseline')"
   ]
  },
  {
   "cell_type": "code",
   "execution_count": null,
   "metadata": {},
   "outputs": [],
   "source": [
    "G_snap_b03 = graph.compute_graph(snap_b, 'correlation', 0.3)\n",
    "graph.plot_graph(G_snap_b03, question_dict_snap, static=True, corr_width=True,plot_title=\"SNAP Baseline, Correlation threshold = 0.3\")"
   ]
  },
  {
   "cell_type": "code",
   "execution_count": null,
   "metadata": {},
   "outputs": [],
   "source": [
    "G_snap_b073 = graph.compute_graph(snap_b, 'correlation', 0.73)\n",
    "graph.plot_graph(G_snap_b073, question_dict_snap, static=True, corr_width=True,plot_title=\"SNAP Baseline, Correlation threshold = 0.73\")"
   ]
  },
  {
   "cell_type": "code",
   "execution_count": null,
   "metadata": {},
   "outputs": [],
   "source": [
    "G_snap_14 = graph.compute_graph(snap14, 'correlation', 0.73)\n",
    "graph.plot_graph(G_snap_14, question_dict_snap, static=True, corr_width=True)"
   ]
  },
  {
   "cell_type": "code",
   "execution_count": null,
   "metadata": {},
   "outputs": [],
   "source": [
    "G_snap_24 = graph.compute_graph(snap24, 'correlation', 0.73)\n",
    "graph.plot_graph(G_snap_24, question_dict_snap, static=True, corr_width=True)"
   ]
  },
  {
   "cell_type": "code",
   "execution_count": null,
   "metadata": {},
   "outputs": [],
   "source": [
    "G_snap_36 = graph.compute_graph(snap36, 'correlation', 0.73)\n",
    "graph.plot_graph(G_snap_36, question_dict_snap, static=True, corr_width=True)"
   ]
  },
  {
   "cell_type": "code",
   "execution_count": null,
   "metadata": {},
   "outputs": [
    {
     "name": "stdout",
     "output_type": "stream",
     "text": [
      "0 collection_id collection_id (14581,)\n",
      "1 snap01_id snap01_id (14581,)\n",
      "2 dataset_id dataset_id (14581,)\n",
      "3 subjectkey The NDAR Global Unique Identifier (GUID) for research subject (14581,)\n",
      "4 src_subject_id Subject ID how it's defined in lab/project (14581,)\n",
      "5 interview_date Date on which the interview/genetic test/sampling/imaging/biospecimen was completed. MM/DD/YYYY (14581,)\n",
      "6 interview_age Age in months at the time of the interview/test/sampling/imaging. (14581,)\n",
      "7 sex Sex of subject at birth (14581,)\n",
      "10 snap_adhd_1 1. Often fails to give close attention to details or makes careless mistakes in schoolwork or tasks (14534,)\n",
      "11 snap_adhd_2 2. Often has difficulty sustaining attention in tasks or play activities (14531,)\n",
      "12 snap_adhd_3 3. Often does not seem to listen when spoken to directly (14539,)\n",
      "13 snap_adhd_4 4. Often does not follow through on instructions and fails to finish schoolwork, chores, or duties (14533,)\n",
      "14 snap_adhd_5 5. Often has difficulty organizing tasks and activities (14533,)\n",
      "15 snap_adhd_6 6. Often avoids, dislikes, or reluctantly engages in tasks requiring sustained mental effort (14528,)\n",
      "16 snap_adhd_7 7. Often loses things necessary for activities (e.g., toys, school assignments, pencils, or books) (14515,)\n",
      "17 snap_adhd_8 8. Often is distracted by extraneous stimuli (14516,)\n",
      "18 snap_adhd_9 9. Often is forgetful in daily activities (14506,)\n",
      "20 snap_adhd_11 11. Often fidgets with hands or feet or squirms in seat (14528,)\n",
      "21 snap_adhd_12 12. Often leaves seat in classroom or in other situations in which remaining seated is expected (14483,)\n",
      "22 snap_adhd_13 13. Often runs about or climbs excessively in situations in which it is inappropriate (14486,)\n",
      "23 snap_adhd_14 14. Often has difficulty playing or engaging in leisure activities quietly (14466,)\n",
      "24 snap_adhd_15 15. Often is on the go\" or often acts as if \"driven by a motor\"\" (14507,)\n",
      "25 snap_adhd_16 16. Often talks excessively (14523,)\n",
      "26 snap_adhd_17 17. Often blurts out answers before questions have been completed (14508,)\n",
      "27 snap_adhd_18 18. Often has difficulty awaiting their turn (14503,)\n",
      "28 snap_adhd_19 19. Often interrupts or intrudes on others (e.g., butts into conversations/games) (14503,)\n",
      "30 snap_inattn_totalscore Sum of inattention items (14581,)\n",
      "31 snap_inattn_avg Average of inattention items (14581,)\n",
      "32 snap_hyp_totalscore Sum of hyperactivity/impulsivity items (14581,)\n",
      "33 snap_hyp_avg Average of hyperactivity/impulsivity items (14581,)\n",
      "34 sna19 Stared into space and reported daydreaming (14480,)\n",
      "35 sna20 Were low in energy level, sluggish, or drowsy (14445,)\n",
      "36 sna21 Were apathetic or unmotivated to engage in goal directed activities (14447,)\n",
      "37 sna22 Engaged in physically dangerous activities without considering possible consequences (14432,)\n",
      "38 sna23 Shifted from one uncompleted activity to another (14495,)\n",
      "39 sna24 Failed to finish things (14511,)\n",
      "40 sna25 Had difficulty concentrating on school work or other tasks requiring sustained attention (14512,)\n",
      "41 sna26 Had difficulty sticking to a play activity (14401,)\n",
      "42 sna27 Called out in class or in other situations when silence was expected (14467,)\n",
      "43 sna28 Needed a lot of supervision (14512,)\n",
      "44 sna29 Moved about excessively (e.g., even during sleep at home or during quiet time at school) (14468,)\n",
      "45 sna30 Acted before thinking (14518,)\n",
      "46 sna31 Lost temper (14507,)\n",
      "47 sna32 Argued with adults (14518,)\n",
      "48 sna33 Actively defied or refused adult requests or rules (14482,)\n",
      "49 sna34 Did things deliberately that annoy other people (14495,)\n",
      "50 sna35 Blamed others for mistakes or misbehavior (14507,)\n",
      "51 sna36 Were touchy or easily annoyed by others (14507,)\n",
      "52 sna37 Were angry and resentful (14488,)\n",
      "53 sna38 Were spiteful or vindictive (14463,)\n",
      "54 sna39 Swore or used obscene language (14476,)\n",
      "55 snainatx Inattention (mean score) (14531,)\n",
      "56 snainatt Inattention (total score) (14531,)\n",
      "57 snahypax Hyperactivity (mean score) (14489,)\n",
      "58 snahypat Hyperactivity (total score) (14489,)\n",
      "59 snaimpux Impulsivity (mean score) (14448,)\n",
      "60 snaimput Impulsivity (total score) (14448,)\n",
      "61 snaaddwx ADD/WO (mean score) (14470,)\n",
      "62 snaaddwt ADD/WO (total score) (14470,)\n",
      "63 snaoddx ODD (mean score) (14490,)\n",
      "64 snaoddt ODD (total score) (14490,)\n",
      "65 snatotlx SNAP-Adolescent Total Score (mean score) (14377,)\n",
      "66 snatotlt SNAP- Adolescent Total Score (total score) (14377,)\n",
      "67 snahyimx SNAP- Adolescent Hyperactive/Impulsive (mean score) (14518,)\n",
      "68 snaadhdx ADHD (mean score) (14505,)\n",
      "69 snaadhdt ADHD (total score) (14505,)\n",
      "70 snahix Hyperactive/Impulsive (mean score) (14501,)\n",
      "71 snahit Hyperactive/Impulsive (total score) (14501,)\n",
      "72 snadbdx SNAP Adolescent Composite DBD Mean Score (14439,)\n",
      "73 snaxrsp SNAP Adolescent Excellent Responder Score (14439,)\n",
      "74 days_baseline Days since baseline (14581,)\n",
      "75 assbdic Assessment Point (14581,)\n",
      "76 relationship Relationship of respondent to individual (14581,)\n",
      "77 actbdic Active status (14581,)\n",
      "78 site Site (14581,)\n",
      "79 sjtyp Subject type (14581,)\n",
      "80 version_form Form used/assessment name (14581,)\n",
      "159 collection_title collection_title (14581,)\n"
     ]
    }
   ],
   "source": [
    "prep.print_nonNaN_shapes(snap)"
   ]
  },
  {
   "cell_type": "code",
   "execution_count": null,
   "metadata": {},
   "outputs": [],
   "source": []
  }
 ],
 "metadata": {
  "kernelspec": {
   "display_name": "abcd",
   "language": "python",
   "name": "python3"
  },
  "language_info": {
   "codemirror_mode": {
    "name": "ipython",
    "version": 3
   },
   "file_extension": ".py",
   "mimetype": "text/x-python",
   "name": "python",
   "nbconvert_exporter": "python",
   "pygments_lexer": "ipython3",
   "version": "3.10.0"
  }
 },
 "nbformat": 4,
 "nbformat_minor": 2
}
