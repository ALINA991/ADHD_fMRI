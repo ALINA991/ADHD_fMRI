{
 "cells": [
  {
   "cell_type": "code",
   "execution_count": 257,
   "metadata": {},
   "outputs": [],
   "source": [
    "from pathlib import Path \n",
    "import numpy as np \n",
    "import matplotlib.pyplot as plt \n",
    "import pandas as pd\n",
    "from collections import OrderedDict\n",
    "import sys\n",
    "import os\n",
    "import seaborn as sns"
   ]
  },
  {
   "cell_type": "code",
   "execution_count": 258,
   "metadata": {},
   "outputs": [],
   "source": [
    "data_root = '/Volumes/Samsung_T5/MIT/mta'\n",
    "#os.listdir(data_root)"
   ]
  },
  {
   "cell_type": "code",
   "execution_count": 259,
   "metadata": {},
   "outputs": [
    {
     "name": "stderr",
     "output_type": "stream",
     "text": [
      "/var/folders/hf/frc4nxb532j7gqr3_36l6kmh0000gn/T/ipykernel_23351/2463623399.py:5: DtypeWarning: Columns (0,1,2,5,6,8,9,10,11,12,13,14,15,16,17,18,19,20,21,22,23,24,25,26,27,28,29,30,31,32,33,34,35,36,37,38,39,40,41,42,43,44,45,46,47,48,49,50,51,52,53,54,55,56,57,58,59,60,61,62,63,64,65,66,67,68,69,70,71,72,73,74,75,76,77,78,79,80,81,82,83,84,85,86,87,88,89,90,91,92,93,94,95,96,97,98,99,100,101,102,103,104,105,106,107,108,109,110,111,112,113,114,115,116,117,118,119,120,121,122,123,124,125,126,127,128,129,130,131,132,133,134,135,136,137,138,139,140,141,142,143,144,145,146,147,148,149,150,151,152,153,154,155,156,157,158,159,160,161,162,163,164,165,166,167,168,169,170,171,172,173,174,175,176,177,178,179,180,181,182,183,184,185,186,187,188,189,190,191,192,193,194,195,196,197,198,199,200,201,202,203,204,205,206,207,208,209,210,211,212,213,214,215,216,217,218,219,220,221,222,223,224,225,226,227,228,229,230,231,232,233,234,235,236,237,238,239,240,241,242,243,244,245,246,247,248,249,250,251,252,253,254,255,256,257,258,259,260,261,262,263,264,265,266,267,268,269,270,271,272,273,274,275,276,277,278,279,280,281,282,283,284,285,286,287,288,289,290,291,292,293,294,295,296,297,298,299,300,301,302,303,304,305,306,307,308,309,310,311,312,313,314,315,316,317,318,319,320,321,322,323,324,325,326,327,328,329,330,331,332,333,334,335,336,337,338,339,340,341,342,343,344,345,346,347,348,349,350,351,352,353,354,355,356,357,358,359,360,361,362,363,364,365,366,367,368,369,370,371,372,373,374,375,376,377,378,379,380,381,382,383,384,385,386,387,388,389,390,391,392,393,394,395,396,397,398,399,400,401,402,403,404,405,406,407,408,409,410,411,412,413,414,415,416,417,418,419,420,421,422,423,424,425,426,427,428,429,430,431,432,433,434,435,436,437,438,439,440,441,442,443,444,445,446,447,448,449,450,451,452,453,454,455,456,457,458,459,460,461,462,463,464,465,466,467,468,469,470,471,472,473,474,475,476,477,478,479,480,481,482,483,484,485,486,487,488,489,490,491,492,493,494,495,496,497,498,499,500,501,502,503,504,505,506,507,508,509,510,511,512,513,514,515,516,517,518,519,520,521,522,523,524,525,526,527,528,529,530,531,532,533,534,535,536,537,538,539,540,541,542,543,544,545,546,547,548,549,550,551,552,553,554,555,556,557,558,559,560,561,562,563,564,565,566,567,568,569,570,571,572,573,574,575,576,577,578,579,580,581,582,583,584,585,586,587,588,589,590,591,592,593,594,595,596,597,598,599) have mixed types. Specify dtype option on import or set low_memory=False.\n",
      "  services = pd.read_csv(Path(data_root, services_file), delimiter='\\t')\n"
     ]
    }
   ],
   "source": [
    "services_file = 'scapijus01.txt'\n",
    "meds_file  = 'medse01.txt'\n",
    "end_treat_file = 'debrief1401.txt'\n",
    "\n",
    "services = pd.read_csv(Path(data_root, services_file), delimiter='\\t')\n",
    "meds = pd.read_csv(Path(data_root, meds_file), delimiter='\\t')\n",
    "end_treat = pd.read_csv(Path(data_root, end_treat_file), delimiter='\\t')"
   ]
  },
  {
   "cell_type": "code",
   "execution_count": 260,
   "metadata": {},
   "outputs": [],
   "source": [
    "services_dict = { 'adhd_mon_visits' : 'monyn', \n",
    "                 'sv_school_serv_any' : 'ynsvc', \n",
    "                 'sv_room_spc_educ' : 'yn12', \n",
    "                 'sv_day_long_spec_educ' : 'yn13', \n",
    "                 #'sv_occup_th' : 'yn13_1', #1\n",
    "                 'sv_speech_lang_th' : 'yn71',\n",
    "                 'sv_sec_school_adhd_ld': 'yn101', \n",
    "                 'sv_school_couns' : 'yn14', \n",
    "                 'sv_gr_th': 'yn62',\n",
    "                 'sv_ind_th_1' : 'yn63',\n",
    "                 #'sv_spec_help_classroom': 'yn11_1', \n",
    "                 'sv_after_school_treat_pg': 'yn24', \n",
    "                 'sv_spec_end_treat_adhd_ld_beh': 'yn51',\n",
    "                 'sv_tut_non_par' : 'yn67', \n",
    "                 'sv_rem_summ_school' : 'yn93',\n",
    "                 'sv_indiv_edu_plan' : 'yn65', \n",
    "                 'sv_school_serv_other': 'yn99',\n",
    "                 'therapy_any': 'ynthe', \n",
    "                 'th_aa_na': 'yn1',\n",
    "                 'th_mta_treat_pg': 'yn2',\n",
    "                 'th_we_treat_pg': 'yn3',\n",
    "                 'th_after_school_treat_pg': 'yn4', \n",
    "                 'th_soc_skills': 'yn5',\n",
    "                 'th_recre' : 'yn6',\n",
    "                 'th_drug': 'yn7', \n",
    "                 'th_group': 'yn8', \n",
    "                 'th_indiv:' : 'yn9',\n",
    "                 'th_non_mda_summer_treat_pg': 'yn10', \n",
    "                 #'th_psyt_hosp': 'yn11_2', \n",
    "                 #'th_board_school': 'yn12_1', \n",
    "                 #'th_res_fam': 'yn13_2',\n",
    "                 #'th_home_case_mang': 'yn14_1', \n",
    "                 #'th_24_7_treat' : 'yn15_1', \n",
    "                 'th_yth_shelter': 'yn16', \n",
    "                 'th_non_milit_bootcamp': 'yn17'}\n",
    "                 \n",
    "                 \n",
    "                 "
   ]
  },
  {
   "cell_type": "code",
   "execution_count": 261,
   "metadata": {},
   "outputs": [
    {
     "name": "stdout",
     "output_type": "stream",
     "text": [
      "ADHD medication monitoring vistits any  : 278\n",
      "no ADHD medication monitoring vistits: 0\n",
      "any school service : 3059\n",
      "no school service : 2675\n",
      "any therapy :  1390\n",
      " no therapy :  4844\n"
     ]
    }
   ],
   "source": [
    "services[services_dict['therapy_any']].dropna()\n",
    "'adhd_mon_visits'\n",
    "print('ADHD medication monitoring vistits any  :', (services[services_dict['adhd_mon_visits']] == 1).sum())\n",
    "print('no ADHD medication monitoring vistits:', (services[services_dict['adhd_mon_visits']] == 2).sum())\n",
    "\n",
    "print('any school service :', (services[services_dict['sv_school_serv_any']] == 1).sum())\n",
    "print('no school service :', (services[services_dict['sv_school_serv_any']] == 2).sum())\n",
    "\n",
    "print('any therapy : ', (services[services_dict['therapy_any']] == 1).sum())\n",
    "print(' no therapy : ', (services[services_dict['therapy_any']] == 2).sum())\n",
    "        "
   ]
  },
  {
   "cell_type": "code",
   "execution_count": 262,
   "metadata": {},
   "outputs": [
    {
     "name": "stdout",
     "output_type": "stream",
     "text": [
      "['Name of Medication Prescribed at this Visit (i.e., for the next interval)'\n",
      " 'No drug' 'Ritalin' 'Dexedrine' 'Cylert' 'Imipramine' nan 'Haldol'\n",
      " 'Wellbutrin']\n",
      "no drug: 169\n",
      "Ritalin 2675\n",
      "Dexedrine 283\n",
      "Cylert 53\n",
      "Imipramine 23\n",
      "Haldol 4\n"
     ]
    }
   ],
   "source": [
    "print(meds['mmdrug'].unique())\n",
    "\n",
    "print('no drug:', (meds['mmdrug'] == 'No drug').sum())\n",
    "print('Ritalin', (meds['mmdrug'] == 'Ritalin').sum())\n",
    "print('Dexedrine', (meds['mmdrug'] == 'Dexedrine').sum())\n",
    "print('Cylert', (meds['mmdrug'] == 'Cylert').sum())\n",
    "print('Imipramine', (meds['mmdrug'] == 'Imipramine').sum())\n",
    "print('Haldol', (meds['mmdrug'] == 'Haldol').sum())"
   ]
  },
  {
   "cell_type": "code",
   "execution_count": 263,
   "metadata": {},
   "outputs": [
    {
     "name": "stdout",
     "output_type": "stream",
     "text": [
      "(580,) (291,) (434,)\n"
     ]
    }
   ],
   "source": [
    "print(services['src_subject_id'].unique().shape, meds['src_subject_id'].unique().shape,  end_treat['src_subject_id'].unique().shape)"
   ]
  },
  {
   "cell_type": "code",
   "execution_count": 264,
   "metadata": {},
   "outputs": [
    {
     "data": {
      "text/plain": [
       "13"
      ]
     },
     "execution_count": 264,
     "metadata": {},
     "output_type": "execute_result"
    }
   ],
   "source": [
    "(meds['src_subject_id'] == 'P1007').sum()"
   ]
  },
  {
   "cell_type": "code",
   "execution_count": 265,
   "metadata": {},
   "outputs": [
    {
     "name": "stdout",
     "output_type": "stream",
     "text": [
      "adhd_mon_visits (27309,)\n",
      "sv_school_serv_any (27309,)\n",
      "sv_room_spc_educ (27309,)\n",
      "sv_day_long_spec_educ (27309,)\n",
      "sv_speech_lang_th (27309,)\n",
      "sv_sec_school_adhd_ld (27309,)\n",
      "sv_school_couns (27309,)\n",
      "sv_gr_th (27309,)\n",
      "sv_ind_th_1 (27309,)\n",
      "sv_after_school_treat_pg (27309,)\n",
      "sv_spec_end_treat_adhd_ld_beh (27309,)\n",
      "sv_tut_non_par (27309,)\n",
      "sv_rem_summ_school (27309,)\n",
      "sv_indiv_edu_plan (27309,)\n",
      "sv_school_serv_other (27309,)\n",
      "therapy_any (27309,)\n",
      "th_aa_na (27309,)\n",
      "th_mta_treat_pg (27309,)\n",
      "th_we_treat_pg (27309,)\n",
      "th_after_school_treat_pg (27309,)\n",
      "th_soc_skills (27309,)\n",
      "th_recre (27309,)\n",
      "th_drug (27309,)\n",
      "th_group (27309,)\n",
      "th_indiv: (27309,)\n",
      "th_non_mda_summer_treat_pg (27309,)\n",
      "th_yth_shelter (27309,)\n",
      "th_non_milit_bootcamp (27309,)\n"
     ]
    }
   ],
   "source": [
    "for key, val in zip(services_dict.keys(), services_dict.values()):\n",
    "    print(key, services[val].shape)"
   ]
  },
  {
   "cell_type": "code",
   "execution_count": 266,
   "metadata": {},
   "outputs": [
    {
     "data": {
      "text/plain": [
       "array(['Treatment group', 'C', 'M', 'P'], dtype=object)"
      ]
     },
     "execution_count": 266,
     "metadata": {},
     "output_type": "execute_result"
    }
   ],
   "source": [
    "treat_group = end_treat[['src_subject_id', 'trtname']]\n",
    "treat_group['trtname'].unique()\n",
    "sub_m = treat_group.query(\"trtname == 'M'\") #medi\n",
    "sub_c = treat_group.query(\"trtname == 'C'\") #'combined'\n",
    "sub_p = treat_group.query(\"trtname == 'P'\") # psychosocial "
   ]
  },
  {
   "cell_type": "code",
   "execution_count": 267,
   "metadata": {},
   "outputs": [],
   "source": [
    "\n",
    "# sub_A = treat_group.query(\"trtname == 'A'\") # \n",
    "# sub_L = treat_group.query(\"trtname == 'L'\")"
   ]
  },
  {
   "cell_type": "code",
   "execution_count": 268,
   "metadata": {},
   "outputs": [
    {
     "name": "stdout",
     "output_type": "stream",
     "text": [
      "(144, 2) (145, 2) (144, 2)\n",
      "(144,)\n"
     ]
    }
   ],
   "source": [
    "print(sub_m.shape, sub_c.shape, sub_p.shape)\n",
    "print(sub_m['src_subject_id'].unique().shape)"
   ]
  },
  {
   "cell_type": "code",
   "execution_count": 269,
   "metadata": {},
   "outputs": [
    {
     "data": {
      "text/plain": [
       "array(['Subject type', '1'], dtype=object)"
      ]
     },
     "execution_count": 269,
     "metadata": {},
     "output_type": "execute_result"
    }
   ],
   "source": [
    "end_treat['sjtyp'].unique()"
   ]
  },
  {
   "cell_type": "code",
   "execution_count": 270,
   "metadata": {},
   "outputs": [
    {
     "name": "stdout",
     "output_type": "stream",
     "text": [
      "adhd_mon_visits (588,)\n",
      "sv_school_serv_any (5735,)\n",
      "sv_room_spc_educ (7763,)\n",
      "sv_day_long_spec_educ (6236,)\n",
      "sv_speech_lang_th (302,)\n",
      "sv_sec_school_adhd_ld (90,)\n",
      "sv_school_couns (7091,)\n",
      "sv_gr_th (9,)\n",
      "sv_ind_th_1 (9,)\n",
      "sv_after_school_treat_pg (28,)\n",
      "sv_spec_end_treat_adhd_ld_beh (275,)\n",
      "sv_tut_non_par (1043,)\n",
      "sv_rem_summ_school (91,)\n",
      "sv_indiv_edu_plan (613,)\n",
      "sv_school_serv_other (17,)\n",
      "therapy_any (6235,)\n",
      "th_aa_na (6235,)\n",
      "th_mta_treat_pg (6235,)\n",
      "th_we_treat_pg (6235,)\n",
      "th_after_school_treat_pg (6235,)\n",
      "th_soc_skills (6235,)\n",
      "th_recre (6235,)\n",
      "th_drug (6235,)\n",
      "th_group (6235,)\n",
      "th_indiv: (6235,)\n",
      "th_non_mda_summer_treat_pg (6235,)\n",
      "th_yth_shelter (6235,)\n",
      "th_non_milit_bootcamp (6235,)\n"
     ]
    }
   ],
   "source": [
    "for key, val in zip(services_dict.keys(), services_dict.values()):\n",
    "    print(key, services[val].dropna().shape)"
   ]
  },
  {
   "cell_type": "code",
   "execution_count": 291,
   "metadata": {},
   "outputs": [
    {
     "data": {
      "text/plain": [
       "(588,)"
      ]
     },
     "execution_count": 291,
     "metadata": {},
     "output_type": "execute_result"
    }
   ],
   "source": [
    "services[services_dict['adhd_mon_visits']].dropna().shape"
   ]
  },
  {
   "cell_type": "code",
   "execution_count": 271,
   "metadata": {},
   "outputs": [
    {
     "name": "stdout",
     "output_type": "stream",
     "text": [
      "(6506, 604) (6946, 604) (7068, 604)\n"
     ]
    }
   ],
   "source": [
    "serv_m = pd.merge(sub_m, services, on ='src_subject_id')\n",
    "serv_p = pd.merge(sub_p, services, on='src_subject_id')\n",
    "serv_c = pd.merge(sub_c, services, on='src_subject_id')\n",
    "print(serv_m.shape, serv_p.shape, serv_c.shape)"
   ]
  },
  {
   "cell_type": "code",
   "execution_count": 272,
   "metadata": {},
   "outputs": [
    {
     "name": "stdout",
     "output_type": "stream",
     "text": [
      "(1663, 52) (0, 52) (1767, 52)\n"
     ]
    }
   ],
   "source": [
    "meds_m = pd.merge(sub_m, meds, on='src_subject_id')\n",
    "meds_c = pd.merge(sub_c, meds, on='src_subject_id')\n",
    "meds_p = pd.merge(sub_p, meds, on='src_subject_id')\n",
    "print( meds_m.shape, meds_p.shape, meds_c.shape)"
   ]
  },
  {
   "cell_type": "code",
   "execution_count": 273,
   "metadata": {},
   "outputs": [
    {
     "name": "stdout",
     "output_type": "stream",
     "text": [
      "0\n",
      "0\n",
      "0\n"
     ]
    }
   ],
   "source": [
    "#check if any overlapping subjects \n",
    "print(serv_m['src_subject_id'].isin(serv_p['src_subject_id']).sum())\n",
    "print(serv_m['src_subject_id'].isin(serv_c['src_subject_id']).sum())\n",
    "print(serv_p['src_subject_id'].isin(serv_c['src_subject_id']).sum())"
   ]
  },
  {
   "cell_type": "markdown",
   "metadata": {},
   "source": [
    "### Med group"
   ]
  },
  {
   "cell_type": "code",
   "execution_count": 274,
   "metadata": {},
   "outputs": [],
   "source": [
    "test_sub = 'P1003'\n",
    "test_med = meds_m[meds_m['src_subject_id'] == test_sub]\n",
    "test_serv = serv_m[serv_m['src_subject_id'] == test_sub]"
   ]
  },
  {
   "cell_type": "code",
   "execution_count": 275,
   "metadata": {},
   "outputs": [
    {
     "data": {
      "text/plain": [
       "Index(['src_subject_id', 'trtname_x', 'collection_id', 'medse01_id',\n",
       "       'dataset_id', 'subjectkey', 'interview_date', 'interview_age', 'sex',\n",
       "       'site', 'trtname_y', 'mmvnum', 'visityn', 'mmday', 'mmdrug', 'mmdose',\n",
       "       'mmdaily', 'asispme', 'tics5', 'vocal', 'motor', 'simple', 'complex',\n",
       "       'single', 'mult', 'facial', 'othtic', 'ptawar', 'parawar', 'ticsev',\n",
       "       'se1anor', 'se2insom', 'se3sedat', 'se4irrit', 'se5dep', 'se6worry',\n",
       "       'se7tics', 'se8pick', 'se9stom', 'se10head', 'se11suic', 'se12toxc',\n",
       "       'se13hall', 'se14oth1', 'se15oth2', 'seseris', 'sedstrs', 'cmpengag',\n",
       "       'cmpimple', 'cmpmotiv', 'cmpoverl', 'collection_title'],\n",
       "      dtype='object')"
      ]
     },
     "execution_count": 275,
     "metadata": {},
     "output_type": "execute_result"
    }
   ],
   "source": [
    "test_m.keys()"
   ]
  },
  {
   "cell_type": "code",
   "execution_count": 276,
   "metadata": {},
   "outputs": [
    {
     "data": {
      "text/plain": [
       "0     2\n",
       "1     2\n",
       "2     3\n",
       "3     2\n",
       "4     2\n",
       "5     1\n",
       "6     2\n",
       "7     2\n",
       "8     2\n",
       "9     2\n",
       "10    2\n",
       "11    2\n",
       "12    1\n",
       "Name: sedstrs, dtype: object"
      ]
     },
     "execution_count": 276,
     "metadata": {},
     "output_type": "execute_result"
    }
   ],
   "source": [
    "test_m.sedstrs"
   ]
  },
  {
   "cell_type": "code",
   "execution_count": 277,
   "metadata": {},
   "outputs": [
    {
     "data": {
      "text/plain": [
       "Index(['src_subject_id', 'trtname', 'collection_id', 'scapijus01_id',\n",
       "       'dataset_id', 'subjectkey', 'interview_date', 'interview_age', 'sex',\n",
       "       'monthsbl',\n",
       "       ...\n",
       "       'glhitnum', 'glhitpc', 'glalthrs', 'glaltnm', 'glaladtn', 'glalldtn',\n",
       "       'glalbetn', 'version_form', 'asssca', 'collection_title'],\n",
       "      dtype='object', length=604)"
      ]
     },
     "execution_count": 277,
     "metadata": {},
     "output_type": "execute_result"
    }
   ],
   "source": [
    "test_serv.keys()"
   ]
  },
  {
   "cell_type": "code",
   "execution_count": 278,
   "metadata": {},
   "outputs": [
    {
     "data": {
      "text/plain": [
       "(11,)"
      ]
     },
     "execution_count": 278,
     "metadata": {},
     "output_type": "execute_result"
    }
   ],
   "source": [
    "test_serv[services_dict['sv_school_serv_any']].dropna().shape\n",
    "test_serv[services_dict['therapy_any']].dropna().shape"
   ]
  },
  {
   "cell_type": "code",
   "execution_count": 279,
   "metadata": {},
   "outputs": [
    {
     "name": "stdout",
     "output_type": "stream",
     "text": [
      "adhd_mon_visits  :  (0,)\n",
      "sv_school_serv_any  :  (8,)\n",
      "sv_room_spc_educ  :  (15,)\n",
      "sv_day_long_spec_educ  :  (11,)\n",
      "sv_speech_lang_th  :  (0,)\n",
      "sv_sec_school_adhd_ld  :  (0,)\n",
      "sv_school_couns  :  (12,)\n",
      "sv_gr_th  :  (0,)\n",
      "sv_ind_th_1  :  (0,)\n",
      "sv_after_school_treat_pg  :  (0,)\n",
      "sv_spec_end_treat_adhd_ld_beh  :  (0,)\n",
      "sv_tut_non_par  :  (0,)\n",
      "sv_rem_summ_school  :  (0,)\n",
      "sv_indiv_edu_plan  :  (3,)\n",
      "sv_school_serv_other  :  (0,)\n",
      "therapy_any  :  (11,)\n",
      "th_aa_na  :  (11,)\n",
      "th_mta_treat_pg  :  (11,)\n",
      "th_we_treat_pg  :  (11,)\n",
      "th_after_school_treat_pg  :  (11,)\n",
      "th_soc_skills  :  (11,)\n",
      "th_recre  :  (11,)\n",
      "th_drug  :  (11,)\n",
      "th_group  :  (11,)\n",
      "th_indiv:  :  (11,)\n",
      "th_non_mda_summer_treat_pg  :  (11,)\n",
      "th_yth_shelter  :  (11,)\n",
      "th_non_milit_bootcamp  :  (11,)\n"
     ]
    }
   ],
   "source": [
    "for key, val in zip( services_dict.keys(), services_dict.values()): \n",
    "    print(key , ' : ', test_serv[val].dropna().shape)"
   ]
  },
  {
   "cell_type": "code",
   "execution_count": 280,
   "metadata": {},
   "outputs": [
    {
     "data": {
      "text/plain": [
       "0     NaN\n",
       "1     NaN\n",
       "2     NaN\n",
       "3     NaN\n",
       "4     NaN\n",
       "5     NaN\n",
       "6     NaN\n",
       "7     NaN\n",
       "8     NaN\n",
       "9     NaN\n",
       "10    NaN\n",
       "11    NaN\n",
       "12    NaN\n",
       "13    NaN\n",
       "14    NaN\n",
       "15    NaN\n",
       "16    NaN\n",
       "17    NaN\n",
       "18    NaN\n",
       "19    NaN\n",
       "20    NaN\n",
       "21    NaN\n",
       "22    NaN\n",
       "23    NaN\n",
       "24    NaN\n",
       "25    NaN\n",
       "26    NaN\n",
       "27    NaN\n",
       "28    NaN\n",
       "29    NaN\n",
       "30    NaN\n",
       "31    NaN\n",
       "32    NaN\n",
       "33    NaN\n",
       "34    NaN\n",
       "35    NaN\n",
       "36    NaN\n",
       "37    NaN\n",
       "38    NaN\n",
       "39    NaN\n",
       "40    NaN\n",
       "Name: monyn, dtype: object"
      ]
     },
     "execution_count": 280,
     "metadata": {},
     "output_type": "execute_result"
    }
   ],
   "source": [
    "test_serv['monyn']"
   ]
  },
  {
   "cell_type": "code",
   "execution_count": null,
   "metadata": {},
   "outputs": [],
   "source": []
  },
  {
   "cell_type": "code",
   "execution_count": null,
   "metadata": {},
   "outputs": [],
   "source": []
  },
  {
   "cell_type": "code",
   "execution_count": null,
   "metadata": {},
   "outputs": [],
   "source": []
  }
 ],
 "metadata": {
  "kernelspec": {
   "display_name": "abcd",
   "language": "python",
   "name": "python3"
  },
  "language_info": {
   "codemirror_mode": {
    "name": "ipython",
    "version": 3
   },
   "file_extension": ".py",
   "mimetype": "text/x-python",
   "name": "python",
   "nbconvert_exporter": "python",
   "pygments_lexer": "ipython3",
   "version": "3.10.0"
  }
 },
 "nbformat": 4,
 "nbformat_minor": 2
}
