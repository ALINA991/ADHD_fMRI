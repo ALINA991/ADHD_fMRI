{
 "cells": [
  {
   "cell_type": "code",
   "execution_count": 2,
   "metadata": {},
   "outputs": [],
   "source": [
    "from pathlib import Path \n",
    "import numpy as np \n",
    "import matplotlib.pyplot as plt \n",
    "import pandas as pd\n",
    "from collections import OrderedDict\n",
    "import sys\n",
    "import os\n",
    "import seaborn as sns\n",
    "import researchpy as rp\n",
    "import statsmodels.formula.api as smf\n",
    "import scipy.stats as stat\n",
    "from sklearn.preprocessing import StandardScaler\n",
    "from numpy.linalg import LinAlgError\n",
    "\n",
    "#sys.path.append('/Users/alina/Desktop/MIT/code/ADHD/MTA/helper')\n",
    "from helper import rr, prep, var_dict\n",
    "\n",
    "%load_ext autoreload\n",
    "%autoreload 2"
   ]
  },
  {
   "cell_type": "code",
   "execution_count": null,
   "metadata": {},
   "outputs": [],
   "source": [
    "if Path('/Volumes/Samsung_T5/MIT/mta').exists():\n",
    "    data_root =     '/Volumes/Samsung_T5/MIT/mta'\n",
    "    data_derived  = '/Volumes/Samsung_T5/MIT/mta/output/derived_data'\n",
    "else: \n",
    "    data_root = '/Users/alina/Desktop/MIT/code/data'\n",
    "    data_derived  = '/Users/alina/Desktop/MIT/code/data/output/derived_data'\n",
    "#os.listdir(data_root)\n"
   ]
  },
  {
   "cell_type": "code",
   "execution_count": null,
   "metadata": {},
   "outputs": [],
   "source": [
    "baseline_var = ['src_subject_id', 'interview_date', 'interview_age', 'sex', 'site', 'days_baseline']\n",
    "dtypes_baseline = { 'src_subject_id' : 'str',\n",
    "                    'interview_date': 'str' , \n",
    "                    'interview_age' : 'int64' ,\n",
    "                    'sex' : 'str', \n",
    "                    'site' : 'int64' ,\n",
    "                    'days_baseline':  'int64',\n",
    "                    'version_form': 'str'}\n",
    "version_form = ['version_form']"
   ]
  },
  {
   "cell_type": "markdown",
   "metadata": {},
   "source": [
    "### Data requirements\n",
    "- baseline values \n",
    "- 14 month values for same subject "
   ]
  },
  {
   "cell_type": "code",
   "execution_count": null,
   "metadata": {},
   "outputs": [
    {
     "data": {
      "text/plain": [
       "['diagpsx_p301.txt',\n",
       " '.DS_Store',\n",
       " 'diagpsx_p501.txt',\n",
       " 'snap01.txt',\n",
       " 'scid01.txt',\n",
       " 'diagpsx_p701.txt',\n",
       " 'schoolhx01.txt',\n",
       " 'diagpsx01.txt',\n",
       " 'cisp_p01.txt',\n",
       " 'debrief1401.txt',\n",
       " 'wiat_iiip201.txt',\n",
       " 'pcrc01.txt',\n",
       " 'diagpsx_p201.txt',\n",
       " 'cbcl01.txt',\n",
       " 'diagpsx_p601.txt',\n",
       " 'output',\n",
       " 'health01.txt',\n",
       " 'diagpsx_p401.txt',\n",
       " 'scapijus01.txt',\n",
       " 'img',\n",
       " 'ssrs01.txt',\n",
       " 'expect01.txt',\n",
       " 'demgr01.txt',\n",
       " 'files',\n",
       " 'debrief01.txt',\n",
       " 'masc_p01.txt',\n",
       " 'medse01.txt',\n",
       " 'bdi01.txt']"
      ]
     },
     "execution_count": 4,
     "metadata": {},
     "output_type": "execute_result"
    }
   ],
   "source": [
    "os.listdir(data_root)"
   ]
  },
  {
   "cell_type": "code",
   "execution_count": null,
   "metadata": {},
   "outputs": [],
   "source": [
    "\n",
    "snap_file = 'snap01.txt'\n",
    "ssrs_file = 'ssrs01.txt'\n",
    "masc_file = 'masc_p01.txt'\n",
    "parent_child_file = 'pcrc01.txt'\n",
    "wechsler_file = 'wiat_iiip201.txt'\n",
    "\n",
    "treat_group_file = 'treatment_groups.csv'\n",
    "treat_group = pd.read_csv(Path(data_derived, treat_group_file))"
   ]
  },
  {
   "cell_type": "code",
   "execution_count": null,
   "metadata": {},
   "outputs": [
    {
     "name": "stdout",
     "output_type": "stream",
     "text": [
      "all columns\n",
      "(14580, 160)\n",
      "Success\n",
      "(14580, 161)\n",
      "No timepoints specifed. Using (46,168,319,500) by default.\n"
     ]
    }
   ],
   "source": [
    "\n",
    "\n",
    "snap = prep.get_data(Path(data_root, snap_file), columns = None, treat_group= treat_group, set_dtypes= True, version_form= True, split_timepoints= True)\n"
   ]
  },
  {
   "cell_type": "code",
   "execution_count": null,
   "metadata": {},
   "outputs": [
    {
     "data": {
      "text/plain": [
       "0        P1001\n",
       "1        P1001\n",
       "6        P1002\n",
       "7        P1002\n",
       "8        P1002\n",
       "         ...  \n",
       "14549    P1864\n",
       "14553    P1865\n",
       "14558    P1866\n",
       "14564    P1867\n",
       "14572    P1868\n",
       "Name: src_subject_id, Length: 3368, dtype: object"
      ]
     },
     "execution_count": 7,
     "metadata": {},
     "output_type": "execute_result"
    }
   ],
   "source": [
    "snap['b'].src_subject_id"
   ]
  },
  {
   "cell_type": "code",
   "execution_count": null,
   "metadata": {},
   "outputs": [
    {
     "data": {
      "text/plain": [
       "0        P1001\n",
       "1        P1001\n",
       "6        P1002\n",
       "7        P1002\n",
       "8        P1002\n",
       "         ...  \n",
       "14549    P1864\n",
       "14553    P1865\n",
       "14558    P1866\n",
       "14564    P1867\n",
       "14572    P1868\n",
       "Name: src_subject_id, Length: 4348, dtype: object"
      ]
     },
     "execution_count": 8,
     "metadata": {},
     "output_type": "execute_result"
    }
   ],
   "source": [
    "snap['14'].src_subject_id"
   ]
  },
  {
   "cell_type": "code",
   "execution_count": null,
   "metadata": {},
   "outputs": [],
   "source": [
    "snap= pd.read_csv(Path(data_root, snap_file), delimiter='\\t', skiprows=[1]).dropna(subset='days_baseline').drop_duplicates()"
   ]
  },
  {
   "cell_type": "code",
   "execution_count": null,
   "metadata": {},
   "outputs": [
    {
     "data": {
      "text/plain": [
       "src_subject_id    object\n",
       "trtname           object\n",
       "dtype: object"
      ]
     },
     "execution_count": 10,
     "metadata": {},
     "output_type": "execute_result"
    }
   ],
   "source": [
    "treat_group.dtypes"
   ]
  },
  {
   "cell_type": "code",
   "execution_count": null,
   "metadata": {},
   "outputs": [
    {
     "data": {
      "text/plain": [
       "dtype('O')"
      ]
     },
     "execution_count": 11,
     "metadata": {},
     "output_type": "execute_result"
    }
   ],
   "source": [
    "snap.src_subject_id.dtypes"
   ]
  },
  {
   "cell_type": "code",
   "execution_count": null,
   "metadata": {},
   "outputs": [
    {
     "data": {
      "text/plain": [
       "False"
      ]
     },
     "execution_count": 12,
     "metadata": {},
     "output_type": "execute_result"
    }
   ],
   "source": [
    "snap.src_subject_id.any() in treat_group"
   ]
  },
  {
   "cell_type": "code",
   "execution_count": null,
   "metadata": {},
   "outputs": [],
   "source": []
  },
  {
   "cell_type": "code",
   "execution_count": null,
   "metadata": {},
   "outputs": [],
   "source": []
  },
  {
   "cell_type": "code",
   "execution_count": null,
   "metadata": {},
   "outputs": [],
   "source": []
  },
  {
   "cell_type": "code",
   "execution_count": null,
   "metadata": {},
   "outputs": [],
   "source": []
  }
 ],
 "metadata": {
  "kernelspec": {
   "display_name": "abcd",
   "language": "python",
   "name": "python3"
  },
  "language_info": {
   "codemirror_mode": {
    "name": "ipython",
    "version": 3
   },
   "file_extension": ".py",
   "mimetype": "text/x-python",
   "name": "python",
   "nbconvert_exporter": "python",
   "pygments_lexer": "ipython3",
   "version": "3.10.15"
  }
 },
 "nbformat": 4,
 "nbformat_minor": 2
}
