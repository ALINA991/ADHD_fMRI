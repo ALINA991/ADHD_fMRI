{
 "cells": [
  {
   "cell_type": "code",
   "execution_count": 589,
   "metadata": {},
   "outputs": [],
   "source": [
    "from pathlib import Path \n",
    "import numpy as np \n",
    "import matplotlib.pyplot as plt \n",
    "import pandas as pd\n",
    "from collections import OrderedDict\n",
    "import sys\n",
    "import os\n",
    "import seaborn as sns"
   ]
  },
  {
   "cell_type": "code",
   "execution_count": 590,
   "metadata": {},
   "outputs": [],
   "source": [
    "data_root = '/Volumes/Samsung_T5/MIT/mta'\n",
    "#os.listdir(data_root)"
   ]
  },
  {
   "cell_type": "code",
   "execution_count": 591,
   "metadata": {},
   "outputs": [
    {
     "name": "stderr",
     "output_type": "stream",
     "text": [
      "/var/folders/hf/frc4nxb532j7gqr3_36l6kmh0000gn/T/ipykernel_68434/2125749166.py:8: DtypeWarning: Columns (0,1,2,5,6,8,9,10,11,12,13,14,15,16,17,18,19,20,21,22,23,24,25,26,27,28,29,30,31,32,33,34,35,36,37,38,39,40,41,42,43,44,45,46,47,48,49,50,51,52,53,54,55,56,57,58,59,60,61,62,63,64,65,66,67,68,69,70,71,72,73,74,75,76,77,78,79,80,81,82,83,84,85,86,87,88,89,90,91,92,93,94,95,96,97,98,99,100,101,102,103,104,105,106,107,108,109,110,111,112,113,114,115,116,117,118,119,120,121,122,123,124,125,126,127,128,129,130,131,132,133,134,135,136,137,138,139,140,141,142,143,144,145,146,147,148,149,150,151,152,153,154,155,156,157,158,159,160,161,162,163,164,165,166,167,168,169,170,171,172,173,174,175,176,177,178,179,180,181,182,183,184,185,186,187,188,189,190,191,192,193,194,195,196,197,198,199,200,201,202,203,204,205,206,207,208,209,210,211,212,213,214,215,216,217,218,219,220,221,222,223,224,225,226,227,228,229,230,231,232,233,234,235,236,237,238,239,240,241,242,243,244,245,246,247,248,249,250,251,252,253,254,255,256,257,258,259,260,261,262,263,264,265,266,267,268,269,270,271,272,273,274,275,276,277,278,279,280,281,282,283,284,285,286,287,288,289,290,291,292,293,294,295,296,297,298,299,300,301,302,303,304,305,306,307,308,309,310,311,312,313,314,315,316,317,318,319,320,321,322,323,324,325,326,327,328,329,330,331,332,333,334,335,336,337,338,339,340,341,342,343,344,345,346,347,348,349,350,351,352,353,354,355,356,357,358,359,360,361,362,363,364,365,366,367,368,369,370,371,372,373,374,375,376,377,378,379,380,381,382,383,384,385,386,387,388,389,390,391,392,393,394,395,396,397,398,399,400,401,402,403,404,405,406,407,408,409,410,411,412,413,414,415,416,417,418,419,420,421,422,423,424,425,426,427,428,429,430,431,432,433,434,435,436,437,438,439,440,441,442,443,444,445,446,447,448,449,450,451,452,453,454,455,456,457,458,459,460,461,462,463,464,465,466,467,468,469,470,471,472,473,474,475,476,477,478,479,480,481,482,483,484,485,486,487,488,489,490,491,492,493,494,495,496,497,498,499,500,501,502,503,504,505,506,507,508,509,510,511,512,513,514,515,516,517,518,519,520,521,522,523,524,525,526,527,528,529,530,531,532,533,534,535,536,537,538,539,540,541,542,543,544,545,546,547,548,549,550,551,552,553,554,555,556,557,558,559,560,561,562,563,564,565,566,567,568,569,570,571,572,573,574,575,576,577,578,579,580,581,582,583,584,585,586,587,588,589,590,591,592,593,594,595,596,597,598,599) have mixed types. Specify dtype option on import or set low_memory=False.\n",
      "  services = pd.read_csv(Path(data_root, services_file), delimiter='\\t')\n"
     ]
    },
    {
     "data": {
      "text/plain": [
       "Index(['subjectkey', 'src_subject_id', 'interview_age', 'interview_date',\n",
       "       'gender', 'site', 'sjtyp', 'trtname', 'cmed', 'cteach', 'cdocs',\n",
       "       'ctotal'],\n",
       "      dtype='object')"
      ]
     },
     "execution_count": 591,
     "metadata": {},
     "output_type": "execute_result"
    }
   ],
   "source": [
    "\n",
    "\n",
    "services_file = 'scapijus01.txt'\n",
    "meds_file  = 'medse01.txt'\n",
    "end_treat_file = 'debrief1401.txt'\n",
    "cost_file = 'Collection_Documents/Derived Variables/B Excel Database/COST.xlsx' # find subject group assignment here \n",
    "\n",
    "#extract treatment group from cost excel file in supp data \n",
    "\n",
    "services = pd.read_csv(Path(data_root, services_file), delimiter='\\t')\n",
    "meds = pd.read_csv(Path(data_root, meds_file), delimiter='\\t')\n",
    "end_treat = pd.read_csv(Path(data_root, end_treat_file), delimiter='\\t')\n",
    "cost = pd.read_excel(Path(data_root, cost_file))\n",
    "\n",
    "# colums are uppercase in original cost file \n",
    "cost_cols = [col.lower() for col in cost.columns]\n",
    "cost.columns = cost_cols\n",
    "cost.keys()\n"
   ]
  },
  {
   "cell_type": "code",
   "execution_count": 592,
   "metadata": {},
   "outputs": [],
   "source": [
    "#drop data with no date since I cannot interpret it \n",
    "services = services.dropna(subset =['interview_date'])\n",
    "meds = meds.dropna(subset=['interview_date'])\n",
    "end_treat = end_treat.dropna(subset=['interview_date'])"
   ]
  },
  {
   "cell_type": "code",
   "execution_count": 593,
   "metadata": {},
   "outputs": [
    {
     "name": "stdout",
     "output_type": "stream",
     "text": [
      "0\n",
      "0\n",
      "0\n"
     ]
    }
   ],
   "source": [
    "# verify no NaN left in interview date \n",
    "print(services['interview_date'].isna().sum())\n",
    "print(meds['interview_date'].isna().sum())\n",
    "print(end_treat['interview_date'].isna().sum())"
   ]
  },
  {
   "cell_type": "code",
   "execution_count": 594,
   "metadata": {},
   "outputs": [],
   "source": [
    "services = services.drop(services.index[0])\n",
    "meds = meds.drop(meds.index[0])\n",
    "end_treat = end_treat.drop(end_treat.index[0])"
   ]
  },
  {
   "cell_type": "code",
   "execution_count": 595,
   "metadata": {},
   "outputs": [],
   "source": [
    "services['sex'] = services['sex'].fillna('Not specified')\n",
    "meds['sex'] = meds['sex'].fillna('Not specified')\n",
    "end_treat['sex'] = end_treat['sex'].fillna('Not specified')"
   ]
  },
  {
   "cell_type": "code",
   "execution_count": 596,
   "metadata": {},
   "outputs": [],
   "source": [
    "\n",
    "# transform date into datetime objects \n",
    "serv_date = pd.to_datetime(services['interview_date'], format='%m/%d/%Y')\n",
    "meds_date = pd.to_datetime(meds['interview_date'], format='%m/%d/%Y')\n",
    "end_treat_date = pd.to_datetime(end_treat['interview_date'], format='%m/%d/%Y')\n",
    "\n",
    "# Instead of formatting to MM/YYYY string, adjust the dates to the first of each month\n",
    "services['interview_date'] = serv_date.dt.to_period('M').dt.to_timestamp()\n",
    "meds['interview_date'] = meds_date.dt.to_period('M').dt.to_timestamp()\n",
    "end_treat['interview_date'] = end_treat_date.dt.to_period('M').dt.to_timestamp()"
   ]
  },
  {
   "cell_type": "code",
   "execution_count": 597,
   "metadata": {},
   "outputs": [],
   "source": [
    "#services.loc[1:,'interview_date'] = pd.to_datetime(serv_date).dt.strftime('%m/%Y')\n",
    "#meds.loc[1:,'interview_date']= pd.to_datetime(meds_date).dt.strftime('%m/%Y')\n",
    "#end_treat.loc[1:,'interview_date'] = pd.to_datetime(end_treat_date).dt.strftime('%m/%Y')"
   ]
  },
  {
   "cell_type": "code",
   "execution_count": 598,
   "metadata": {},
   "outputs": [
    {
     "data": {
      "text/plain": [
       "Index(['collection_id', 'medse01_id', 'dataset_id', 'subjectkey',\n",
       "       'src_subject_id', 'interview_date', 'interview_age', 'sex', 'site',\n",
       "       'trtname', 'mmvnum', 'visityn', 'mmday', 'mmdrug', 'mmdose', 'mmdaily',\n",
       "       'asispme', 'tics5', 'vocal', 'motor', 'simple', 'complex', 'single',\n",
       "       'mult', 'facial', 'othtic', 'ptawar', 'parawar', 'ticsev', 'se1anor',\n",
       "       'se2insom', 'se3sedat', 'se4irrit', 'se5dep', 'se6worry', 'se7tics',\n",
       "       'se8pick', 'se9stom', 'se10head', 'se11suic', 'se12toxc', 'se13hall',\n",
       "       'se14oth1', 'se15oth2', 'seseris', 'sedstrs', 'cmpengag', 'cmpimple',\n",
       "       'cmpmotiv', 'cmpoverl', 'collection_title'],\n",
       "      dtype='object')"
      ]
     },
     "execution_count": 598,
     "metadata": {},
     "output_type": "execute_result"
    }
   ],
   "source": [
    "meds.keys()"
   ]
  },
  {
   "cell_type": "code",
   "execution_count": 599,
   "metadata": {},
   "outputs": [
    {
     "data": {
      "text/plain": [
       "array(['0', '5x5x5', '7.5x7.5x5', '7.5x7.5x0', '10x10x2.5', '12.5x12.5x5',\n",
       "       '10x10x5', '2.5x0x0', '5x0x0', '2.5x2.5x0', '5x2.5x0', '5x3.75x0',\n",
       "       '5x5x0', '7.5x5x0', '12.5x10x2.5', '15x10x5', '37.5x0',\n",
       "       '37.5x18.75', '10x0x0', nan, '25x25', '15x15x10', '20x20x10',\n",
       "       '20x20x15', '20x20x20', '20x25x20', '7.5x7.5x7.5x7.5',\n",
       "       '20srx7.5x7.5x7.5x7.5', '10x10x7.5x7.5', '10x10x10x7.5',\n",
       "       '12.5x12.5x10x10', '20sr+5x0x0', '20sr+10x0x0', '40srx0x0',\n",
       "       '15x15x5', '20x40srx0', '10x10x10', '25x25x10', '10x5x5x5',\n",
       "       '10x10x0', '10x10x7.5', '10x10x5x5', '10x20srx5', '5x2.5x2.5',\n",
       "       '20sr+5x0x10', '5x5x2.5', '60x60', '100x75', '0.5', '.75x.75',\n",
       "       '25x15x10', '10x10x15', '20srx20sr', '20x15x10', '15x15x7.5',\n",
       "       '15x15x2.5', '17.5x17.5x10', '25x20x10', '20x20x0', '25x25x0',\n",
       "       '20x20srx10', '20x10x10', '20x15x15', '18.75x0', '20sr+5',\n",
       "       '10x20srx0', '20srx0x0', '20srx0x5', '7.5x7.5x7.5', '12.5x10x10',\n",
       "       '12.5x12.5x10', '15x10x10', '56.25x0', '75x0', '10x15x5', '10x5x5',\n",
       "       '15x15x15', '5x5.10', '20sr+5x0x5', '10srx0x0', '2.5x2.5x2.5',\n",
       "       '20srx0x10', '15x10x0', '15x15x0', '20srx0x2.5', '0x10x0',\n",
       "       '40srx5x0', '40srx10x0', '40srx7.5x0', '40srx0x5', '12.5x12.5x0',\n",
       "       '93.75x0', '112.5x0', '25x25x15', '10x5x10', '20srx5x5', '10x5x5x',\n",
       "       '20srx10x0', '10x0x5', '20srx20srx0', '20sr+10x20sr+10', '20x20x5',\n",
       "       '12.5x10x7.5', '30x25x15', '40srx20srx0', '20srx5x0', '30spx0',\n",
       "       '40spx0', '40srx0x10', '75x37.5', '20srx10x10x10', '15+20srx15x5',\n",
       "       '10+20srx15x5', '0x10x5', '25x20x15', '20x10x0', '20x0x0',\n",
       "       '30x30x10', '20sr+10x10x10', '20sr+10x10x0', '20sr+15x10x0',\n",
       "       '10x15x10', '20x20x10x5', '20x15x5', '12.5x12.5x7.5', '75x0x0',\n",
       "       '15x20srx0', '20sr+15x15x10', '20sr+10x15x10', '20sr+5x10x10',\n",
       "       '20sr+5x10x5', '5x10x0', '5x5x7.5', '5spx0x0', '15spx0x0',\n",
       "       '20spx0x0', '7.5x7.5.2.5', '5x7.5x0', '5x7.5x5', '0x0x10',\n",
       "       '5x5x15', '15x15x12.5', '15x15.15', '10spx0x0', '15x0x10',\n",
       "       '15x0x15', '10x0x15', '10x0x10', '7.5x0.7.5', '5x0x5',\n",
       "       '10x10x20sr', '2.5x2.5', '10spx0x2.5', '5sp+2.5x0x0', '40sr+5x5x5',\n",
       "       '20x20srx7.5', '25x25x25', '50x50', '50x75', '10x5x0', '15x10x5x5',\n",
       "       '10x5x10x10', '17.5x17.5x7.5', '20x17.5x7.5', '5x10x5',\n",
       "       '17.5x17.5x15', '20sr+5x20sr+5', '40sr+5x20srx5', '10srx10srx0',\n",
       "       '10srx5srx0', '7.5x7.5x2.5', '5x5x10', '12.5x12.5x12.5',\n",
       "       '7.5x5x12.5x12.5', '12.5x12.5', '15x15x10x10', '15x15x15x15',\n",
       "       '25x0x25', '25x0x50', '50x0x50', '75x75', '15+20srx0x0',\n",
       "       '7.5x7.5x10', '15x10x7.5', '10x10x7.5x5', '10x10x20x10',\n",
       "       '10x10x20x15', '15x20srx10x10', '20sr+15x10x10', '20x20srx10x10',\n",
       "       '20sr+20x10x10', '5srx0x0', '5sr+2.5x0x0', '100x100x0',\n",
       "       '150x150x0', '10x5x5x10', '5x10x10x5', '20sr+10x0x10'],\n",
       "      dtype=object)"
      ]
     },
     "execution_count": 599,
     "metadata": {},
     "output_type": "execute_result"
    }
   ],
   "source": [
    "meds['mmdose'].unique()"
   ]
  },
  {
   "cell_type": "code",
   "execution_count": 600,
   "metadata": {},
   "outputs": [],
   "source": [
    "# base info on subject (age, gender, date)\n",
    "min_sub_info = ['subjectkey']\n",
    "subject_info_col = ['subjectkey',  'interview_date', 'sex']\n"
   ]
  },
  {
   "cell_type": "code",
   "execution_count": 601,
   "metadata": {},
   "outputs": [
    {
     "data": {
      "text/plain": [
       "(579,)"
      ]
     },
     "execution_count": 601,
     "metadata": {},
     "output_type": "execute_result"
    }
   ],
   "source": [
    "treat_group_col = min_sub_info.copy()\n",
    "treat_group_col.append('trtname')\n",
    "\n",
    "treat_group = cost[treat_group_col]\n",
    "treat_group_names = cost['trtname'].unique()[1:]\n",
    "treat_group['subjectkey'].unique().shape"
   ]
  },
  {
   "cell_type": "code",
   "execution_count": 602,
   "metadata": {},
   "outputs": [
    {
     "name": "stdout",
     "output_type": "stream",
     "text": [
      "(144, 2) (145, 2) (144, 2)\n"
     ]
    },
    {
     "data": {
      "text/plain": [
       "433"
      ]
     },
     "execution_count": 602,
     "metadata": {},
     "output_type": "execute_result"
    }
   ],
   "source": [
    "sub_m = treat_group.query(\"trtname == 'M'\") #medi\n",
    "sub_c = treat_group.query(\"trtname == 'C'\") #'combined'\n",
    "sub_p = treat_group.query(\"trtname == 'P'\") # psychosocial \n",
    "print(sub_m.shape, sub_c.shape, sub_p.shape)\n",
    "sub_m.shape[0] + sub_p.shape[0] + sub_c.shape[0]"
   ]
  },
  {
   "cell_type": "code",
   "execution_count": 603,
   "metadata": {},
   "outputs": [],
   "source": [
    "#boolean vars if service has been provided \n",
    "# 1 = yes, 2 = no \n",
    "\n",
    "\n",
    "services_dict = { 'adhd_mon_visits' : 'monyn', # mediation monitoring visits \n",
    "                 'sv_school_serv_any' : 'ynsvc', # any school service \n",
    "                 'sv_room_spc_educ' : 'yn12', \n",
    "                 'sv_day_long_spec_educ' : 'yn13', \n",
    "                 #'sv_occup_th' : 'yn13_1', #1\n",
    "                 'sv_speech_lang_th' : 'yn71',\n",
    "                 'sv_sec_school_adhd_ld': 'yn101', \n",
    "                 'sv_school_couns' : 'yn14', \n",
    "                 'sv_gr_th': 'yn62',\n",
    "                 'sv_ind_th_1' : 'yn63',\n",
    "                 #'sv_spec_help_classroom': 'yn11_1', # no data \n",
    "                 'sv_after_school_treat_pg': 'yn24', \n",
    "                 'sv_spec_end_treat_adhd_ld_beh': 'yn51',\n",
    "                 'sv_tut_non_par' : 'yn67', \n",
    "                 'sv_rem_summ_school' : 'yn93',\n",
    "                 'sv_indiv_edu_plan' : 'yn65', \n",
    "                 'sv_school_serv_other': 'yn99',\n",
    "                 'therapy_any': 'ynthe', # any therapy service \n",
    "                 'th_aa_na': 'yn1',\n",
    "                 'th_mta_treat_pg': 'yn2',\n",
    "                 'th_we_treat_pg': 'yn3',\n",
    "                 'th_after_school_treat_pg': 'yn4', \n",
    "                 'th_soc_skills': 'yn5',\n",
    "                 'th_recre' : 'yn6',\n",
    "                 'th_drug': 'yn7', \n",
    "                 'th_group': 'yn8', \n",
    "                 'th_indiv:' : 'yn9',\n",
    "                 'th_non_mda_summer_treat_pg': 'yn10', \n",
    "                 #'th_psyt_hosp': 'yn11_2',  # no data \n",
    "                 #'th_board_school': 'yn12_1', \n",
    "                 #'th_res_fam': 'yn13_2',\n",
    "                 #'th_home_case_mang': 'yn14_1', \n",
    "                 #'th_24_7_treat' : 'yn15_1', \n",
    "                 'th_yth_shelter': 'yn16', \n",
    "                 'th_non_milit_bootcamp': 'yn17'}"
   ]
  },
  {
   "cell_type": "code",
   "execution_count": 604,
   "metadata": {},
   "outputs": [
    {
     "data": {
      "text/plain": [
       "1               0\n",
       "2               0\n",
       "3               0\n",
       "4               0\n",
       "5               0\n",
       "          ...    \n",
       "3427     20x20x10\n",
       "3428      5srx0x0\n",
       "3429     20srx0x5\n",
       "3430     20srx0x5\n",
       "3431    20srx10x0\n",
       "Name: mmdose, Length: 3431, dtype: object"
      ]
     },
     "execution_count": 604,
     "metadata": {},
     "output_type": "execute_result"
    }
   ],
   "source": [
    "# extract medication and dose \n",
    "drug_cols = subject_info_col.copy()\n",
    "drug_append = ['mmdrug', 'mmdose']\n",
    "drug_cols = np.concatenate((drug_cols, drug_append))\n",
    "\n",
    "drugs = meds[drug_cols]\n",
    "drug_names = meds['mmdrug'].unique()[1:] # drop var description\n",
    "drugs['mmdose']"
   ]
  },
  {
   "cell_type": "code",
   "execution_count": 605,
   "metadata": {},
   "outputs": [
    {
     "name": "stderr",
     "output_type": "stream",
     "text": [
      "/var/folders/hf/frc4nxb532j7gqr3_36l6kmh0000gn/T/ipykernel_68434/2276784209.py:1: SettingWithCopyWarning: \n",
      "A value is trying to be set on a copy of a slice from a DataFrame.\n",
      "Try using .loc[row_indexer,col_indexer] = value instead\n",
      "\n",
      "See the caveats in the documentation: https://pandas.pydata.org/pandas-docs/stable/user_guide/indexing.html#returning-a-view-versus-a-copy\n",
      "  drugs['mmdose'] = drugs['mmdose'].replace(to_replace=r'[^\\d]x', value='', regex=True)\n"
     ]
    }
   ],
   "source": [
    "drugs['mmdose'] = drugs['mmdose'].replace(to_replace=r'[^\\d]x', value='', regex=True)\n"
   ]
  },
  {
   "cell_type": "code",
   "execution_count": 606,
   "metadata": {},
   "outputs": [
    {
     "data": {
      "text/plain": [
       "1              0\n",
       "2              0\n",
       "3              0\n",
       "4              0\n",
       "5              0\n",
       "          ...   \n",
       "3427    20x20x10\n",
       "3428       5s0x0\n",
       "3429      20s0x5\n",
       "3430      20s0x5\n",
       "3431     20s10x0\n",
       "Name: mmdose, Length: 3431, dtype: object"
      ]
     },
     "execution_count": 606,
     "metadata": {},
     "output_type": "execute_result"
    }
   ],
   "source": [
    "drugs['mmdose']"
   ]
  },
  {
   "cell_type": "code",
   "execution_count": 607,
   "metadata": {},
   "outputs": [
    {
     "name": "stdout",
     "output_type": "stream",
     "text": [
      "(3431, 5) (3010, 5)\n"
     ]
    },
    {
     "name": "stderr",
     "output_type": "stream",
     "text": [
      "/var/folders/hf/frc4nxb532j7gqr3_36l6kmh0000gn/T/ipykernel_68434/512508893.py:10: SettingWithCopyWarning: \n",
      "A value is trying to be set on a copy of a slice from a DataFrame.\n",
      "Try using .loc[row_indexer,col_indexer] = value instead\n",
      "\n",
      "See the caveats in the documentation: https://pandas.pydata.org/pandas-docs/stable/user_guide/indexing.html#returning-a-view-versus-a-copy\n",
      "  filtered_drugs['mmdose'] = filtered_drugs['mmdose'].str.replace('sr', '')\n",
      "/var/folders/hf/frc4nxb532j7gqr3_36l6kmh0000gn/T/ipykernel_68434/512508893.py:15: SettingWithCopyWarning: \n",
      "A value is trying to be set on a copy of a slice from a DataFrame.\n",
      "Try using .loc[row_indexer,col_indexer] = value instead\n",
      "\n",
      "See the caveats in the documentation: https://pandas.pydata.org/pandas-docs/stable/user_guide/indexing.html#returning-a-view-versus-a-copy\n",
      "  drugs[['Morning', 'Midday', 'Evening', 'Night']] = (\n",
      "/var/folders/hf/frc4nxb532j7gqr3_36l6kmh0000gn/T/ipykernel_68434/512508893.py:15: SettingWithCopyWarning: \n",
      "A value is trying to be set on a copy of a slice from a DataFrame.\n",
      "Try using .loc[row_indexer,col_indexer] = value instead\n",
      "\n",
      "See the caveats in the documentation: https://pandas.pydata.org/pandas-docs/stable/user_guide/indexing.html#returning-a-view-versus-a-copy\n",
      "  drugs[['Morning', 'Midday', 'Evening', 'Night']] = (\n",
      "/var/folders/hf/frc4nxb532j7gqr3_36l6kmh0000gn/T/ipykernel_68434/512508893.py:15: SettingWithCopyWarning: \n",
      "A value is trying to be set on a copy of a slice from a DataFrame.\n",
      "Try using .loc[row_indexer,col_indexer] = value instead\n",
      "\n",
      "See the caveats in the documentation: https://pandas.pydata.org/pandas-docs/stable/user_guide/indexing.html#returning-a-view-versus-a-copy\n",
      "  drugs[['Morning', 'Midday', 'Evening', 'Night']] = (\n",
      "/var/folders/hf/frc4nxb532j7gqr3_36l6kmh0000gn/T/ipykernel_68434/512508893.py:15: SettingWithCopyWarning: \n",
      "A value is trying to be set on a copy of a slice from a DataFrame.\n",
      "Try using .loc[row_indexer,col_indexer] = value instead\n",
      "\n",
      "See the caveats in the documentation: https://pandas.pydata.org/pandas-docs/stable/user_guide/indexing.html#returning-a-view-versus-a-copy\n",
      "  drugs[['Morning', 'Midday', 'Evening', 'Night']] = (\n"
     ]
    },
    {
     "data": {
      "text/html": [
       "<div>\n",
       "<style scoped>\n",
       "    .dataframe tbody tr th:only-of-type {\n",
       "        vertical-align: middle;\n",
       "    }\n",
       "\n",
       "    .dataframe tbody tr th {\n",
       "        vertical-align: top;\n",
       "    }\n",
       "\n",
       "    .dataframe thead th {\n",
       "        text-align: right;\n",
       "    }\n",
       "</style>\n",
       "<table border=\"1\" class=\"dataframe\">\n",
       "  <thead>\n",
       "    <tr style=\"text-align: right;\">\n",
       "      <th></th>\n",
       "      <th>subjectkey</th>\n",
       "      <th>interview_date</th>\n",
       "      <th>sex</th>\n",
       "      <th>mmdrug</th>\n",
       "      <th>mmdose</th>\n",
       "      <th>Morning</th>\n",
       "      <th>Midday</th>\n",
       "      <th>Evening</th>\n",
       "      <th>Night</th>\n",
       "    </tr>\n",
       "  </thead>\n",
       "  <tbody>\n",
       "    <tr>\n",
       "      <th>1</th>\n",
       "      <td>NDAR_INVXP413AM1</td>\n",
       "      <td>1997-09-01</td>\n",
       "      <td>M</td>\n",
       "      <td>No drug</td>\n",
       "      <td>0</td>\n",
       "      <td>0</td>\n",
       "      <td>0</td>\n",
       "      <td>0</td>\n",
       "      <td>0</td>\n",
       "    </tr>\n",
       "    <tr>\n",
       "      <th>2</th>\n",
       "      <td>NDAR_INVFC713CVK</td>\n",
       "      <td>1997-09-01</td>\n",
       "      <td>M</td>\n",
       "      <td>No drug</td>\n",
       "      <td>0</td>\n",
       "      <td>0</td>\n",
       "      <td>0</td>\n",
       "      <td>0</td>\n",
       "      <td>0</td>\n",
       "    </tr>\n",
       "    <tr>\n",
       "      <th>3</th>\n",
       "      <td>NDAR_INVFC713CVK</td>\n",
       "      <td>1997-10-01</td>\n",
       "      <td>M</td>\n",
       "      <td>No drug</td>\n",
       "      <td>0</td>\n",
       "      <td>0</td>\n",
       "      <td>0</td>\n",
       "      <td>0</td>\n",
       "      <td>0</td>\n",
       "    </tr>\n",
       "    <tr>\n",
       "      <th>4</th>\n",
       "      <td>NDAR_INVFC713CVK</td>\n",
       "      <td>1997-11-01</td>\n",
       "      <td>M</td>\n",
       "      <td>No drug</td>\n",
       "      <td>0</td>\n",
       "      <td>0</td>\n",
       "      <td>0</td>\n",
       "      <td>0</td>\n",
       "      <td>0</td>\n",
       "    </tr>\n",
       "    <tr>\n",
       "      <th>5</th>\n",
       "      <td>NDAR_INVFC713CVK</td>\n",
       "      <td>1997-12-01</td>\n",
       "      <td>M</td>\n",
       "      <td>No drug</td>\n",
       "      <td>0</td>\n",
       "      <td>0</td>\n",
       "      <td>0</td>\n",
       "      <td>0</td>\n",
       "      <td>0</td>\n",
       "    </tr>\n",
       "    <tr>\n",
       "      <th>...</th>\n",
       "      <td>...</td>\n",
       "      <td>...</td>\n",
       "      <td>...</td>\n",
       "      <td>...</td>\n",
       "      <td>...</td>\n",
       "      <td>...</td>\n",
       "      <td>...</td>\n",
       "      <td>...</td>\n",
       "      <td>...</td>\n",
       "    </tr>\n",
       "    <tr>\n",
       "      <th>3427</th>\n",
       "      <td>NDAR_INVHK435ZRN</td>\n",
       "      <td>1995-07-01</td>\n",
       "      <td>M</td>\n",
       "      <td>Ritalin</td>\n",
       "      <td>20x20x10</td>\n",
       "      <td>20</td>\n",
       "      <td>20</td>\n",
       "      <td>10</td>\n",
       "      <td>0</td>\n",
       "    </tr>\n",
       "    <tr>\n",
       "      <th>3428</th>\n",
       "      <td>NDAR_INVHK435ZRN</td>\n",
       "      <td>1995-08-01</td>\n",
       "      <td>M</td>\n",
       "      <td>Dexedrine</td>\n",
       "      <td>5s0x0</td>\n",
       "      <td>5</td>\n",
       "      <td>0</td>\n",
       "      <td>0</td>\n",
       "      <td>0</td>\n",
       "    </tr>\n",
       "    <tr>\n",
       "      <th>3429</th>\n",
       "      <td>NDAR_INVHK435ZRN</td>\n",
       "      <td>1995-09-01</td>\n",
       "      <td>M</td>\n",
       "      <td>Dexedrine</td>\n",
       "      <td>20s0x5</td>\n",
       "      <td>20</td>\n",
       "      <td>0</td>\n",
       "      <td>5</td>\n",
       "      <td>0</td>\n",
       "    </tr>\n",
       "    <tr>\n",
       "      <th>3430</th>\n",
       "      <td>NDAR_INVHK435ZRN</td>\n",
       "      <td>1995-10-01</td>\n",
       "      <td>M</td>\n",
       "      <td>Dexedrine</td>\n",
       "      <td>20s0x5</td>\n",
       "      <td>20</td>\n",
       "      <td>0</td>\n",
       "      <td>5</td>\n",
       "      <td>0</td>\n",
       "    </tr>\n",
       "    <tr>\n",
       "      <th>3431</th>\n",
       "      <td>NDAR_INVHK435ZRN</td>\n",
       "      <td>1995-11-01</td>\n",
       "      <td>M</td>\n",
       "      <td>Dexedrine</td>\n",
       "      <td>20s10x0</td>\n",
       "      <td>20</td>\n",
       "      <td>10</td>\n",
       "      <td>0</td>\n",
       "      <td>0</td>\n",
       "    </tr>\n",
       "  </tbody>\n",
       "</table>\n",
       "<p>3431 rows × 9 columns</p>\n",
       "</div>"
      ],
      "text/plain": [
       "            subjectkey interview_date sex     mmdrug    mmdose Morning Midday  \\\n",
       "1     NDAR_INVXP413AM1     1997-09-01   M    No drug         0       0      0   \n",
       "2     NDAR_INVFC713CVK     1997-09-01   M    No drug         0       0      0   \n",
       "3     NDAR_INVFC713CVK     1997-10-01   M    No drug         0       0      0   \n",
       "4     NDAR_INVFC713CVK     1997-11-01   M    No drug         0       0      0   \n",
       "5     NDAR_INVFC713CVK     1997-12-01   M    No drug         0       0      0   \n",
       "...                ...            ...  ..        ...       ...     ...    ...   \n",
       "3427  NDAR_INVHK435ZRN     1995-07-01   M    Ritalin  20x20x10      20     20   \n",
       "3428  NDAR_INVHK435ZRN     1995-08-01   M  Dexedrine     5s0x0       5      0   \n",
       "3429  NDAR_INVHK435ZRN     1995-09-01   M  Dexedrine    20s0x5      20      0   \n",
       "3430  NDAR_INVHK435ZRN     1995-10-01   M  Dexedrine    20s0x5      20      0   \n",
       "3431  NDAR_INVHK435ZRN     1995-11-01   M  Dexedrine   20s10x0      20     10   \n",
       "\n",
       "     Evening Night  \n",
       "1          0     0  \n",
       "2          0     0  \n",
       "3          0     0  \n",
       "4          0     0  \n",
       "5          0     0  \n",
       "...      ...   ...  \n",
       "3427      10     0  \n",
       "3428       0     0  \n",
       "3429       5     0  \n",
       "3430       5     0  \n",
       "3431       0     0  \n",
       "\n",
       "[3431 rows x 9 columns]"
      ]
     },
     "execution_count": 607,
     "metadata": {},
     "output_type": "execute_result"
    }
   ],
   "source": [
    "# verify again if this yields expected result everywhere \n",
    "\n",
    "\n",
    "pattern = r'(\\d+\\D+){2,3}\\d+'\n",
    "\n",
    "# Create a mask where True indicates rows that match the pattern\n",
    "mask = drugs['mmdose'].str.match(pattern, na=False)\n",
    "filtered_drugs = drugs[mask]\n",
    "# Optionally remove 'sr' from entries\n",
    "filtered_drugs['mmdose'] = filtered_drugs['mmdose'].str.replace('sr', '')\n",
    "\n",
    "print(drugs.shape, filtered_drugs.shape)\n",
    "\n",
    "\n",
    "drugs[['Morning', 'Midday', 'Evening', 'Night']] = (\n",
    "    drugs['mmdose'].str.split(r'\\D+', n=3, expand=True).fillna('0')\n",
    ")\n",
    "drugs\n",
    "# Convert columns to integer type after replacing missing splits with '0'\n",
    "#drugs[['Morning', 'Midday', 'Evening', 'Night']] = drugs[['Morning', 'Midday', 'Evening', 'Night']].fillna('0').astype(int)"
   ]
  },
  {
   "cell_type": "code",
   "execution_count": 608,
   "metadata": {},
   "outputs": [
    {
     "name": "stdout",
     "output_type": "stream",
     "text": [
      "(579,) (290,) (284,)\n"
     ]
    }
   ],
   "source": [
    "print(services['subjectkey'].unique().shape, meds['subjectkey'].unique().shape,  end_treat['subjectkey'].unique().shape)"
   ]
  },
  {
   "cell_type": "code",
   "execution_count": 609,
   "metadata": {},
   "outputs": [
    {
     "data": {
      "text/plain": [
       "(579,)"
      ]
     },
     "execution_count": 609,
     "metadata": {},
     "output_type": "execute_result"
    }
   ],
   "source": [
    "treat_group['subjectkey'].unique().shape"
   ]
  },
  {
   "cell_type": "code",
   "execution_count": 610,
   "metadata": {},
   "outputs": [
    {
     "data": {
      "text/plain": [
       "(579,)"
      ]
     },
     "execution_count": 610,
     "metadata": {},
     "output_type": "execute_result"
    }
   ],
   "source": [
    "serv_bools_col = subject_info_col.copy()\n",
    "append = [ val for val in services_dict.values()]\n",
    "serv_bools_col = np.concatenate((serv_bools_col, append))\n",
    "\n",
    "serv_bools = services[ serv_bools_col]\n",
    "serv_bools.keys()\n",
    "serv_bools['subjectkey'].unique().shape\n"
   ]
  },
  {
   "cell_type": "code",
   "execution_count": 611,
   "metadata": {},
   "outputs": [
    {
     "name": "stdout",
     "output_type": "stream",
     "text": [
      "0 0\n"
     ]
    }
   ],
   "source": [
    "print(services['interview_date'].isna().sum()\n",
    ", serv_bools['interview_date'].isna().sum())"
   ]
  },
  {
   "cell_type": "code",
   "execution_count": 612,
   "metadata": {},
   "outputs": [
    {
     "name": "stdout",
     "output_type": "stream",
     "text": [
      "subjectkey (20393,)\n",
      "interview_date (20393,)\n",
      "sex (20393,)\n",
      "monyn (587,)\n",
      "ynsvc (0,)\n",
      "yn12 (6234,)\n",
      "yn13 (6234,)\n",
      "yn71 (0,)\n",
      "yn101 (0,)\n",
      "yn14 (6234,)\n",
      "yn62 (0,)\n",
      "yn63 (0,)\n",
      "yn24 (0,)\n",
      "yn51 (0,)\n",
      "yn67 (0,)\n",
      "yn93 (0,)\n",
      "yn65 (0,)\n",
      "yn99 (0,)\n",
      "ynthe (6234,)\n",
      "yn1 (6234,)\n",
      "yn2 (6234,)\n",
      "yn3 (6234,)\n",
      "yn4 (6234,)\n",
      "yn5 (6234,)\n",
      "yn6 (6234,)\n",
      "yn7 (6234,)\n",
      "yn8 (6234,)\n",
      "yn9 (6234,)\n",
      "yn10 (6234,)\n",
      "yn16 (6234,)\n",
      "yn17 (6234,)\n"
     ]
    }
   ],
   "source": [
    "for col in serv_bools_col:\n",
    "    print(col, serv_bools[col].dropna().shape)"
   ]
  },
  {
   "cell_type": "code",
   "execution_count": 613,
   "metadata": {},
   "outputs": [
    {
     "name": "stdout",
     "output_type": "stream",
     "text": [
      "(144, 2)\n",
      "(20393, 31) (579,)\n",
      "(3431, 9) (290,)\n"
     ]
    }
   ],
   "source": [
    "print(sub_m.shape)\n",
    "print(serv_bools.shape, serv_bools['subjectkey'].unique().shape)\n",
    "print(drugs.shape, drugs['subjectkey'].unique().shape)\n"
   ]
  },
  {
   "cell_type": "code",
   "execution_count": 614,
   "metadata": {},
   "outputs": [
    {
     "name": "stdout",
     "output_type": "stream",
     "text": [
      "(20393, 3)\n",
      "(3431, 3)\n",
      "(3431, 3)\n"
     ]
    }
   ],
   "source": [
    "print(serv_bools[subject_info_col].dropna().shape)\n",
    "print(meds[subject_info_col].dropna().shape)\n",
    "print(drugs[subject_info_col].dropna().shape)"
   ]
  },
  {
   "cell_type": "code",
   "execution_count": 615,
   "metadata": {},
   "outputs": [],
   "source": [
    "m_drugs  = sub_m.merge(\n",
    "            drugs, how= 'inner', on= min_sub_info)\n",
    "m_serv = sub_m.merge(serv_bools, how= 'inner', on= min_sub_info)"
   ]
  },
  {
   "cell_type": "code",
   "execution_count": 616,
   "metadata": {},
   "outputs": [
    {
     "name": "stdout",
     "output_type": "stream",
     "text": [
      "(144, 2) (3431, 9) (1663, 10)\n",
      "(4788, 32) (144,)\n"
     ]
    }
   ],
   "source": [
    "print(sub_m.shape, drugs.shape, m_drugs.shape)\n",
    "print(m_serv.shape, m_serv['subjectkey'].unique().shape)\n",
    "\n"
   ]
  },
  {
   "cell_type": "code",
   "execution_count": 617,
   "metadata": {},
   "outputs": [
    {
     "data": {
      "text/plain": [
       "(144,)"
      ]
     },
     "execution_count": 617,
     "metadata": {},
     "output_type": "execute_result"
    }
   ],
   "source": [
    "m_drugs['subjectkey'].unique().shape"
   ]
  },
  {
   "cell_type": "code",
   "execution_count": 618,
   "metadata": {},
   "outputs": [
    {
     "name": "stdout",
     "output_type": "stream",
     "text": [
      "(1663, 10) (144,)\n"
     ]
    }
   ],
   "source": [
    "print(m_drugs.shape, m_drugs['subjectkey'].unique().shape)\n"
   ]
  },
  {
   "cell_type": "code",
   "execution_count": 619,
   "metadata": {},
   "outputs": [],
   "source": [
    "#sub_m.set_index([subject_col, 'date'], inplace=True)\n",
    "#serv_bools.set_index([subject_col, 'date'], inplace=True)\n",
    "#drugs.set_index([subject_col, 'date'], inplace=True)\n",
    "#subject_info.set_index([subject_col, 'date'], inplace=True)"
   ]
  },
  {
   "cell_type": "code",
   "execution_count": 620,
   "metadata": {},
   "outputs": [
    {
     "name": "stdout",
     "output_type": "stream",
     "text": [
      "(145, 2) (144, 2) (144, 2)\n",
      "subjectkey    0\n",
      "trtname       0\n",
      "dtype: int64\n",
      "(144,)\n"
     ]
    }
   ],
   "source": [
    "print(sub_c.shape, sub_m.shape, sub_p.shape)\n",
    "print(sub_m.isin(sub_p).sum())\n",
    "print(m_drugs['subjectkey'].unique().shape)"
   ]
  },
  {
   "cell_type": "code",
   "execution_count": 621,
   "metadata": {},
   "outputs": [
    {
     "name": "stdout",
     "output_type": "stream",
     "text": [
      "Index(['subjectkey', 'trtname', 'interview_date', 'sex', 'monyn', 'ynsvc',\n",
      "       'yn12', 'yn13', 'yn71', 'yn101', 'yn14', 'yn62', 'yn63', 'yn24', 'yn51',\n",
      "       'yn67', 'yn93', 'yn65', 'yn99', 'ynthe', 'yn1', 'yn2', 'yn3', 'yn4',\n",
      "       'yn5', 'yn6', 'yn7', 'yn8', 'yn9', 'yn10', 'yn16', 'yn17'],\n",
      "      dtype='object') (144,)\n"
     ]
    },
    {
     "data": {
      "text/html": [
       "<div>\n",
       "<style scoped>\n",
       "    .dataframe tbody tr th:only-of-type {\n",
       "        vertical-align: middle;\n",
       "    }\n",
       "\n",
       "    .dataframe tbody tr th {\n",
       "        vertical-align: top;\n",
       "    }\n",
       "\n",
       "    .dataframe thead th {\n",
       "        text-align: right;\n",
       "    }\n",
       "</style>\n",
       "<table border=\"1\" class=\"dataframe\">\n",
       "  <thead>\n",
       "    <tr style=\"text-align: right;\">\n",
       "      <th></th>\n",
       "      <th>subjectkey</th>\n",
       "      <th>trtname</th>\n",
       "      <th>interview_date</th>\n",
       "      <th>sex</th>\n",
       "      <th>monyn</th>\n",
       "      <th>ynsvc</th>\n",
       "      <th>yn12</th>\n",
       "      <th>yn13</th>\n",
       "      <th>yn71</th>\n",
       "      <th>yn101</th>\n",
       "      <th>...</th>\n",
       "      <th>yn3</th>\n",
       "      <th>yn4</th>\n",
       "      <th>yn5</th>\n",
       "      <th>yn6</th>\n",
       "      <th>yn7</th>\n",
       "      <th>yn8</th>\n",
       "      <th>yn9</th>\n",
       "      <th>yn10</th>\n",
       "      <th>yn16</th>\n",
       "      <th>yn17</th>\n",
       "    </tr>\n",
       "  </thead>\n",
       "  <tbody>\n",
       "    <tr>\n",
       "      <th>0</th>\n",
       "      <td>NDAR_INVCH387GL3</td>\n",
       "      <td>P</td>\n",
       "      <td>1995-04-01</td>\n",
       "      <td>M</td>\n",
       "      <td>NaN</td>\n",
       "      <td>NaN</td>\n",
       "      <td>NaN</td>\n",
       "      <td>NaN</td>\n",
       "      <td>NaN</td>\n",
       "      <td>NaN</td>\n",
       "      <td>...</td>\n",
       "      <td>NaN</td>\n",
       "      <td>NaN</td>\n",
       "      <td>NaN</td>\n",
       "      <td>NaN</td>\n",
       "      <td>NaN</td>\n",
       "      <td>NaN</td>\n",
       "      <td>NaN</td>\n",
       "      <td>NaN</td>\n",
       "      <td>NaN</td>\n",
       "      <td>NaN</td>\n",
       "    </tr>\n",
       "    <tr>\n",
       "      <th>1</th>\n",
       "      <td>NDAR_INVCH387GL3</td>\n",
       "      <td>P</td>\n",
       "      <td>1995-04-01</td>\n",
       "      <td>M</td>\n",
       "      <td>NaN</td>\n",
       "      <td>NaN</td>\n",
       "      <td>NaN</td>\n",
       "      <td>NaN</td>\n",
       "      <td>NaN</td>\n",
       "      <td>NaN</td>\n",
       "      <td>...</td>\n",
       "      <td>NaN</td>\n",
       "      <td>NaN</td>\n",
       "      <td>NaN</td>\n",
       "      <td>NaN</td>\n",
       "      <td>NaN</td>\n",
       "      <td>NaN</td>\n",
       "      <td>NaN</td>\n",
       "      <td>NaN</td>\n",
       "      <td>NaN</td>\n",
       "      <td>NaN</td>\n",
       "    </tr>\n",
       "    <tr>\n",
       "      <th>2</th>\n",
       "      <td>NDAR_INVCH387GL3</td>\n",
       "      <td>P</td>\n",
       "      <td>2001-03-01</td>\n",
       "      <td>M</td>\n",
       "      <td>NaN</td>\n",
       "      <td>NaN</td>\n",
       "      <td>NaN</td>\n",
       "      <td>NaN</td>\n",
       "      <td>NaN</td>\n",
       "      <td>NaN</td>\n",
       "      <td>...</td>\n",
       "      <td>NaN</td>\n",
       "      <td>NaN</td>\n",
       "      <td>NaN</td>\n",
       "      <td>NaN</td>\n",
       "      <td>NaN</td>\n",
       "      <td>NaN</td>\n",
       "      <td>NaN</td>\n",
       "      <td>NaN</td>\n",
       "      <td>NaN</td>\n",
       "      <td>NaN</td>\n",
       "    </tr>\n",
       "    <tr>\n",
       "      <th>3</th>\n",
       "      <td>NDAR_INVCH387GL3</td>\n",
       "      <td>P</td>\n",
       "      <td>2003-01-01</td>\n",
       "      <td>M</td>\n",
       "      <td>NaN</td>\n",
       "      <td>NaN</td>\n",
       "      <td>NaN</td>\n",
       "      <td>NaN</td>\n",
       "      <td>NaN</td>\n",
       "      <td>NaN</td>\n",
       "      <td>...</td>\n",
       "      <td>NaN</td>\n",
       "      <td>NaN</td>\n",
       "      <td>NaN</td>\n",
       "      <td>NaN</td>\n",
       "      <td>NaN</td>\n",
       "      <td>NaN</td>\n",
       "      <td>NaN</td>\n",
       "      <td>NaN</td>\n",
       "      <td>NaN</td>\n",
       "      <td>NaN</td>\n",
       "    </tr>\n",
       "    <tr>\n",
       "      <th>4</th>\n",
       "      <td>NDAR_INVCH387GL3</td>\n",
       "      <td>P</td>\n",
       "      <td>2004-06-01</td>\n",
       "      <td>M</td>\n",
       "      <td>NaN</td>\n",
       "      <td>NaN</td>\n",
       "      <td>NaN</td>\n",
       "      <td>NaN</td>\n",
       "      <td>NaN</td>\n",
       "      <td>NaN</td>\n",
       "      <td>...</td>\n",
       "      <td>NaN</td>\n",
       "      <td>NaN</td>\n",
       "      <td>NaN</td>\n",
       "      <td>NaN</td>\n",
       "      <td>NaN</td>\n",
       "      <td>NaN</td>\n",
       "      <td>NaN</td>\n",
       "      <td>NaN</td>\n",
       "      <td>NaN</td>\n",
       "      <td>NaN</td>\n",
       "    </tr>\n",
       "    <tr>\n",
       "      <th>...</th>\n",
       "      <td>...</td>\n",
       "      <td>...</td>\n",
       "      <td>...</td>\n",
       "      <td>...</td>\n",
       "      <td>...</td>\n",
       "      <td>...</td>\n",
       "      <td>...</td>\n",
       "      <td>...</td>\n",
       "      <td>...</td>\n",
       "      <td>...</td>\n",
       "      <td>...</td>\n",
       "      <td>...</td>\n",
       "      <td>...</td>\n",
       "      <td>...</td>\n",
       "      <td>...</td>\n",
       "      <td>...</td>\n",
       "      <td>...</td>\n",
       "      <td>...</td>\n",
       "      <td>...</td>\n",
       "      <td>...</td>\n",
       "      <td>...</td>\n",
       "    </tr>\n",
       "    <tr>\n",
       "      <th>5222</th>\n",
       "      <td>NDAR_INVPM782DM1</td>\n",
       "      <td>P</td>\n",
       "      <td>2000-01-01</td>\n",
       "      <td>M</td>\n",
       "      <td>NaN</td>\n",
       "      <td>NaN</td>\n",
       "      <td>NaN</td>\n",
       "      <td>NaN</td>\n",
       "      <td>NaN</td>\n",
       "      <td>NaN</td>\n",
       "      <td>...</td>\n",
       "      <td>NaN</td>\n",
       "      <td>NaN</td>\n",
       "      <td>NaN</td>\n",
       "      <td>NaN</td>\n",
       "      <td>NaN</td>\n",
       "      <td>NaN</td>\n",
       "      <td>NaN</td>\n",
       "      <td>NaN</td>\n",
       "      <td>NaN</td>\n",
       "      <td>NaN</td>\n",
       "    </tr>\n",
       "    <tr>\n",
       "      <th>5223</th>\n",
       "      <td>NDAR_INVPM782DM1</td>\n",
       "      <td>P</td>\n",
       "      <td>2001-01-01</td>\n",
       "      <td>M</td>\n",
       "      <td>NaN</td>\n",
       "      <td>NaN</td>\n",
       "      <td>NaN</td>\n",
       "      <td>NaN</td>\n",
       "      <td>NaN</td>\n",
       "      <td>NaN</td>\n",
       "      <td>...</td>\n",
       "      <td>NaN</td>\n",
       "      <td>NaN</td>\n",
       "      <td>NaN</td>\n",
       "      <td>NaN</td>\n",
       "      <td>NaN</td>\n",
       "      <td>NaN</td>\n",
       "      <td>NaN</td>\n",
       "      <td>NaN</td>\n",
       "      <td>NaN</td>\n",
       "      <td>NaN</td>\n",
       "    </tr>\n",
       "    <tr>\n",
       "      <th>5224</th>\n",
       "      <td>NDAR_INVPM782DM1</td>\n",
       "      <td>P</td>\n",
       "      <td>2002-01-01</td>\n",
       "      <td>M</td>\n",
       "      <td>NaN</td>\n",
       "      <td>NaN</td>\n",
       "      <td>NaN</td>\n",
       "      <td>NaN</td>\n",
       "      <td>NaN</td>\n",
       "      <td>NaN</td>\n",
       "      <td>...</td>\n",
       "      <td>NaN</td>\n",
       "      <td>NaN</td>\n",
       "      <td>NaN</td>\n",
       "      <td>NaN</td>\n",
       "      <td>NaN</td>\n",
       "      <td>NaN</td>\n",
       "      <td>NaN</td>\n",
       "      <td>NaN</td>\n",
       "      <td>NaN</td>\n",
       "      <td>NaN</td>\n",
       "    </tr>\n",
       "    <tr>\n",
       "      <th>5225</th>\n",
       "      <td>NDAR_INVPM782DM1</td>\n",
       "      <td>P</td>\n",
       "      <td>2003-01-01</td>\n",
       "      <td>M</td>\n",
       "      <td>NaN</td>\n",
       "      <td>NaN</td>\n",
       "      <td>NaN</td>\n",
       "      <td>NaN</td>\n",
       "      <td>NaN</td>\n",
       "      <td>NaN</td>\n",
       "      <td>...</td>\n",
       "      <td>NaN</td>\n",
       "      <td>NaN</td>\n",
       "      <td>NaN</td>\n",
       "      <td>NaN</td>\n",
       "      <td>NaN</td>\n",
       "      <td>NaN</td>\n",
       "      <td>NaN</td>\n",
       "      <td>NaN</td>\n",
       "      <td>NaN</td>\n",
       "      <td>NaN</td>\n",
       "    </tr>\n",
       "    <tr>\n",
       "      <th>5226</th>\n",
       "      <td>NDAR_INVPM782DM1</td>\n",
       "      <td>P</td>\n",
       "      <td>2004-01-01</td>\n",
       "      <td>M</td>\n",
       "      <td>NaN</td>\n",
       "      <td>NaN</td>\n",
       "      <td>NaN</td>\n",
       "      <td>NaN</td>\n",
       "      <td>NaN</td>\n",
       "      <td>NaN</td>\n",
       "      <td>...</td>\n",
       "      <td>NaN</td>\n",
       "      <td>NaN</td>\n",
       "      <td>NaN</td>\n",
       "      <td>NaN</td>\n",
       "      <td>NaN</td>\n",
       "      <td>NaN</td>\n",
       "      <td>NaN</td>\n",
       "      <td>NaN</td>\n",
       "      <td>NaN</td>\n",
       "      <td>NaN</td>\n",
       "    </tr>\n",
       "  </tbody>\n",
       "</table>\n",
       "<p>5227 rows × 32 columns</p>\n",
       "</div>"
      ],
      "text/plain": [
       "            subjectkey trtname interview_date sex monyn ynsvc yn12 yn13 yn71  \\\n",
       "0     NDAR_INVCH387GL3       P     1995-04-01   M   NaN   NaN  NaN  NaN  NaN   \n",
       "1     NDAR_INVCH387GL3       P     1995-04-01   M   NaN   NaN  NaN  NaN  NaN   \n",
       "2     NDAR_INVCH387GL3       P     2001-03-01   M   NaN   NaN  NaN  NaN  NaN   \n",
       "3     NDAR_INVCH387GL3       P     2003-01-01   M   NaN   NaN  NaN  NaN  NaN   \n",
       "4     NDAR_INVCH387GL3       P     2004-06-01   M   NaN   NaN  NaN  NaN  NaN   \n",
       "...                ...     ...            ...  ..   ...   ...  ...  ...  ...   \n",
       "5222  NDAR_INVPM782DM1       P     2000-01-01   M   NaN   NaN  NaN  NaN  NaN   \n",
       "5223  NDAR_INVPM782DM1       P     2001-01-01   M   NaN   NaN  NaN  NaN  NaN   \n",
       "5224  NDAR_INVPM782DM1       P     2002-01-01   M   NaN   NaN  NaN  NaN  NaN   \n",
       "5225  NDAR_INVPM782DM1       P     2003-01-01   M   NaN   NaN  NaN  NaN  NaN   \n",
       "5226  NDAR_INVPM782DM1       P     2004-01-01   M   NaN   NaN  NaN  NaN  NaN   \n",
       "\n",
       "     yn101  ...  yn3  yn4  yn5  yn6  yn7  yn8  yn9 yn10 yn16 yn17  \n",
       "0      NaN  ...  NaN  NaN  NaN  NaN  NaN  NaN  NaN  NaN  NaN  NaN  \n",
       "1      NaN  ...  NaN  NaN  NaN  NaN  NaN  NaN  NaN  NaN  NaN  NaN  \n",
       "2      NaN  ...  NaN  NaN  NaN  NaN  NaN  NaN  NaN  NaN  NaN  NaN  \n",
       "3      NaN  ...  NaN  NaN  NaN  NaN  NaN  NaN  NaN  NaN  NaN  NaN  \n",
       "4      NaN  ...  NaN  NaN  NaN  NaN  NaN  NaN  NaN  NaN  NaN  NaN  \n",
       "...    ...  ...  ...  ...  ...  ...  ...  ...  ...  ...  ...  ...  \n",
       "5222   NaN  ...  NaN  NaN  NaN  NaN  NaN  NaN  NaN  NaN  NaN  NaN  \n",
       "5223   NaN  ...  NaN  NaN  NaN  NaN  NaN  NaN  NaN  NaN  NaN  NaN  \n",
       "5224   NaN  ...  NaN  NaN  NaN  NaN  NaN  NaN  NaN  NaN  NaN  NaN  \n",
       "5225   NaN  ...  NaN  NaN  NaN  NaN  NaN  NaN  NaN  NaN  NaN  NaN  \n",
       "5226   NaN  ...  NaN  NaN  NaN  NaN  NaN  NaN  NaN  NaN  NaN  NaN  \n",
       "\n",
       "[5227 rows x 32 columns]"
      ]
     },
     "execution_count": 621,
     "metadata": {},
     "output_type": "execute_result"
    }
   ],
   "source": [
    "p  = sub_p.merge(serv_bools, how= 'inner', on= min_sub_info)\n",
    "print(p.keys(), p['subjectkey'].unique().shape)\n",
    "p"
   ]
  },
  {
   "cell_type": "code",
   "execution_count": 622,
   "metadata": {},
   "outputs": [
    {
     "name": "stdout",
     "output_type": "stream",
     "text": [
      "(145, 2) (3431, 9) (1767, 10) (145,)\n"
     ]
    },
    {
     "data": {
      "text/html": [
       "<div>\n",
       "<style scoped>\n",
       "    .dataframe tbody tr th:only-of-type {\n",
       "        vertical-align: middle;\n",
       "    }\n",
       "\n",
       "    .dataframe tbody tr th {\n",
       "        vertical-align: top;\n",
       "    }\n",
       "\n",
       "    .dataframe thead th {\n",
       "        text-align: right;\n",
       "    }\n",
       "</style>\n",
       "<table border=\"1\" class=\"dataframe\">\n",
       "  <thead>\n",
       "    <tr style=\"text-align: right;\">\n",
       "      <th></th>\n",
       "      <th>subjectkey</th>\n",
       "      <th>trtname</th>\n",
       "      <th>interview_date</th>\n",
       "      <th>sex</th>\n",
       "      <th>mmdrug</th>\n",
       "      <th>mmdose</th>\n",
       "      <th>Morning</th>\n",
       "      <th>Midday</th>\n",
       "      <th>Evening</th>\n",
       "      <th>Night</th>\n",
       "    </tr>\n",
       "  </thead>\n",
       "  <tbody>\n",
       "    <tr>\n",
       "      <th>0</th>\n",
       "      <td>NDAR_INVFC713CVK</td>\n",
       "      <td>C</td>\n",
       "      <td>1997-09-01</td>\n",
       "      <td>M</td>\n",
       "      <td>No drug</td>\n",
       "      <td>0</td>\n",
       "      <td>0</td>\n",
       "      <td>0</td>\n",
       "      <td>0</td>\n",
       "      <td>0</td>\n",
       "    </tr>\n",
       "    <tr>\n",
       "      <th>1</th>\n",
       "      <td>NDAR_INVFC713CVK</td>\n",
       "      <td>C</td>\n",
       "      <td>1997-10-01</td>\n",
       "      <td>M</td>\n",
       "      <td>No drug</td>\n",
       "      <td>0</td>\n",
       "      <td>0</td>\n",
       "      <td>0</td>\n",
       "      <td>0</td>\n",
       "      <td>0</td>\n",
       "    </tr>\n",
       "    <tr>\n",
       "      <th>2</th>\n",
       "      <td>NDAR_INVFC713CVK</td>\n",
       "      <td>C</td>\n",
       "      <td>1997-11-01</td>\n",
       "      <td>M</td>\n",
       "      <td>No drug</td>\n",
       "      <td>0</td>\n",
       "      <td>0</td>\n",
       "      <td>0</td>\n",
       "      <td>0</td>\n",
       "      <td>0</td>\n",
       "    </tr>\n",
       "    <tr>\n",
       "      <th>3</th>\n",
       "      <td>NDAR_INVFC713CVK</td>\n",
       "      <td>C</td>\n",
       "      <td>1997-12-01</td>\n",
       "      <td>M</td>\n",
       "      <td>No drug</td>\n",
       "      <td>0</td>\n",
       "      <td>0</td>\n",
       "      <td>0</td>\n",
       "      <td>0</td>\n",
       "      <td>0</td>\n",
       "    </tr>\n",
       "    <tr>\n",
       "      <th>4</th>\n",
       "      <td>NDAR_INVFC713CVK</td>\n",
       "      <td>C</td>\n",
       "      <td>1998-01-01</td>\n",
       "      <td>M</td>\n",
       "      <td>No drug</td>\n",
       "      <td>0</td>\n",
       "      <td>0</td>\n",
       "      <td>0</td>\n",
       "      <td>0</td>\n",
       "      <td>0</td>\n",
       "    </tr>\n",
       "    <tr>\n",
       "      <th>...</th>\n",
       "      <td>...</td>\n",
       "      <td>...</td>\n",
       "      <td>...</td>\n",
       "      <td>...</td>\n",
       "      <td>...</td>\n",
       "      <td>...</td>\n",
       "      <td>...</td>\n",
       "      <td>...</td>\n",
       "      <td>...</td>\n",
       "      <td>...</td>\n",
       "    </tr>\n",
       "    <tr>\n",
       "      <th>1762</th>\n",
       "      <td>NDAR_INVPD521YYV</td>\n",
       "      <td>C</td>\n",
       "      <td>1995-11-01</td>\n",
       "      <td>M</td>\n",
       "      <td>Ritalin</td>\n",
       "      <td>10x10x5</td>\n",
       "      <td>10</td>\n",
       "      <td>10</td>\n",
       "      <td>5</td>\n",
       "      <td>0</td>\n",
       "    </tr>\n",
       "    <tr>\n",
       "      <th>1763</th>\n",
       "      <td>NDAR_INVPD521YYV</td>\n",
       "      <td>C</td>\n",
       "      <td>1995-12-01</td>\n",
       "      <td>M</td>\n",
       "      <td>Ritalin</td>\n",
       "      <td>10x10x5</td>\n",
       "      <td>10</td>\n",
       "      <td>10</td>\n",
       "      <td>5</td>\n",
       "      <td>0</td>\n",
       "    </tr>\n",
       "    <tr>\n",
       "      <th>1764</th>\n",
       "      <td>NDAR_INVPD521YYV</td>\n",
       "      <td>C</td>\n",
       "      <td>1996-01-01</td>\n",
       "      <td>M</td>\n",
       "      <td>Ritalin</td>\n",
       "      <td>10x10x5</td>\n",
       "      <td>10</td>\n",
       "      <td>10</td>\n",
       "      <td>5</td>\n",
       "      <td>0</td>\n",
       "    </tr>\n",
       "    <tr>\n",
       "      <th>1765</th>\n",
       "      <td>NDAR_INVPD521YYV</td>\n",
       "      <td>C</td>\n",
       "      <td>1996-03-01</td>\n",
       "      <td>M</td>\n",
       "      <td>Ritalin</td>\n",
       "      <td>10x10x5</td>\n",
       "      <td>10</td>\n",
       "      <td>10</td>\n",
       "      <td>5</td>\n",
       "      <td>0</td>\n",
       "    </tr>\n",
       "    <tr>\n",
       "      <th>1766</th>\n",
       "      <td>NDAR_INVPD521YYV</td>\n",
       "      <td>C</td>\n",
       "      <td>1996-04-01</td>\n",
       "      <td>M</td>\n",
       "      <td>Ritalin</td>\n",
       "      <td>10x10x5</td>\n",
       "      <td>10</td>\n",
       "      <td>10</td>\n",
       "      <td>5</td>\n",
       "      <td>0</td>\n",
       "    </tr>\n",
       "  </tbody>\n",
       "</table>\n",
       "<p>1767 rows × 10 columns</p>\n",
       "</div>"
      ],
      "text/plain": [
       "            subjectkey trtname interview_date sex   mmdrug   mmdose Morning  \\\n",
       "0     NDAR_INVFC713CVK       C     1997-09-01   M  No drug        0       0   \n",
       "1     NDAR_INVFC713CVK       C     1997-10-01   M  No drug        0       0   \n",
       "2     NDAR_INVFC713CVK       C     1997-11-01   M  No drug        0       0   \n",
       "3     NDAR_INVFC713CVK       C     1997-12-01   M  No drug        0       0   \n",
       "4     NDAR_INVFC713CVK       C     1998-01-01   M  No drug        0       0   \n",
       "...                ...     ...            ...  ..      ...      ...     ...   \n",
       "1762  NDAR_INVPD521YYV       C     1995-11-01   M  Ritalin  10x10x5      10   \n",
       "1763  NDAR_INVPD521YYV       C     1995-12-01   M  Ritalin  10x10x5      10   \n",
       "1764  NDAR_INVPD521YYV       C     1996-01-01   M  Ritalin  10x10x5      10   \n",
       "1765  NDAR_INVPD521YYV       C     1996-03-01   M  Ritalin  10x10x5      10   \n",
       "1766  NDAR_INVPD521YYV       C     1996-04-01   M  Ritalin  10x10x5      10   \n",
       "\n",
       "     Midday Evening Night  \n",
       "0         0       0     0  \n",
       "1         0       0     0  \n",
       "2         0       0     0  \n",
       "3         0       0     0  \n",
       "4         0       0     0  \n",
       "...     ...     ...   ...  \n",
       "1762     10       5     0  \n",
       "1763     10       5     0  \n",
       "1764     10       5     0  \n",
       "1765     10       5     0  \n",
       "1766     10       5     0  \n",
       "\n",
       "[1767 rows x 10 columns]"
      ]
     },
     "execution_count": 622,
     "metadata": {},
     "output_type": "execute_result"
    }
   ],
   "source": [
    "# operations seperated to avoid cartesian product of rows with same identifiers\n",
    "# expected behavior from pd.merge()\n",
    "c_drugs = sub_c.merge(\n",
    "    drugs, how='inner', on= min_sub_info)\n",
    "print(sub_c.shape, drugs.shape, c_drugs.shape, c_drugs['subjectkey'].unique().shape)\n",
    "c_drugs\n"
   ]
  },
  {
   "cell_type": "code",
   "execution_count": 623,
   "metadata": {},
   "outputs": [
    {
     "data": {
      "text/plain": [
       "pandas._libs.tslibs.timestamps.Timestamp"
      ]
     },
     "execution_count": 623,
     "metadata": {},
     "output_type": "execute_result"
    }
   ],
   "source": [
    "type(c_drugs['interview_date'][1])"
   ]
  },
  {
   "cell_type": "code",
   "execution_count": 624,
   "metadata": {},
   "outputs": [
    {
     "name": "stdout",
     "output_type": "stream",
     "text": [
      "(145, 2) (3431, 9) (5334, 32) (145,)\n"
     ]
    },
    {
     "data": {
      "text/html": [
       "<div>\n",
       "<style scoped>\n",
       "    .dataframe tbody tr th:only-of-type {\n",
       "        vertical-align: middle;\n",
       "    }\n",
       "\n",
       "    .dataframe tbody tr th {\n",
       "        vertical-align: top;\n",
       "    }\n",
       "\n",
       "    .dataframe thead th {\n",
       "        text-align: right;\n",
       "    }\n",
       "</style>\n",
       "<table border=\"1\" class=\"dataframe\">\n",
       "  <thead>\n",
       "    <tr style=\"text-align: right;\">\n",
       "      <th></th>\n",
       "      <th>subjectkey</th>\n",
       "      <th>trtname</th>\n",
       "      <th>interview_date</th>\n",
       "      <th>sex</th>\n",
       "      <th>monyn</th>\n",
       "      <th>ynsvc</th>\n",
       "      <th>yn12</th>\n",
       "      <th>yn13</th>\n",
       "      <th>yn71</th>\n",
       "      <th>yn101</th>\n",
       "      <th>...</th>\n",
       "      <th>yn3</th>\n",
       "      <th>yn4</th>\n",
       "      <th>yn5</th>\n",
       "      <th>yn6</th>\n",
       "      <th>yn7</th>\n",
       "      <th>yn8</th>\n",
       "      <th>yn9</th>\n",
       "      <th>yn10</th>\n",
       "      <th>yn16</th>\n",
       "      <th>yn17</th>\n",
       "    </tr>\n",
       "  </thead>\n",
       "  <tbody>\n",
       "    <tr>\n",
       "      <th>0</th>\n",
       "      <td>NDAR_INVFC713CVK</td>\n",
       "      <td>C</td>\n",
       "      <td>1997-03-01</td>\n",
       "      <td>M</td>\n",
       "      <td>NaN</td>\n",
       "      <td>NaN</td>\n",
       "      <td>NaN</td>\n",
       "      <td>NaN</td>\n",
       "      <td>NaN</td>\n",
       "      <td>NaN</td>\n",
       "      <td>...</td>\n",
       "      <td>NaN</td>\n",
       "      <td>NaN</td>\n",
       "      <td>NaN</td>\n",
       "      <td>NaN</td>\n",
       "      <td>NaN</td>\n",
       "      <td>NaN</td>\n",
       "      <td>NaN</td>\n",
       "      <td>NaN</td>\n",
       "      <td>NaN</td>\n",
       "      <td>NaN</td>\n",
       "    </tr>\n",
       "    <tr>\n",
       "      <th>1</th>\n",
       "      <td>NDAR_INVFC713CVK</td>\n",
       "      <td>C</td>\n",
       "      <td>1997-06-01</td>\n",
       "      <td>M</td>\n",
       "      <td>NaN</td>\n",
       "      <td>NaN</td>\n",
       "      <td>NaN</td>\n",
       "      <td>NaN</td>\n",
       "      <td>NaN</td>\n",
       "      <td>NaN</td>\n",
       "      <td>...</td>\n",
       "      <td>NaN</td>\n",
       "      <td>NaN</td>\n",
       "      <td>NaN</td>\n",
       "      <td>NaN</td>\n",
       "      <td>NaN</td>\n",
       "      <td>NaN</td>\n",
       "      <td>NaN</td>\n",
       "      <td>NaN</td>\n",
       "      <td>NaN</td>\n",
       "      <td>NaN</td>\n",
       "    </tr>\n",
       "    <tr>\n",
       "      <th>2</th>\n",
       "      <td>NDAR_INVFC713CVK</td>\n",
       "      <td>C</td>\n",
       "      <td>1997-06-01</td>\n",
       "      <td>M</td>\n",
       "      <td>NaN</td>\n",
       "      <td>NaN</td>\n",
       "      <td>NaN</td>\n",
       "      <td>NaN</td>\n",
       "      <td>NaN</td>\n",
       "      <td>NaN</td>\n",
       "      <td>...</td>\n",
       "      <td>NaN</td>\n",
       "      <td>NaN</td>\n",
       "      <td>NaN</td>\n",
       "      <td>NaN</td>\n",
       "      <td>NaN</td>\n",
       "      <td>NaN</td>\n",
       "      <td>NaN</td>\n",
       "      <td>NaN</td>\n",
       "      <td>NaN</td>\n",
       "      <td>NaN</td>\n",
       "    </tr>\n",
       "    <tr>\n",
       "      <th>3</th>\n",
       "      <td>NDAR_INVFC713CVK</td>\n",
       "      <td>C</td>\n",
       "      <td>1998-08-01</td>\n",
       "      <td>M</td>\n",
       "      <td>NaN</td>\n",
       "      <td>NaN</td>\n",
       "      <td>NaN</td>\n",
       "      <td>NaN</td>\n",
       "      <td>NaN</td>\n",
       "      <td>NaN</td>\n",
       "      <td>...</td>\n",
       "      <td>NaN</td>\n",
       "      <td>NaN</td>\n",
       "      <td>NaN</td>\n",
       "      <td>NaN</td>\n",
       "      <td>NaN</td>\n",
       "      <td>NaN</td>\n",
       "      <td>NaN</td>\n",
       "      <td>NaN</td>\n",
       "      <td>NaN</td>\n",
       "      <td>NaN</td>\n",
       "    </tr>\n",
       "    <tr>\n",
       "      <th>4</th>\n",
       "      <td>NDAR_INVFC713CVK</td>\n",
       "      <td>C</td>\n",
       "      <td>1997-03-01</td>\n",
       "      <td>M</td>\n",
       "      <td>NaN</td>\n",
       "      <td>NaN</td>\n",
       "      <td>2.0</td>\n",
       "      <td>2.0</td>\n",
       "      <td>NaN</td>\n",
       "      <td>NaN</td>\n",
       "      <td>...</td>\n",
       "      <td>2.0</td>\n",
       "      <td>2.0</td>\n",
       "      <td>2.0</td>\n",
       "      <td>2.0</td>\n",
       "      <td>2.0</td>\n",
       "      <td>2.0</td>\n",
       "      <td>2.0</td>\n",
       "      <td>2.0</td>\n",
       "      <td>2.0</td>\n",
       "      <td>2.0</td>\n",
       "    </tr>\n",
       "    <tr>\n",
       "      <th>...</th>\n",
       "      <td>...</td>\n",
       "      <td>...</td>\n",
       "      <td>...</td>\n",
       "      <td>...</td>\n",
       "      <td>...</td>\n",
       "      <td>...</td>\n",
       "      <td>...</td>\n",
       "      <td>...</td>\n",
       "      <td>...</td>\n",
       "      <td>...</td>\n",
       "      <td>...</td>\n",
       "      <td>...</td>\n",
       "      <td>...</td>\n",
       "      <td>...</td>\n",
       "      <td>...</td>\n",
       "      <td>...</td>\n",
       "      <td>...</td>\n",
       "      <td>...</td>\n",
       "      <td>...</td>\n",
       "      <td>...</td>\n",
       "      <td>...</td>\n",
       "    </tr>\n",
       "    <tr>\n",
       "      <th>5329</th>\n",
       "      <td>NDAR_INVPD521YYV</td>\n",
       "      <td>C</td>\n",
       "      <td>2000-11-01</td>\n",
       "      <td>M</td>\n",
       "      <td>NaN</td>\n",
       "      <td>NaN</td>\n",
       "      <td>NaN</td>\n",
       "      <td>NaN</td>\n",
       "      <td>NaN</td>\n",
       "      <td>NaN</td>\n",
       "      <td>...</td>\n",
       "      <td>NaN</td>\n",
       "      <td>NaN</td>\n",
       "      <td>NaN</td>\n",
       "      <td>NaN</td>\n",
       "      <td>NaN</td>\n",
       "      <td>NaN</td>\n",
       "      <td>NaN</td>\n",
       "      <td>NaN</td>\n",
       "      <td>NaN</td>\n",
       "      <td>NaN</td>\n",
       "    </tr>\n",
       "    <tr>\n",
       "      <th>5330</th>\n",
       "      <td>NDAR_INVPD521YYV</td>\n",
       "      <td>C</td>\n",
       "      <td>2002-03-01</td>\n",
       "      <td>M</td>\n",
       "      <td>NaN</td>\n",
       "      <td>NaN</td>\n",
       "      <td>NaN</td>\n",
       "      <td>NaN</td>\n",
       "      <td>NaN</td>\n",
       "      <td>NaN</td>\n",
       "      <td>...</td>\n",
       "      <td>NaN</td>\n",
       "      <td>NaN</td>\n",
       "      <td>NaN</td>\n",
       "      <td>NaN</td>\n",
       "      <td>NaN</td>\n",
       "      <td>NaN</td>\n",
       "      <td>NaN</td>\n",
       "      <td>NaN</td>\n",
       "      <td>NaN</td>\n",
       "      <td>NaN</td>\n",
       "    </tr>\n",
       "    <tr>\n",
       "      <th>5331</th>\n",
       "      <td>NDAR_INVPD521YYV</td>\n",
       "      <td>C</td>\n",
       "      <td>2002-09-01</td>\n",
       "      <td>M</td>\n",
       "      <td>NaN</td>\n",
       "      <td>NaN</td>\n",
       "      <td>NaN</td>\n",
       "      <td>NaN</td>\n",
       "      <td>NaN</td>\n",
       "      <td>NaN</td>\n",
       "      <td>...</td>\n",
       "      <td>NaN</td>\n",
       "      <td>NaN</td>\n",
       "      <td>NaN</td>\n",
       "      <td>NaN</td>\n",
       "      <td>NaN</td>\n",
       "      <td>NaN</td>\n",
       "      <td>NaN</td>\n",
       "      <td>NaN</td>\n",
       "      <td>NaN</td>\n",
       "      <td>NaN</td>\n",
       "    </tr>\n",
       "    <tr>\n",
       "      <th>5332</th>\n",
       "      <td>NDAR_INVPD521YYV</td>\n",
       "      <td>C</td>\n",
       "      <td>2003-02-01</td>\n",
       "      <td>M</td>\n",
       "      <td>NaN</td>\n",
       "      <td>NaN</td>\n",
       "      <td>NaN</td>\n",
       "      <td>NaN</td>\n",
       "      <td>NaN</td>\n",
       "      <td>NaN</td>\n",
       "      <td>...</td>\n",
       "      <td>NaN</td>\n",
       "      <td>NaN</td>\n",
       "      <td>NaN</td>\n",
       "      <td>NaN</td>\n",
       "      <td>NaN</td>\n",
       "      <td>NaN</td>\n",
       "      <td>NaN</td>\n",
       "      <td>NaN</td>\n",
       "      <td>NaN</td>\n",
       "      <td>NaN</td>\n",
       "    </tr>\n",
       "    <tr>\n",
       "      <th>5333</th>\n",
       "      <td>NDAR_INVPD521YYV</td>\n",
       "      <td>C</td>\n",
       "      <td>2004-02-01</td>\n",
       "      <td>M</td>\n",
       "      <td>NaN</td>\n",
       "      <td>NaN</td>\n",
       "      <td>NaN</td>\n",
       "      <td>NaN</td>\n",
       "      <td>NaN</td>\n",
       "      <td>NaN</td>\n",
       "      <td>...</td>\n",
       "      <td>NaN</td>\n",
       "      <td>NaN</td>\n",
       "      <td>NaN</td>\n",
       "      <td>NaN</td>\n",
       "      <td>NaN</td>\n",
       "      <td>NaN</td>\n",
       "      <td>NaN</td>\n",
       "      <td>NaN</td>\n",
       "      <td>NaN</td>\n",
       "      <td>NaN</td>\n",
       "    </tr>\n",
       "  </tbody>\n",
       "</table>\n",
       "<p>5334 rows × 32 columns</p>\n",
       "</div>"
      ],
      "text/plain": [
       "            subjectkey trtname interview_date sex monyn ynsvc yn12 yn13 yn71  \\\n",
       "0     NDAR_INVFC713CVK       C     1997-03-01   M   NaN   NaN  NaN  NaN  NaN   \n",
       "1     NDAR_INVFC713CVK       C     1997-06-01   M   NaN   NaN  NaN  NaN  NaN   \n",
       "2     NDAR_INVFC713CVK       C     1997-06-01   M   NaN   NaN  NaN  NaN  NaN   \n",
       "3     NDAR_INVFC713CVK       C     1998-08-01   M   NaN   NaN  NaN  NaN  NaN   \n",
       "4     NDAR_INVFC713CVK       C     1997-03-01   M   NaN   NaN  2.0  2.0  NaN   \n",
       "...                ...     ...            ...  ..   ...   ...  ...  ...  ...   \n",
       "5329  NDAR_INVPD521YYV       C     2000-11-01   M   NaN   NaN  NaN  NaN  NaN   \n",
       "5330  NDAR_INVPD521YYV       C     2002-03-01   M   NaN   NaN  NaN  NaN  NaN   \n",
       "5331  NDAR_INVPD521YYV       C     2002-09-01   M   NaN   NaN  NaN  NaN  NaN   \n",
       "5332  NDAR_INVPD521YYV       C     2003-02-01   M   NaN   NaN  NaN  NaN  NaN   \n",
       "5333  NDAR_INVPD521YYV       C     2004-02-01   M   NaN   NaN  NaN  NaN  NaN   \n",
       "\n",
       "     yn101  ...  yn3  yn4  yn5  yn6  yn7  yn8  yn9 yn10 yn16 yn17  \n",
       "0      NaN  ...  NaN  NaN  NaN  NaN  NaN  NaN  NaN  NaN  NaN  NaN  \n",
       "1      NaN  ...  NaN  NaN  NaN  NaN  NaN  NaN  NaN  NaN  NaN  NaN  \n",
       "2      NaN  ...  NaN  NaN  NaN  NaN  NaN  NaN  NaN  NaN  NaN  NaN  \n",
       "3      NaN  ...  NaN  NaN  NaN  NaN  NaN  NaN  NaN  NaN  NaN  NaN  \n",
       "4      NaN  ...  2.0  2.0  2.0  2.0  2.0  2.0  2.0  2.0  2.0  2.0  \n",
       "...    ...  ...  ...  ...  ...  ...  ...  ...  ...  ...  ...  ...  \n",
       "5329   NaN  ...  NaN  NaN  NaN  NaN  NaN  NaN  NaN  NaN  NaN  NaN  \n",
       "5330   NaN  ...  NaN  NaN  NaN  NaN  NaN  NaN  NaN  NaN  NaN  NaN  \n",
       "5331   NaN  ...  NaN  NaN  NaN  NaN  NaN  NaN  NaN  NaN  NaN  NaN  \n",
       "5332   NaN  ...  NaN  NaN  NaN  NaN  NaN  NaN  NaN  NaN  NaN  NaN  \n",
       "5333   NaN  ...  NaN  NaN  NaN  NaN  NaN  NaN  NaN  NaN  NaN  NaN  \n",
       "\n",
       "[5334 rows x 32 columns]"
      ]
     },
     "execution_count": 624,
     "metadata": {},
     "output_type": "execute_result"
    }
   ],
   "source": [
    "c_serv = sub_c.merge(serv_bools, how= 'inner', on= min_sub_info)\n",
    "print(sub_c.shape, drugs.shape, c_serv.shape, c_serv['subjectkey'].unique().shape)\n",
    "c_serv"
   ]
  },
  {
   "cell_type": "code",
   "execution_count": 625,
   "metadata": {},
   "outputs": [],
   "source": [
    "# weird merge here \n",
    "#c = c_drugs.merge(c_serv, how='outer', on= subject_info_col)\n",
    "#print(sub_c.shape, drugs.shape, c_serv.shape, c['subjectkey'].unique().shape)\n"
   ]
  },
  {
   "cell_type": "code",
   "execution_count": 626,
   "metadata": {},
   "outputs": [
    {
     "name": "stdout",
     "output_type": "stream",
     "text": [
      "0\n",
      "0\n",
      "0\n"
     ]
    }
   ],
   "source": [
    "#check if any overlapping subjects \n",
    "print(sub_m['subjectkey'].isin(sub_p['subjectkey']).sum())\n",
    "print(sub_m['subjectkey'].isin(sub_c['subjectkey']).sum())\n",
    "print(sub_p['subjectkey'].isin(sub_m['subjectkey']).sum())"
   ]
  },
  {
   "cell_type": "code",
   "execution_count": 635,
   "metadata": {},
   "outputs": [
    {
     "data": {
      "text/plain": [
       "array(['M', 'F'], dtype=object)"
      ]
     },
     "execution_count": 635,
     "metadata": {},
     "output_type": "execute_result"
    }
   ],
   "source": [
    "drugs['sex'].unique()"
   ]
  },
  {
   "cell_type": "code",
   "execution_count": 637,
   "metadata": {},
   "outputs": [
    {
     "data": {
      "image/png": "[encoded data removed]",
      "text/plain": [
       "<Figure size 640x480 with 1 Axes>"
      ]
     },
     "metadata": {},
     "output_type": "display_data"
    }
   ],
   "source": [
    "drug_sex_counts = m_drugs.groupby(['mmdrug', 'sex']).size().unstack(fill_value=0)\n",
    "\n",
    "drug_counts = m_drugs['mmdrug'].value_counts()\n",
    "\n",
    "# Create a bar plot\n",
    "drug_sex_counts.plot(kind='bar', stacked=True, color=['blue', 'red', 'gray'])  # Colors for M, F, Not specified\n",
    "plt.xlabel('Medication')\n",
    "plt.ylabel('Count')\n",
    "plt.title('Count of medication over all periods by sex')\n",
    "plt.legend(title='Sex')\n",
    "plt.show()"
   ]
  },
  {
   "cell_type": "code",
   "execution_count": 629,
   "metadata": {},
   "outputs": [],
   "source": [
    "test_sub = 'NDAR_INVFE961JZZ'"
   ]
  },
  {
   "cell_type": "code",
   "execution_count": 630,
   "metadata": {},
   "outputs": [],
   "source": [
    "test_m = m_drugs.query(\"subjectkey == 'NDAR_INVFE961JZZ'\")\n",
    "test_s = m_serv.query(\"subjectkey == 'NDAR_INVFE961JZZ'\")"
   ]
  },
  {
   "cell_type": "code",
   "execution_count": 631,
   "metadata": {},
   "outputs": [],
   "source": [
    "m_drugs['interview_date'] = pd.to_datetime(m_drugs['interview_date'])"
   ]
  },
  {
   "cell_type": "code",
   "execution_count": 632,
   "metadata": {},
   "outputs": [
    {
     "data": {
      "text/plain": [
       "0           5x5x5\n",
       "1       7.5x7.5x5\n",
       "2       7.5x7.5x0\n",
       "3       7.5x7.5x0\n",
       "4       7.5x7.5x0\n",
       "5       7.5x7.5x0\n",
       "6       7.5x7.5x0\n",
       "7       10x10x2.5\n",
       "8       10x10x2.5\n",
       "9       10x10x2.5\n",
       "10      10x10x2.5\n",
       "11    12.5x12.5x5\n",
       "12    12.5x12.5x5\n",
       "Name: mmdose, dtype: object"
      ]
     },
     "execution_count": 632,
     "metadata": {},
     "output_type": "execute_result"
    }
   ],
   "source": [
    "test_m['mmdose']"
   ]
  },
  {
   "cell_type": "code",
   "execution_count": 633,
   "metadata": {},
   "outputs": [
    {
     "data": {
      "image/png": "[encoded data removed]",
      "text/plain": [
       "<Figure size 1000x500 with 1 Axes>"
      ]
     },
     "metadata": {},
     "output_type": "display_data"
    }
   ],
   "source": [
    "plt.figure(figsize=(10, 5))\n",
    "plt.bar(test_m['interview_date'], test_m['mmdrug'])\n",
    "plt.xlabel('Date')\n",
    "plt.ylabel('Medication')\n",
    "plt.title('Medication Prescription Over Time for Subject {}'.format('NDAR_INVFE961JZZ'))\n",
    "plt.xticks(rotation=45)  # Rotate dates for better visibility\n",
    "plt.show()"
   ]
  },
  {
   "cell_type": "code",
   "execution_count": 644,
   "metadata": {},
   "outputs": [
    {
     "data": {
      "text/plain": [
       "0    1995-09-01\n",
       "1    1995-10-01\n",
       "2    1995-11-01\n",
       "3    1995-12-01\n",
       "4    1996-01-01\n",
       "5    1996-02-01\n",
       "6    1996-03-01\n",
       "7    1996-04-01\n",
       "8    1996-05-01\n",
       "9    1996-06-01\n",
       "10   1996-07-01\n",
       "11   1996-08-01\n",
       "12   1996-09-01\n",
       "Name: interview_date, dtype: datetime64[ns]"
      ]
     },
     "execution_count": 644,
     "metadata": {},
     "output_type": "execute_result"
    }
   ],
   "source": [
    "test_m['interview_date']"
   ]
  },
  {
   "cell_type": "code",
   "execution_count": 642,
   "metadata": {},
   "outputs": [],
   "source": [
    "test_m.loc[:, 'Morning'] = pd.to_numeric(test_m.loc[:, 'Morning'], errors='coerce')\n",
    "test_m.loc[:, 'Midday'] = pd.to_numeric(test_m.loc[:, 'Midday'], errors='coerce')\n",
    "test_m.loc[:, 'Night'] = pd.to_numeric(test_m.loc[:, 'Night'], errors='coerce')"
   ]
  },
  {
   "cell_type": "code",
   "execution_count": 643,
   "metadata": {},
   "outputs": [
    {
     "data": {
      "text/plain": [
       "<BarContainer object of 13 artists>"
      ]
     },
     "execution_count": 643,
     "metadata": {},
     "output_type": "execute_result"
    },
    {
     "data": {
      "image/png": "[encoded data removed]",
      "text/plain": [
       "<Figure size 1000x600 with 1 Axes>"
      ]
     },
     "metadata": {},
     "output_type": "display_data"
    }
   ],
   "source": [
    "plt.figure(figsize=(10, 6))\n",
    "\n",
    "# Creating a stacked bar plot\n",
    "plt.bar(test_m['interview_date'], test_m['Morning'], label='Morning', color='lightblue')\n",
    "plt.bar(test_m['interview_date'], test_m['Midday'], bottom=test_m['Morning'], label='Midday', color='orange')\n",
    "plt.bar(test_m['interview_date'], test_m['Night'], bottom=test_m['Morning'] + test_m['Midday'], label='Night', color='green')\n"
   ]
  },
  {
   "cell_type": "code",
   "execution_count": null,
   "metadata": {},
   "outputs": [],
   "source": [
    "\n",
    "\n",
    "# Adding labels and title\n",
    "plt.xlabel('Total Daily Dosage')\n",
    "plt.ylabel('Interview Date')\n",
    "plt.title('Evolution of Medication Dosage Over Time')\n",
    "plt.legend(title='Dosage Time')\n",
    "\n",
    "# Highlight days with no medication prescribed\n",
    "no_medication_dates = test_m[test_m['mmdose'] == '0']['interview_date']\n",
    "plt.scatter(no_medication_dates, [0] * len(no_medication_dates), color='red', label='No medication', zorder=5)\n",
    "\n",
    "# Improve the x-axis date formatting\n",
    "plt.gcf().autofmt_xdate()\n",
    "\n",
    "plt.show()"
   ]
  },
  {
   "cell_type": "code",
   "execution_count": null,
   "metadata": {},
   "outputs": [],
   "source": []
  }
 ],
 "metadata": {
  "kernelspec": {
   "display_name": "abcd",
   "language": "python",
   "name": "python3"
  },
  "language_info": {
   "codemirror_mode": {
    "name": "ipython",
    "version": 3
   },
   "file_extension": ".py",
   "mimetype": "text/x-python",
   "name": "python",
   "nbconvert_exporter": "python",
   "pygments_lexer": "ipython3",
   "version": "3.10.0"
  }
 },
 "nbformat": 4,
 "nbformat_minor": 2
}
