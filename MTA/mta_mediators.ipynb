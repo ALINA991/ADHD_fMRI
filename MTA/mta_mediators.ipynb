{
 "cells": [
  {
   "cell_type": "code",
   "execution_count": 36,
   "metadata": {},
   "outputs": [
    {
     "name": "stdout",
     "output_type": "stream",
     "text": [
      "The autoreload extension is already loaded. To reload it, use:\n",
      "  %reload_ext autoreload\n"
     ]
    }
   ],
   "source": [
    "from pathlib import Path \n",
    "import numpy as np \n",
    "import matplotlib.pyplot as plt \n",
    "import pandas as pd\n",
    "from collections import OrderedDict\n",
    "import sys\n",
    "import os\n",
    "import seaborn as sns\n",
    "import researchpy as rp\n",
    "import statsmodels.formula.api as smf\n",
    "import scipy.stats as stats\n",
    "import ipympl\n",
    "\n",
    "#sys.path.append('/Users/alina/Desktop/MIT/code/ADHD/MTA/helper')\n",
    "from helper import rr, prep, var_dict\n",
    "\n",
    "%load_ext autoreload\n",
    "%autoreload 2"
   ]
  },
  {
   "cell_type": "code",
   "execution_count": 37,
   "metadata": {},
   "outputs": [
    {
     "data": {
      "text/plain": [
       "['snap_baseline_p_t.csv',\n",
       " 'snap_14_p_t.csv',\n",
       " 'snap_24_p_t.csv',\n",
       " 'snap_36_p_t.csv',\n",
       " 'ssrs_baseline_p_t.csv',\n",
       " 'ssrs_14_p_t.csv',\n",
       " 'ssrs_24_p_t.csv',\n",
       " 'ssrs_36_p_t.csv',\n",
       " 'masc_c_treat.csv',\n",
       " 'pc_p_treat.csv',\n",
       " 'wechsler_c_treat.csv',\n",
       " 'snap_p_t.csv',\n",
       " 'ssrs_p_t.csv',\n",
       " 'masc_baseline.csv',\n",
       " 'masc_14.csv',\n",
       " 'masc_24.csv',\n",
       " 'masc_36.csv',\n",
       " 'pc_p_baseline.csv',\n",
       " 'pc_p_14.csv',\n",
       " 'pc_p_24.csv',\n",
       " 'pc_p_36.csv',\n",
       " 'wechsler_baseline.csv',\n",
       " 'wechsler_14.csv',\n",
       " 'wechsler_24.csv',\n",
       " 'wechsler_36.csv',\n",
       " 'masc_c.csv',\n",
       " 'pc_p.csv',\n",
       " 'wechsler_c.csv',\n",
       " 'treatment_groups.csv',\n",
       " 'comorb.csv',\n",
       " 'prev_med.csv',\n",
       " 'assist.csv',\n",
       " 'accept.csv']"
      ]
     },
     "execution_count": 37,
     "metadata": {},
     "output_type": "execute_result"
    }
   ],
   "source": [
    "data_root = '/Volumes/Samsung_T5/MIT/mta'\n",
    "data_derived = '/Volumes/Samsung_T5/MIT/mta/output/derived_data'\n",
    "os.listdir(data_derived)"
   ]
  },
  {
   "cell_type": "code",
   "execution_count": 38,
   "metadata": {},
   "outputs": [],
   "source": [
    "snap = pd.read_csv(Path(data_derived, 'snap_p_t.csv'))\n",
    "ssrs = pd.read_csv(Path(data_derived, 'ssrs_p_t.csv'))\n",
    "masc = pd.read_csv(Path(data_derived, 'masc_c.csv'))\n",
    "pc = pd.read_csv(Path(data_derived, 'pc_p.csv'))\n",
    "wechsler = pd.read_csv(Path(data_derived, 'wechsler_c.csv'))\n",
    "trt_name = pd.read_csv(Path(data_derived, 'treatment_groups.csv'))\n",
    "qsts = {'snap' : snap, 'ssrs': ssrs, 'masc': masc, 'pc': pc, 'wechsler' : wechsler}"
   ]
  },
  {
   "cell_type": "code",
   "execution_count": 39,
   "metadata": {},
   "outputs": [],
   "source": [
    "comorb = pd.read_csv(Path(data_derived, 'comorb.csv')) # comorbid ODD/CD anxiety\n",
    "prev_med = pd.read_csv(Path(data_derived, 'prev_med.csv')) #'prevous stimulant medictaion exposure\n",
    "assist = pd.read_csv(Path(data_derived, 'assist.csv')) #reciept of public assistance \n",
    "accept = pd.read_csv(Path(data_derived, 'accept.csv')) #initial acceptance of treatment arm\n",
    "medi = {'comorb': comorb, 'prev_med': prev_med, 'assist': assist, 'accept': accept}"
   ]
  },
  {
   "cell_type": "code",
   "execution_count": 40,
   "metadata": {},
   "outputs": [],
   "source": [
    "snap_p = prep.get_masked_df(snap, 'p_t_bool', 'eq', 1)\n",
    "snap_t = prep.get_masked_df(snap, 'p_t_bool', 'eq', 2)\n",
    "\n",
    "ssrs_p = prep.get_masked_df(ssrs, 'p_t_bool', 'eq', 1)\n",
    "ssrs_t = prep.get_masked_df(ssrs, 'p_t_bool', 'eq', 2)"
   ]
  },
  {
   "cell_type": "code",
   "execution_count": 41,
   "metadata": {},
   "outputs": [],
   "source": [
    "snap_p_baseline, snap_p_14, snap_p_24, snap_p_36 = prep.split_times(snap_p)\n",
    "snap_t_baseline, snap_t_14, snap_t_24, snap_t_36 = prep.split_times(snap_t)"
   ]
  },
  {
   "cell_type": "markdown",
   "metadata": {},
   "source": [
    "### Outcomes "
   ]
  },
  {
   "cell_type": "code",
   "execution_count": 42,
   "metadata": {},
   "outputs": [
    {
     "data": {
      "text/plain": [
       "{'snap_inatt': 'snainatx',\n",
       " 'snap_hyp': 'snahypax',\n",
       " 'snap_imp': 'snaimpux',\n",
       " 'snap_odd': 'snaoddx',\n",
       " 'ssrs_ss': 'ssptossx',\n",
       " 'ssrs_int': 'sspintx',\n",
       " 'masc_tot': 'masc_masctotalt',\n",
       " 'w_read': 'w1readb',\n",
       " 'w_math': 'w2math',\n",
       " 'w_spell': 'w3spell'}"
      ]
     },
     "execution_count": 42,
     "metadata": {},
     "output_type": "execute_result"
    }
   ],
   "source": [
    "all_predictors = [ 'treat',  'time', 'site']\n",
    "\n",
    "snap_outcome = ['snainatx', 'snahypax', 'snaimpux', 'snaoddx']\n",
    "snap_var = ['snap_inatt', 'snap_hyp', 'snap_imp', 'snap_odd']\n",
    "\n",
    "ssrs_outcome = ['ssptossx','sspintx' ]\n",
    "ssrs_var = ['ssrs_ss', 'ssrs_int']\n",
    "\n",
    "masc_outcome =  ['masc_masctotalt']\n",
    "masc_var = ['masc_tot']\n",
    "\n",
    "wechsler_outcome = ['w1readb', 'w2math', 'w3spell']\n",
    "wechsler_var = ['w_read', 'w_math', 'w_spell']\n",
    "\n",
    "outcome_all = np.concatenate((snap_outcome, ssrs_outcome, masc_outcome, wechsler_outcome))\n",
    "vars_all = np.concatenate((snap_var, ssrs_var, masc_var, wechsler_var))\n",
    "\n",
    "dict_outcome_var = dict(zip(vars_all, outcome_all))\n",
    "dict_outcome_var\n"
   ]
  },
  {
   "cell_type": "code",
   "execution_count": 43,
   "metadata": {},
   "outputs": [
    {
     "data": {
      "text/plain": [
       "['src_subject_id',\n",
       " 'interview_date',\n",
       " 'interview_age',\n",
       " 'sex',\n",
       " 'site',\n",
       " 'days_baseline',\n",
       " 'relationship']"
      ]
     },
     "execution_count": 43,
     "metadata": {},
     "output_type": "execute_result"
    }
   ],
   "source": [
    "baseline_vars = var_dict.get_baseline_vars()\n",
    "baseline_vars"
   ]
  },
  {
   "cell_type": "markdown",
   "metadata": {},
   "source": [
    "### mediators "
   ]
  },
  {
   "cell_type": "code",
   "execution_count": 44,
   "metadata": {},
   "outputs": [],
   "source": [
    "pred_vars = []\n",
    "for med in medi.values():\n",
    "    for col in med.columns:\n",
    "        if col not in baseline_vars and col not in pred_vars and col != 'Unnamed: 0':\n",
    "            pred_vars.append(col)"
   ]
  },
  {
   "cell_type": "code",
   "execution_count": 45,
   "metadata": {},
   "outputs": [
    {
     "data": {
      "text/plain": [
       "['cdorodd',\n",
       " 'pso',\n",
       " 'psoi',\n",
       " 'pag',\n",
       " 'pagi',\n",
       " 'pga',\n",
       " 'pgai',\n",
       " 'psa',\n",
       " 'psai',\n",
       " 'trtname',\n",
       " 'hi_24',\n",
       " 'demo61',\n",
       " 'd2dresp']"
      ]
     },
     "execution_count": 45,
     "metadata": {},
     "output_type": "execute_result"
    }
   ],
   "source": [
    "pred_vars"
   ]
  },
  {
   "cell_type": "code",
   "execution_count": 46,
   "metadata": {},
   "outputs": [
    {
     "data": {
      "text/html": [
       "<div>\n",
       "<style scoped>\n",
       "    .dataframe tbody tr th:only-of-type {\n",
       "        vertical-align: middle;\n",
       "    }\n",
       "\n",
       "    .dataframe tbody tr th {\n",
       "        vertical-align: top;\n",
       "    }\n",
       "\n",
       "    .dataframe thead th {\n",
       "        text-align: right;\n",
       "    }\n",
       "</style>\n",
       "<table border=\"1\" class=\"dataframe\">\n",
       "  <thead>\n",
       "    <tr style=\"text-align: right;\">\n",
       "      <th></th>\n",
       "      <th>src_subject_id</th>\n",
       "      <th>interview_date</th>\n",
       "      <th>interview_age</th>\n",
       "      <th>sex</th>\n",
       "      <th>site</th>\n",
       "      <th>days_baseline</th>\n",
       "      <th>relationship</th>\n",
       "      <th>snainatx</th>\n",
       "      <th>snainatt</th>\n",
       "      <th>snahypax</th>\n",
       "      <th>snahypat</th>\n",
       "      <th>snaimpux</th>\n",
       "      <th>snaimput</th>\n",
       "      <th>snaoddx</th>\n",
       "      <th>snaoddt</th>\n",
       "      <th>p_t_bool</th>\n",
       "      <th>log_days_baseline</th>\n",
       "    </tr>\n",
       "  </thead>\n",
       "  <tbody>\n",
       "    <tr>\n",
       "      <th>0</th>\n",
       "      <td>P1434</td>\n",
       "      <td>12/26/2004</td>\n",
       "      <td>203</td>\n",
       "      <td>M</td>\n",
       "      <td>2</td>\n",
       "      <td>3568</td>\n",
       "      <td>1</td>\n",
       "      <td>1.78</td>\n",
       "      <td>16.0</td>\n",
       "      <td>1.50</td>\n",
       "      <td>9.0</td>\n",
       "      <td>1.33</td>\n",
       "      <td>4.0</td>\n",
       "      <td>2.13</td>\n",
       "      <td>17.0</td>\n",
       "      <td>1</td>\n",
       "      <td>8.180041</td>\n",
       "    </tr>\n",
       "    <tr>\n",
       "      <th>1</th>\n",
       "      <td>P1435</td>\n",
       "      <td>09/03/1995</td>\n",
       "      <td>77</td>\n",
       "      <td>F</td>\n",
       "      <td>6</td>\n",
       "      <td>-206</td>\n",
       "      <td>1</td>\n",
       "      <td>3.00</td>\n",
       "      <td>27.0</td>\n",
       "      <td>3.00</td>\n",
       "      <td>18.0</td>\n",
       "      <td>3.00</td>\n",
       "      <td>9.0</td>\n",
       "      <td>2.75</td>\n",
       "      <td>22.0</td>\n",
       "      <td>1</td>\n",
       "      <td>0.000000</td>\n",
       "    </tr>\n",
       "    <tr>\n",
       "      <th>2</th>\n",
       "      <td>P1435</td>\n",
       "      <td>07/21/1996</td>\n",
       "      <td>88</td>\n",
       "      <td>F</td>\n",
       "      <td>6</td>\n",
       "      <td>116</td>\n",
       "      <td>1</td>\n",
       "      <td>1.89</td>\n",
       "      <td>17.0</td>\n",
       "      <td>2.83</td>\n",
       "      <td>17.0</td>\n",
       "      <td>3.00</td>\n",
       "      <td>9.0</td>\n",
       "      <td>2.38</td>\n",
       "      <td>19.0</td>\n",
       "      <td>1</td>\n",
       "      <td>4.762174</td>\n",
       "    </tr>\n",
       "    <tr>\n",
       "      <th>3</th>\n",
       "      <td>P1435</td>\n",
       "      <td>10/02/1996</td>\n",
       "      <td>90</td>\n",
       "      <td>F</td>\n",
       "      <td>6</td>\n",
       "      <td>189</td>\n",
       "      <td>1</td>\n",
       "      <td>1.78</td>\n",
       "      <td>16.0</td>\n",
       "      <td>1.83</td>\n",
       "      <td>11.0</td>\n",
       "      <td>1.67</td>\n",
       "      <td>5.0</td>\n",
       "      <td>2.38</td>\n",
       "      <td>19.0</td>\n",
       "      <td>1</td>\n",
       "      <td>5.247024</td>\n",
       "    </tr>\n",
       "    <tr>\n",
       "      <th>4</th>\n",
       "      <td>P1435</td>\n",
       "      <td>04/30/1997</td>\n",
       "      <td>97</td>\n",
       "      <td>F</td>\n",
       "      <td>6</td>\n",
       "      <td>399</td>\n",
       "      <td>1</td>\n",
       "      <td>0.89</td>\n",
       "      <td>8.0</td>\n",
       "      <td>1.00</td>\n",
       "      <td>6.0</td>\n",
       "      <td>0.67</td>\n",
       "      <td>2.0</td>\n",
       "      <td>1.75</td>\n",
       "      <td>14.0</td>\n",
       "      <td>1</td>\n",
       "      <td>5.991465</td>\n",
       "    </tr>\n",
       "    <tr>\n",
       "      <th>...</th>\n",
       "      <td>...</td>\n",
       "      <td>...</td>\n",
       "      <td>...</td>\n",
       "      <td>...</td>\n",
       "      <td>...</td>\n",
       "      <td>...</td>\n",
       "      <td>...</td>\n",
       "      <td>...</td>\n",
       "      <td>...</td>\n",
       "      <td>...</td>\n",
       "      <td>...</td>\n",
       "      <td>...</td>\n",
       "      <td>...</td>\n",
       "      <td>...</td>\n",
       "      <td>...</td>\n",
       "      <td>...</td>\n",
       "      <td>...</td>\n",
       "    </tr>\n",
       "    <tr>\n",
       "      <th>9652</th>\n",
       "      <td>P1868</td>\n",
       "      <td>11/18/2002</td>\n",
       "      <td>154</td>\n",
       "      <td>F</td>\n",
       "      <td>1</td>\n",
       "      <td>1753</td>\n",
       "      <td>14</td>\n",
       "      <td>0.22</td>\n",
       "      <td>2.0</td>\n",
       "      <td>0.00</td>\n",
       "      <td>0.0</td>\n",
       "      <td>0.00</td>\n",
       "      <td>0.0</td>\n",
       "      <td>0.00</td>\n",
       "      <td>0.0</td>\n",
       "      <td>2</td>\n",
       "      <td>7.469654</td>\n",
       "    </tr>\n",
       "    <tr>\n",
       "      <th>9653</th>\n",
       "      <td>P1868</td>\n",
       "      <td>11/18/2002</td>\n",
       "      <td>154</td>\n",
       "      <td>F</td>\n",
       "      <td>1</td>\n",
       "      <td>1753</td>\n",
       "      <td>14</td>\n",
       "      <td>0.22</td>\n",
       "      <td>2.0</td>\n",
       "      <td>0.17</td>\n",
       "      <td>1.0</td>\n",
       "      <td>0.67</td>\n",
       "      <td>2.0</td>\n",
       "      <td>0.13</td>\n",
       "      <td>1.0</td>\n",
       "      <td>2</td>\n",
       "      <td>7.469654</td>\n",
       "    </tr>\n",
       "    <tr>\n",
       "      <th>9654</th>\n",
       "      <td>P1868</td>\n",
       "      <td>10/25/2004</td>\n",
       "      <td>178</td>\n",
       "      <td>F</td>\n",
       "      <td>1</td>\n",
       "      <td>2460</td>\n",
       "      <td>14</td>\n",
       "      <td>0.11</td>\n",
       "      <td>1.0</td>\n",
       "      <td>0.33</td>\n",
       "      <td>2.0</td>\n",
       "      <td>0.33</td>\n",
       "      <td>1.0</td>\n",
       "      <td>0.13</td>\n",
       "      <td>1.0</td>\n",
       "      <td>2</td>\n",
       "      <td>7.808323</td>\n",
       "    </tr>\n",
       "    <tr>\n",
       "      <th>9655</th>\n",
       "      <td>P1868</td>\n",
       "      <td>11/02/2004</td>\n",
       "      <td>178</td>\n",
       "      <td>F</td>\n",
       "      <td>1</td>\n",
       "      <td>2468</td>\n",
       "      <td>14</td>\n",
       "      <td>1.00</td>\n",
       "      <td>9.0</td>\n",
       "      <td>1.50</td>\n",
       "      <td>9.0</td>\n",
       "      <td>1.00</td>\n",
       "      <td>3.0</td>\n",
       "      <td>0.50</td>\n",
       "      <td>4.0</td>\n",
       "      <td>2</td>\n",
       "      <td>7.811568</td>\n",
       "    </tr>\n",
       "    <tr>\n",
       "      <th>9656</th>\n",
       "      <td>P1868</td>\n",
       "      <td>10/13/2006</td>\n",
       "      <td>202</td>\n",
       "      <td>F</td>\n",
       "      <td>1</td>\n",
       "      <td>3178</td>\n",
       "      <td>14</td>\n",
       "      <td>0.33</td>\n",
       "      <td>3.0</td>\n",
       "      <td>0.67</td>\n",
       "      <td>4.0</td>\n",
       "      <td>0.00</td>\n",
       "      <td>0.0</td>\n",
       "      <td>0.00</td>\n",
       "      <td>0.0</td>\n",
       "      <td>2</td>\n",
       "      <td>8.064322</td>\n",
       "    </tr>\n",
       "  </tbody>\n",
       "</table>\n",
       "<p>9657 rows × 17 columns</p>\n",
       "</div>"
      ],
      "text/plain": [
       "     src_subject_id interview_date  interview_age sex  site  days_baseline  \\\n",
       "0             P1434     12/26/2004            203   M     2           3568   \n",
       "1             P1435     09/03/1995             77   F     6           -206   \n",
       "2             P1435     07/21/1996             88   F     6            116   \n",
       "3             P1435     10/02/1996             90   F     6            189   \n",
       "4             P1435     04/30/1997             97   F     6            399   \n",
       "...             ...            ...            ...  ..   ...            ...   \n",
       "9652          P1868     11/18/2002            154   F     1           1753   \n",
       "9653          P1868     11/18/2002            154   F     1           1753   \n",
       "9654          P1868     10/25/2004            178   F     1           2460   \n",
       "9655          P1868     11/02/2004            178   F     1           2468   \n",
       "9656          P1868     10/13/2006            202   F     1           3178   \n",
       "\n",
       "      relationship  snainatx  snainatt  snahypax  snahypat  snaimpux  \\\n",
       "0                1      1.78      16.0      1.50       9.0      1.33   \n",
       "1                1      3.00      27.0      3.00      18.0      3.00   \n",
       "2                1      1.89      17.0      2.83      17.0      3.00   \n",
       "3                1      1.78      16.0      1.83      11.0      1.67   \n",
       "4                1      0.89       8.0      1.00       6.0      0.67   \n",
       "...            ...       ...       ...       ...       ...       ...   \n",
       "9652            14      0.22       2.0      0.00       0.0      0.00   \n",
       "9653            14      0.22       2.0      0.17       1.0      0.67   \n",
       "9654            14      0.11       1.0      0.33       2.0      0.33   \n",
       "9655            14      1.00       9.0      1.50       9.0      1.00   \n",
       "9656            14      0.33       3.0      0.67       4.0      0.00   \n",
       "\n",
       "      snaimput  snaoddx  snaoddt  p_t_bool  log_days_baseline  \n",
       "0          4.0     2.13     17.0         1           8.180041  \n",
       "1          9.0     2.75     22.0         1           0.000000  \n",
       "2          9.0     2.38     19.0         1           4.762174  \n",
       "3          5.0     2.38     19.0         1           5.247024  \n",
       "4          2.0     1.75     14.0         1           5.991465  \n",
       "...        ...      ...      ...       ...                ...  \n",
       "9652       0.0     0.00      0.0         2           7.469654  \n",
       "9653       2.0     0.13      1.0         2           7.469654  \n",
       "9654       1.0     0.13      1.0         2           7.808323  \n",
       "9655       3.0     0.50      4.0         2           7.811568  \n",
       "9656       0.0     0.00      0.0         2           8.064322  \n",
       "\n",
       "[9657 rows x 17 columns]"
      ]
     },
     "execution_count": 46,
     "metadata": {},
     "output_type": "execute_result"
    }
   ],
   "source": [
    "snap"
   ]
  },
  {
   "cell_type": "code",
   "execution_count": 48,
   "metadata": {},
   "outputs": [],
   "source": [
    "from scipy.stats import zscore"
   ]
  },
  {
   "cell_type": "code",
   "execution_count": 49,
   "metadata": {},
   "outputs": [],
   "source": [
    "zscore = zscore(np.array(snap['snahypax']))"
   ]
  },
  {
   "cell_type": "code",
   "execution_count": 53,
   "metadata": {},
   "outputs": [
    {
     "data": {
      "text/plain": [
       "0       1.50\n",
       "1       3.00\n",
       "2       2.83\n",
       "3       1.83\n",
       "4       1.00\n",
       "        ... \n",
       "9652    0.00\n",
       "9653    0.17\n",
       "9654    0.33\n",
       "9655    1.50\n",
       "9656    0.67\n",
       "Name: snahypax, Length: 9657, dtype: float64"
      ]
     },
     "execution_count": 53,
     "metadata": {},
     "output_type": "execute_result"
    }
   ],
   "source": [
    "snap['snahypax']"
   ]
  },
  {
   "cell_type": "code",
   "execution_count": 63,
   "metadata": {},
   "outputs": [],
   "source": [
    "data = snap['snaoddx']\n"
   ]
  },
  {
   "cell_type": "code",
   "execution_count": 64,
   "metadata": {},
   "outputs": [
    {
     "data": {
      "application/vnd.jupyter.widget-view+json": {
       "model_id": "5ce50cf8d4c7466dbef5ec8538872b69",
       "version_major": 2,
       "version_minor": 0
      },
      "image/png": "[encoded data removed]",
      "text/html": [
       "\n",
       "            <div style=\"display: inline-block;\">\n",
       "                <div class=\"jupyter-widgets widget-label\" style=\"text-align: center;\">\n",
       "                    Figure\n",
       "                </div>\n",
       "                <img src='data:image/png;base64,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' width=640.0/>\n",
       "            </div>\n",
       "        "
      ],
      "text/plain": [
       "Canvas(toolbar=Toolbar(toolitems=[('Home', 'Reset original view', 'home', 'home'), ('Back', 'Back to previous …"
      ]
     },
     "metadata": {},
     "output_type": "display_data"
    }
   ],
   "source": [
    "mean = data.mean()\n",
    "std = data.std()\n",
    "zscore = (data - mean ) / std\n",
    "zscore\n",
    "plt.hist(zscore)\n",
    "plt.show()"
   ]
  },
  {
   "cell_type": "code",
   "execution_count": null,
   "metadata": {},
   "outputs": [],
   "source": []
  }
 ],
 "metadata": {
  "kernelspec": {
   "display_name": "abcd",
   "language": "python",
   "name": "python3"
  },
  "language_info": {
   "codemirror_mode": {
    "name": "ipython",
    "version": 3
   },
   "file_extension": ".py",
   "mimetype": "text/x-python",
   "name": "python",
   "nbconvert_exporter": "python",
   "pygments_lexer": "ipython3",
   "version": "3.10.0"
  }
 },
 "nbformat": 4,
 "nbformat_minor": 2
}
