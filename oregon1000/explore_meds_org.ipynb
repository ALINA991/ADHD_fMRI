{
 "cells": [
  {
   "cell_type": "code",
   "execution_count": 1,
   "metadata": {},
   "outputs": [],
   "source": [
    "from pathlib import Path \n",
    "import numpy as np \n",
    "import matplotlib.pyplot as plt \n",
    "import pandas as pd\n",
    "from collections import OrderedDict\n",
    "import sys\n",
    "import os\n",
    "import seaborn as sns\n",
    "import scipy.stats as ss"
   ]
  },
  {
   "cell_type": "code",
   "execution_count": 130,
   "metadata": {},
   "outputs": [],
   "source": [
    "data_root = Path(\"/Volumes/Samsung_T5/MIT/oregon2857\") # yeras 1-8 \n",
    "defs_medhist_file = Path('/Users/alina/Desktop/oregon000/meddem01_definitions.xlsx')\n",
    "save_path = Path( data_root, 'output')\n",
    "save_path_fig = Path(save_path, 'figs')"
   ]
  },
  {
   "cell_type": "code",
   "execution_count": 141,
   "metadata": {},
   "outputs": [
    {
     "data": {
      "text/plain": [
       "{'attentiondisorder': 'Does (did) the subject have Attention Deficit Disorder +/- Hyperactivity?',\n",
       " 'straddadditional': 'Additional Information',\n",
       " 'strtxreceivedadd': 'What treatment was/is received?',\n",
       " 'child_otherpsychdis': 'Does (did) the Child have a Psychiatric Disorder?',\n",
       " 'child_otherpsychdis_cmt': \"Specify Child's Psychiatric Disorder\",\n",
       " 'strtxreceivedpsycdis': 'What treatment was/is received?',\n",
       " 'touret': 'Tourette Syndrome',\n",
       " 'strillness1': 'Date of 1st illness',\n",
       " 'strage1': \"Child's age at 1st illness\",\n",
       " 'strtx1': 'Treatment received',\n",
       " 'stroutcome1': 'Outcome',\n",
       " 'strillness2': 'Date of 2nd illness',\n",
       " 'strage2': \"Child's age at 2nd illness\",\n",
       " 'strtx2': 'Treatment received',\n",
       " 'stroutcome2': 'Outcome',\n",
       " 'strillness3': 'Date of 3rd illness',\n",
       " 'strage3': \"Child's age at 3rd illness\",\n",
       " 'strtx3': 'Treatment received',\n",
       " 'stroutcome3': 'Outcome',\n",
       " 'strillness4': 'Date of 4th illness',\n",
       " 'strage4': \"Child's age at 4th illness\",\n",
       " 'strtx4': 'Treatment received',\n",
       " 'stroutcome4': 'Outcome',\n",
       " 'medication1_name': 'Name first medication that the participant has taken',\n",
       " 'strmedstart1': 'What was the start date?',\n",
       " 'strmedend1': 'What was the end date?',\n",
       " 'strreason1': 'Reason for prescription 1',\n",
       " 'strwork1': 'Did it work?',\n",
       " 'medication2_name': 'Name second medication that the participant has taken',\n",
       " 'strmedstart2': 'What was the start date?',\n",
       " 'strmedend2': 'What was the end date?',\n",
       " 'strreason2': 'Reason for prescription 2',\n",
       " 'strwork2': 'Did it work?',\n",
       " 'medication3_name': 'Name third medication that the participant has taken',\n",
       " 'strmedstart3': 'What was the start date?',\n",
       " 'strmedend3': 'What was the end date?',\n",
       " 'strreason3': 'Reason for prescription 3',\n",
       " 'strwork3': 'Did it work?',\n",
       " 'medication4_name': 'Name fourth medication that the participant has taken',\n",
       " 'strmedstart4': 'What was the start date?',\n",
       " 'strmedend4': 'What was the end date?',\n",
       " 'strreason4': 'Reason for prescription 4',\n",
       " 'strwork4': 'Did it work?',\n",
       " 'medication5_name': 'Name fifth medication that the participant has taken',\n",
       " 'strmedstart5': 'What was the start date?',\n",
       " 'strmedend5': 'What was the end date?',\n",
       " 'strreason5': 'Reason for prescription 5',\n",
       " 'strwork5': 'Did it work?',\n",
       " 'medication6_name': 'Name sixth medication that the participant has taken',\n",
       " 'strmedstart6': 'What was the start date?',\n",
       " 'strmedend6': 'What was the end date?',\n",
       " 'strreason6': 'Reason for prescription 6',\n",
       " 'strwork6': 'Did it work?',\n",
       " 'medication7_name': 'Name seventh medication that the participant has taken',\n",
       " 'strmedstart7': 'What was the start date?',\n",
       " 'strmedend7': 'What was the end date?',\n",
       " 'strreason7': 'Reason for prescription 7',\n",
       " 'strwork7': 'Did it work?',\n",
       " 'medication8_name': 'Name eighth medication that the participant has taken',\n",
       " 'strmedstart8': 'What was the start date?',\n",
       " 'strmedend8': 'What was the end date?',\n",
       " 'strreason8': 'Reason for prescription 8',\n",
       " 'strwork8': 'Did it work?',\n",
       " 'strbeginconcern': 'When did you first begin to have concerns about the child?',\n",
       " 'fsymc': 'FIRST SYMPTOMS TO AROUSE PARENTAL CONCERN',\n",
       " 'diag_ageatdiag': 'Age at diagnosis(in months)',\n",
       " 'medhx_sleep_prob': 'Does subject have sleep problems?',\n",
       " 'strsleepagestart': 'Age when issues began. In months',\n",
       " 'strsleepageend': 'Age when issues ended. In months',\n",
       " 'strspec1': 'Provider Speciality',\n",
       " 'strspec2': 'Provider Speciality',\n",
       " 'strspec3': 'Provider Speciality',\n",
       " 'strspec4': 'Provider Speciality',\n",
       " 'strspec5': 'Provider Speciality',\n",
       " 'strspec6': 'Provider Speciality',\n",
       " 'strschooltype1': 'School Type',\n",
       " 'stryears1': 'Years Attended',\n",
       " 'strgrades1': 'Which Grades?',\n",
       " 'strservices1': 'Services Provided',\n",
       " 'strschooltype2': 'School Type',\n",
       " 'stryears2': 'Years Attended',\n",
       " 'strgrades2': 'Which Grades?',\n",
       " 'strservices2': 'Services Provided',\n",
       " 'strschooltype3': 'School Type',\n",
       " 'stryears3': 'Years Attended',\n",
       " 'strgrades3': 'Which Grades?',\n",
       " 'strservices3': 'Services Provided',\n",
       " 'strschooltype4': 'School Type',\n",
       " 'stryears4': 'Years Attended',\n",
       " 'strgrades4': 'Which Grades?',\n",
       " 'strservices4': 'Services Provided',\n",
       " 'strschooltype5': 'School Type',\n",
       " 'stryears5': 'Years Attended',\n",
       " 'strgrades5': 'Which Grades?',\n",
       " 'strservices5': 'Services Provided',\n",
       " 'strschooltype6': 'School Type',\n",
       " 'stryears6': 'Years Attended',\n",
       " 'strgrades6': 'Which Grades?',\n",
       " 'strservices6': 'Services Provided',\n",
       " 'comments_misc': 'Miscellaneous comments on study, interview, methodology relevant to this form data',\n",
       " 'race': 'Race of study subject',\n",
       " 'ethnicity': 'Ethnicity of participant',\n",
       " 'version_form': 'Form used/assessment name',\n",
       " 'phenotype': 'Phenotype/diagnosis for the subject',\n",
       " 'phenotype_description': 'Description of the phenotype for the subject',\n",
       " 'educat': 'Number of years in formal education',\n",
       " 'grade_highed': 'Grade/Highest education',\n",
       " 'therapist': 'Have you seen a therapist in the past month?',\n",
       " 'therapistdatesreason': 'Reason for seeking a mental health professional',\n",
       " 'scid_diagnosis': 'Diagnoses according to SCID-V',\n",
       " 'diagnosis_severity': 'If meets criteria during the past month, indicate current severity',\n",
       " 'symptoms': 'If no current symptoms',\n",
       " 'age_1st_sx': 'Age of onset of psychiatric symptoms (years)',\n",
       " 'scidmodc13f': 'C13f. Number of episodes or exacerbations',\n",
       " 'course_specifier': 'Illness course',\n",
       " 'mood_specifier': 'Current mood state',\n",
       " 'relation1diag': 'Likely Diagnosis 1',\n",
       " 'relation2diag': 'Likely Diagnosis 2',\n",
       " 'relation3diag': 'Likely Diagnosis 3',\n",
       " 'relation4diag': 'Likely Diagnosis 4',\n",
       " 'relation5diag': 'Likely Diagnosis 5',\n",
       " 'ch_41_04_oth': 'Please describe the type of diagnosis they received:',\n",
       " 'cepisp': 'Current diagnosis specify',\n",
       " 'nonpsych_nomed': 'If participant has no medications prescribed',\n",
       " 'cmd001': 'Medication number',\n",
       " 'route1': 'route 1',\n",
       " 'medication1_dosage': 'First medication dosage',\n",
       " 'medication1_unit': 'Units of medication #1:',\n",
       " 'freq1': 'frequency medication 1',\n",
       " 'nonpsych_medn2': 'Medication number',\n",
       " 'route2': 'route 2',\n",
       " 'medication2_dosage': 'Second medication dosage',\n",
       " 'medication2_unit': 'Units of medication #2:',\n",
       " 'freq2': 'frequency medication 2',\n",
       " 'nonpsych_medn3': 'Medication number',\n",
       " 'route3': 'route 3',\n",
       " 'medication3_dosage': 'Third medication dosage',\n",
       " 'medication3_unit': 'Units of medication #3:',\n",
       " 'freq3': 'frequency medication 3',\n",
       " 'nonpsych_medn4': 'Medication number',\n",
       " 'route4': 'route 4',\n",
       " 'medication4_dosage': 'Fourth  medication dosage',\n",
       " 'medication4_unit': 'Units of medication #4:',\n",
       " 'freq4': 'frequency medication 4',\n",
       " 'nonpsych_medn5': 'Medication number',\n",
       " 'route5': 'route 5',\n",
       " 'medication5_dosage': 'Fifth medication dosage',\n",
       " 'medication5_unit': 'Units of medication #5:',\n",
       " 'freq5': 'frequency medication 5',\n",
       " 'nonpsych_medn6': 'Medication number',\n",
       " 'route6': 'route 6',\n",
       " 'medication6_dosage': 'Sixth medication dosage',\n",
       " 'medication6_unit': 'Units of medication #6:',\n",
       " 'freq6': 'frequency medication 6',\n",
       " 'nonpsych_medn7': 'Medication number',\n",
       " 'route7': 'route 7',\n",
       " 'medication7_dosage': 'Seventh medication dosage',\n",
       " 'rx7dosu': 'Prescription 7, dosage units',\n",
       " 'freq7': 'frequency medication 7',\n",
       " 'nonpsych_medn8': 'Medication number',\n",
       " 'route8': 'route 8',\n",
       " 'medication8_dosage': 'Eighth medication dosage',\n",
       " 'rx8dosu': 'Prescription 8, dosage units',\n",
       " 'freq8': 'frequency medication 8',\n",
       " 'nonpsych_medn9': 'Medication number',\n",
       " 'medication9_name': 'Name ninth medication that the participant has taken',\n",
       " 'strreason9': 'Reason for prescription 9',\n",
       " 'route9': 'route 9',\n",
       " 'medication9_dosage': 'Ninth medication dosage',\n",
       " 'medication9_unit': 'Units of medication #9',\n",
       " 'freq9': 'frequency medication 9',\n",
       " 'medhistory_18': 'Been diagnosed with sleep apnea?',\n",
       " 'medhistory_18_txt': 'Description of sleep apnea',\n",
       " 'medhistory_21a': '(Control participants only) Do you currently have a condition or have ever had a condition that required treatment with antidepressant, anti-anxiety, or antipsychotic medications?',\n",
       " 'medhistory_21a_txt': 'Description of condition that required antidepressant, anti-anxiety, or antipsychotic medications',\n",
       " 'medication_name': 'Name of medication',\n",
       " 'medhistory_21b_txt': 'Description of antidepressant, anti-anxiety, or antipsychotic medications',\n",
       " 'medhistory_21c': 'Are you currently taking the medication?',\n",
       " 'medhistory_21d': 'When did you most recently take the medication?',\n",
       " 'cast39_adhd': 'Has s/he ever been diagnosed with hyperactivity/attention deficit disorder (ADHD)?',\n",
       " 'medhistory_24_txt': 'Description of hyperactivity/ attention deficit disorder',\n",
       " 'medhistory_29a': 'Sometimes people take medicines like amphetamines, barbiturates, psychedelics, methadone, heroin, codeine, cocaine, marijuana, or other drugs just to see how they work or enjoy the feeling. Have you used any of these in the past 6 months?',\n",
       " 'medhistory_29b': 'If yes, which have you tried (drugs)?',\n",
       " 'medhistory_29c': 'When was the last time you used one of these drugs?',\n",
       " 'medhistory_29d': 'How many times per month do you use one of these drugs?',\n",
       " 'medhistory_29e': 'Is this typical of your usual pattern of drug use in the past 6 months?',\n",
       " 'hosp_mh': '32. Has your child ever been hospitalized for: (choice=Mental Health)',\n",
       " 'psych_family': 'Do you have a history of psychological problems in your family?',\n",
       " 'psych_family_describe': 'Describe psychological problems.',\n",
       " 'atrq_02ect': 'Electro-convulsive treatment  (ECT)',\n",
       " 'shock_treat_list': \"List the total number of shock treatments that you've received\",\n",
       " 'shock_treat_date': \"Give the date of the most recent shock treatment that you've received\",\n",
       " 'mhcomm': 'Mental Health Other/Comments',\n",
       " 'txmeds': 'taken prescription medication',\n",
       " 'med1_time': 'medication 1 time taken',\n",
       " 'med2_time': 'medication 2 time taken',\n",
       " 'med3_time': 'medication 3 time taken',\n",
       " 'med4_time': 'medication 4 time taken',\n",
       " 'med5_time': 'medication 5 time taken',\n",
       " 'stim1_name': 'Name of Stimulant 1',\n",
       " 'stim2_name': 'Name of Stimulant 2',\n",
       " 'stim3_name': 'Name of Stimulant 3',\n",
       " 'stim4_name': 'Name of Stimulant 4',\n",
       " 'stim5_name': 'Name of Stimulant 5',\n",
       " 'stim1_amount': 'Amount taken of Stimulant 1',\n",
       " 'stim2_amount': 'Amount taken of Stimulant 2',\n",
       " 'stim3_amount': 'Amount taken of Stimulant 3',\n",
       " 'stim4_amount': 'Amount taken of Stimulant 4',\n",
       " 'stim5_amount': 'Amount taken of Stimulant 5',\n",
       " 'stim1_time': 'Time taken for Stimulant 1',\n",
       " 'stim2_time': 'Time taken for Stimulant 2',\n",
       " 'stim3_time': 'Time taken for Stimulant 3',\n",
       " 'stim4_time': 'Time taken for Stimulant 4',\n",
       " 'stim5_time': 'Time taken for Stimulant 5',\n",
       " 'mhx001aa': 'History of: Allergies - Drugs',\n",
       " 'mhx001ab': 'If YES, Enter onset/resolved date indicate ongoing with treatment or not. If NOT EVALUATED, explain or describe below: Allergies - Drugs',\n",
       " 'mhx001b': 'Allergies. Other (Specify:)',\n",
       " 'mtxh_curmedconsistency1': 'Medication 1. In a typical week, on how many days out of 7 does the participant follow his/her dose schedule?',\n",
       " 'mtxh_curmedconsistency2': 'Medication 2. In a typical week, on how many days out of 7 does the participant follow his/her dose schedule?',\n",
       " 'mtxh_curmedconsistency3': 'Medication 3. In a typical week, on how many days out of 7 does the participant follow his/her dose schedule?',\n",
       " 'mtxh_pasttreatagestopped': 'At what age was non-medication treatment stopped if it is no longer being received?',\n",
       " 'dem_tranq_sleeping': 'Do you ever take tranquilizers or sleeping pills? ',\n",
       " 'dem_tranq_sleeping_y': 'Do you ever take tranquilizers or sleeping pills? If yes, please specify:',\n",
       " 'med_cur': 'Medications taking currently',\n",
       " 'med_prev': 'Medications taken previously'}"
      ]
     },
     "execution_count": 141,
     "metadata": {},
     "output_type": "execute_result"
    }
   ],
   "source": [
    "defs_medhist = pd.read_excel(defs_medhist_file)\n",
    "defs_filtered = defs_medhist.query(\"include == 'x'\")\n",
    "med_dem_var_name = defs_filtered['ElementName']\n",
    "med_dem_var_ = defs_filtered['ElementDescription']\n",
    "med_dem_var2def = dict(zip(med_dem_var_name, med_dem_var_))\n",
    "med_dem_var2def"
   ]
  },
  {
   "cell_type": "code",
   "execution_count": 47,
   "metadata": {},
   "outputs": [
    {
     "data": {
      "text/plain": [
       "['Package_1230816',\n",
       " 'meddem01.txt',\n",
       " 'nimh_medical_history_ques01.txt',\n",
       " 'README.pdf']"
      ]
     },
     "execution_count": 47,
     "metadata": {},
     "output_type": "execute_result"
    }
   ],
   "source": [
    "os.listdir(data_root)"
   ]
  },
  {
   "cell_type": "code",
   "execution_count": 154,
   "metadata": {},
   "outputs": [
    {
     "name": "stderr",
     "output_type": "stream",
     "text": [
      "/var/folders/hf/frc4nxb532j7gqr3_36l6kmh0000gn/T/ipykernel_5560/3158746695.py:8: DtypeWarning: Columns (0,1,2,4,6,8,9,10,11,12,13,14,15,16,17,18,19,20,21,22,23,24,25,26,27,28,29,30,31,32,33,34,35,36,37,38,39,40,41,42,43,44,45,46,47,48,49,50,51,52,53,55,56,57,58,59,60,61,62,63,64,65,66,67,68,69,70,71,73,74,75,76,77,78,79,80,81,82,83,84,85,86,88,89,90,91,92,93,94,95,96,97,98,100,101,102,103,104,106,107,108,109,110,112,113,114,115,116,117,118,119,120,121,122,123,124,125,126,127,128,129,130,131,132,133,134,135,136,137,138,139,140,141,142,143,144,145,146,147,148,149,150,151,152,153,154,155,156,157,158,159,160,161,162,163,164,165,166,167,168,169,170,171,172,173,174,175,176,177,178,179,180,181,182,183,184,185,186,187,188,189,190,191,192,193,194,195,196,197,198,199,200,201,202,203,204,205,206,207,208,209,210,211,212,213,214,215,216,217,218,219,220,221,222,223,224,225,226,227,228,229,230,231,232,233,234,235,236,237,238,239,240,241,242,243,244,245,246,247,248,249,250,251,252,253,254,255,256,257,258,259,260,261,262,263,264,265,266,267,268,269,270,271,272,273,274,275,276,277,278,279,280,281,282,283,284,285,286,287,288,289,290,291,292,293,294,295,296,297,298,299,300,301,302,303,304,305,306,307,308,309,310,311,312,313,314,315,316,317,318,319,320,321,322,323,324,325,326,327,328,329,330,331,332,333,334,335,336,337,338,339,340,341,342,343,344,345,346,347,348,349,350,351,352,353,354,355,356,357,358,359,360,361,362,363,364,365,366,367,368,369,370,371,372,373,374,375,376,377,378,379,380,381,382,383,384,385,386,387,388,389,390,391,392,393,394,395,396,397,398,399,400,401,402,403,404,405,406,407,408,409,410,411,412,413,414,415,416,417,418,419,420,421,422,423,424,425,426,427,428,429,430,431,432,433,434,435,436,437,438,439,440,441,442,443,444,445,446,447,448,449,450,451,452,453,454,455,456,457,458,459,460,461,462,463,464,465,466,467,468,469,470,471,472,473,474,475,476,477,478,479,480,481,482,483,484,485,486,487,488,489,490,491,492,493,494,495,496,497,498,499,500,501,502,503,504,505,506,507,508,509,510,511,512,513,514,516,517,518,519,520,521,522,523,524,525,526,527,528,529,530,531,532,533,534,535,536,537,538,539,540,541,542,543,544,545,546,547,548,549,550,551,552,553,554,555,556,557,558,559,560,561,562,563,564,565,566,567,568,569,570,571,572,573,574,575,576,577,578,579,580,581,582,583,584,585,586,587,588,589,590,591,592,593,594,595,596,597,598,599,600,601,602,603,604,605,606,607,608,609,610,611,612,613,614,615,616,617,618,619,620,621,622,623,624,625,626,627,628,629,630,631,632,633,634,635,636,637,638,639,640,641,642,643,644,645,646,647,648,649,650,651,652,653,654,655,656,657,658,659,660,661,662,663,664,665,666,667,668,669,670,671,672,673,674,675,676,677,678,679,680,681,682,683,684,685,686) have mixed types. Specify dtype option on import or set low_memory=False.\n",
      "  med_dem= pd.read_csv( Path(data_root, med_dem_file), delimiter=\"\\t\")\n"
     ]
    }
   ],
   "source": [
    "med_hist_file = 'nimh_medical_history_ques01.txt'\n",
    "med_hist_filenn = 'nimh_medical_history_ques01nn.txt'\n",
    "\n",
    "med_dem_file  = 'meddem01.txt'\n",
    "\n",
    "med_hist = pd.read_csv(Path(data_root, med_hist_file), delimiter=\"\\t\")\n",
    "med_histnn = pd.read_csv(Path(data_root, med_hist_filenn), delimiter=\"\\t\")\n",
    "med_dem= pd.read_csv( Path(data_root, med_dem_file), delimiter=\"\\t\")"
   ]
  },
  {
   "cell_type": "code",
   "execution_count": 160,
   "metadata": {},
   "outputs": [
    {
     "data": {
      "text/plain": [
       "(108, 773)"
      ]
     },
     "execution_count": 160,
     "metadata": {},
     "output_type": "execute_result"
    }
   ],
   "source": [
    "med_hist.shape"
   ]
  },
  {
   "cell_type": "code",
   "execution_count": 158,
   "metadata": {},
   "outputs": [
    {
     "data": {
      "text/plain": [
       "(108, 773)"
      ]
     },
     "execution_count": 158,
     "metadata": {},
     "output_type": "execute_result"
    }
   ],
   "source": [
    "med_histnn.shape"
   ]
  },
  {
   "cell_type": "code",
   "execution_count": 74,
   "metadata": {},
   "outputs": [
    {
     "data": {
      "text/plain": [
       "0       Type of treatment child has received since las...\n",
       "1                                                       1\n",
       "2                                                       1\n",
       "3                                                       3\n",
       "4                                                       3\n",
       "                              ...                        \n",
       "3270                                                  1.0\n",
       "3271                                                  2.0\n",
       "3272                                                  1.0\n",
       "3273                                                  3.0\n",
       "3274                                                  3.0\n",
       "Name: treat01_child, Length: 3275, dtype: object"
      ]
     },
     "execution_count": 74,
     "metadata": {},
     "output_type": "execute_result"
    }
   ],
   "source": [
    "med_dem['treat01_child']"
   ]
  },
  {
   "cell_type": "markdown",
   "metadata": {},
   "source": []
  },
  {
   "cell_type": "code",
   "execution_count": 81,
   "metadata": {},
   "outputs": [
    {
     "data": {
      "text/plain": [
       "0       Current stimulant medication?#1\n",
       "49                                    5\n",
       "50                                   17\n",
       "52                                    5\n",
       "53                                    5\n",
       "                     ...               \n",
       "3239                               16.0\n",
       "3241                                2.0\n",
       "3243                                3.0\n",
       "3244                                3.0\n",
       "3258                               13.0\n",
       "Name: scapi_stim1, Length: 873, dtype: object"
      ]
     },
     "execution_count": 81,
     "metadata": {},
     "output_type": "execute_result"
    }
   ],
   "source": [
    "med_dem['scapi_stim1'].dropna()"
   ]
  },
  {
   "cell_type": "code",
   "execution_count": 82,
   "metadata": {},
   "outputs": [],
   "source": [
    "dict_scapi_stim1 = {1 : 'no treatment',  2 : 'medication only', 3 : 'psychosocial only', 4 : 'both medication and psychosocial'}"
   ]
  },
  {
   "cell_type": "code",
   "execution_count": 83,
   "metadata": {},
   "outputs": [],
   "source": [
    "medications = {\n",
    "    1: \"Adderall\",\n",
    "    2: \"Adderall XR\",\n",
    "    3: \"Concerta\",\n",
    "    4: \"Cylert\",\n",
    "    5: \"Daytrana Patch\",\n",
    "    6: \"Desoxyn\",\n",
    "    7: \"Dexedrine Tablets\",\n",
    "    8: \"Dexedrine Capsules\",\n",
    "    9: \"DextroStat\",\n",
    "    10: \"Focalin Tablets\",\n",
    "    11: \"Metadate CD Capsules\",\n",
    "    12: \"Metadate ER Capsules\",\n",
    "    13: \"Methylin ER Tablets\",\n",
    "    14: \"Methylin Tablets\",\n",
    "    15: \"Ritalin HCl\",\n",
    "    16: \"Ritalin LA\",\n",
    "    17: \"Vyvanse\",\n",
    "    18: \"Other (excludes Strattera)\",\n",
    "    19: \"Quillavant\"\n",
    "}"
   ]
  },
  {
   "cell_type": "code",
   "execution_count": 85,
   "metadata": {},
   "outputs": [
    {
     "data": {
      "text/plain": [
       "0       Current stimulant medication?#1\n",
       "49                                    5\n",
       "50                                   17\n",
       "52                                    5\n",
       "53                                    5\n",
       "                     ...               \n",
       "3239                               16.0\n",
       "3241                                2.0\n",
       "3243                                3.0\n",
       "3244                                3.0\n",
       "3258                               13.0\n",
       "Name: scapi_stim1, Length: 873, dtype: object"
      ]
     },
     "execution_count": 85,
     "metadata": {},
     "output_type": "execute_result"
    }
   ],
   "source": [
    "med_dem['scapi_stim1'].dropna()\n",
    "\n",
    "# make list of vars  of interest \n",
    "# iterate over and see if that is an full NAN list \n",
    "# if yess add t list as doc --> export as csv \n",
    "# iterate also to find treatemnet \n",
    "# '"
   ]
  },
  {
   "cell_type": "code",
   "execution_count": 60,
   "metadata": {},
   "outputs": [],
   "source": [
    "var_med_dict = {\n",
    "\"medprob_neuroother_cmt\": \"Psychiatric: Is there any known abnormality in this area\",\n",
    "\"medprob_psy\": \"If Yes, Was diagnosed with ADHD\",\n",
    "\"medprob_psyadhd\": \"Trouble with attention or concentration\",\n",
    "\"medprob_psyta\": \"If Yes, Was diagnosed Excessively distractable\",\n",
    "\"medprob_psyed\": \"If Yes, Was diagnosed Hyperactive\",\n",
    "\"surg_hospdate3\": \"Is the child currently on any prescription medication\",\n",
    "\"medhis_curmed\": \"If Yes, Please List 1\",\n",
    "\"medhis_curmed1\": \"If Yes, Please List 2\",\n",
    "\"medhis_curmed2\": \"If Yes, Please List 3\",\n",
    "\"medhis_curmed3\": \"If Yes, Please List 4\",\n",
    "\"medhis_curmed4\": \"If Yes, Please List 5\",\n",
    "\"medhis_curmed5\": \"In the past has the child been on prescription medication to help with his/her symptoms of autism\",\n",
    "\"medhis_pastmed\": \"If Yes, Please List 1\",\n",
    "\"medhis_pastmed1\": \"If Yes, Please List 2\",\n",
    "\"medhis_pastmed2\": \"If Yes, Please List 3\",\n",
    "\"medhis_pastmed3\": \"If Yes, Please List 4\",\n",
    "\"medhis_pastmed4\": \"If Yes, Please List 5\",\n",
    "\"medhis_pastmed5\": \"Please indicate all other medical treatments used to treat the child's symptoms of autism\"\n",
    "}"
   ]
  },
  {
   "cell_type": "code",
   "execution_count": 59,
   "metadata": {},
   "outputs": [
    {
     "data": {
      "text/plain": [
       "0    Please indicate all other medical treatments u...\n",
       "Name: medhis_pastmed5, dtype: object"
      ]
     },
     "execution_count": 59,
     "metadata": {},
     "output_type": "execute_result"
    }
   ],
   "source": [
    "med_hist['medhis_pastmed5'].dropna()"
   ]
  },
  {
   "cell_type": "code",
   "execution_count": null,
   "metadata": {},
   "outputs": [],
   "source": [
    "med"
   ]
  },
  {
   "cell_type": "code",
   "execution_count": 114,
   "metadata": {},
   "outputs": [
    {
     "data": {
      "text/plain": [
       "collection_id                                                         collection_id\n",
       "nimh_medical_history_ques01_id                       nimh_medical_history_ques01_id\n",
       "dataset_id                                                               dataset_id\n",
       "subjectkey                        The NDAR Global Unique Identifier (GUID) for r...\n",
       "src_subject_id                           Subject ID how it's defined in lab/project\n",
       "                                                        ...                        \n",
       "medhx_hiv                                                     Huntington's Disease?\n",
       "medhx_hunt                                                         Hyperthyroidism?\n",
       "medhx_hyper                                                     Muscular dystrophy?\n",
       "medhx_musc                                                         collection_title\n",
       "collection_title                                                                NaN\n",
       "Name: 0, Length: 773, dtype: object"
      ]
     },
     "execution_count": 114,
     "metadata": {},
     "output_type": "execute_result"
    }
   ],
   "source": [
    "desc = med_hist.loc[0]\n",
    "desc"
   ]
  },
  {
   "cell_type": "code",
   "execution_count": 123,
   "metadata": {},
   "outputs": [],
   "source": [
    "substrings = ['ADHD',  'stimula', 'psychoact', 'hyperact', 'impulsi', 'therap']\n",
    "pattern = '|'.join(substrings) "
   ]
  },
  {
   "cell_type": "code",
   "execution_count": 124,
   "metadata": {},
   "outputs": [
    {
     "name": "stdout",
     "output_type": "stream",
     "text": [
      "medprob_psy                                 If Yes, Was diagnosed with ADHD\n",
      "medprob_psyed                             If Yes, Was diagnosed Hyperactive\n",
      "famhis_mental             Developmental Problems- Speech delay requiring...\n",
      "methadone_preg            During pregnancy, did birth mother:  Take Amph...\n",
      "amphetamines_gestation    If birth mother used amphetamines or other sti...\n",
      "Name: 0, dtype: object\n"
     ]
    }
   ],
   "source": [
    "\n",
    "mask_desc = desc.str.contains(pattern,   na = False, case= False)\n",
    "print(desc[mask_desc])"
   ]
  },
  {
   "cell_type": "code",
   "execution_count": 153,
   "metadata": {},
   "outputs": [
    {
     "data": {
      "text/plain": [
       "0    Medications taking currently\n",
       "Name: med_cur, dtype: object"
      ]
     },
     "execution_count": 153,
     "metadata": {},
     "output_type": "execute_result"
    }
   ],
   "source": [
    "med_dem['med_cur'].dropna()"
   ]
  },
  {
   "cell_type": "code",
   "execution_count": 149,
   "metadata": {},
   "outputs": [
    {
     "name": "stdout",
     "output_type": "stream",
     "text": [
      "attentiondisorder (1,)\n",
      "straddadditional (1,)\n",
      "strtxreceivedadd (1,)\n",
      "child_otherpsychdis (1,)\n",
      "child_otherpsychdis_cmt (1,)\n",
      "strtxreceivedpsycdis (1,)\n",
      "touret (3275,)\n",
      "strillness1 (1,)\n",
      "strage1 (1,)\n",
      "strtx1 (1,)\n",
      "stroutcome1 (1,)\n",
      "strillness2 (1,)\n",
      "strage2 (1,)\n",
      "strtx2 (1,)\n",
      "stroutcome2 (1,)\n",
      "strillness3 (1,)\n",
      "strage3 (1,)\n",
      "strtx3 (1,)\n",
      "stroutcome3 (1,)\n",
      "strillness4 (1,)\n",
      "strage4 (1,)\n",
      "strtx4 (1,)\n",
      "stroutcome4 (1,)\n",
      "medication1_name (1,)\n",
      "strmedstart1 (1,)\n",
      "strmedend1 (1,)\n",
      "strreason1 (1,)\n",
      "strwork1 (1,)\n",
      "medication2_name (1,)\n",
      "strmedstart2 (1,)\n",
      "strmedend2 (1,)\n",
      "strreason2 (1,)\n",
      "strwork2 (1,)\n",
      "medication3_name (1,)\n",
      "strmedstart3 (1,)\n",
      "strmedend3 (1,)\n",
      "strreason3 (1,)\n",
      "strwork3 (1,)\n",
      "medication4_name (1,)\n",
      "strmedstart4 (1,)\n",
      "strmedend4 (1,)\n",
      "strreason4 (1,)\n",
      "strwork4 (1,)\n",
      "medication5_name (1,)\n",
      "strmedstart5 (1,)\n",
      "strmedend5 (1,)\n",
      "strreason5 (1,)\n",
      "strwork5 (1,)\n",
      "medication6_name (1,)\n",
      "strmedstart6 (1,)\n",
      "strmedend6 (1,)\n",
      "strreason6 (1,)\n",
      "strwork6 (1,)\n",
      "medication7_name (1,)\n",
      "strmedstart7 (1,)\n",
      "strmedend7 (1,)\n",
      "strreason7 (1,)\n",
      "strwork7 (1,)\n",
      "medication8_name (1,)\n",
      "strmedstart8 (1,)\n",
      "strmedend8 (1,)\n",
      "strreason8 (1,)\n",
      "strwork8 (1,)\n",
      "strbeginconcern (1,)\n",
      "fsymc (1,)\n",
      "diag_ageatdiag (1,)\n",
      "medhx_sleep_prob (1,)\n",
      "strsleepagestart (1,)\n",
      "strsleepageend (1,)\n",
      "strspec1 (1,)\n",
      "strspec2 (1,)\n",
      "strspec3 (1,)\n",
      "strspec4 (1,)\n",
      "strspec5 (1,)\n",
      "strspec6 (1,)\n",
      "strschooltype1 (1,)\n",
      "stryears1 (1,)\n",
      "strgrades1 (1,)\n",
      "strservices1 (1,)\n",
      "strschooltype2 (1,)\n",
      "stryears2 (1,)\n",
      "strgrades2 (1,)\n",
      "strservices2 (1,)\n",
      "strschooltype3 (1,)\n",
      "stryears3 (1,)\n",
      "strgrades3 (1,)\n",
      "strservices3 (1,)\n",
      "strschooltype4 (1,)\n",
      "stryears4 (1,)\n",
      "strgrades4 (1,)\n",
      "strservices4 (1,)\n",
      "strschooltype5 (1,)\n",
      "stryears5 (1,)\n",
      "strgrades5 (1,)\n",
      "strservices5 (1,)\n",
      "strschooltype6 (1,)\n",
      "stryears6 (1,)\n",
      "strgrades6 (1,)\n",
      "strservices6 (1,)\n",
      "comments_misc (1,)\n",
      "race (1,)\n",
      "ethnicity (1,)\n",
      "version_form (1,)\n",
      "phenotype (3275,)\n",
      "phenotype_description (3275,)\n",
      "educat (1,)\n",
      "grade_highed (1,)\n",
      "therapist (1,)\n",
      "therapistdatesreason (1,)\n",
      "scid_diagnosis (1,)\n",
      "diagnosis_severity (1,)\n",
      "symptoms (1,)\n",
      "age_1st_sx (1,)\n",
      "scidmodc13f (1,)\n",
      "course_specifier (1,)\n",
      "mood_specifier (1,)\n",
      "relation1diag (1,)\n",
      "relation2diag (1,)\n",
      "relation3diag (1,)\n",
      "relation4diag (1,)\n",
      "relation5diag (1,)\n",
      "ch_41_04_oth (1,)\n",
      "cepisp (1,)\n",
      "nonpsych_nomed (1,)\n",
      "cmd001 (1,)\n",
      "route1 (1,)\n",
      "medication1_dosage (1,)\n",
      "medication1_unit (1,)\n",
      "freq1 (1,)\n",
      "nonpsych_medn2 (1,)\n",
      "route2 (1,)\n",
      "medication2_dosage (1,)\n",
      "medication2_unit (1,)\n",
      "freq2 (1,)\n",
      "nonpsych_medn3 (1,)\n",
      "route3 (1,)\n",
      "medication3_dosage (1,)\n",
      "medication3_unit (1,)\n",
      "freq3 (1,)\n",
      "nonpsych_medn4 (1,)\n",
      "route4 (1,)\n",
      "medication4_dosage (1,)\n",
      "medication4_unit (1,)\n",
      "freq4 (1,)\n",
      "nonpsych_medn5 (1,)\n",
      "route5 (1,)\n",
      "medication5_dosage (1,)\n",
      "medication5_unit (1,)\n",
      "freq5 (1,)\n",
      "nonpsych_medn6 (1,)\n",
      "route6 (1,)\n",
      "medication6_dosage (1,)\n",
      "medication6_unit (1,)\n",
      "freq6 (1,)\n",
      "nonpsych_medn7 (1,)\n",
      "route7 (1,)\n",
      "medication7_dosage (1,)\n",
      "rx7dosu (1,)\n",
      "freq7 (1,)\n",
      "nonpsych_medn8 (1,)\n",
      "route8 (1,)\n",
      "medication8_dosage (1,)\n",
      "rx8dosu (1,)\n",
      "freq8 (1,)\n",
      "nonpsych_medn9 (1,)\n",
      "medication9_name (1,)\n",
      "strreason9 (1,)\n",
      "route9 (1,)\n",
      "medication9_dosage (1,)\n",
      "medication9_unit (1,)\n",
      "freq9 (1,)\n",
      "medhistory_18 (1,)\n",
      "medhistory_18_txt (1,)\n",
      "medhistory_21a (1,)\n",
      "medhistory_21a_txt (1,)\n",
      "medication_name (1,)\n",
      "medhistory_21b_txt (1,)\n",
      "medhistory_21c (1,)\n",
      "medhistory_21d (1,)\n",
      "cast39_adhd (1,)\n",
      "medhistory_24_txt (1,)\n",
      "medhistory_29a (1,)\n",
      "medhistory_29b (1,)\n",
      "medhistory_29c (1,)\n",
      "medhistory_29d (1,)\n",
      "medhistory_29e (1,)\n",
      "hosp_mh (1,)\n",
      "psych_family (1,)\n",
      "psych_family_describe (1,)\n",
      "atrq_02ect (1,)\n",
      "shock_treat_list (1,)\n",
      "shock_treat_date (1,)\n",
      "mhcomm (1,)\n",
      "txmeds (1,)\n",
      "med1_time (1,)\n",
      "med2_time (1,)\n",
      "med3_time (1,)\n",
      "med4_time (1,)\n",
      "med5_time (1,)\n",
      "stim1_name (1,)\n",
      "stim2_name (1,)\n",
      "stim3_name (1,)\n",
      "stim4_name (1,)\n",
      "stim5_name (1,)\n",
      "stim1_amount (1,)\n",
      "stim2_amount (1,)\n",
      "stim3_amount (1,)\n",
      "stim4_amount (1,)\n",
      "stim5_amount (1,)\n",
      "stim1_time (1,)\n",
      "stim2_time (1,)\n",
      "stim3_time (1,)\n",
      "stim4_time (1,)\n",
      "stim5_time (1,)\n",
      "mhx001aa (1,)\n",
      "mhx001ab (1,)\n",
      "mhx001b (1,)\n",
      "mtxh_curmedconsistency1 (1,)\n",
      "mtxh_curmedconsistency2 (1,)\n",
      "mtxh_curmedconsistency3 (1,)\n",
      "mtxh_pasttreatagestopped (1,)\n",
      "dem_tranq_sleeping (1,)\n",
      "dem_tranq_sleeping_y (1,)\n",
      "med_cur (1,)\n",
      "med_prev (1,)\n"
     ]
    }
   ],
   "source": [
    "for var in med_dem_var_name:\n",
    "    if med_dem[var].dropna().shape[0] > 0:\n",
    "        print(var, med_dem[var].dropna().shape)"
   ]
  },
  {
   "cell_type": "code",
   "execution_count": 148,
   "metadata": {},
   "outputs": [
    {
     "data": {
      "text/plain": [
       "0       Phenotype/diagnosis for the subject\n",
       "1                                       999\n",
       "2                                       999\n",
       "3                                       999\n",
       "4                                       999\n",
       "                       ...                 \n",
       "3270                                    999\n",
       "3271                                    999\n",
       "3272                                    999\n",
       "3273                                    999\n",
       "3274                                    999\n",
       "Name: phenotype, Length: 3275, dtype: object"
      ]
     },
     "execution_count": 148,
     "metadata": {},
     "output_type": "execute_result"
    }
   ],
   "source": [
    "med_dem['phenotype']"
   ]
  },
  {
   "cell_type": "code",
   "execution_count": null,
   "metadata": {},
   "outputs": [],
   "source": []
  }
 ],
 "metadata": {
  "kernelspec": {
   "display_name": "abcd",
   "language": "python",
   "name": "python3"
  },
  "language_info": {
   "codemirror_mode": {
    "name": "ipython",
    "version": 3
   },
   "file_extension": ".py",
   "mimetype": "text/x-python",
   "name": "python",
   "nbconvert_exporter": "python",
   "pygments_lexer": "ipython3",
   "version": "3.10.0"
  }
 },
 "nbformat": 4,
 "nbformat_minor": 2
}
